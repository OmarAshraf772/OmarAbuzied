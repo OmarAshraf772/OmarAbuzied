{
  "cells": [
    {
      "cell_type": "markdown",
      "metadata": {
        "id": "yNDprn1vAO4N"
      },
      "source": [
        "<p style=\"text-align:center\">\n",
        "    <a href=\"https://skills.network/?utm_medium=Exinfluencer&utm_source=Exinfluencer&utm_content=000026UJ&utm_term=10006555&utm_id=NA-SkillsNetwork-Channel-SkillsNetworkCoursesIBMDeveloperSkillsNetworkCV0101ENCoursera872-2022-01-01\" target=\"_blank\">\n",
        "    <img src=\"https://cf-courses-data.s3.us.cloud-object-storage.appdomain.cloud/assets/logos/SN_web_lightmode.png\" width=\"200\" alt=\"Skills Network Logo\"  />\n",
        "    </a>\n",
        "</p>\n"
      ]
    },
    {
      "cell_type": "markdown",
      "metadata": {
        "id": "nXqGEYORAO4S"
      },
      "source": [
        "<h1> Geometric Operations and Other Mathematical Tools</h1>\n"
      ]
    },
    {
      "cell_type": "markdown",
      "metadata": {
        "id": "H1wP4Gu3AO4T"
      },
      "source": [
        "Estimated time needed: **40** minutes\n"
      ]
    },
    {
      "cell_type": "markdown",
      "metadata": {
        "id": "6NZhXwcJAO4U"
      },
      "source": [
        "<h2>Objectives</h2>\n"
      ]
    },
    {
      "cell_type": "markdown",
      "metadata": {
        "id": "PoghHPMVAO4U"
      },
      "source": [
        "In the first part of the lab, you will apply geometric transformations to an image. This allows you to perform different operations like reshape translation i.e. to shift, reshape and rotate the image. In the second part of the lab, you will learn how to apply some basic array and matrix operations to the image.\n"
      ]
    },
    {
      "cell_type": "markdown",
      "metadata": {
        "id": "yYNkt_aCAO4U"
      },
      "source": [
        "<ul>\n",
        "    <li><a href='#PT'> Geometric Operations  </a>\n",
        "        <ul>\n",
        "            <li>Scaling  </li>\n",
        "            <li>Translation</li>\n",
        "            <li>Rotation</li>   \n",
        "          </ul>\n",
        "        <li><a href='#PT'>  Mathematical Operations   </a>\n",
        "        <ul>\n",
        "            <li>Array Operations  </li>\n",
        "            <li>Matix Operations n</li>\n",
        "          </ul>\n",
        "\n",
        "\n",
        "</ul>\n"
      ]
    },
    {
      "cell_type": "markdown",
      "metadata": {
        "id": "UMsU_voHAO4V"
      },
      "source": [
        "----\n"
      ]
    },
    {
      "cell_type": "markdown",
      "metadata": {
        "id": "ht5t9dYBAO4W"
      },
      "source": [
        "Download the image for the lab:\n"
      ]
    },
    {
      "cell_type": "code",
      "execution_count": null,
      "metadata": {
        "id": "R7oFYVzhAO4W"
      },
      "outputs": [],
      "source": [
        "!wget https://cf-courses-data.s3.us.cloud-object-storage.appdomain.cloud/IBMDeveloperSkillsNetwork-CV0101EN-SkillsNetwork/images%20/images_part_1/lenna.png -O lenna.png\n",
        "!wget https://cf-courses-data.s3.us.cloud-object-storage.appdomain.cloud/IBMDeveloperSkillsNetwork-CV0101EN-SkillsNetwork/images%20/images_part_1/baboon.png -O baboon.png\n",
        "!wget https://cf-courses-data.s3.us.cloud-object-storage.appdomain.cloud/IBMDeveloperSkillsNetwork-CV0101EN-SkillsNetwork/images%20/images_part_1/barbara.png -O barbara.png"
      ]
    },
    {
      "cell_type": "markdown",
      "metadata": {
        "id": "C5cJZhHiAO4X"
      },
      "source": [
        "We will import the following:\n"
      ]
    },
    {
      "cell_type": "code",
      "execution_count": null,
      "metadata": {
        "id": "_7KPe3eBAO4X"
      },
      "outputs": [],
      "source": [
        "import matplotlib.pyplot as plt\n",
        "import cv2\n",
        "import numpy as np"
      ]
    },
    {
      "cell_type": "markdown",
      "metadata": {
        "id": "SxfzUy5-AO4Y"
      },
      "source": [
        "First, let's define a helper function to plot two images side-by-side. You will not need to understand this code this moment, but this function will be used repeatedly in this tutorial to showcase the results.\n"
      ]
    },
    {
      "cell_type": "code",
      "execution_count": null,
      "metadata": {
        "id": "1xhaJD1WAO4Y"
      },
      "outputs": [],
      "source": [
        "def plot_image(image_1, image_2,title_1=\"Orignal\",title_2=\"New Image\"):\n",
        "    plt.figure(figsize=(10,10))\n",
        "    plt.subplot(1, 2, 1)\n",
        "    plt.imshow(image_1,cmap=\"gray\")\n",
        "    plt.title(title_1)\n",
        "    plt.subplot(1, 2, 2)\n",
        "    plt.imshow(image_2,cmap=\"gray\")\n",
        "    plt.title(title_2)\n",
        "    plt.show()"
      ]
    },
    {
      "cell_type": "markdown",
      "metadata": {
        "id": "uIHkfxwnAO4Z"
      },
      "source": [
        "#  Geometric Transformations\n"
      ]
    },
    {
      "cell_type": "markdown",
      "metadata": {
        "id": "SRmS117wAO4Z"
      },
      "source": [
        " Geometric transformations allow you to perform different operations like translation i.e. to shift, reshape and rotate the image.\n"
      ]
    },
    {
      "cell_type": "markdown",
      "metadata": {
        "id": "rKeOBEfJAO4Z"
      },
      "source": [
        "## Scaling\n"
      ]
    },
    {
      "cell_type": "markdown",
      "metadata": {
        "id": "PPclzhvuAO4a"
      },
      "source": [
        "We can resize an image using the function `resize()` from `cv2` module for this purpose.  You can specify the scaling factor or the size of the image:\n"
      ]
    },
    {
      "cell_type": "markdown",
      "metadata": {
        "id": "ks29N74uAO4a"
      },
      "source": [
        "Consider the following image with the corresponding intensity values:\n"
      ]
    },
    {
      "cell_type": "code",
      "execution_count": null,
      "metadata": {
        "id": "oT9DPPgFAO4a"
      },
      "outputs": [],
      "source": [
        "toy_image = np.zeros((6,6))\n",
        "toy_image[1:5,1:5]=255\n",
        "toy_image[2:4,2:4]=0\n",
        "plt.imshow(toy_image,cmap='gray')\n",
        "plt.show()\n",
        "toy_image"
      ]
    },
    {
      "cell_type": "markdown",
      "metadata": {
        "id": "wHMCozCZAO4a"
      },
      "source": [
        "We can rescale along a specific axis:\n",
        "\n",
        "- `fx`: scale factor along the horizontal axis  \n",
        "- `fy`: scale factor along the vertical axis\n"
      ]
    },
    {
      "cell_type": "markdown",
      "metadata": {
        "id": "ypkfuOQyAO4a"
      },
      "source": [
        "The parameter interpolation estimates pixel values based on neighboring pixels. <code>INTER_NEAREST</code> uses the nearest pixel and <code>INTER_CUBIC</code> uses several pixels near the pixel value we would like to estimate.\n"
      ]
    },
    {
      "cell_type": "code",
      "execution_count": null,
      "metadata": {
        "id": "DIftbiKLAO4b"
      },
      "outputs": [],
      "source": [
        "new_toy = cv2.resize(toy_image,None,fx=2, fy=1, interpolation = cv2.INTER_NEAREST )\n",
        "plt.imshow(new_toy,cmap='gray')\n",
        "plt.show()\n"
      ]
    },
    {
      "cell_type": "markdown",
      "metadata": {
        "id": "QhPwUjAtAO4b"
      },
      "source": [
        "Consider the following image:\n"
      ]
    },
    {
      "cell_type": "code",
      "execution_count": null,
      "metadata": {
        "id": "MIQtFhaUAO4c"
      },
      "outputs": [],
      "source": [
        "image = cv2.imread(\"lenna.png\")\n",
        "plt.imshow(cv2.cvtColor(image, cv2.COLOR_BGR2RGB))\n",
        "plt.show()"
      ]
    },
    {
      "cell_type": "markdown",
      "metadata": {
        "id": "bnWG8bq2AO4c"
      },
      "source": [
        "We can scale the horizontal axis by two and leave the vertical axis as is:\n"
      ]
    },
    {
      "cell_type": "code",
      "execution_count": null,
      "metadata": {
        "id": "u18sUY1uAO4c"
      },
      "outputs": [],
      "source": [
        "new_image = cv2.resize(image, None, fx=2, fy=1, interpolation=cv2.INTER_CUBIC)\n",
        "plt.imshow(cv2.cvtColor(new_image, cv2.COLOR_BGR2RGB))\n",
        "plt.show()\n",
        "print(\"old image shape:\", image.shape, \"new image shape:\", new_image.shape)"
      ]
    },
    {
      "cell_type": "markdown",
      "metadata": {
        "id": "QiWXryovAO4c"
      },
      "source": [
        "In the same manner, we can scale the vertical axis by two:\n"
      ]
    },
    {
      "cell_type": "code",
      "execution_count": null,
      "metadata": {
        "id": "c4nDZvSXAO4d"
      },
      "outputs": [],
      "source": [
        "new_image = cv2.resize(image, None, fx=1, fy=2, interpolation=cv2.INTER_CUBIC)\n",
        "plt.imshow(cv2.cvtColor(new_image, cv2.COLOR_BGR2RGB))\n",
        "plt.show()\n",
        "print(\"old image shape:\", image.shape, \"new image shape:\", new_image.shape)"
      ]
    },
    {
      "cell_type": "markdown",
      "metadata": {
        "id": "tTB71ecyAO4d"
      },
      "source": [
        "We can scale the horizontal axis and vertical axis by two.\n"
      ]
    },
    {
      "cell_type": "code",
      "execution_count": null,
      "metadata": {
        "id": "Xh4p5upnAO4d"
      },
      "outputs": [],
      "source": [
        "new_image = cv2.resize(image, None, fx=2, fy=2, interpolation=cv2.INTER_CUBIC)\n",
        "plt.imshow(cv2.cvtColor(new_image, cv2.COLOR_BGR2RGB))\n",
        "plt.show()\n",
        "print(\"old image shape:\", image.shape, \"new image shape:\", new_image.shape)"
      ]
    },
    {
      "cell_type": "markdown",
      "metadata": {
        "id": "QpS43YvsAO4d"
      },
      "source": [
        "We can also shrink the image by setting the scaling factor to a real number between 0 and 1:\n"
      ]
    },
    {
      "cell_type": "code",
      "execution_count": null,
      "metadata": {
        "id": "VS0medMRAO4d"
      },
      "outputs": [],
      "source": [
        "new_image = cv2.resize(image, None, fx=1, fy=0.5, interpolation=cv2.INTER_CUBIC)\n",
        "plt.imshow(cv2.cvtColor(new_image, cv2.COLOR_BGR2RGB))\n",
        "plt.show()\n",
        "print(\"old image shape:\", image.shape, \"new image shape:\", new_image.shape)"
      ]
    },
    {
      "cell_type": "markdown",
      "metadata": {
        "id": "KYtTJVZPAO4d"
      },
      "source": [
        "We can  also specify the number of rows and columns:\n"
      ]
    },
    {
      "cell_type": "code",
      "execution_count": null,
      "metadata": {
        "id": "-eSVTlO7AO4d"
      },
      "outputs": [],
      "source": [
        "rows = 100\n",
        "cols = 200"
      ]
    },
    {
      "cell_type": "code",
      "execution_count": null,
      "metadata": {
        "id": "evOdxzTDAO4d"
      },
      "outputs": [],
      "source": [
        "new_image = cv2.resize(image, (100, 200), interpolation=cv2.INTER_CUBIC)\n",
        "plt.imshow(cv2.cvtColor(new_image, cv2.COLOR_BGR2RGB))\n",
        "plt.show()\n",
        "print(\"old image shape:\", image.shape, \"new image shape:\", new_image.shape)"
      ]
    },
    {
      "cell_type": "markdown",
      "metadata": {
        "id": "iGYa-wKDAO4e"
      },
      "source": [
        "## Translation\n"
      ]
    },
    {
      "cell_type": "markdown",
      "metadata": {
        "id": "gD8hZvtHAO4e"
      },
      "source": [
        "Translation is  when you  shift the location of the image. <code>tx</code> is the number of pixels you shift the location in the horizontal direction and <code>ty</code> is the number of pixels you shift in the vertical direction. You can create the transformation matrix $M$ to shift the image.\n",
        "\n",
        "In this example, we shift the image 100 pixels horizontally:\n"
      ]
    },
    {
      "cell_type": "code",
      "execution_count": null,
      "metadata": {
        "id": "gsycwMQkAO4e"
      },
      "outputs": [],
      "source": [
        "tx = 100\n",
        "ty = 0\n",
        "M = np.float32([[1, 0, tx], [0, 1, ty]])\n",
        "M"
      ]
    },
    {
      "cell_type": "markdown",
      "metadata": {
        "id": "bsNVuNI_AO4e"
      },
      "source": [
        "The shape of the image is given by:\n"
      ]
    },
    {
      "cell_type": "code",
      "execution_count": null,
      "metadata": {
        "id": "3TnefRRpAO4e"
      },
      "outputs": [],
      "source": [
        "rows, cols, _ = image.shape"
      ]
    },
    {
      "cell_type": "markdown",
      "metadata": {
        "id": "v6fCxn5zAO4f"
      },
      "source": [
        "We use the function <code>warpAffine</code> from the <code>cv2</code> module. The first input parater is an image array, the second input parameter is the transformation matrix <code>M</code>, and the final input paramter is the length and width of the output image $(cols,rows)$:\n"
      ]
    },
    {
      "cell_type": "code",
      "execution_count": null,
      "metadata": {
        "id": "X7Ov6Y6GAO4f"
      },
      "outputs": [],
      "source": [
        "new_image = cv2.warpAffine(image, M, (cols, rows))"
      ]
    },
    {
      "cell_type": "markdown",
      "metadata": {
        "id": "0wrP3WVOAO4f"
      },
      "source": [
        "We can plot the image; the portions of the image that do not have any intensities are set to zero:\n"
      ]
    },
    {
      "cell_type": "code",
      "execution_count": null,
      "metadata": {
        "id": "v6JEGdUmAO4f"
      },
      "outputs": [],
      "source": [
        "plt.imshow(cv2.cvtColor(new_image, cv2.COLOR_BGR2RGB))\n",
        "plt.show()"
      ]
    },
    {
      "cell_type": "markdown",
      "metadata": {
        "id": "yW-pXxhkAO4g"
      },
      "source": [
        "We can see some of the original image has been cut off. We can fix this by changing the output image size: <code>(cols + tx,rows + ty)</code>:\n"
      ]
    },
    {
      "cell_type": "code",
      "execution_count": null,
      "metadata": {
        "id": "auKx1g4nAO4g"
      },
      "outputs": [],
      "source": [
        "new_image = cv2.warpAffine(image, M, (cols + tx, rows + ty))\n",
        "plt.imshow(cv2.cvtColor(new_image, cv2.COLOR_BGR2RGB))\n",
        "plt.show()"
      ]
    },
    {
      "cell_type": "markdown",
      "metadata": {
        "id": "DSIlb0EgAO4g"
      },
      "source": [
        "We can shift the image horizontally:\n"
      ]
    },
    {
      "cell_type": "code",
      "execution_count": null,
      "metadata": {
        "id": "VJaiIR9hAO4g"
      },
      "outputs": [],
      "source": [
        "tx = 0\n",
        "ty = 50\n",
        "M = np.float32([[1, 0, tx], [0, 1, ty]])\n",
        "new_iamge = cv2.warpAffine(image, M, (cols + tx, rows + ty))\n",
        "plt.imshow(cv2.cvtColor(new_iamge, cv2.COLOR_BGR2RGB))\n",
        "plt.show()"
      ]
    },
    {
      "cell_type": "markdown",
      "metadata": {
        "id": "LLls2TmqAO4g"
      },
      "source": [
        "## Rotation\n"
      ]
    },
    {
      "cell_type": "markdown",
      "metadata": {
        "id": "g6NBcv_MAO4h"
      },
      "source": [
        "We can rotate an image by angle θ which is achieved by the Rotation Matrix <code>getRotationMatrix2D</code>.\n"
      ]
    },
    {
      "cell_type": "markdown",
      "metadata": {
        "id": "B1LG7GFpAO4h"
      },
      "source": [
        "<p><code>center</code>: Center of the rotation in the source image. We will only use the center of the image.</p>\n",
        "<p><code>angle</code>: Rotation angle in degrees. Positive values mean counter-clockwise rotation (the coordinate origin is assumed to be the top-left corner).</p>\n",
        "<p><code>scale</code>: Isotropic scale factor, in this course the value will be one.</p>\n"
      ]
    },
    {
      "cell_type": "markdown",
      "metadata": {
        "id": "H7Lf5qZOAO4h"
      },
      "source": [
        "We can rotate our toy image by 45 degrees:\n"
      ]
    },
    {
      "cell_type": "code",
      "execution_count": null,
      "metadata": {
        "id": "631152WbAO4h"
      },
      "outputs": [],
      "source": [
        "theta = 45.0\n",
        "M = cv2.getRotationMatrix2D(center=(3, 3), angle=theta, scale=1)\n",
        "new_toy_image = cv2.warpAffine(toy_image, M, (6, 6))"
      ]
    },
    {
      "cell_type": "code",
      "execution_count": null,
      "metadata": {
        "id": "_MgGzyErAO4h"
      },
      "outputs": [],
      "source": [
        "plot_image(toy_image, new_toy_image, title_1=\"Orignal\", title_2=\"rotated image\")"
      ]
    },
    {
      "cell_type": "markdown",
      "metadata": {
        "id": "m0DiSAn1AO4j"
      },
      "source": [
        "Looking at intensity values, we see that many values have been interpolated:\n"
      ]
    },
    {
      "cell_type": "code",
      "execution_count": null,
      "metadata": {
        "id": "pwynxhsoAO4j"
      },
      "outputs": [],
      "source": [
        "new_toy_image"
      ]
    },
    {
      "cell_type": "markdown",
      "metadata": {
        "id": "arbe6SF0AO4j"
      },
      "source": [
        "We can perform the same operation on color images:\n"
      ]
    },
    {
      "cell_type": "code",
      "execution_count": null,
      "metadata": {
        "id": "QqGOVeZCAO4j"
      },
      "outputs": [],
      "source": [
        "cols, rows, _ = image.shape"
      ]
    },
    {
      "cell_type": "code",
      "execution_count": null,
      "metadata": {
        "id": "q_LqCPFDAO4j"
      },
      "outputs": [],
      "source": [
        "M = cv2.getRotationMatrix2D(center=(cols // 2 - 1, rows // 2 - 1), angle=theta, scale=1)\n",
        "new_image = cv2.warpAffine(image, M, (cols, rows))"
      ]
    },
    {
      "cell_type": "code",
      "execution_count": null,
      "metadata": {
        "id": "QW9KE2GIAO4j"
      },
      "outputs": [],
      "source": [
        "plt.imshow(cv2.cvtColor(new_image, cv2.COLOR_BGR2RGB))\n",
        "plt.show()"
      ]
    },
    {
      "cell_type": "markdown",
      "metadata": {
        "id": "I1TEVynHAO4j"
      },
      "source": [
        "# Mathematical Operations\n"
      ]
    },
    {
      "cell_type": "markdown",
      "metadata": {
        "id": "nvZ5NDT1AO4j"
      },
      "source": [
        "## Array Operations\n"
      ]
    },
    {
      "cell_type": "markdown",
      "metadata": {
        "id": "X7VzxWNZAO4k"
      },
      "source": [
        "We can perform array operations on an image; Using Python broadcasting, we can add a constant to each pixel's intensity value.\n"
      ]
    },
    {
      "cell_type": "code",
      "execution_count": null,
      "metadata": {
        "id": "bWIWK7JhAO4k"
      },
      "outputs": [],
      "source": [
        "new_image = image + 20\n",
        "\n",
        "plt.imshow(cv2.cvtColor(new_image, cv2.COLOR_BGR2RGB))\n",
        "plt.show()"
      ]
    },
    {
      "cell_type": "markdown",
      "metadata": {
        "id": "hnSVYM1FAO4k"
      },
      "source": [
        "We can also multiply every pixel's intensity value by a constant value.\n"
      ]
    },
    {
      "cell_type": "code",
      "execution_count": null,
      "metadata": {
        "id": "C72dUMjsAO4k"
      },
      "outputs": [],
      "source": [
        "new_image = 10 * image\n",
        "plt.imshow(cv2.cvtColor(new_image, cv2.COLOR_BGR2RGB))\n",
        "plt.show()"
      ]
    },
    {
      "cell_type": "markdown",
      "metadata": {
        "id": "9Os-veYxAO4k"
      },
      "source": [
        "We can add the elements of two arrays of equal shape. In this example, we generate an array of random noises with the same shape and data type as our image.\n"
      ]
    },
    {
      "cell_type": "code",
      "execution_count": null,
      "metadata": {
        "id": "v6GAEVwhAO4l"
      },
      "outputs": [],
      "source": [
        "Noise = np.random.normal(0, 20, (rows, cols, 3)).astype(np.uint8)\n",
        "Noise.shape\n"
      ]
    },
    {
      "cell_type": "markdown",
      "metadata": {
        "id": "GCKzwuvPAO4l"
      },
      "source": [
        "We add the generated noise to the image and plot the result. We see the values that have corrupted the image:\n"
      ]
    },
    {
      "cell_type": "code",
      "execution_count": null,
      "metadata": {
        "id": "TDPuDPvcAO4m"
      },
      "outputs": [],
      "source": [
        "new_image = image + Noise\n",
        "\n",
        "plt.imshow(cv2.cvtColor(new_image, cv2.COLOR_BGR2RGB))\n",
        "plt.show()"
      ]
    },
    {
      "cell_type": "markdown",
      "metadata": {
        "id": "FIWJ_-SvAO4m"
      },
      "source": [
        "At the same time, we can multiply the elements of two arrays of equal shape. We can multiply the random image and the Lenna image and plot the result.\n"
      ]
    },
    {
      "cell_type": "code",
      "execution_count": null,
      "metadata": {
        "id": "I9VGW4ECAO4m"
      },
      "outputs": [],
      "source": [
        "new_image = image*Noise\n",
        "\n",
        "plt.imshow(cv2.cvtColor(new_image, cv2.COLOR_BGR2RGB))\n",
        "plt.show()"
      ]
    },
    {
      "cell_type": "markdown",
      "metadata": {
        "id": "TEXVelQBAO4m"
      },
      "source": [
        "## Matrix Operations\n"
      ]
    },
    {
      "cell_type": "markdown",
      "metadata": {
        "id": "w1X5Jb1lAO4n"
      },
      "source": [
        "Grayscale images are matrices. Consider the following grayscale image:\n"
      ]
    },
    {
      "cell_type": "code",
      "execution_count": null,
      "metadata": {
        "id": "1EvDaNLSAO4n"
      },
      "outputs": [],
      "source": [
        "im_gray = cv2.imread('barbara.png', cv2.IMREAD_GRAYSCALE)\n",
        "im_gray.shape\n",
        "\n",
        "plt.imshow(im_gray,cmap='gray')\n",
        "plt.show()"
      ]
    },
    {
      "cell_type": "markdown",
      "metadata": {
        "id": "IK_vTdyQAO4n"
      },
      "source": [
        "We can apply algorithms designed for matrices.  We can use  Singular Value Decomposition, decomposing our image matrix into  a product of three matrices.\n"
      ]
    },
    {
      "cell_type": "code",
      "execution_count": null,
      "metadata": {
        "id": "KaQNGbhpAO4o"
      },
      "outputs": [],
      "source": [
        "U, s, V = np.linalg.svd(im_gray , full_matrices=True)"
      ]
    },
    {
      "cell_type": "markdown",
      "metadata": {
        "id": "feB3JvydAO4o"
      },
      "source": [
        "We see <code>s</code> is not rectangular:\n"
      ]
    },
    {
      "cell_type": "code",
      "execution_count": null,
      "metadata": {
        "id": "mLIICjQoAO4o"
      },
      "outputs": [],
      "source": [
        "s.shape"
      ]
    },
    {
      "cell_type": "markdown",
      "metadata": {
        "id": "1-LyPXJSAO4p"
      },
      "source": [
        "We can convert  <code>s</code> to a diagonal matrix <code>S</code>:\n"
      ]
    },
    {
      "cell_type": "code",
      "execution_count": null,
      "metadata": {
        "id": "ywXzkCXLAO4p"
      },
      "outputs": [],
      "source": [
        "S = np.zeros((im_gray.shape[0], im_gray.shape[1]))\n",
        "S[:image.shape[0], :image.shape[0]] = np.diag(s)\n"
      ]
    },
    {
      "cell_type": "markdown",
      "metadata": {
        "id": "nLFVikgNAO4p"
      },
      "source": [
        "We can plot the matrix `U` and `V`:\n"
      ]
    },
    {
      "cell_type": "code",
      "execution_count": null,
      "metadata": {
        "id": "HiM06EWtAO4p"
      },
      "outputs": [],
      "source": [
        " plot_image(U,V,title_1=\"Matrix U \",title_2=\"matrix  V\")"
      ]
    },
    {
      "cell_type": "markdown",
      "metadata": {
        "id": "kisvb6L9AO4p"
      },
      "source": [
        "We see most of the elements in `S` are zero:\n"
      ]
    },
    {
      "cell_type": "code",
      "execution_count": null,
      "metadata": {
        "id": "tgVvqFo0AO4q"
      },
      "outputs": [],
      "source": [
        "plt.imshow(S,cmap='gray')\n",
        "plt.show()"
      ]
    },
    {
      "cell_type": "markdown",
      "metadata": {
        "id": "K-NbF2GxAO4q"
      },
      "source": [
        "We can find the matrix product of all the matrices. First, we can perform matrix multiplication on `S` and `U` and assign it  to `B` and plot the results:\n"
      ]
    },
    {
      "cell_type": "code",
      "execution_count": null,
      "metadata": {
        "id": "nBi__C51AO4q"
      },
      "outputs": [],
      "source": [
        "B = S.dot(V)\n",
        "plt.imshow(B,cmap='gray')\n",
        "plt.show()"
      ]
    },
    {
      "cell_type": "markdown",
      "metadata": {
        "id": "111zCk-mAO4q"
      },
      "source": [
        "We can find the matrix product of `U`, `S`, and `B`. We see it’s the entire image:\n"
      ]
    },
    {
      "cell_type": "code",
      "execution_count": null,
      "metadata": {
        "id": "SMyiUJXRAO4q"
      },
      "outputs": [],
      "source": [
        "A = U.dot(B)"
      ]
    },
    {
      "cell_type": "code",
      "execution_count": null,
      "metadata": {
        "id": "y4D4SkzzAO4r"
      },
      "outputs": [],
      "source": [
        "plt.imshow(A,cmap='gray')\n",
        "plt.show()"
      ]
    },
    {
      "cell_type": "markdown",
      "metadata": {
        "id": "YgPlsIAsAO4r"
      },
      "source": [
        "It turns out many elements are redundant, so we can eliminate some rows and columns of `S` and `V` and approximate the image by finding the product.\n"
      ]
    },
    {
      "cell_type": "code",
      "execution_count": null,
      "metadata": {
        "id": "HWxA92hZAO4r"
      },
      "outputs": [],
      "source": [
        "for n_component in [1,10,100,200, 500]:\n",
        "    S_new = S[:, :n_component]\n",
        "    V_new = V[:n_component, :]\n",
        "    A = U.dot(S_new.dot(V_new))\n",
        "    plt.imshow(A,cmap='gray')\n",
        "    plt.title(\"Number of Components:\"+str(n_component))\n",
        "    plt.show()"
      ]
    }
  ],
  "metadata": {
    "kernelspec": {
      "display_name": "Python",
      "language": "python",
      "name": "conda-env-python-py"
    },
    "language_info": {
      "name": ""
    },
    "colab": {
      "provenance": []
    }
  },
  "nbformat": 4,
  "nbformat_minor": 0
}