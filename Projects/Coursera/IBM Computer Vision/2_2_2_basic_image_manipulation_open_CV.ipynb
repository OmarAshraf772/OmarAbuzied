{
  "cells": [
    {
      "cell_type": "markdown",
      "metadata": {
        "id": "E0CP4m5h__2n"
      },
      "source": [
        "<p style=\"text-align:center\">\n",
        "    <a href=\"https://skills.network/?utm_medium=Exinfluencer&utm_source=Exinfluencer&utm_content=000026UJ&utm_term=10006555&utm_id=NA-SkillsNetwork-Channel-SkillsNetworkCoursesIBMDeveloperSkillsNetworkCV0101ENCoursera872-2022-01-01\" target=\"_blank\">\n",
        "    <img src=\"https://cf-courses-data.s3.us.cloud-object-storage.appdomain.cloud/assets/logos/SN_web_lightmode.png\" width=\"200\" alt=\"Skills Network Logo\"  />\n",
        "    </a>\n",
        "</p>\n"
      ]
    },
    {
      "cell_type": "markdown",
      "metadata": {
        "id": "CPt8-Asq__2q"
      },
      "source": [
        "**<h1> Manipulating Images </h1>**\n"
      ]
    },
    {
      "cell_type": "markdown",
      "metadata": {
        "id": "09peCCX6__2r"
      },
      "source": [
        "Estimated time needed: **30** minutes\n"
      ]
    },
    {
      "cell_type": "markdown",
      "metadata": {
        "id": "7CLRTJ3j__2s"
      },
      "source": [
        "<h2>Objectives</h2>\n"
      ]
    },
    {
      "cell_type": "markdown",
      "metadata": {
        "id": "SMOs6dl6__2t"
      },
      "source": [
        "In this lab, you will learn how to manipulate images, OpenCV image Arrays. You will learn how to copy an image to avoid aliasing. We will cover flipping images and cropping images. You will also learn to change pixel images; this will allow you to draw shapes, write text and superimpose images over other images.\n"
      ]
    },
    {
      "cell_type": "markdown",
      "metadata": {
        "id": "VZ_TmKXk__2u"
      },
      "source": [
        "<ul>\n",
        "    <li><a href='#MI'>Manipulating Images </a>\n",
        "        <ul>\n",
        "            <li>Copying Images  </li>\n",
        "            <li>Fliping Images </li>\n",
        "            <li>Cropping an Image </li>\n",
        "            <li>Changing Specific Image Pixels </li>\n",
        "     \n",
        "  \n",
        "    \n",
        "</ul>\n"
      ]
    },
    {
      "cell_type": "markdown",
      "metadata": {
        "id": "64111ooi__2v"
      },
      "source": [
        "----\n"
      ]
    },
    {
      "cell_type": "markdown",
      "metadata": {
        "id": "rMU2RRU1__2w"
      },
      "source": [
        "Download the images for the lab\n"
      ]
    },
    {
      "cell_type": "code",
      "execution_count": null,
      "metadata": {
        "id": "ckWPhJIF__2x"
      },
      "outputs": [],
      "source": [
        "!wget https://cf-courses-data.s3.us.cloud-object-storage.appdomain.cloud/IBMDeveloperSkillsNetwork-CV0101EN-SkillsNetwork/images%20/images_part_1/cat.png -O cat.png\n",
        "!wget https://cf-courses-data.s3.us.cloud-object-storage.appdomain.cloud/IBMDeveloperSkillsNetwork-CV0101EN-SkillsNetwork/images%20/images_part_1/lenna.png -O lenna.png\n",
        "!wget https://cf-courses-data.s3.us.cloud-object-storage.appdomain.cloud/IBMDeveloperSkillsNetwork-CV0101EN-SkillsNetwork/images%20/images_part_1/baboon.png -O baboon.png"
      ]
    },
    {
      "cell_type": "markdown",
      "metadata": {
        "id": "ez3aK6Ww__20"
      },
      "source": [
        "We will be using these imported functions in the lab\n"
      ]
    },
    {
      "cell_type": "code",
      "execution_count": null,
      "metadata": {
        "id": "AMNOaYuc__21"
      },
      "outputs": [],
      "source": [
        "import matplotlib.pyplot as plt\n",
        "import cv2\n",
        "import numpy as np"
      ]
    },
    {
      "cell_type": "markdown",
      "metadata": {
        "id": "tsIsBblF__21"
      },
      "source": [
        "## Copying Images\n"
      ]
    },
    {
      "cell_type": "markdown",
      "metadata": {
        "id": "CcPz7Dv2__21"
      },
      "source": [
        "If you want to reassign an array to another variable, you should use the `copy` method. If we do not apply the method `copy()`, the variable will point to the same location in memory. Consider the following array:\n"
      ]
    },
    {
      "cell_type": "code",
      "execution_count": null,
      "metadata": {
        "id": "F2DxwP0K__21"
      },
      "outputs": [],
      "source": [
        "baboon = cv2.imread(\"baboon.png\")\n",
        "plt.figure(figsize=(10,10))\n",
        "plt.imshow(cv2.cvtColor(baboon, cv2.COLOR_BGR2RGB))\n",
        "plt.show()"
      ]
    },
    {
      "cell_type": "markdown",
      "metadata": {
        "id": "15IAjOoO__21"
      },
      "source": [
        "If we do not apply the method `copy()`, the new variable will point to the same location in memory:\n"
      ]
    },
    {
      "cell_type": "code",
      "execution_count": null,
      "metadata": {
        "id": "wPnSjG1A__21"
      },
      "outputs": [],
      "source": [
        "A = baboon"
      ]
    },
    {
      "cell_type": "markdown",
      "metadata": {
        "id": "AM_Y6T6___22"
      },
      "source": [
        "we use the `id` function to find the object's memory address; we see it is the same as the original array.\n"
      ]
    },
    {
      "cell_type": "code",
      "execution_count": null,
      "metadata": {
        "id": "LF9kPabi__27"
      },
      "outputs": [],
      "source": [
        "id(A)==id(baboon)\n",
        "id(A)"
      ]
    },
    {
      "cell_type": "markdown",
      "metadata": {
        "id": "PXC7yg70__27"
      },
      "source": [
        "If we apply the method `copy()</coode>, the memory address is different\n"
      ]
    },
    {
      "cell_type": "code",
      "execution_count": null,
      "metadata": {
        "id": "aJiV5JF5__27"
      },
      "outputs": [],
      "source": [
        "B = baboon.copy()\n",
        "id(B)==id(baboon)"
      ]
    },
    {
      "cell_type": "markdown",
      "metadata": {
        "id": "CmjUh_1I__27"
      },
      "source": [
        "When we do not apply the method <code>copy()</code>, the variable will point to the same location in memory. Consider the array <code>baboon</code>, if we set all its values to zero, then all the values in <code>A</code> will be zero. This is because <code>baboon</code> and <code>A</code> point to the same place in memory, but <code>B</code> will not be affected.\n"
      ]
    },
    {
      "cell_type": "code",
      "execution_count": null,
      "metadata": {
        "id": "3eOTEoPF__28"
      },
      "outputs": [],
      "source": [
        "baboon[:,:,] = 0"
      ]
    },
    {
      "cell_type": "code",
      "execution_count": null,
      "metadata": {
        "id": "v5s7D_wt__28"
      },
      "outputs": [],
      "source": [
        "plt.figure(figsize=(10,10))\n",
        "plt.subplot(121)\n",
        "plt.imshow(cv2.cvtColor(baboon, cv2.COLOR_BGR2RGB))\n",
        "plt.title(\"baboon\")\n",
        "plt.subplot(122)\n",
        "plt.imshow(cv2.cvtColor(A, cv2.COLOR_BGR2RGB))\n",
        "plt.title(\"array A\")\n",
        "plt.show()"
      ]
    },
    {
      "cell_type": "markdown",
      "metadata": {
        "id": "EfJApWu2__29"
      },
      "source": [
        "We see they are the same, this is called aliasing. Aliasing happens whenever one variable's value is assigned to another variable because variables are just names that store references to values. We can also compare <code>baboon</code> and array <code>B</code>:\n"
      ]
    },
    {
      "cell_type": "code",
      "execution_count": null,
      "metadata": {
        "id": "WvUl2TBn__29"
      },
      "outputs": [],
      "source": [
        "plt.figure(figsize=(10,10))\n",
        "plt.subplot(121)\n",
        "plt.imshow(cv2.cvtColor(baboon, cv2.COLOR_BGR2RGB))\n",
        "plt.title(\"baboon\")\n",
        "plt.subplot(122)\n",
        "plt.imshow(cv2.cvtColor(B, cv2.COLOR_BGR2RGB))\n",
        "plt.title(\"array B\")\n",
        "plt.show()"
      ]
    },
    {
      "cell_type": "markdown",
      "metadata": {
        "id": "yPWpSoz2__2-"
      },
      "source": [
        "\n",
        "They are different because they used the method copy.\n"
      ]
    },
    {
      "cell_type": "markdown",
      "metadata": {
        "id": "tpu1RSaO__2_"
      },
      "source": [
        "## Fliping Images\n"
      ]
    },
    {
      "cell_type": "markdown",
      "metadata": {
        "id": "wN8INQyM__2_"
      },
      "source": [
        "Flipping images involves reordering the index of the pixels such that it changes the orientation of the image. Consider the following image:\n"
      ]
    },
    {
      "cell_type": "code",
      "execution_count": null,
      "metadata": {
        "id": "4R0EZHx-__2_"
      },
      "outputs": [],
      "source": [
        "image = cv2.imread(\"cat.png\")\n",
        "plt.figure(figsize=(10,10))\n",
        "plt.imshow(cv2.cvtColor(image, cv2.COLOR_BGR2RGB))\n",
        "plt.show()"
      ]
    },
    {
      "cell_type": "markdown",
      "metadata": {
        "id": "M4onqqMV__3A"
      },
      "source": [
        "We can cast it to an array and find the shape:\n"
      ]
    },
    {
      "cell_type": "code",
      "execution_count": null,
      "metadata": {
        "id": "qjYomohJ__3B"
      },
      "outputs": [],
      "source": [
        "width, height,C=image.shape\n",
        "print('width, height,C',width, height,C)"
      ]
    },
    {
      "cell_type": "markdown",
      "metadata": {
        "id": "PBQLbYL9__3B"
      },
      "source": [
        "Let's Flip i.e rotate it vertically. First, we create an array of equal size of type <code>np.uint8</code> bit image.\n"
      ]
    },
    {
      "cell_type": "code",
      "execution_count": null,
      "metadata": {
        "id": "2aalJKUm__3C"
      },
      "outputs": [],
      "source": [
        "array_flip = np.zeros((width, height,C),dtype=np.uint8)"
      ]
    },
    {
      "cell_type": "markdown",
      "metadata": {
        "id": "CBUZxR6c__3C"
      },
      "source": [
        "We assign the first row of pixels of the original array to the new array's last row. We repeat the process for every row, incrementing the row number for the original array and decreasing the new array's row index assigning the pixels accordingly.\n"
      ]
    },
    {
      "cell_type": "code",
      "execution_count": null,
      "metadata": {
        "id": "RG1_saHg__3D"
      },
      "outputs": [],
      "source": [
        "for i,row in enumerate(image):\n",
        "        array_flip[width-1-i,:,:]=row"
      ]
    },
    {
      "cell_type": "markdown",
      "metadata": {
        "id": "IQ2BCKFA__3E"
      },
      "source": [
        "We plot the results\n"
      ]
    },
    {
      "cell_type": "code",
      "execution_count": null,
      "metadata": {
        "id": "Q9c-dBEZ__3E"
      },
      "outputs": [],
      "source": [
        "plt.figure(figsize=(5,5))\n",
        "plt.imshow(cv2.cvtColor(array_flip, cv2.COLOR_BGR2RGB))\n",
        "plt.show()"
      ]
    },
    {
      "cell_type": "markdown",
      "metadata": {
        "id": "PYs95nsc__3F"
      },
      "source": [
        "<code>OpenCV</code>has several ways to flip an image, we can use  the <code>flip()</code> function; we have the input image array. The parameter is the <code>flipCode</code>\n",
        "\n",
        "is the value indicating what kind of flip we would like to perform;\n",
        "<li><code>flipcode</code> = 0: flip vertically around the x-axis</li>\n",
        "<li><code>flipcode</code> > 0: flip horizontally around y-axis positive value</li>\n",
        "<li><code>flipcode</code>&#60 0: flip vertically and horizontally, flipping around both axes negative value</li>\n",
        "Let apply different <code>flipcode</code>'s in a loop:\n"
      ]
    },
    {
      "cell_type": "code",
      "execution_count": null,
      "metadata": {
        "id": "CmiVd7-W__3F"
      },
      "outputs": [],
      "source": [
        "for flipcode in [0,1,-1]:\n",
        "    im_flip =  cv2.flip(image,flipcode )\n",
        "    plt.imshow(cv2.cvtColor(im_flip,cv2.COLOR_BGR2RGB))\n",
        "    plt.title(\"flipcode: \"+str(flipcode))\n",
        "    plt.show()"
      ]
    },
    {
      "cell_type": "markdown",
      "metadata": {
        "id": "74BUf0Kt__3G"
      },
      "source": [
        "We can also use the <code>rotate()</code> function. The parameter is an integer indicating what kind of flip we would like to perform.\n"
      ]
    },
    {
      "cell_type": "code",
      "execution_count": null,
      "metadata": {
        "id": "512qokT4__3G"
      },
      "outputs": [],
      "source": [
        "im_flip = cv2.rotate(image,0)\n",
        "plt.imshow(cv2.cvtColor(im_flip,cv2.COLOR_BGR2RGB))\n",
        "plt.show()"
      ]
    },
    {
      "cell_type": "markdown",
      "metadata": {
        "id": "vH3IE6f1__3H"
      },
      "source": [
        "OpenCV module has built-in attributes the describe the type of flip, the values are just integers. Several are shown in the following <code>dict</code>:\n"
      ]
    },
    {
      "cell_type": "code",
      "execution_count": null,
      "metadata": {
        "id": "U6n_uzuv__3H"
      },
      "outputs": [],
      "source": [
        "flip = {\"ROTATE_90_CLOCKWISE\":cv2.ROTATE_90_CLOCKWISE,\"ROTATE_90_COUNTERCLOCKWISE\":cv2.ROTATE_90_COUNTERCLOCKWISE,\"ROTATE_180\":cv2.ROTATE_180}"
      ]
    },
    {
      "cell_type": "markdown",
      "metadata": {
        "id": "Cj-tyoJi__3H"
      },
      "source": [
        "We see the keys are just an integer\n"
      ]
    },
    {
      "cell_type": "code",
      "execution_count": null,
      "metadata": {
        "id": "X4D9rj5h__3I"
      },
      "outputs": [],
      "source": [
        "flip[\"ROTATE_90_CLOCKWISE\"]"
      ]
    },
    {
      "cell_type": "markdown",
      "metadata": {
        "id": "FZf-4NXR__3I"
      },
      "source": [
        "We can plot each of the outputs using the different  parameter values\n"
      ]
    },
    {
      "cell_type": "code",
      "execution_count": null,
      "metadata": {
        "id": "ptUY6btO__3I"
      },
      "outputs": [],
      "source": [
        "for key, value in flip.items():\n",
        "    plt.subplot(1,2,1)\n",
        "    plt.imshow(cv2.cvtColor(image, cv2.COLOR_BGR2RGB))\n",
        "    plt.title(\"orignal\")\n",
        "    plt.subplot(1,2,2)\n",
        "    plt.imshow(cv2.cvtColor(cv2.rotate(image,value), cv2.COLOR_BGR2RGB))\n",
        "    plt.title(key)\n",
        "    plt.show()"
      ]
    },
    {
      "cell_type": "markdown",
      "metadata": {
        "id": "kM_yw3w5__3J"
      },
      "source": [
        " ## Cropping an Image\n"
      ]
    },
    {
      "cell_type": "markdown",
      "metadata": {
        "id": "xhtkE7fB__3K"
      },
      "source": [
        "Cropping is \"cutting out\" the part of the image and throwing out the rest; we can crop using arrays. Let start with a vertical crop; the variable <code>upper</code> is the first row that we would like to include in the image, the variable <code>lower</code> is the last row we would like to include. We then use slicing to obtain the new image.\n"
      ]
    },
    {
      "cell_type": "code",
      "execution_count": null,
      "metadata": {
        "id": "Nlb41GCY__3K"
      },
      "outputs": [],
      "source": [
        "upper = 150\n",
        "lower = 400\n",
        "crop_top = image[upper: lower,:,:]\n",
        "plt.figure(figsize=(10,10))\n",
        "plt.imshow(cv2.cvtColor(crop_top, cv2.COLOR_BGR2RGB))\n",
        "plt.show()"
      ]
    },
    {
      "cell_type": "markdown",
      "metadata": {
        "id": "ZfGESxZy__3L"
      },
      "source": [
        "consider the array <code>crop_top</code> we  can also crop horizontally  the variable right is the first column that we would like to include in the image, the variable left is the last column we would like to include in the image.\n"
      ]
    },
    {
      "cell_type": "code",
      "execution_count": null,
      "metadata": {
        "id": "_246ufrQ__3L"
      },
      "outputs": [],
      "source": [
        "left = 150\n",
        "right = 400\n",
        "crop_horizontal = crop_top[: ,left:right,:]\n",
        "plt.figure(figsize=(5,5))\n",
        "plt.imshow(cv2.cvtColor(crop_horizontal, cv2.COLOR_BGR2RGB))\n",
        "plt.show()"
      ]
    },
    {
      "cell_type": "markdown",
      "metadata": {
        "id": "FLEuyMQV__3L"
      },
      "source": [
        "## Changing Specific Image Pixels\n"
      ]
    },
    {
      "cell_type": "markdown",
      "metadata": {
        "id": "4Cg-2SOC__3M"
      },
      "source": [
        "We can change specific image pixels using  array indexing; for example, we can set  all the channels in the original image we cropped to zero :\n"
      ]
    },
    {
      "cell_type": "code",
      "execution_count": null,
      "metadata": {
        "id": "St7TRYc6__3M"
      },
      "outputs": [],
      "source": [
        "array_sq = np.copy(image)\n",
        "array_sq[upper:lower,left:right,:] = 0"
      ]
    },
    {
      "cell_type": "markdown",
      "metadata": {
        "id": "yzZ8sjfy__3M"
      },
      "source": [
        "We can compare the results to the new image.\n"
      ]
    },
    {
      "cell_type": "code",
      "execution_count": null,
      "metadata": {
        "id": "mRRvcNFx__3M"
      },
      "outputs": [],
      "source": [
        "plt.figure(figsize=(10,10))\n",
        "plt.subplot(1,2,1)\n",
        "plt.imshow(cv2.cvtColor(image,cv2.COLOR_BGR2RGB))\n",
        "plt.title(\"orignal\")\n",
        "plt.subplot(1,2,2)\n",
        "plt.imshow(cv2.cvtColor(array_sq,cv2.COLOR_BGR2RGB))\n",
        "plt.title(\"Altered Image\")\n",
        "plt.show()"
      ]
    },
    {
      "cell_type": "markdown",
      "metadata": {
        "id": "Ja9h-DZo__3N"
      },
      "source": [
        "  We can also create shapes and <code>OpenCV</code>, we can use the method <code>rectangle</code>. The parameter  <code>pt1</code> is the top-left coordinate of the rectangle: <code>(left,top)</code> or $(x_0,y_0)$, <code>pt2</code> is the bottom right coordinate<code>(right,lower)</code> or $(x_1,y_1)$. The parameter <code>color</code>  is a tuple representing the intensity of each channel <code>( blue, green, red)</code>. Finally, we have the line thickness.\n"
      ]
    },
    {
      "cell_type": "code",
      "execution_count": null,
      "metadata": {
        "id": "xFEbdN_T__3N"
      },
      "outputs": [],
      "source": [
        "start_point, end_point = (left, upper),(right, lower)\n",
        "image_draw = np.copy(image)\n",
        "cv2.rectangle(image_draw, pt1=start_point, pt2=end_point, color=(0, 255, 0), thickness=3)\n",
        "plt.figure(figsize=(5,5))\n",
        "plt.imshow(cv2.cvtColor(image_draw, cv2.COLOR_BGR2RGB))\n",
        "plt.show()"
      ]
    },
    {
      "cell_type": "markdown",
      "metadata": {
        "id": "VhtLWNSD__3N"
      },
      "source": [
        "We can overlay text on an image using the function  <code>putText</code> with the following parameter values:\n"
      ]
    },
    {
      "cell_type": "markdown",
      "metadata": {
        "id": "KEk3YfC3__3N"
      },
      "source": [
        "\n",
        " <li><code>img</code>: Image array </li>\n",
        "<li><code>text</code>: Text string to be overlayed</li>\n",
        "<li><code>org</code>: Bottom-left corner of the text string in the image</li>\n",
        "<li><code>fontFace</code>: tye type of font </li>\n",
        "<li><code>fontScale</code>: Font scale</li>\n",
        "<li><code>color</code>: Text color</li>\n",
        "<li><code>thickness</code>: Thickness of the lines used to draw a text</li>\n",
        "<li><code>lineType:</code> Line type</li>\n"
      ]
    },
    {
      "cell_type": "code",
      "execution_count": null,
      "metadata": {
        "id": "WUPEoYBn__3O"
      },
      "outputs": [],
      "source": [
        "image_draw=cv2.putText(img=image,text='Stuff',org=(10,500),color=(255,255,255),fontFace=4,fontScale=5,thickness=2)\n",
        "plt.figure(figsize=(10,10))\n",
        "plt.imshow(cv2.cvtColor(image_draw,cv2.COLOR_BGR2RGB))\n",
        "plt.show()"
      ]
    }
  ],
  "metadata": {
    "kernelspec": {
      "display_name": "Python",
      "language": "python",
      "name": "conda-env-python-py"
    },
    "language_info": {
      "name": ""
    },
    "colab": {
      "provenance": []
    }
  },
  "nbformat": 4,
  "nbformat_minor": 0
}