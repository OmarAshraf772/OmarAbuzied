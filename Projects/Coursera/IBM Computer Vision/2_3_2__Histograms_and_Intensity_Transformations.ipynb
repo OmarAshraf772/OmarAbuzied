{
  "cells": [
    {
      "cell_type": "markdown",
      "metadata": {
        "id": "tC3rRQOUABN8"
      },
      "source": [
        "<p style=\"text-align:center\">\n",
        "    <a href=\"https://skills.network/?utm_medium=Exinfluencer&utm_source=Exinfluencer&utm_content=000026UJ&utm_term=10006555&utm_id=NA-SkillsNetwork-Channel-SkillsNetworkCoursesIBMDeveloperSkillsNetworkCV0101ENCoursera872-2022-01-01\" target=\"_blank\">\n",
        "    <img src=\"https://cf-courses-data.s3.us.cloud-object-storage.appdomain.cloud/assets/logos/SN_web_lightmode.png\" width=\"200\" alt=\"Skills Network Logo\"  />\n",
        "    </a>\n",
        "</p>\n"
      ]
    },
    {
      "cell_type": "markdown",
      "metadata": {
        "id": "Ey3UNP91ABN_"
      },
      "source": [
        "<h1>Histogram and Intensity Transformations</h1>\n"
      ]
    },
    {
      "cell_type": "markdown",
      "metadata": {
        "id": "i0LNc3XsABOA"
      },
      "source": [
        "Estimated time needed: **40** minutes\n"
      ]
    },
    {
      "cell_type": "markdown",
      "metadata": {
        "id": "zUYaXACHABOB"
      },
      "source": [
        "<h2>Objectives</h2>\n"
      ]
    },
    {
      "cell_type": "markdown",
      "metadata": {
        "id": "3_noUo0oABOB"
      },
      "source": [
        "Pixel Transforms are operations you perform one pixel at a time. In this lab, you will start by creating histograms. Histograms display the intensity of the image and can be used to optimize image characteristics. You will then apply Intensity Transformations, making objects easier to see by improving image contrast and brightness. In the last portion of the lab, you will use thresholding to segment objects from images.\n"
      ]
    },
    {
      "cell_type": "markdown",
      "metadata": {
        "id": "oo5iePxOABOB"
      },
      "source": [
        "<ul>\n",
        "    <li><a href='#PT'>Pixel Transforms  </a>\n",
        "        <ul>\n",
        "            <li>Histograms </li>\n",
        "            <li>Intensity Transformations</li>\n",
        "            <li>Thresholding and Simple Segmentation </li>   \n",
        "</ul>\n"
      ]
    },
    {
      "cell_type": "markdown",
      "metadata": {
        "id": "EMdd8zLPABOC"
      },
      "source": [
        "----\n"
      ]
    },
    {
      "cell_type": "markdown",
      "metadata": {
        "id": "9AKrM6K3ABOD"
      },
      "source": [
        "Download the image for the lab\n"
      ]
    },
    {
      "cell_type": "code",
      "execution_count": null,
      "metadata": {
        "id": "3SYcpUN3ABOF"
      },
      "outputs": [],
      "source": [
        "!wget https://cf-courses-data.s3.us.cloud-object-storage.appdomain.cloud/IBMDeveloperSkillsNetwork-CV0101EN-SkillsNetwork/images%20/images_part_1/lenna.png -O lenna.png\n",
        "!wget https://cf-courses-data.s3.us.cloud-object-storage.appdomain.cloud/IBMDeveloperSkillsNetwork-CV0101EN-SkillsNetwork/images%20/images_part_1/baboon.png -O baboon.png\n",
        "!wget https://cf-courses-data.s3.us.cloud-object-storage.appdomain.cloud/IBMDeveloperSkillsNetwork-CV0101EN-SkillsNetwork/images%20/images_part_1/goldhill.bmp -O goldhill.bmp\n",
        "!wget https://cf-courses-data.s3.us.cloud-object-storage.appdomain.cloud/IBMDeveloperSkillsNetwork-CV0101EN-SkillsNetwork/images%20/images_part_1/cameraman.jpeg -O cameraman.jpeg\n",
        "!wget https://cf-courses-data.s3.us.cloud-object-storage.appdomain.cloud/IBMDeveloperSkillsNetwork-CV0101EN-SkillsNetwork/images%20/images_part_1/zelda.png -O zelda.png\n",
        "!wget https://cf-courses-data.s3.us.cloud-object-storage.appdomain.cloud/IBMDeveloperSkillsNetwork-CV0101EN-SkillsNetwork/images%20/images_part_1/mammogram.png -O mammogram.png"
      ]
    },
    {
      "cell_type": "markdown",
      "metadata": {
        "id": "Pn40qzH4ABOH"
      },
      "source": [
        "We will be using these imported functions in the lab\n"
      ]
    },
    {
      "cell_type": "code",
      "execution_count": null,
      "metadata": {
        "id": "mY1_tWDuABOH"
      },
      "outputs": [],
      "source": [
        "import matplotlib.pyplot as plt\n",
        "import cv2\n",
        "import numpy as np"
      ]
    },
    {
      "cell_type": "markdown",
      "metadata": {
        "id": "DqHTe-3XABOI"
      },
      "source": [
        "First, lets define a helper function to plot two images side-by-side. You will not need to understand this code at this moment, but this function will be used repeatedly in this tutorial to showcase the results.\n"
      ]
    },
    {
      "cell_type": "code",
      "execution_count": null,
      "metadata": {
        "id": "Dn8PupclABOI"
      },
      "outputs": [],
      "source": [
        "def plot_image(image_1, image_2,title_1=\"Orignal\", title_2=\"New Image\"):\n",
        "    plt.figure(figsize=(10,10))\n",
        "    plt.subplot(1, 2, 1)\n",
        "    plt.imshow(image_1,cmap=\"gray\")\n",
        "    plt.title(title_1)\n",
        "    plt.subplot(1, 2, 2)\n",
        "    plt.imshow(image_2,cmap=\"gray\")\n",
        "    plt.title(title_2)\n",
        "    plt.show()"
      ]
    },
    {
      "cell_type": "markdown",
      "metadata": {
        "id": "AvKnTjNoABOI"
      },
      "source": [
        "Lets define another helper function. The following one will plot two histograms side-by-side. Again, you do not need to understand the body of this function at this moment.\n"
      ]
    },
    {
      "cell_type": "code",
      "execution_count": null,
      "metadata": {
        "id": "R6HywCruABOJ"
      },
      "outputs": [],
      "source": [
        "def plot_hist(old_image, new_image,title_old=\"Orignal\", title_new=\"New Image\"):\n",
        "    intensity_values=np.array([x for x in range(256)])\n",
        "    plt.subplot(1, 2, 1)\n",
        "    plt.bar(intensity_values, cv2.calcHist([old_image],[0],None,[256],[0,256])[:,0],width = 5)\n",
        "    plt.title(title_old)\n",
        "    plt.xlabel('intensity')\n",
        "    plt.subplot(1, 2, 2)\n",
        "    plt.bar(intensity_values, cv2.calcHist([new_image],[0],None,[256],[0,256])[:,0],width = 5)\n",
        "    plt.title(title_new)\n",
        "    plt.xlabel('intensity')\n",
        "    plt.show()"
      ]
    },
    {
      "cell_type": "markdown",
      "metadata": {
        "id": "L6CSBiTqABOJ"
      },
      "source": [
        "# Histograms  \n"
      ]
    },
    {
      "cell_type": "markdown",
      "metadata": {
        "id": "GTrZvmHvABOJ"
      },
      "source": [
        "A histogram counts the number of occurrences of the intensity values of pixels, and it's a useful tool for understanding and manipulating images. We use <code>cv.calcHist()</code> to generate the histogram. Here are the parameter values:\n",
        "<p>\n",
        "    <code>cv2.calcHist(CV array:<b>[image]</b> this is the image channel:<b>[0]</b>,for this course it will always be <b>[None]</b>,the number of bins:<b>[L]</b>,the range of index of bins:<b>[0,L-1]</b>) </code>   \n",
        "</p>\n",
        "For real images, <code>L</code> is <code>256</code>.\n"
      ]
    },
    {
      "cell_type": "markdown",
      "metadata": {
        "id": "KycYo03bABOJ"
      },
      "source": [
        "## Toy Example\n"
      ]
    },
    {
      "cell_type": "markdown",
      "metadata": {
        "id": "bgvC8op-ABOK"
      },
      "source": [
        "Consider the toy array with intensity values ranging from 0 to 2. We can create a histogram. Its first element is the number of zeros in the image (in this case, 1); its second element is the number of ones in the image (in this case, 5), and so on.\n"
      ]
    },
    {
      "cell_type": "code",
      "execution_count": null,
      "metadata": {
        "id": "3Mc7ZHAIABOK"
      },
      "outputs": [],
      "source": [
        "toy_image = np.array([[0,2,2],[1,1,1],[1,1,2]],dtype=np.uint8)\n",
        "plt.imshow(toy_image, cmap=\"gray\")\n",
        "plt.show()\n",
        "print(\"toy_image:\",toy_image)"
      ]
    },
    {
      "cell_type": "markdown",
      "metadata": {
        "id": "Go0nqvlIABOK"
      },
      "source": [
        "We can use the <code>caclHist</code> function, in this case, we use only three bins as there are only three values, and the index of the bins are from 1 to 3.\n",
        "\n",
        "**TODO:** @Joe\n"
      ]
    },
    {
      "cell_type": "code",
      "execution_count": null,
      "metadata": {
        "id": "nQIK97ixABOK"
      },
      "outputs": [],
      "source": [
        "plt.bar([x for x in range(6)],[1,5,2,0,0,0])\n",
        "plt.show()"
      ]
    },
    {
      "cell_type": "code",
      "execution_count": null,
      "metadata": {
        "id": "SSo8ud4OABOL"
      },
      "outputs": [],
      "source": [
        "plt.bar([x for x in range(6)],[0,1,0,5,0,2])\n",
        "plt.show()"
      ]
    },
    {
      "cell_type": "markdown",
      "metadata": {
        "id": "Zt_jLFrJABOL"
      },
      "source": [
        "The histogram is a function where $h[r]$  where   $r \\in {0,1,2} $. In the above example  $h[0]=1$,$h[1]=5$ and $h[2]=3$\n"
      ]
    },
    {
      "cell_type": "markdown",
      "metadata": {
        "id": "MKl9fJQGABOM"
      },
      "source": [
        "## Gray Scale Histograms\n"
      ]
    },
    {
      "cell_type": "markdown",
      "metadata": {
        "id": "z04mgq-WABOM"
      },
      "source": [
        "\n",
        "\n",
        "Histograms are used in grayscale images.  Grayscale images are used in many applications, including medical and industrial. Color images are split into luminance and chrominance. The luminance is the grayscale portion and is usually processed in many applications. Consider the following \"Gold Hill\" image:\n"
      ]
    },
    {
      "cell_type": "code",
      "execution_count": null,
      "metadata": {
        "id": "GojZrfduABOM"
      },
      "outputs": [],
      "source": [
        "goldhill = cv2.imread(\"goldhill.bmp\",cv2.IMREAD_GRAYSCALE)\n",
        "plt.figure(figsize=(10,10))\n",
        "plt.imshow(goldhill,cmap=\"gray\")\n",
        "plt.show()"
      ]
    },
    {
      "cell_type": "markdown",
      "metadata": {
        "id": "iAru96NPABOM"
      },
      "source": [
        "We can calculate the histogram using the `calcHist` function from the `cv2` module as follows, the shape is 256.\n"
      ]
    },
    {
      "cell_type": "code",
      "execution_count": null,
      "metadata": {
        "id": "1KbqYfKLABON"
      },
      "outputs": [],
      "source": [
        "hist = cv2.calcHist([goldhill],[0], None, [256], [0,256])"
      ]
    },
    {
      "cell_type": "markdown",
      "metadata": {
        "id": "uqNZI_lJABON"
      },
      "source": [
        "We can plot it as a bar graph, the $x$-axis are the pixel intensities and the $y$-axis is the number of times of occurrences that the corresponding pixel intensity value on $x$-axis occurred.\n"
      ]
    },
    {
      "cell_type": "code",
      "execution_count": null,
      "metadata": {
        "id": "YD7qy256ABON"
      },
      "outputs": [],
      "source": [
        "intensity_values = np.array([x for x in range(hist.shape[0])])\n",
        "plt.bar(intensity_values, hist[:,0], width = 5)\n",
        "plt.title(\"Bar histogram\")\n",
        "plt.show()"
      ]
    },
    {
      "cell_type": "markdown",
      "metadata": {
        "id": "VpfZlTrmABON"
      },
      "source": [
        "The histogram is a function where $h[r]$  where   $r \\in {0,1,..,255} $.\n"
      ]
    },
    {
      "cell_type": "markdown",
      "metadata": {
        "id": "Oug1dvf1ABON"
      },
      "source": [
        "We can convert it to a probability mass function by normalizing it by the number of pixels:\n"
      ]
    },
    {
      "cell_type": "code",
      "execution_count": null,
      "metadata": {
        "id": "nO8k3ajkABOO"
      },
      "outputs": [],
      "source": [
        "PMF = hist / (goldhill.shape[0] * goldhill.shape[1])"
      ]
    },
    {
      "cell_type": "markdown",
      "metadata": {
        "id": "EoroVxfEABOO"
      },
      "source": [
        "We can plot as a continuous function:\n"
      ]
    },
    {
      "cell_type": "code",
      "execution_count": null,
      "metadata": {
        "id": "KTWEvuISABOO"
      },
      "outputs": [],
      "source": [
        "plt.plot(intensity_values,hist)\n",
        "plt.title(\"histogram\")\n",
        "plt.show()"
      ]
    },
    {
      "cell_type": "markdown",
      "metadata": {
        "id": "GqKIRhEmABOP"
      },
      "source": [
        "\n",
        "We can also apply a histogram to each image color channel:\n"
      ]
    },
    {
      "cell_type": "code",
      "execution_count": null,
      "metadata": {
        "id": "KSzS_tyZABOP"
      },
      "outputs": [],
      "source": [
        "baboon = cv2.imread(\"baboon.png\")\n",
        "plt.imshow(cv2.cvtColor(baboon,cv2.COLOR_BGR2RGB))\n",
        "plt.show()"
      ]
    },
    {
      "cell_type": "markdown",
      "metadata": {
        "id": "rRI-XomEABOP"
      },
      "source": [
        "In the loop, the value for <code>i</code> specifies what color channel <code>calcHist</code> is going to calculate the histogram for.   \n"
      ]
    },
    {
      "cell_type": "code",
      "execution_count": null,
      "metadata": {
        "id": "6k5clEeDABOP"
      },
      "outputs": [],
      "source": [
        "color = ('blue','green','red')\n",
        "for i,col in enumerate(color):\n",
        "    histr = cv2.calcHist([baboon],[i],None,[256],[0,256])\n",
        "    plt.plot(intensity_values,histr,color = col,label=col+\" channel\")\n",
        "\n",
        "    plt.xlim([0,256])\n",
        "plt.legend()\n",
        "plt.title(\"Histogram Channels\")\n",
        "plt.show()"
      ]
    },
    {
      "cell_type": "markdown",
      "metadata": {
        "id": "uaMHsok-ABOQ"
      },
      "source": [
        "#  Intensity Transformations\n"
      ]
    },
    {
      "cell_type": "markdown",
      "metadata": {
        "id": "JXyW3arZABOQ"
      },
      "source": [
        "It's helpful to think of an image as a function $f(x,y)$ instead of an array at this point, where `x` is the row index and `y` is the column index. You can apply a transformation $T$ to the image and get a new image:\n",
        "$$\n",
        "g(x,y)=T(f(x,y))\n",
        "$$\n",
        "\n",
        "An Intensity Transformation depends on only one single point $(x,y)$. For example, you can apply a linear transform $g(x,y) = 2f(x,y) + 1$; this will multiply each image pixel by two and add one.\n",
        "\n",
        "As the Intensity transforms only depend on one value; as a result, it is sometimes referred to as a gray-level mapping. The variable if $r$ is the gray level intensity, similar to the histogram values. The new output s is given by:\n",
        "\n",
        "$$\n",
        "s=T(r)\n",
        "$$\n"
      ]
    },
    {
      "cell_type": "markdown",
      "metadata": {
        "id": "P8R10dlzABOQ"
      },
      "source": [
        "## Image Negatives\n"
      ]
    },
    {
      "cell_type": "markdown",
      "metadata": {
        "id": "z9XnCsftABOR"
      },
      "source": [
        "Consider an image with $L$ intensity values ranging from $[0,L-1]$.  We can reverse the intensity levels by applying the following:\n",
        "$$\n",
        "g(x,y)=L-1-f(x,y)\n",
        "$$\n",
        "\n",
        "Using the intensity transformation function notation\n",
        "$$\n",
        "s = L - 1 - r\n",
        "$$\n",
        "\n",
        "This is called the image negative. For $L= 256$ the formulas simplifys to:\n",
        "$$\n",
        "g(x,y)=255-f(x,y) \\qquad \\mbox{and} \\qquad s=255-r\n",
        "$$\n"
      ]
    },
    {
      "cell_type": "markdown",
      "metadata": {
        "id": "x6G14RyKABOT"
      },
      "source": [
        "We can perform intensity transformation on the toy image where $L = 3$:\n"
      ]
    },
    {
      "cell_type": "code",
      "execution_count": null,
      "metadata": {
        "id": "vU2I8QYWABOU"
      },
      "outputs": [],
      "source": [
        "neg_toy_image = -1 * toy_image + 255\n",
        "\n",
        "print(\"toy image\\n\", neg_toy_image)\n",
        "print(\"image negatives\\n\", neg_toy_image)"
      ]
    },
    {
      "cell_type": "markdown",
      "metadata": {
        "id": "x3L6-VOOABOU"
      },
      "source": [
        "We see darker intensity’s become brighter and brighter become darker, middle intensity’s remain the same.\n"
      ]
    },
    {
      "cell_type": "code",
      "execution_count": null,
      "metadata": {
        "id": "moq6p_86ABOV"
      },
      "outputs": [],
      "source": [
        "plt.figure(figsize=(10,10))\n",
        "plt.subplot(1, 2, 1)\n",
        "plt.imshow(toy_image,cmap=\"gray\")\n",
        "plt.subplot(1, 2, 2)\n",
        "plt.imshow(neg_toy_image,cmap=\"gray\")\n",
        "plt.show()\n",
        "print(\"toy_image:\",toy_image)"
      ]
    },
    {
      "cell_type": "markdown",
      "metadata": {
        "id": "hdFvGm36ABOV"
      },
      "source": [
        "Reversing image intensity has many applications, including making it simpler to analyze medical images. Consider the mammogram with micro-calcifications on the upper quadrant:\n"
      ]
    },
    {
      "cell_type": "code",
      "execution_count": null,
      "metadata": {
        "id": "G2XNAVEMABOV"
      },
      "outputs": [],
      "source": [
        "image = cv2.imread(\"mammogram.png\", cv2.IMREAD_GRAYSCALE)\n",
        "cv2.rectangle(image, pt1=(160, 212), pt2=(250, 289), color = (255), thickness=2)\n",
        "\n",
        "plt.figure(figsize = (10,10))\n",
        "plt.imshow(image, cmap=\"gray\")\n",
        "plt.show()"
      ]
    },
    {
      "cell_type": "markdown",
      "metadata": {
        "id": "wRZr-RiMABOW"
      },
      "source": [
        "We can apply the intensity transformation:\n"
      ]
    },
    {
      "cell_type": "code",
      "execution_count": null,
      "metadata": {
        "id": "PEpBcprBABOW"
      },
      "outputs": [],
      "source": [
        "img_neg = -1 * image + 255"
      ]
    },
    {
      "cell_type": "markdown",
      "metadata": {
        "id": "z757SWisABOX"
      },
      "source": [
        "We see the micro-calcifications in the image negatives is easier it is to analyze:\n"
      ]
    },
    {
      "cell_type": "code",
      "execution_count": null,
      "metadata": {
        "id": "mEAvgRlRABOX"
      },
      "outputs": [],
      "source": [
        "plt.figure(figsize=(10,10))\n",
        "plt.imshow(img_neg, cmap = \"gray\")\n",
        "plt.show()"
      ]
    },
    {
      "cell_type": "markdown",
      "metadata": {
        "id": "23lKlzjRABOX"
      },
      "source": [
        "## Brightness and contrast adjustments\n"
      ]
    },
    {
      "cell_type": "markdown",
      "metadata": {
        "id": "ye8dxIG_ABOX"
      },
      "source": [
        "We can use multiplication by $\\alpha$ for contrast control and addition by $\\beta$ to improve brightness control. This applies the Intensity Transformation as well. The image is $f(x,y)$ and the transformed image is $g(x,y)$, where $g(x,y) = \\alpha f(x,y) + \\beta$.\n"
      ]
    },
    {
      "cell_type": "markdown",
      "metadata": {
        "id": "VaWVpEv_ABOY"
      },
      "source": [
        " Rather than implementing via array operations, we use the function  <code>convertScaleAbs</code>. It scales, calculates absolute values, and converts the result to 8-bit so the values fall between $[0,255]$. For brightness control, we can set $\\alpha$ to 1 and $\\beta$ to 100: Remember the Good Hill image, it’s dark and hazy so let's see if we can improve it.\n"
      ]
    },
    {
      "cell_type": "code",
      "execution_count": null,
      "metadata": {
        "id": "sJ4tnps_ABOY"
      },
      "outputs": [],
      "source": [
        "alpha = 1 # Simple contrast control\n",
        "beta = 100   # Simple brightness control\n",
        "new_image = cv2.convertScaleAbs(goldhill, alpha=alpha, beta=beta)"
      ]
    },
    {
      "cell_type": "markdown",
      "metadata": {
        "id": "ibUo4JFJABOY"
      },
      "source": [
        "We can plot the brighter image, it's much brighter :\n"
      ]
    },
    {
      "cell_type": "code",
      "execution_count": null,
      "metadata": {
        "id": "-l10v7rcABOY"
      },
      "outputs": [],
      "source": [
        "plot_image(goldhill, new_image, title_1 = \"Orignal\", title_2 = \"brightness control\")"
      ]
    },
    {
      "cell_type": "markdown",
      "metadata": {
        "id": "eCSvjeFqABOZ"
      },
      "source": [
        "We see the brighter image's histogram is shifted:     \n"
      ]
    },
    {
      "cell_type": "code",
      "execution_count": null,
      "metadata": {
        "id": "1RJcKOQKABOZ"
      },
      "outputs": [],
      "source": [
        "plt.figure(figsize=(10,5))\n",
        "plot_hist(goldhill, new_image, \"Orignal\", \"brightness control\")"
      ]
    },
    {
      "cell_type": "markdown",
      "metadata": {
        "id": "B75lxHV7ABOZ"
      },
      "source": [
        "We can increase the contrast by increasing $\\alpha$:\n"
      ]
    },
    {
      "cell_type": "code",
      "execution_count": null,
      "metadata": {
        "id": "OtMAnO0KABOZ"
      },
      "outputs": [],
      "source": [
        "plt.figure(figsize=(10,5))\n",
        "alpha = 2# Simple contrast control\n",
        "beta = 0 # Simple brightness control   # Simple brightness control\n",
        "new_image = cv2.convertScaleAbs(goldhill, alpha=alpha, beta=beta)"
      ]
    },
    {
      "cell_type": "markdown",
      "metadata": {
        "id": "TfqYdIcVABOa"
      },
      "source": [
        "We can plot the image and its corresponding histogram:\n"
      ]
    },
    {
      "cell_type": "code",
      "execution_count": null,
      "metadata": {
        "id": "av4JGTUfABOa"
      },
      "outputs": [],
      "source": [
        "plot_image(goldhill,new_image,\"Orignal\",\"contrast control\")"
      ]
    },
    {
      "cell_type": "code",
      "execution_count": null,
      "metadata": {
        "id": "UzGnvWwSABOa"
      },
      "outputs": [],
      "source": [
        "plt.figure(figsize=(10,5))\n",
        "plot_hist(goldhill, new_image,\"Orignal\",\"contrast control\")"
      ]
    },
    {
      "cell_type": "markdown",
      "metadata": {
        "id": "btMxplrOABOa"
      },
      "source": [
        "When plotting the image we see it's too bright. We can adapt the brightness by making the image darker and increasing the contrast at the same time.\n"
      ]
    },
    {
      "cell_type": "code",
      "execution_count": null,
      "metadata": {
        "id": "LmT5vBxEABOb"
      },
      "outputs": [],
      "source": [
        "plt.figure(figsize=(10,5))\n",
        "alpha = 3 # Simple contrast control\n",
        "beta = -200  # Simple brightness control\n",
        "new_image = cv2.convertScaleAbs(goldhill, alpha=alpha, beta=beta)"
      ]
    },
    {
      "cell_type": "code",
      "execution_count": null,
      "metadata": {
        "id": "iphq19b9ABOb"
      },
      "outputs": [],
      "source": [
        "plot_image(goldhill, new_image, \"Orignal\", \"brightness & contrast control\")"
      ]
    },
    {
      "cell_type": "code",
      "execution_count": null,
      "metadata": {
        "id": "czt7XSa7ABOb"
      },
      "outputs": [],
      "source": [
        "plt.figure(figsize=(10,5))\n",
        "plot_hist(goldhill, new_image, \"Orignal\", \"brightness & contrast control\")"
      ]
    },
    {
      "cell_type": "markdown",
      "metadata": {
        "id": "f0pU-pxAABOb"
      },
      "source": [
        "There are other nonlinear methods to improve contrast and brightness, these methods have different sets of parameters. In general, it’s difficult to manually adjust the contrast and brightness parameter, but there are algorithms that improve contrast automatically.\n"
      ]
    },
    {
      "cell_type": "markdown",
      "metadata": {
        "id": "3T6ufOR0ABOc"
      },
      "source": [
        "## Histogram Equalization\n"
      ]
    },
    {
      "cell_type": "markdown",
      "metadata": {
        "id": "ynr9o_6oABOc"
      },
      "source": [
        "Histogram Equalization increases the contrast of images, by stretching out the range of the grayscale pixels; It does this by flatting  the histogram. We simply apply the function <code>cv2.equalizeHist</code>.\n"
      ]
    },
    {
      "cell_type": "code",
      "execution_count": null,
      "metadata": {
        "id": "t6gkTaGyABOc"
      },
      "outputs": [],
      "source": [
        "zelda = cv2.imread(\"zelda.png\",cv2.IMREAD_GRAYSCALE)\n",
        "new_image = cv2.equalizeHist(zelda)"
      ]
    },
    {
      "cell_type": "markdown",
      "metadata": {
        "id": "dpdR2EArABOc"
      },
      "source": [
        "We can compare the image before and after Histogram Equalization, we see the contrast is improved. We see after the Histogram Equalization is applied, the histogram is stretched out:\n"
      ]
    },
    {
      "cell_type": "code",
      "execution_count": null,
      "metadata": {
        "id": "L5suA7-gABOc"
      },
      "outputs": [],
      "source": [
        "plot_image(zelda,new_image,\"Orignal\",\"Histogram Equalization\")"
      ]
    },
    {
      "cell_type": "code",
      "execution_count": null,
      "metadata": {
        "id": "QQ3m1jerABOd"
      },
      "outputs": [],
      "source": [
        "plt.figure(figsize=(10,5))\n",
        "plot_hist(zelda, new_image,\"Orignal\",\"Histogram Equalization\")"
      ]
    },
    {
      "cell_type": "markdown",
      "metadata": {
        "id": "lGwX11yIABOd"
      },
      "source": [
        "## Thresholding and Simple Segmentation\n"
      ]
    },
    {
      "cell_type": "markdown",
      "metadata": {
        "id": "e6iO5tRnABOd"
      },
      "source": [
        "Thresholding is used in image segmentation this means extracting objects from an image. Image segmentation is used in many applications including extracting text, medical imaging, and industrial imaging.\n",
        "Thresholding an image takes a threshold; If a particular pixel (i,j) is greater than that threshold it will set that pixel to some value usually 1 or 255, otherwise, it will set it to another value, usually zero. We can write a Python function that will perform thresholding and output a new image given some input grayscale image:\n"
      ]
    },
    {
      "cell_type": "code",
      "execution_count": null,
      "metadata": {
        "id": "anDE_IoxABOd"
      },
      "outputs": [],
      "source": [
        "def thresholding(input_img,threshold,max_value=255, min_value=0):\n",
        "    N,M=input_img.shape\n",
        "    image_out=np.zeros((N,M),dtype=np.uint8)\n",
        "\n",
        "    for i  in range(N):\n",
        "        for j in range(M):\n",
        "            if input_img[i,j]> threshold:\n",
        "                image_out[i,j]=max_value\n",
        "            else:\n",
        "                image_out[i,j]=min_value\n",
        "\n",
        "    return image_out"
      ]
    },
    {
      "cell_type": "markdown",
      "metadata": {
        "id": "7DGQO1wQABOe"
      },
      "source": [
        "Consider the following toy image:\n"
      ]
    },
    {
      "cell_type": "code",
      "execution_count": null,
      "metadata": {
        "id": "CSkTlB-cABOe"
      },
      "outputs": [],
      "source": [
        "toy_image"
      ]
    },
    {
      "cell_type": "markdown",
      "metadata": {
        "id": "oMC-oD_ZABOe"
      },
      "source": [
        "We can apply thresholding, by setting all the values less than two to zero.\n"
      ]
    },
    {
      "cell_type": "code",
      "execution_count": null,
      "metadata": {
        "id": "tGQgqaghABOe"
      },
      "outputs": [],
      "source": [
        "threshold = 1\n",
        "max_value = 2\n",
        "min_value = 0\n",
        "thresholding_toy = thresholding(toy_image, threshold=threshold, max_value=max_value, min_value=min_value)\n",
        "thresholding_toy"
      ]
    },
    {
      "cell_type": "markdown",
      "metadata": {
        "id": "sqO24arMABOf"
      },
      "source": [
        "We can compare the two images. In the new image we see all the gray values are now black:\n"
      ]
    },
    {
      "cell_type": "code",
      "execution_count": null,
      "metadata": {
        "id": "TM7TIvcOABOg"
      },
      "outputs": [],
      "source": [
        "plt.figure(figsize=(10, 10))\n",
        "plt.subplot(1, 2, 1)\n",
        "plt.imshow(toy_image, cmap=\"gray\")\n",
        "plt.title(\"Original Image\")\n",
        "plt.subplot(1, 2, 2)\n",
        "plt.imshow(thresholding_toy, cmap=\"gray\")\n",
        "plt.title(\"Image After Thresholding\")\n",
        "plt.show()"
      ]
    },
    {
      "cell_type": "markdown",
      "metadata": {
        "id": "X5qVmlL_ABOg"
      },
      "source": [
        "Consider the cameraman image:\n"
      ]
    },
    {
      "cell_type": "code",
      "execution_count": null,
      "metadata": {
        "id": "sCAjQxpFABOg"
      },
      "outputs": [],
      "source": [
        "image = cv2.imread(\"cameraman.jpeg\", cv2.IMREAD_GRAYSCALE)\n",
        "plt.figure(figsize=(10, 10))\n",
        "plt.imshow(image, cmap=\"gray\")\n",
        "plt.show()"
      ]
    },
    {
      "cell_type": "markdown",
      "metadata": {
        "id": "4hZcZjfDABOh"
      },
      "source": [
        "We can see the histogram as two peeks, this means that there is a large proportion of pixels in those two ranges:\n"
      ]
    },
    {
      "cell_type": "code",
      "execution_count": null,
      "metadata": {
        "id": "iKt1W3btABOh"
      },
      "outputs": [],
      "source": [
        "hist = cv2.calcHist([goldhill], [0], None, [256], [0, 256])\n",
        "plt.bar(intensity_values, hist[:, 0], width=5)\n",
        "plt.title(\"Bar histogram\")\n",
        "plt.show()"
      ]
    },
    {
      "cell_type": "markdown",
      "metadata": {
        "id": "skmRJ3cFABOh"
      },
      "source": [
        "The cameraman corresponds to the darker pixels, therefore we can set the Threshold in such a way as to segment the cameraman. In this case, it looks to be slightly less than 90, let’s give it a try:\n"
      ]
    },
    {
      "cell_type": "code",
      "execution_count": null,
      "metadata": {
        "id": "326haFaQABOh"
      },
      "outputs": [],
      "source": [
        "threshold = 87\n",
        "max_value = 255\n",
        "min_value = 0\n",
        "new_image = thresholding(image, threshold=threshold, max_value=max_value, min_value=min_value)"
      ]
    },
    {
      "cell_type": "markdown",
      "metadata": {
        "id": "lGHpYmKMABOh"
      },
      "source": [
        "We see the pixels corresponding to the cameraman are now zero and the rest are set to 255:\n"
      ]
    },
    {
      "cell_type": "code",
      "execution_count": null,
      "metadata": {
        "id": "UmnNiVZuABOi"
      },
      "outputs": [],
      "source": [
        "plot_image(image, new_image, \"Orignal\", \"Image After Thresholding\")"
      ]
    },
    {
      "cell_type": "code",
      "execution_count": null,
      "metadata": {
        "id": "S7XULtlvABOi"
      },
      "outputs": [],
      "source": [
        "plt.figure(figsize=(10,5))\n",
        "plot_hist(image, new_image, \"Orignal\", \"Image After Thresholding\")"
      ]
    },
    {
      "cell_type": "markdown",
      "metadata": {
        "id": "GBJa2QpvABOi"
      },
      "source": [
        "The function <code>cv.threshold</code> Applies a threshold to the gray image, with the following parameters:\n"
      ]
    },
    {
      "cell_type": "markdown",
      "metadata": {
        "id": "WNsEsQuCABOj"
      },
      "source": [
        "<code>cv.threshold(grayscale image, threshold value, maximum value to use, thresholding type )</code>\n"
      ]
    },
    {
      "cell_type": "markdown",
      "metadata": {
        "id": "HthnB0klABOj"
      },
      "source": [
        "The  parameter thresholding type is the type of thresholding we would like to perform. For example, we have basic thresholding: <code>cv2.THRESH_BINARY</code> this is the type we implemented in the function <code>thresholding</code>, it just a number:\n"
      ]
    },
    {
      "cell_type": "code",
      "execution_count": null,
      "metadata": {
        "id": "eeoq6ROdABOk"
      },
      "outputs": [],
      "source": [
        "cv2.THRESH_BINARY"
      ]
    },
    {
      "cell_type": "markdown",
      "metadata": {
        "id": "HFfLopX-ABOk"
      },
      "source": [
        "We can apply thresholding to the image as follows:\n"
      ]
    },
    {
      "cell_type": "code",
      "execution_count": null,
      "metadata": {
        "id": "0Wra2lAgABOl"
      },
      "outputs": [],
      "source": [
        "ret, new_image = cv2.threshold(image,threshold,max_value,cv2.THRESH_BINARY)\n",
        "plot_image(image,new_image,\"Orignal\",\"Image After Thresholding\")\n",
        "plot_hist(image, new_image,\"Orignal\",\"Image After Thresholding\")"
      ]
    },
    {
      "cell_type": "markdown",
      "metadata": {
        "id": "XgG8bvOhABOl"
      },
      "source": [
        "<code>ret</code> is the threshold value and <code>new_image</code> is the image after thresholding has been applied. There are different threshold types, for example, cv2.THRESH_TRUNC will not change the values if the pixels are less than the threshold value:\n"
      ]
    },
    {
      "cell_type": "code",
      "execution_count": null,
      "metadata": {
        "id": "EDiIHnWaABOl"
      },
      "outputs": [],
      "source": [
        "ret, new_image = cv2.threshold(image,86,255,cv2.THRESH_TRUNC)\n",
        "plot_image(image,new_image,\"Orignal\",\"Image After Thresholding\")\n",
        "plot_hist(image, new_image,\"Orignal\",\"Image After Thresholding\")"
      ]
    },
    {
      "cell_type": "markdown",
      "metadata": {
        "id": "eClWUmvzABOl"
      },
      "source": [
        "We see that the darker elements have not changed and the lighter values are set to 255.\n"
      ]
    },
    {
      "cell_type": "markdown",
      "metadata": {
        "id": "9FhthbGvABOl"
      },
      "source": [
        " Otsu's method <code>cv2.THRESH_OTSU</code> avoids having to choose a value and determines it automatically, using the histogram.\n"
      ]
    },
    {
      "cell_type": "code",
      "execution_count": null,
      "metadata": {
        "id": "kYUk62y8ABOl"
      },
      "outputs": [],
      "source": [
        "ret, otsu = cv2.threshold(image,0,255,cv2.THRESH_OTSU)\n",
        "plot_image(image,otsu,\"Orignal\",\"Otsu\")\n",
        "plot_hist(image, otsu,\"Orignal\",\" Otsu's method\")"
      ]
    },
    {
      "cell_type": "markdown",
      "metadata": {
        "id": "0dtehGNsABOm"
      },
      "source": [
        "We assign the first row of pixels of the original array to the new array's last row. We repeat the process for every row, incrementing the row number for the original array and decreasing the new array's row index assigning the pixels accordingly.\n"
      ]
    },
    {
      "cell_type": "code",
      "execution_count": null,
      "metadata": {
        "id": "iFxi-CZzABOm"
      },
      "outputs": [],
      "source": [
        "ret"
      ]
    }
  ],
  "metadata": {
    "kernelspec": {
      "display_name": "Python",
      "language": "python",
      "name": "conda-env-python-py"
    },
    "language_info": {
      "name": ""
    },
    "colab": {
      "provenance": []
    }
  },
  "nbformat": 4,
  "nbformat_minor": 0
}