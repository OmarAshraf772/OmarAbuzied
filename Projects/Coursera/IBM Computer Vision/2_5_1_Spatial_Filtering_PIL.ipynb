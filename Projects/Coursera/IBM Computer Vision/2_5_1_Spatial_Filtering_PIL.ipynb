{
  "cells": [
    {
      "cell_type": "markdown",
      "metadata": {
        "id": "yFN5IPZgAQoZ"
      },
      "source": [
        "<p style=\"text-align:center\">\n",
        "    <a href=\"https://skills.network/?utm_medium=Exinfluencer&utm_source=Exinfluencer&utm_content=000026UJ&utm_term=10006555&utm_id=NA-SkillsNetwork-Channel-SkillsNetworkCoursesIBMDeveloperSkillsNetworkCV0101ENCoursera872-2022-01-01\" target=\"_blank\">\n",
        "    <img src=\"https://cf-courses-data.s3.us.cloud-object-storage.appdomain.cloud/assets/logos/SN_web_lightmode.png\" width=\"200\" alt=\"Skills Network Logo\"  />\n",
        "    </a>\n",
        "</p>\n"
      ]
    },
    {
      "cell_type": "markdown",
      "metadata": {
        "id": "0nrwFHnlAQod"
      },
      "source": [
        "<h1> Geometric Operations and Other Mathematical Tools with Pillow</h1>\n"
      ]
    },
    {
      "cell_type": "markdown",
      "metadata": {
        "id": "vxfgocn1AQoe"
      },
      "source": [
        "Estimated time needed: **40** minutes\n"
      ]
    },
    {
      "cell_type": "markdown",
      "metadata": {
        "id": "duNspFwiAQog"
      },
      "source": [
        "<h2> Spatial Operations in Image Processing</h2>\n"
      ]
    },
    {
      "cell_type": "markdown",
      "metadata": {
        "id": "5Je_y5mdAQoh"
      },
      "source": [
        "Spatial operations use  pixels in a neighborhood to determine the present pixel value. Some applications include filtering and sharpening. They are used in many steps in computer vision, such as segmentation, and are a key building block in Artificial Intelligence algorithms.\n"
      ]
    },
    {
      "cell_type": "markdown",
      "metadata": {
        "id": "7_IrsJy_AQoi"
      },
      "source": [
        "- Linear Filtering\n",
        "    - Filtering Noise\n",
        "    - Gaussian Blur\n",
        "    - Image Sharpening\n",
        "- Edges\n",
        "- Median\n"
      ]
    },
    {
      "cell_type": "markdown",
      "metadata": {
        "id": "uWaiwHKbAQoi"
      },
      "source": [
        "* * *\n"
      ]
    },
    {
      "cell_type": "markdown",
      "metadata": {
        "id": "-gaNaRcVAQoj"
      },
      "source": [
        "Download the images for the lab\n"
      ]
    },
    {
      "cell_type": "code",
      "execution_count": null,
      "metadata": {
        "id": "HfY01IXkAQoj"
      },
      "outputs": [],
      "source": [
        "!wget https://cf-courses-data.s3.us.cloud-object-storage.appdomain.cloud/IBMDeveloperSkillsNetwork-CV0101EN-SkillsNetwork/images%20/images_part_1/cameraman.jpeg\n",
        "!wget https://cf-courses-data.s3.us.cloud-object-storage.appdomain.cloud/IBMDeveloperSkillsNetwork-CV0101EN-SkillsNetwork/images%20/images_part_1/lenna.png\n",
        "!wget https://cf-courses-data.s3.us.cloud-object-storage.appdomain.cloud/IBMDeveloperSkillsNetwork-CV0101EN-SkillsNetwork/images%20/images_part_1/barbara.png"
      ]
    },
    {
      "cell_type": "markdown",
      "metadata": {
        "id": "2grMwnnIAQok"
      },
      "source": [
        "We will import the following libraries\n"
      ]
    },
    {
      "cell_type": "code",
      "execution_count": null,
      "metadata": {
        "id": "vBTVZAlIAQol"
      },
      "outputs": [],
      "source": [
        "# Used to view the images\n",
        "import matplotlib.pyplot as plt\n",
        "# Used to load an image\n",
        "from PIL import Image\n",
        "# Used to create kernels for filtering\n",
        "import numpy as np"
      ]
    },
    {
      "cell_type": "markdown",
      "metadata": {
        "id": "kPsiWadoAQom"
      },
      "source": [
        "This function will plot two images side by side\n"
      ]
    },
    {
      "cell_type": "code",
      "execution_count": null,
      "metadata": {
        "id": "rT6Vd6DQAQon"
      },
      "outputs": [],
      "source": [
        "def plot_image(image_1, image_2,title_1=\"Orignal\",title_2=\"New Image\"):\n",
        "    plt.figure(figsize=(10,10))\n",
        "    plt.subplot(1, 2, 1)\n",
        "    plt.imshow(image_1)\n",
        "    plt.title(title_1)\n",
        "    plt.subplot(1, 2, 2)\n",
        "    plt.imshow(image_2)\n",
        "    plt.title(title_2)\n",
        "    plt.show()"
      ]
    },
    {
      "cell_type": "markdown",
      "metadata": {
        "id": "Y6ShYH3OAQon"
      },
      "source": [
        "Spatial operations use the neighboring pixels to determine the present pixel value\n"
      ]
    },
    {
      "cell_type": "markdown",
      "metadata": {
        "id": "n7Zmy_nrAQoo"
      },
      "source": [
        "## Linear  Filtering\n"
      ]
    },
    {
      "cell_type": "markdown",
      "metadata": {
        "id": "p_dH4RPsAQoo"
      },
      "source": [
        "Filtering involves enhancing an image, for example, removing the noise from an image. Noise can be caused by a bad camera or bad image compression. The same factors that cause noise may lead to blurry images. We can apply filters to sharpen these images. Convolution is a standard way to filter an image. The filter is called the kernel and different kernels perform different tasks. In addition, Convolution is used for many of the most advanced artificial intelligence algorithms. We simply take the dot product of the kernel and an equally-sized portion of the image. We then shift the kernel and repeat.\n"
      ]
    },
    {
      "cell_type": "markdown",
      "metadata": {
        "id": "pspEly4iAQoo"
      },
      "source": [
        "Consider the following image:\n"
      ]
    },
    {
      "cell_type": "code",
      "execution_count": null,
      "metadata": {
        "id": "6SKeI7uNAQop"
      },
      "outputs": [],
      "source": [
        "# Loads the image from the specified file\n",
        "image = Image.open(\"lenna.png\")\n",
        "# Renders the image\n",
        "plt.figure(figsize=(5,5))\n",
        "plt.imshow(image)\n",
        "plt.show()"
      ]
    },
    {
      "cell_type": "markdown",
      "metadata": {
        "id": "2uyeWGuyAQop"
      },
      "source": [
        "The images we are working with are comprised of RGB values, which are values from 0 to 255. Zero means white noise, this makes the image look grainy:\n"
      ]
    },
    {
      "cell_type": "code",
      "execution_count": null,
      "metadata": {
        "id": "RGGR4p3aAQoq"
      },
      "outputs": [],
      "source": [
        "# Get the number of rows and columns in the image\n",
        "rows, cols = image.size\n",
        "# Creates values using a normal distribution with a mean of 0 and standard deviation of 15, the values are converted to unit8 which means the values are between 0 and 255\n",
        "noise = np.random.normal(0,15,(rows,cols,3)).astype(np.uint8)\n",
        "# Add the noise to the image\n",
        "noisy_image = image + noise\n",
        "# Creates a PIL Image from an array\n",
        "noisy_image = Image.fromarray(noisy_image)\n",
        "# Plots the original image and the image with noise using the function defined at the top\n",
        "plot_image(image, noisy_image, title_1=\"Orignal\", title_2=\"Image Plus Noise\")"
      ]
    },
    {
      "cell_type": "markdown",
      "metadata": {
        "id": "28DrpgGKAQoq"
      },
      "source": [
        "When adding noise to an image sometimes the value might be greater than 255, in this case 256, is subtracted from the value to wrap the number around keeping it between 0 and 255. For example, consider an image with an RGB value of 137 and we add noise with an RGB value of 215 to get an RGB value of 352. We then subtract 256, the total number of possible values between 0 and 255, to get a number between 0 and 255.\n"
      ]
    },
    {
      "cell_type": "markdown",
      "metadata": {
        "id": "tPE_JDn9AQor"
      },
      "source": [
        "### Filtering Noise\n"
      ]
    },
    {
      "cell_type": "markdown",
      "metadata": {
        "id": "pD6QiNAZAQor"
      },
      "source": [
        "To be able to create customer kernels and use predefined filters we must import the following library\n"
      ]
    },
    {
      "cell_type": "code",
      "execution_count": null,
      "metadata": {
        "id": "c_hGIWtwAQos"
      },
      "outputs": [],
      "source": [
        "from PIL import ImageFilter"
      ]
    },
    {
      "cell_type": "markdown",
      "metadata": {
        "id": "OfP74nICAQot"
      },
      "source": [
        "Smoothing filters average out the Pixels within a neighborhood, they are sometimes called low pass filters. For mean filtering, the  kernel simply averages out the kernels in a neighborhood.\n"
      ]
    },
    {
      "cell_type": "code",
      "execution_count": null,
      "metadata": {
        "id": "9TDZufF2AQot"
      },
      "outputs": [],
      "source": [
        "# Create a kernel which is a 5 by 5 array where each value is 1/36\n",
        "kernel = np.ones((5,5))/36\n",
        "# Create a ImageFilter Kernel by providing the kernel size and a flattened kernel\n",
        "kernel_filter = ImageFilter.Kernel((5,5), kernel.flatten())"
      ]
    },
    {
      "cell_type": "markdown",
      "metadata": {
        "id": "ZK0rVj62AQou"
      },
      "source": [
        "The function <code>filter</code> performs a convolution between the image and the kernel on each color channel independently.\n"
      ]
    },
    {
      "cell_type": "code",
      "execution_count": null,
      "metadata": {
        "id": "XRte_wamAQou"
      },
      "outputs": [],
      "source": [
        "# Filters the images using the kernel\n",
        "image_filtered = noisy_image.filter(kernel_filter)"
      ]
    },
    {
      "cell_type": "markdown",
      "metadata": {
        "id": "nUoW2Wp_AQov"
      },
      "source": [
        "We can plot the image before and after the filtering. We see the noise is reduced, but the image is blurry:\n"
      ]
    },
    {
      "cell_type": "code",
      "execution_count": null,
      "metadata": {
        "id": "4QlMcxEzAQow"
      },
      "outputs": [],
      "source": [
        "# Plots the Filtered and Image with Noise using the function defined at the top\n",
        "plot_image(image_filtered, noisy_image,title_1=\"Filtered image\",title_2=\"Image Plus Noise\")"
      ]
    },
    {
      "cell_type": "markdown",
      "metadata": {
        "id": "YY16dT8aAQow"
      },
      "source": [
        "A smaller kernel keeps the image sharp, but filters less noise, here we try a 3x3 kernel. You can see her shoulders are sharper in this image but the green noise is brighter than the filtered image above.\n"
      ]
    },
    {
      "cell_type": "code",
      "execution_count": null,
      "metadata": {
        "id": "FB0BYVFwAQow"
      },
      "outputs": [],
      "source": [
        "# Create a kernel which is a 3 by 3 array where each value is 1/36\n",
        "kernel = np.ones((3,3))/36\n",
        "# Create a ImageFilter Kernel by providing the kernel size and a flattened kernel\n",
        "kernel_filter = ImageFilter.Kernel((3,3), kernel.flatten())\n",
        "# Filters the images using the kernel\n",
        "image_filtered = noisy_image.filter(kernel_filter)\n",
        "# Plots the Filtered and Image with Noise using the function defined at the top\n",
        "plot_image(image_filtered, noisy_image,title_1=\"Filtered image\",title_2=\"Image Plus Noise\")"
      ]
    },
    {
      "cell_type": "markdown",
      "metadata": {
        "id": "1HsTTqmmAQow"
      },
      "source": [
        "### Gaussian Blur\n"
      ]
    },
    {
      "cell_type": "markdown",
      "metadata": {
        "id": "lWodPDT-AQox"
      },
      "source": [
        "To perform Gaussian Blur we use the `filter` function on an image using the predefined filter `ImageFilter.GaussianBlur`\n"
      ]
    },
    {
      "cell_type": "markdown",
      "metadata": {
        "id": "HxQbwvGcAQox"
      },
      "source": [
        "Parameters\n",
        "\n",
        "<p><code>radius</code>: blur kernel radius, default 2</p>\n"
      ]
    },
    {
      "cell_type": "code",
      "execution_count": null,
      "metadata": {
        "id": "hGWsXbuhAQox"
      },
      "outputs": [],
      "source": [
        "# Filters the images using GaussianBlur\n",
        "image_filtered = noisy_image.filter(ImageFilter.GaussianBlur)\n",
        "# Plots the Filtered Image then the Unfiltered Image with Noise\n",
        "plot_image(image_filtered , noisy_image,title_1=\"Filtered image\",title_2=\"Image Plus Noise\")"
      ]
    },
    {
      "cell_type": "markdown",
      "metadata": {
        "id": "Qgdg_383AQox"
      },
      "source": [
        "Lets try using a 4 by 4 kernel\n"
      ]
    },
    {
      "cell_type": "code",
      "execution_count": null,
      "metadata": {
        "id": "GTQBmwj7AQox"
      },
      "outputs": [],
      "source": [
        "# Filters the images using GaussianBlur on the image with noise using a 4 by 4 kernel\n",
        "image_filtered = noisy_image.filter(ImageFilter.GaussianBlur(4))\n",
        "# Plots the Filtered Image then the Unfiltered Image with Noise\n",
        "plot_image(image_filtered , noisy_image,title_1=\"Filtered image\",title_2=\"Image Plus Noise\")"
      ]
    },
    {
      "cell_type": "markdown",
      "metadata": {
        "id": "sx82TQgPAQox"
      },
      "source": [
        "### Image Sharpening\n"
      ]
    },
    {
      "cell_type": "markdown",
      "metadata": {
        "id": "fgNS_VDvAQox"
      },
      "source": [
        "Image Sharpening involves smoothing the image and calculating the derivatives.  We can accomplish image sharpening by applying the following Kernel.\n"
      ]
    },
    {
      "cell_type": "code",
      "execution_count": null,
      "metadata": {
        "id": "kP_isE58AQox"
      },
      "outputs": [],
      "source": [
        "# Common Kernel for image sharpening\n",
        "kernel = np.array([[-1,-1,-1],\n",
        "                   [-1, 9,-1],\n",
        "                   [-1,-1,-1]])\n",
        "kernel = ImageFilter.Kernel((3,3), kernel.flatten())\n",
        "# Applys the sharpening filter using kernel on the original image without noise\n",
        "sharpened = image.filter(kernel)\n",
        "# Plots the sharpened image and the original image without noise\n",
        "plot_image(sharpened , image, title_1=\"Sharpened image\",title_2=\"Image\")"
      ]
    },
    {
      "cell_type": "markdown",
      "metadata": {
        "id": "aqSExe70AQox"
      },
      "source": [
        "We can also sharpen using a predefined filter\n"
      ]
    },
    {
      "cell_type": "code",
      "execution_count": null,
      "metadata": {
        "id": "3L7elmHOAQoz"
      },
      "outputs": [],
      "source": [
        "# Sharpends image using predefined image filter from PIL\n",
        "sharpened = image.filter(ImageFilter.SHARPEN)\n",
        "# Plots the sharpened image and the original image without noise\n",
        "plot_image(sharpened , image, title_1=\"Sharpened image\",title_2=\"Image\")"
      ]
    },
    {
      "cell_type": "markdown",
      "metadata": {
        "id": "nnDSZt8gAQoz"
      },
      "source": [
        "## Edges\n"
      ]
    },
    {
      "cell_type": "markdown",
      "metadata": {
        "id": "Ls3R8ze0AQoz"
      },
      "source": [
        "Edges are where pixel intensities change. The Gradient of a function outputs the rate of change; we can approximate the gradient of a grayscale image with convolution. Consider the following image:\n"
      ]
    },
    {
      "cell_type": "code",
      "execution_count": null,
      "metadata": {
        "id": "zbOOghEFAQoz"
      },
      "outputs": [],
      "source": [
        "# Loads the image from the specified file\n",
        "img_gray = Image.open('barbara.png')\n",
        "# Renders the image from the array of data, notice how it is 2 diemensional instead of 3 diemensional because it has no color\n",
        "plt.imshow(img_gray ,cmap='gray')"
      ]
    },
    {
      "cell_type": "markdown",
      "metadata": {
        "id": "TjADzKDUAQoz"
      },
      "source": [
        "We enhance the edges so they are better picked up when we use edge detection\n"
      ]
    },
    {
      "cell_type": "code",
      "execution_count": null,
      "metadata": {
        "id": "Rt0KxZK_AQoz"
      },
      "outputs": [],
      "source": [
        "# Filters the images using EDGE_ENHANCE filter\n",
        "img_gray = img_gray.filter(ImageFilter.EDGE_ENHANCE)\n",
        "# Renders the enhanced image\n",
        "plt.imshow(img_gray ,cmap='gray')"
      ]
    },
    {
      "cell_type": "code",
      "execution_count": null,
      "metadata": {
        "id": "Gfc7HLX6AQoz"
      },
      "outputs": [],
      "source": [
        "# Filters the images using FIND_EDGES filter\n",
        "img_gray = img_gray.filter(ImageFilter.FIND_EDGES)\n",
        "# Renders the filtered image\n",
        "plt.figure(figsize=(10,10))\n",
        "plt.imshow(img_gray ,cmap='gray')"
      ]
    },
    {
      "cell_type": "markdown",
      "metadata": {
        "id": "rbYjr-BfAQo0"
      },
      "source": [
        "## Median\n",
        "\n",
        "Median filters find the median of all the pixels under the kernel area and the central element is replaced with this median value.\n"
      ]
    },
    {
      "cell_type": "markdown",
      "metadata": {
        "id": "TxHWR3VgAQo0"
      },
      "source": [
        "We can apply median filters to regular images but let’s see how we can use a median filter to improve segmentation. Consider the cameraman example:\n"
      ]
    },
    {
      "cell_type": "code",
      "execution_count": null,
      "metadata": {
        "id": "Lk0JurK3AQo0"
      },
      "outputs": [],
      "source": [
        "# Load the camera man image\n",
        "image = Image.open(\"cameraman.jpeg\")\n",
        "# Make the image larger when it renders\n",
        "plt.figure(figsize=(10,10))\n",
        "# Renders the image\n",
        "plt.imshow(image,cmap=\"gray\")"
      ]
    },
    {
      "cell_type": "markdown",
      "metadata": {
        "id": "uk6OIlaQAQo0"
      },
      "source": [
        "Median filtering blurs the background, increasing the segmentation between the cameraman and the background\n"
      ]
    },
    {
      "cell_type": "code",
      "execution_count": null,
      "metadata": {
        "id": "omM2MB4fAQo1"
      },
      "outputs": [],
      "source": [
        "image = image.filter(ImageFilter.MedianFilter)\n",
        "plt.figure(figsize=(10,10))\n",
        "# Renders the image\n",
        "plt.imshow(image,cmap=\"gray\")"
      ]
    }
  ],
  "metadata": {
    "kernelspec": {
      "display_name": "Python",
      "language": "python",
      "name": "conda-env-python-py"
    },
    "language_info": {
      "name": ""
    },
    "colab": {
      "provenance": []
    }
  },
  "nbformat": 4,
  "nbformat_minor": 0
}