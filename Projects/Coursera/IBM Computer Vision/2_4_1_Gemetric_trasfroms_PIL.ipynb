{
  "cells": [
    {
      "cell_type": "markdown",
      "metadata": {
        "id": "KQSfoMwxADIm"
      },
      "source": [
        "<p style=\"text-align:center\">\n",
        "    <a href=\"https://skills.network/?utm_medium=Exinfluencer&utm_source=Exinfluencer&utm_content=000026UJ&utm_term=10006555&utm_id=NA-SkillsNetwork-Channel-SkillsNetworkCoursesIBMDeveloperSkillsNetworkCV0101ENCoursera872-2022-01-01\" target=\"_blank\">\n",
        "    <img src=\"https://cf-courses-data.s3.us.cloud-object-storage.appdomain.cloud/assets/logos/SN_web_lightmode.png\" width=\"200\" alt=\"Skills Network Logo\"  />\n",
        "    </a>\n",
        "</p>\n"
      ]
    },
    {
      "cell_type": "markdown",
      "metadata": {
        "id": "1Ci81qDxADIq"
      },
      "source": [
        "<h1> Geometric Operations and Other Mathematical Tools</h1>\n"
      ]
    },
    {
      "cell_type": "markdown",
      "metadata": {
        "id": "iJlOc_G_ADIq"
      },
      "source": [
        "Estimated time needed: **40** minutes\n"
      ]
    },
    {
      "cell_type": "markdown",
      "metadata": {
        "id": "TP3VCUpaADIr"
      },
      "source": [
        "<h2>Objectives</h2>\n"
      ]
    },
    {
      "cell_type": "markdown",
      "metadata": {
        "id": "LixBZF90ADIr"
      },
      "source": [
        "In the first part of the lab, you will apply geometric transformations to an image. This allows you to perform different operations like reshape translation, i.e. to shift, reshape and rotate the image. In the second part of the lab, you will learn how to apply some basic array and matrix operations to the image.\n"
      ]
    },
    {
      "cell_type": "markdown",
      "metadata": {
        "id": "p6j8z1deADIs"
      },
      "source": [
        "<ul>\n",
        "    <li><a href='#PT'> Geometric Operations  </a>\n",
        "        <ul>\n",
        "            <li>Scaling</li>\n",
        "            <li>Translation</li>\n",
        "            <li>Rotation</li>   \n",
        "          </ul>\n",
        "        <li><a href='#PT'>  Mathematical Operations   </a>\n",
        "        <ul>\n",
        "            <li>Array Operations  </li>\n",
        "            <li>Matix Operations n</li>\n",
        "          </ul>\n",
        "\n",
        "\n",
        "</ul>\n"
      ]
    },
    {
      "cell_type": "markdown",
      "metadata": {
        "id": "4yLA8THDADIs"
      },
      "source": [
        "----\n"
      ]
    },
    {
      "cell_type": "markdown",
      "metadata": {
        "id": "7uQV8dmrADIt"
      },
      "source": [
        "Download the image for the lab:\n"
      ]
    },
    {
      "cell_type": "code",
      "execution_count": null,
      "metadata": {
        "id": "-hfHT1e0ADIu"
      },
      "outputs": [],
      "source": [
        "!wget https://cf-courses-data.s3.us.cloud-object-storage.appdomain.cloud/IBMDeveloperSkillsNetwork-CV0101EN-SkillsNetwork/images%20/images_part_1/lenna.png -O lenna.png\n",
        "!wget https://cf-courses-data.s3.us.cloud-object-storage.appdomain.cloud/IBMDeveloperSkillsNetwork-CV0101EN-SkillsNetwork/images%20/images_part_1/baboon.png -O baboon.png\n",
        "!wget https://cf-courses-data.s3.us.cloud-object-storage.appdomain.cloud/IBMDeveloperSkillsNetwork-CV0101EN-SkillsNetwork/images%20/images_part_1/barbara.png -O barbara.png"
      ]
    },
    {
      "cell_type": "markdown",
      "metadata": {
        "id": "JdXIy9QzADIu"
      },
      "source": [
        "We will be using the following imported functions in this lab:\n"
      ]
    },
    {
      "cell_type": "code",
      "execution_count": null,
      "metadata": {
        "id": "SNTlAH_qADIv"
      },
      "outputs": [],
      "source": [
        "import matplotlib.pyplot as plt\n",
        "from PIL import Image\n",
        "import numpy as np"
      ]
    },
    {
      "cell_type": "markdown",
      "metadata": {
        "id": "76yA7JxaADIw"
      },
      "source": [
        "First, let's define a helper function to plot two images side-by-side. You will not need to understand this code this moment, but this function will be used repeatedly in this tutorial to showcase the results.\n"
      ]
    },
    {
      "cell_type": "code",
      "execution_count": null,
      "metadata": {
        "id": "fTDNPx-RADIw"
      },
      "outputs": [],
      "source": [
        "def plot_image(image_1, image_2,title_1=\"Orignal\",title_2=\"New Image\"):\n",
        "    plt.figure(figsize=(10,10))\n",
        "    plt.subplot(1, 2, 1)\n",
        "    plt.imshow(image_1,cmap=\"gray\")\n",
        "    plt.title(title_1)\n",
        "    plt.subplot(1, 2, 2)\n",
        "    plt.imshow(image_2,cmap=\"gray\")\n",
        "    plt.title(title_2)\n",
        "    plt.show()"
      ]
    },
    {
      "cell_type": "markdown",
      "metadata": {
        "id": "1JzgiMqPADIw"
      },
      "source": [
        "#  Geometric Transformations\n"
      ]
    },
    {
      "cell_type": "markdown",
      "metadata": {
        "id": "in-hQAXvADIw"
      },
      "source": [
        " Geometric transformations allow you to perform different operations like translation, i.e. to shift, reshape and rotate the image.\n"
      ]
    },
    {
      "cell_type": "markdown",
      "metadata": {
        "id": "M3KemuayADIx"
      },
      "source": [
        "We can resize an image using the method  <code>resize()</code> of <code>PIL</code> images, which takes the resized image's <code>width</code> and <code>height</code> as paramters.\n",
        "\n",
        "Consider the following image:\n"
      ]
    },
    {
      "cell_type": "code",
      "execution_count": null,
      "metadata": {
        "id": "_zLWdcihADIx"
      },
      "outputs": [],
      "source": [
        "image = Image.open(\"lenna.png\")\n",
        "plt.imshow(image)\n",
        "plt.show()"
      ]
    },
    {
      "cell_type": "markdown",
      "metadata": {
        "id": "NDxhTjIDADIx"
      },
      "source": [
        "We can scale the horizontal axis by two and leave the vertical axis as is:\n"
      ]
    },
    {
      "cell_type": "code",
      "execution_count": null,
      "metadata": {
        "id": "q7ARx8_QADIx"
      },
      "outputs": [],
      "source": [
        "width, height = image.size\n",
        "new_width = 2 * width\n",
        "new_hight = height\n",
        "new_image = image.resize((new_width, new_hight))\n",
        "plt.imshow(new_image)\n",
        "plt.show()"
      ]
    },
    {
      "cell_type": "markdown",
      "metadata": {
        "id": "ujTp6nlFADIy"
      },
      "source": [
        "In the same manner, we can scale the vertical axis by two:\n"
      ]
    },
    {
      "cell_type": "code",
      "execution_count": null,
      "metadata": {
        "id": "VPN23SaDADIz"
      },
      "outputs": [],
      "source": [
        "new_width = width\n",
        "new_hight = 2 * height\n",
        "new_image = image.resize((new_width, new_hight))\n",
        "plt.imshow(new_image)\n",
        "plt.show()"
      ]
    },
    {
      "cell_type": "markdown",
      "metadata": {
        "id": "V6wQp4dZADIz"
      },
      "source": [
        "We can double both the width and the height of the image:\n"
      ]
    },
    {
      "cell_type": "code",
      "execution_count": null,
      "metadata": {
        "id": "JcCpalSaADIz"
      },
      "outputs": [],
      "source": [
        "new_width = 2 * width\n",
        "new_hight = 2 * height\n",
        "new_image = image.resize((new_width, new_hight))\n",
        "plt.imshow(new_image)\n",
        "plt.show()"
      ]
    },
    {
      "cell_type": "markdown",
      "metadata": {
        "id": "gPZzg8qkADIz"
      },
      "source": [
        "We can also shrink the image's width and height both by 1/2:\n"
      ]
    },
    {
      "cell_type": "code",
      "execution_count": null,
      "metadata": {
        "id": "PjF80BW1ADIz"
      },
      "outputs": [],
      "source": [
        "new_width = width // 2\n",
        "new_hight = height // 2\n",
        "\n",
        "new_image = image.resize((new_width, new_hight))\n",
        "plt.imshow(new_image)\n",
        "plt.show()"
      ]
    },
    {
      "cell_type": "markdown",
      "metadata": {
        "id": "gG3KTVRxADI0"
      },
      "source": [
        "## Rotation\n"
      ]
    },
    {
      "cell_type": "markdown",
      "metadata": {
        "id": "KqNrJscFADI0"
      },
      "source": [
        "We can rotate an image by angle $\\theta$, using the method `rotate`.\n"
      ]
    },
    {
      "cell_type": "markdown",
      "metadata": {
        "id": "7_wNEAJAADI0"
      },
      "source": [
        "We can rotate our toy image by 45 degrees:\n"
      ]
    },
    {
      "cell_type": "code",
      "execution_count": null,
      "metadata": {
        "id": "_oQsoYDTADI0"
      },
      "outputs": [],
      "source": [
        "theta = 45\n",
        "new_image = image.rotate(theta)"
      ]
    },
    {
      "cell_type": "code",
      "execution_count": null,
      "metadata": {
        "id": "NGjXlmfTADI1"
      },
      "outputs": [],
      "source": [
        "plt.imshow(new_image)\n",
        "plt.show()"
      ]
    },
    {
      "cell_type": "markdown",
      "metadata": {
        "id": "CwiwkaxEADI1"
      },
      "source": [
        "# Mathematical Operations\n"
      ]
    },
    {
      "cell_type": "markdown",
      "metadata": {
        "id": "6w5maZr2ADI1"
      },
      "source": [
        "## Array Operations\n"
      ]
    },
    {
      "cell_type": "markdown",
      "metadata": {
        "id": "SGU-oRqqADI1"
      },
      "source": [
        "We can perform array operations on an image; Using Python broadcasting, we can add a constant to each pixel's intensity value.\n",
        "\n",
        "Before doing that, we must first we convert the PIL image to a numpy array.\n"
      ]
    },
    {
      "cell_type": "code",
      "execution_count": null,
      "metadata": {
        "id": "S11iFBpUADI1"
      },
      "outputs": [],
      "source": [
        "image = np.array(image)"
      ]
    },
    {
      "cell_type": "markdown",
      "metadata": {
        "id": "won2EOboADI2"
      },
      "source": [
        "We can then add the constant to the image array:\n"
      ]
    },
    {
      "cell_type": "code",
      "execution_count": null,
      "metadata": {
        "id": "parb2BvuADI2"
      },
      "outputs": [],
      "source": [
        "new_image = image + 20\n",
        "plt.imshow(new_image)\n",
        "plt.show()"
      ]
    },
    {
      "cell_type": "markdown",
      "metadata": {
        "id": "zgqgjubbADI2"
      },
      "source": [
        "We can also multiply every pixel's intensity value by a constant value.\n"
      ]
    },
    {
      "cell_type": "code",
      "execution_count": null,
      "metadata": {
        "id": "re0vyz_bADI2"
      },
      "outputs": [],
      "source": [
        "new_image = 10 * image\n",
        "plt.imshow(new_image)\n",
        "plt.show()"
      ]
    },
    {
      "cell_type": "markdown",
      "metadata": {
        "id": "vx7biAxaADI2"
      },
      "source": [
        "We can add the elements of two arrays of equal shape. In this example, we generate an array of random noises with the same shape and data type as our image.\n"
      ]
    },
    {
      "cell_type": "code",
      "execution_count": null,
      "metadata": {
        "id": "p8RBYrsWADI2"
      },
      "outputs": [],
      "source": [
        "Noise = np.random.normal(0, 20, (height, width, 3)).astype(np.uint8)\n",
        "Noise.shape"
      ]
    },
    {
      "cell_type": "markdown",
      "metadata": {
        "id": "BUEiyMWwADI2"
      },
      "source": [
        "We add the generated noise to the image and plot the result. We see the values that have corrupted the image:\n"
      ]
    },
    {
      "cell_type": "code",
      "execution_count": null,
      "metadata": {
        "id": "jvfg9oE1ADI3"
      },
      "outputs": [],
      "source": [
        "new_image = image + Noise\n",
        "\n",
        "plt.imshow(new_image)\n",
        "plt.show()"
      ]
    },
    {
      "cell_type": "markdown",
      "metadata": {
        "id": "AEUtfKksADI3"
      },
      "source": [
        "At the same time, we can multiply the elements of two arrays of equal shape. We can multiply the random image and the Lenna image and plot the result.\n"
      ]
    },
    {
      "cell_type": "code",
      "execution_count": null,
      "metadata": {
        "id": "4ZcCb_egADI3"
      },
      "outputs": [],
      "source": [
        "new_image = image*Noise\n",
        "\n",
        "plt.imshow(new_image)\n",
        "plt.show()"
      ]
    },
    {
      "cell_type": "markdown",
      "metadata": {
        "id": "t9WAQm0YADI3"
      },
      "source": [
        "## Matrix Operations\n"
      ]
    },
    {
      "cell_type": "markdown",
      "metadata": {
        "id": "yqZ-Ayn2ADI4"
      },
      "source": [
        "Grayscale images are matrices. Consider the following grayscale image:\n"
      ]
    },
    {
      "cell_type": "code",
      "execution_count": null,
      "metadata": {
        "id": "zht3AgpVADI4"
      },
      "outputs": [],
      "source": [
        "im_gray = Image.open(\"barbara.png\")"
      ]
    },
    {
      "cell_type": "markdown",
      "metadata": {
        "id": "1VTcBj7RADI4"
      },
      "source": [
        "Even though the image is gray, it has three channels; we can convert it to a one-channel image.\n"
      ]
    },
    {
      "cell_type": "code",
      "execution_count": null,
      "metadata": {
        "id": "ZR5u50BHADI4"
      },
      "outputs": [],
      "source": [
        "from PIL import ImageOps"
      ]
    },
    {
      "cell_type": "code",
      "execution_count": null,
      "metadata": {
        "id": "mxHJZ4W2ADI5"
      },
      "outputs": [],
      "source": [
        "im_gray = ImageOps.grayscale(im_gray)"
      ]
    },
    {
      "cell_type": "markdown",
      "metadata": {
        "id": "rLFVACtoADI5"
      },
      "source": [
        "We can convert the PIL image to a numpy array:\n"
      ]
    },
    {
      "cell_type": "code",
      "execution_count": null,
      "metadata": {
        "id": "0NJjfDt7ADI6"
      },
      "outputs": [],
      "source": [
        "im_gray = np.array(im_gray )"
      ]
    },
    {
      "cell_type": "code",
      "execution_count": null,
      "metadata": {
        "id": "HWnYg0X5ADI7"
      },
      "outputs": [],
      "source": [
        "plt.imshow(im_gray,cmap='gray')\n",
        "plt.show()"
      ]
    },
    {
      "cell_type": "markdown",
      "metadata": {
        "id": "sFDcX5nqADI7"
      },
      "source": [
        "We can apply algorithms designed for matrices.  We can use  Singular Value Decomposition, decomposing our image matrix into  a product of three matrices.\n"
      ]
    },
    {
      "cell_type": "code",
      "execution_count": null,
      "metadata": {
        "id": "WuwpW6IRADI7"
      },
      "outputs": [],
      "source": [
        "U, s, V = np.linalg.svd(im_gray , full_matrices=True)"
      ]
    },
    {
      "cell_type": "markdown",
      "metadata": {
        "id": "tIQhpE_JADI8"
      },
      "source": [
        "We see <code>s</code> is not rectangular:\n"
      ]
    },
    {
      "cell_type": "code",
      "execution_count": null,
      "metadata": {
        "id": "MU3-NBNGADI8"
      },
      "outputs": [],
      "source": [
        "s.shape"
      ]
    },
    {
      "cell_type": "markdown",
      "metadata": {
        "id": "tno5w9DfADI8"
      },
      "source": [
        "We can convert  <code>s</code> to a diagonal matrix <code>S</code>:\n"
      ]
    },
    {
      "cell_type": "code",
      "execution_count": null,
      "metadata": {
        "id": "ZADJpVM5ADI9"
      },
      "outputs": [],
      "source": [
        "S = np.zeros((im_gray.shape[0], im_gray.shape[1]))\n",
        "S[:image.shape[0], :image.shape[0]] = np.diag(s)"
      ]
    },
    {
      "cell_type": "markdown",
      "metadata": {
        "id": "-_JNSfBjADI9"
      },
      "source": [
        "We can plot the matrix U and V:\n"
      ]
    },
    {
      "cell_type": "code",
      "execution_count": null,
      "metadata": {
        "id": "6i_64RtZADI9"
      },
      "outputs": [],
      "source": [
        "plot_image(U, V, title_1=\"Matrix U\", title_2=\"Matrix V\")"
      ]
    },
    {
      "cell_type": "markdown",
      "metadata": {
        "id": "qyKOSgzAADI9"
      },
      "source": [
        "We see most of the elements in S are zero:\n"
      ]
    },
    {
      "cell_type": "code",
      "execution_count": null,
      "metadata": {
        "id": "nIIk5hkoADI-"
      },
      "outputs": [],
      "source": [
        "plt.imshow(S, cmap='gray')\n",
        "plt.show()"
      ]
    },
    {
      "cell_type": "markdown",
      "metadata": {
        "id": "6fwi-aI-ADI-"
      },
      "source": [
        "We can find the matrix product of all the  matrices. First, we can perform matrix multiplication on S and U and assign it to `B` and plot the results:\n"
      ]
    },
    {
      "cell_type": "code",
      "execution_count": null,
      "metadata": {
        "id": "yzY0uSdwADI-"
      },
      "outputs": [],
      "source": [
        "B = S.dot(V)\n",
        "plt.imshow(B,cmap='gray')\n",
        "plt.show()"
      ]
    },
    {
      "cell_type": "markdown",
      "metadata": {
        "id": "qtFDvpm-ADI-"
      },
      "source": [
        "We can find the matrix product of `U`, `S`, and `B`. We see it's the entire image:\n"
      ]
    },
    {
      "cell_type": "code",
      "execution_count": null,
      "metadata": {
        "id": "qCYxLV0qADI-"
      },
      "outputs": [],
      "source": [
        "A = U.dot(B)"
      ]
    },
    {
      "cell_type": "code",
      "execution_count": null,
      "metadata": {
        "id": "hUNZeC6JADI-"
      },
      "outputs": [],
      "source": [
        "plt.imshow(A,cmap='gray')\n",
        "plt.show()"
      ]
    },
    {
      "cell_type": "markdown",
      "metadata": {
        "id": "nVZEFAExADI-"
      },
      "source": [
        "It turns out that many elements are redundant. We can eliminate some rows and columns of S and V and approximate the image by finding the product:\n"
      ]
    },
    {
      "cell_type": "code",
      "execution_count": null,
      "metadata": {
        "id": "e9AQ36ZBADI-"
      },
      "outputs": [],
      "source": [
        "for n_component in [1,10,100,200, 500]:\n",
        "    S_new = S[:, :n_component]\n",
        "    V_new = V[:n_component, :]\n",
        "    A = U.dot(S_new.dot(V_new))\n",
        "    plt.imshow(A,cmap='gray')\n",
        "    plt.title(\"Number of Components:\"+str(n_component))\n",
        "    plt.show()"
      ]
    }
  ],
  "metadata": {
    "kernelspec": {
      "display_name": "Python",
      "language": "python",
      "name": "conda-env-python-py"
    },
    "language_info": {
      "name": ""
    },
    "colab": {
      "provenance": []
    }
  },
  "nbformat": 4,
  "nbformat_minor": 0
}