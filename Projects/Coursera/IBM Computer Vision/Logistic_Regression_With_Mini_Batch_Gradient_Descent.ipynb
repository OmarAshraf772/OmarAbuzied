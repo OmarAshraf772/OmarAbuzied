{
  "cells": [
    {
      "cell_type": "markdown",
      "metadata": {
        "id": "73650a3d-5f06-4713-a90b-0fcba4a91a9f"
      },
      "source": [
        "<p style=\"text-align:center\">\n",
        "    <a href=\"https://skills.network/?utm_medium=Exinfluencer&utm_source=Exinfluencer&utm_content=000026UJ&utm_term=10006555&utm_id=NA-SkillsNetwork-Channel-SkillsNetworkCoursesIBMDeveloperSkillsNetworkCV0101ENCoursera872-2023-01-01\">\n",
        "    <img src=\"https://cf-courses-data.s3.us.cloud-object-storage.appdomain.cloud/assets/logos/SN_web_lightmode.png\" width=\"200\" alt=\"Skills Network Logo\"  />\n",
        "    </a>\n",
        "</p>\n"
      ]
    },
    {
      "cell_type": "markdown",
      "metadata": {
        "id": "8759d682-b5d6-46ad-8bb4-c2823194450b"
      },
      "source": [
        "<h1>Logistic Regression With Mini-Batch Gradient Descent </h1>\n"
      ]
    },
    {
      "cell_type": "markdown",
      "metadata": {
        "id": "8d6d7061-ae64-4821-a442-699b37ef1cf1"
      },
      "source": [
        "<h2>Objective</h2>\n",
        "\n",
        "<ul>\n",
        "    <li>Represent your data as a Dataset object</li>\n",
        "    <li>Create a Logistic Regression Model using PyTorch</li>\n",
        "    <li>Set a Criterion to calculate Loss</li>\n",
        "    <li>Create a Data Loader and set the Batch Size</li>\n",
        "    <li>Create an Optimizer to update Model Parameters and set Learning Rate</li>\n",
        "    <li>Train a Model</li>\n",
        "</ul>\n"
      ]
    },
    {
      "cell_type": "markdown",
      "metadata": {
        "id": "76e2ee5f-cc71-4635-8eed-f5b67c1f655e"
      },
      "source": [
        "<h2>Table of Contents</h2>\n",
        "<p>In this lab, you will learn how to train a PyTorch Logistic Regression model using Mini-Batch Gradient Descent.</p>\n",
        "\n",
        "<ul>\n",
        "    <li>Load Data</li>\n",
        "    <li>Create the Model and Total Loss Function (Cost)</li>\n",
        "    <li>Setting the Batch Size using a Data Loader</li>\n",
        "    <li>Setting the Learning Rate</li>\n",
        "    <li>Train the Model via Mini-Batch Gradient Descent</li>\n",
        "    <li>Question</li>\n",
        "</ul>\n",
        "<p>Estimated Time Needed: <strong>30 min</strong></p>\n",
        "\n",
        "<hr>\n"
      ]
    },
    {
      "cell_type": "markdown",
      "metadata": {
        "id": "fe07883a-a3b8-486d-8374-4e3042c68efd"
      },
      "source": [
        "<h2>Preparation</h2>\n"
      ]
    },
    {
      "cell_type": "markdown",
      "metadata": {
        "id": "342dd641-3c9a-472a-8120-068a5bbc89ae"
      },
      "source": [
        "We'll need the following libraries:\n"
      ]
    },
    {
      "cell_type": "code",
      "metadata": {
        "id": "cc5f6312-65fa-4596-997f-99d9f8a656d6"
      },
      "outputs": [],
      "source": [
        "!pip3 install torch torchvision torchaudio"
      ],
      "execution_count": null
    },
    {
      "cell_type": "code",
      "metadata": {
        "id": "00198e51-1e75-49f6-bd10-15df5e771734"
      },
      "outputs": [],
      "source": [
        "# Import the libraries we need for this lab\n",
        "\n",
        "# Allows us to use arrays to manipulate and store data\n",
        "import numpy as np\n",
        "# Used to graph data and loss curves\n",
        "import matplotlib.pyplot as plt\n",
        "from mpl_toolkits import mplot3d\n",
        "# PyTorch Library\n",
        "import torch\n",
        "# Used to help create the dataset and perform mini-batch\n",
        "from torch.utils.data import Dataset, DataLoader\n",
        "# PyTorch Neural Network\n",
        "import torch.nn as nn"
      ],
      "execution_count": null
    },
    {
      "cell_type": "markdown",
      "metadata": {
        "id": "db62fae6-3d85-4de0-acbb-654d2414e474"
      },
      "source": [
        "The class <code>plot_error_surfaces</code> is just to help you visualize the data space and the parameter space during training and has nothing to do with Pytorch.\n"
      ]
    },
    {
      "cell_type": "code",
      "metadata": {
        "id": "4dbe4595-5594-4495-bd6c-413fce6f7d0f"
      },
      "outputs": [],
      "source": [
        "# Create class for plotting and the function for plotting\n",
        "\n",
        "class plot_error_surfaces(object):\n",
        "\n",
        "    # Construstor\n",
        "    def __init__(self, w_range, b_range, X, Y, n_samples = 30, go = True):\n",
        "        W = np.linspace(-w_range, w_range, n_samples)\n",
        "        B = np.linspace(-b_range, b_range, n_samples)\n",
        "        w, b = np.meshgrid(W, B)\n",
        "        Z = np.zeros((30, 30))\n",
        "        count1 = 0\n",
        "        self.y = Y.numpy()\n",
        "        self.x = X.numpy()\n",
        "        for w1, b1 in zip(w, b):\n",
        "            count2 = 0\n",
        "            for w2, b2 in zip(w1, b1):\n",
        "                yhat= 1 / (1 + np.exp(-1*(w2*self.x+b2)))\n",
        "                Z[count1,count2]=-1*np.mean(self.y*np.log(yhat+1e-16) +(1-self.y)*np.log(1-yhat+1e-16))\n",
        "                count2 += 1\n",
        "            count1 += 1\n",
        "        self.Z = Z\n",
        "        self.w = w\n",
        "        self.b = b\n",
        "        self.W = []\n",
        "        self.B = []\n",
        "        self.LOSS = []\n",
        "        self.n = 0\n",
        "        if go == True:\n",
        "            plt.figure()\n",
        "            plt.figure(figsize=(7.5, 5))\n",
        "            plt.axes(projection='3d').plot_surface(self.w, self.b, self.Z, rstride=1, cstride=1, cmap='viridis', edgecolor='none')\n",
        "            plt.title('Loss Surface')\n",
        "            plt.xlabel('w')\n",
        "            plt.ylabel('b')\n",
        "            plt.show()\n",
        "            plt.figure()\n",
        "            plt.title('Loss Surface Contour')\n",
        "            plt.xlabel('w')\n",
        "            plt.ylabel('b')\n",
        "            plt.contour(self.w, self.b, self.Z)\n",
        "            plt.show()\n",
        "\n",
        "     # Setter\n",
        "    def set_para_loss(self, model, loss):\n",
        "        self.n = self.n + 1\n",
        "        self.W.append(list(model.parameters())[0].item())\n",
        "        self.B.append(list(model.parameters())[1].item())\n",
        "        self.LOSS.append(loss)\n",
        "\n",
        "    # Plot diagram\n",
        "    def final_plot(self):\n",
        "        ax = plt.axes(projection='3d')\n",
        "        ax.plot_wireframe(self.w, self.b, self.Z)\n",
        "        ax.scatter(self.W, self.B, self.LOSS, c='r', marker='x', s=200, alpha=1)\n",
        "        plt.figure()\n",
        "        plt.contour(self.w, self.b, self.Z)\n",
        "        plt.scatter(self.W, self.B, c='r', marker='x')\n",
        "        plt.xlabel('w')\n",
        "        plt.ylabel('b')\n",
        "        plt.show()\n",
        "\n",
        "    # Plot diagram\n",
        "    def plot_ps(self):\n",
        "        plt.subplot(121)\n",
        "        plt.ylim\n",
        "        plt.plot(self.x[self.y==0], self.y[self.y==0], 'ro', label=\"training points\")\n",
        "        plt.plot(self.x[self.y==1], self.y[self.y==1]-1, 'o', label=\"training points\")\n",
        "        plt.plot(self.x, self.W[-1] * self.x + self.B[-1], label=\"estimated line\")\n",
        "        plt.xlabel('x')\n",
        "        plt.ylabel('y')\n",
        "        plt.ylim((-0.1, 2))\n",
        "        plt.title('Data Space Iteration: ' + str(self.n))\n",
        "        plt.show()\n",
        "        plt.subplot(122)\n",
        "        plt.contour(self.w, self.b, self.Z)\n",
        "        plt.scatter(self.W, self.B, c='r', marker='x')\n",
        "        plt.title('Loss Surface Contour Iteration' + str(self.n))\n",
        "        plt.xlabel('w')\n",
        "        plt.ylabel('b')\n",
        "\n",
        "# Plot the diagram\n",
        "\n",
        "def PlotStuff(X, Y, model, epoch, leg=True):\n",
        "\n",
        "    plt.plot(X.numpy(), model(X).detach().numpy(), label=('epoch ' + str(epoch)))\n",
        "    plt.plot(X.numpy(), Y.numpy(), 'r')\n",
        "    if leg == True:\n",
        "        plt.legend()\n",
        "    else:\n",
        "        pass"
      ],
      "execution_count": null
    },
    {
      "cell_type": "markdown",
      "metadata": {
        "id": "49f6b5c7-69bd-49c0-ad50-89313d03f34b"
      },
      "source": [
        "Set the random seed:\n"
      ]
    },
    {
      "cell_type": "code",
      "metadata": {
        "id": "005d6eca-442c-4ca8-9873-e117b2d6a53c"
      },
      "outputs": [],
      "source": [
        "# Setting the seed will allow us to control randomness and give us reproducibility\n",
        "torch.manual_seed(0)"
      ],
      "execution_count": null
    },
    {
      "cell_type": "markdown",
      "metadata": {
        "id": "c29296ac-1bbd-4a75-ac3c-ac7847053d84"
      },
      "source": [
        "<!--Empty Space for separating topics-->\n"
      ]
    },
    {
      "cell_type": "markdown",
      "metadata": {
        "id": "5b7d2526-f662-43c8-bb72-983869793151"
      },
      "source": [
        "<h2 id=\"Makeup_Data\">Load Data</h2>\n"
      ]
    },
    {
      "cell_type": "markdown",
      "metadata": {
        "id": "1751a044-0f79-4151-b981-acea1a9ec457"
      },
      "source": [
        "The Dataset class represents a dataset. Your custom dataset should inherit Dataset which we imported above and override the following methods:\n",
        "\n",
        "<p><code>__len__</code> so that len(dataset) returns the size of the dataset.</p>\n",
        "<p><code>__getitem__</code> to support the indexing such that dataset[i] can be used to get ith sample</p>\n",
        "\n",
        "Below we will create a sample dataset\n"
      ]
    },
    {
      "cell_type": "code",
      "metadata": {
        "id": "1beb505c-36a6-46c5-b5ac-a65291eb990f"
      },
      "outputs": [],
      "source": [
        "# Create the custom Data class which inherits Dataset\n",
        "class Data(Dataset):\n",
        "\n",
        "    # Constructor\n",
        "    def __init__(self):\n",
        "        # Create X values from -1 to 1 with step .1\n",
        "        self.x = torch.arange(-1, 1, 0.1).view(-1, 1)\n",
        "        # Create Y values all set to 0\n",
        "        self.y = torch.zeros(self.x.shape[0], 1)\n",
        "        # Set the X values above 0.2 to 1\n",
        "        self.y[self.x[:, 0] > 0.2] = 1\n",
        "        # Set the .len attribute because we need to override the __len__ method\n",
        "        self.len = self.x.shape[0]\n",
        "\n",
        "    # Getter that returns the data at the given index\n",
        "    def __getitem__(self, index):\n",
        "        return self.x[index], self.y[index]\n",
        "\n",
        "    # Get length of the dataset\n",
        "    def __len__(self):\n",
        "        return self.len"
      ],
      "execution_count": null
    },
    {
      "cell_type": "markdown",
      "metadata": {
        "id": "ba54935b-64a3-4fc9-9678-93a9c89533ef"
      },
      "source": [
        "Make <code>Data</code> object\n"
      ]
    },
    {
      "cell_type": "code",
      "metadata": {
        "id": "9d9a9515-001c-42e7-8959-f8bb16d94f9d"
      },
      "outputs": [],
      "source": [
        "# Create Data object\n",
        "data_set = Data()"
      ],
      "execution_count": null
    },
    {
      "cell_type": "markdown",
      "metadata": {
        "id": "66dc85de-2f1c-4a7d-929c-70c18993f6b9"
      },
      "source": [
        "We can see the X values of the dataset\n"
      ]
    },
    {
      "cell_type": "code",
      "metadata": {
        "id": "46a9c56d-803a-4f31-a3fc-4d330102261c"
      },
      "outputs": [],
      "source": [
        "data_set.x"
      ],
      "execution_count": null
    },
    {
      "cell_type": "markdown",
      "metadata": {
        "id": "ec6d5def-4cc4-465c-a3e3-89e71a863731"
      },
      "source": [
        "We can see the Y values of the dataset which correspond to the class of the X value\n"
      ]
    },
    {
      "cell_type": "code",
      "metadata": {
        "id": "ed00e666-3604-4623-8ceb-ead666a6d443"
      },
      "outputs": [],
      "source": [
        "data_set.y"
      ],
      "execution_count": null
    },
    {
      "cell_type": "markdown",
      "metadata": {
        "id": "9177355c-a3b9-4fbf-b667-912189432d56"
      },
      "source": [
        "We can get the length of the dataset\n"
      ]
    },
    {
      "cell_type": "code",
      "metadata": {
        "id": "722441a1-523a-48e8-9e4b-3a1919682e65"
      },
      "outputs": [],
      "source": [
        "len(data_set)"
      ],
      "execution_count": null
    },
    {
      "cell_type": "markdown",
      "metadata": {
        "id": "17c9f55d-cf95-4f57-92b3-ac801056a7b8"
      },
      "source": [
        "We can get the label $y$ as well as the $x$ for the first sample\n"
      ]
    },
    {
      "cell_type": "code",
      "metadata": {
        "id": "d34d9878-6336-497f-9cb1-49c8425f97e1"
      },
      "outputs": [],
      "source": [
        "x,y = data_set[0]\n",
        "print(\"x = {},  y = {}\".format(x,y))"
      ],
      "execution_count": null
    },
    {
      "cell_type": "markdown",
      "metadata": {
        "id": "4b0c57f1-e84f-4483-8d0b-03f073dfe31c"
      },
      "source": [
        "We can get the label $y$ as well as the $x$ for the second sample:\n"
      ]
    },
    {
      "cell_type": "code",
      "metadata": {
        "id": "be9d07fc-1a5c-46f7-8125-6c7ca5d1ccae"
      },
      "outputs": [],
      "source": [
        "x,y = data_set[1]\n",
        "print(\"x = {},  y = {}\".format(x,y))"
      ],
      "execution_count": null
    },
    {
      "cell_type": "markdown",
      "metadata": {
        "id": "b541e4e0-e174-4bca-8277-2070ab58ef67"
      },
      "source": [
        " We can see we can separate the one-dimensional dataset into two classes:\n"
      ]
    },
    {
      "cell_type": "code",
      "metadata": {
        "id": "b144b7f8-c44f-49a4-9bec-b2f61f1b5be9"
      },
      "outputs": [],
      "source": [
        "plt.plot(data_set.x[data_set.y==0], data_set.y[data_set.y==0], 'ro', label=\"y=0\")\n",
        "plt.plot(data_set.x[data_set.y==1], data_set.y[data_set.y==1]-1, 'o', label=\"y=1\")\n",
        "plt.xlabel('x')\n",
        "plt.legend()"
      ],
      "execution_count": null
    },
    {
      "cell_type": "markdown",
      "metadata": {
        "id": "a06fcabe-08c6-4bf5-bbee-e7c64fc49063"
      },
      "source": [
        "<!--Empty Space for separating topics-->\n"
      ]
    },
    {
      "cell_type": "markdown",
      "metadata": {
        "id": "bd776a25-f233-41da-b3b4-ef259c76bb39"
      },
      "source": [
        "<h2 id=\"Model_Cost\">Create the Model and Total Loss Function (Cost)</h2>\n"
      ]
    },
    {
      "cell_type": "markdown",
      "metadata": {
        "id": "d02b2bbd-c1d9-4723-9f25-0e768cd8d1ce"
      },
      "source": [
        "For Logistic Regression typically we would not use PyTorch instead we would use Scikit-Learn as it is easier to use and set up. We are using PyTorch because it is good practice for deep learning. Scikit-Learn is typically used for Machine Learning while PyTorch is used for Deep Learning.\n"
      ]
    },
    {
      "cell_type": "markdown",
      "metadata": {
        "id": "cc338448-0f6d-429c-86fd-d067966f10c7"
      },
      "source": [
        "We will create a custom class that defines the architecture of Logistic Regression using PyTorch. Logistic Regression has a single layer where the input is the number of features an X value of the dataset has (dimension of X) and there is a single output. The output of the layer is put into a sigmoid function which is a function between 0 and 1. The larger the output of the layer the closer it is to 1 and the smaller the output is the closer it is to 0. The sigmoid function will allow us to turn this output into a classification problem. If the output value is closer to 1 it is one class if it is closer to 0 it is in another.\n"
      ]
    },
    {
      "cell_type": "markdown",
      "metadata": {
        "id": "3c816bbe-e332-400f-b615-4607115f861a"
      },
      "source": [
        "Sigmoid Function\n",
        "\n",
        "![](https://cf-courses-data.s3.us.cloud-object-storage.appdomain.cloud/IBMDeveloperSkillsNetwork-CV0101EN-Coursera/labs/Module3/Logistic-curve.svg)\n"
      ]
    },
    {
      "cell_type": "code",
      "metadata": {
        "id": "494c2942-e162-4486-80af-9e7c503917e3"
      },
      "outputs": [],
      "source": [
        "# Create logistic_regression class that inherits nn.Module which is the base class for all neural networks\n",
        "class logistic_regression(nn.Module):\n",
        "\n",
        "    # Constructor\n",
        "    def __init__(self, n_inputs):\n",
        "        super(logistic_regression, self).__init__()\n",
        "        # Single layer of Logistic Regression with number of inputs being n_inputs and there being 1 output\n",
        "        self.linear = nn.Linear(n_inputs, 1)\n",
        "\n",
        "    # Prediction\n",
        "    def forward(self, x):\n",
        "        # Using the input x value puts it through the single layer defined above then puts the output through the sigmoid function and returns the result\n",
        "        yhat = torch.sigmoid(self.linear(x))\n",
        "        return yhat"
      ],
      "execution_count": null
    },
    {
      "cell_type": "markdown",
      "metadata": {
        "id": "2d147956-b7ad-44d0-af60-f5b1c1a0e4b1"
      },
      "source": [
        "We can check the number of features an X value has, the size of the input, or the dimension of X\n"
      ]
    },
    {
      "cell_type": "code",
      "metadata": {
        "id": "83ae239d-661d-4b40-9bfe-697d60ea2afa"
      },
      "outputs": [],
      "source": [
        "x,y = data_set[0]\n",
        "len(x)"
      ],
      "execution_count": null
    },
    {
      "cell_type": "markdown",
      "metadata": {
        "id": "063bad25-585e-4fc6-9ee5-bd43123f0ada"
      },
      "source": [
        "Create a logistic regression object or model, the input parameter is the number of dimensions.\n"
      ]
    },
    {
      "cell_type": "code",
      "metadata": {
        "id": "c15a41cf-df83-42d6-9560-70208a8e74f1"
      },
      "outputs": [],
      "source": [
        "# Create the logistic_regression result\n",
        "\n",
        "model = logistic_regression(1)"
      ],
      "execution_count": null
    },
    {
      "cell_type": "markdown",
      "metadata": {
        "id": "dc3e5ba4-b182-4a33-86de-a80828716f58"
      },
      "source": [
        "We can make a prediction sigma $\\sigma$ this uses the forward function defined above\n"
      ]
    },
    {
      "cell_type": "code",
      "metadata": {
        "id": "95e74b96-63b9-4e2d-8575-669da4020d67"
      },
      "outputs": [],
      "source": [
        "x = torch.tensor([-1.0])\n",
        "\n",
        "sigma = model(x)\n",
        "sigma"
      ],
      "execution_count": null
    },
    {
      "cell_type": "markdown",
      "metadata": {
        "id": "2204d049-560d-42b0-bad0-70459883d345"
      },
      "source": [
        "We can also make a prediction using our data\n"
      ]
    },
    {
      "cell_type": "code",
      "metadata": {
        "id": "a1c96f2a-69c9-433a-a504-2c7c3a34ee36"
      },
      "outputs": [],
      "source": [
        "x,y = data_set[2]\n",
        "\n",
        "sigma = model(x)\n",
        "sigma"
      ],
      "execution_count": null
    },
    {
      "cell_type": "markdown",
      "metadata": {
        "id": "9d123e6e-bce9-437f-b244-89879241a392"
      },
      "source": [
        "Create a <code>plot_error_surfaces</code> object to visualize the data space and the learnable parameters space during training:\n",
        "\n",
        "We can see on the Loss Surface graph, the loss value varying across w and b values with yellow being high loss and dark blue being low loss which is what we want\n",
        "\n",
        "On the Loss Surface Contour graph we can see a top-down view of the Loss Surface graph\n"
      ]
    },
    {
      "cell_type": "code",
      "metadata": {
        "id": "f3ccda32-71ef-4f5a-bef0-76c6da24433c"
      },
      "outputs": [],
      "source": [
        "# Create the plot_error_surfaces object\n",
        "\n",
        "# 15 is the range of w\n",
        "# 13 is the range of b\n",
        "# data_set[:][0] are all the X values\n",
        "# data_set[:][1] are all the Y values\n",
        "\n",
        "get_surface = plot_error_surfaces(15, 13, data_set[:][0], data_set[:][1])"
      ],
      "execution_count": null
    },
    {
      "cell_type": "markdown",
      "metadata": {
        "id": "12eff879-44d0-4ab2-8d5a-a95c1ec641ae"
      },
      "source": [
        "We define a criterion using Binary Cross Entropy Loss. This will measure the difference/loss between the prediction and actual value.\n"
      ]
    },
    {
      "cell_type": "code",
      "metadata": {
        "id": "08b53940-903b-4b17-971d-b6de83bcd852"
      },
      "outputs": [],
      "source": [
        "criterion = nn.BCELoss()"
      ],
      "execution_count": null
    },
    {
      "cell_type": "markdown",
      "metadata": {
        "id": "1c4e01ca-4f5d-4833-a726-f5f700f8bce5"
      },
      "source": [
        "We have our samples:\n"
      ]
    },
    {
      "cell_type": "code",
      "metadata": {
        "id": "f8a6cd45-7381-4391-bdf6-a9389325e432"
      },
      "outputs": [],
      "source": [
        "x, y = data_set[0]\n",
        "print(\"x = {},  y = {}\".format(x,y))"
      ],
      "execution_count": null
    },
    {
      "cell_type": "markdown",
      "metadata": {
        "id": "0f29c5b8-4a00-437a-8d34-8c590cb1a4e3"
      },
      "source": [
        "We can make a prediction using the model:\n"
      ]
    },
    {
      "cell_type": "code",
      "metadata": {
        "id": "b7e62200-5c8f-445e-917d-a2c8eeefe69b"
      },
      "outputs": [],
      "source": [
        "sigma = model(x)\n",
        "sigma"
      ],
      "execution_count": null
    },
    {
      "cell_type": "markdown",
      "metadata": {
        "id": "be236d9c-638c-4cf2-bcb6-b90fe240cb90"
      },
      "source": [
        "We can calculate the loss\n"
      ]
    },
    {
      "cell_type": "code",
      "metadata": {
        "id": "b237d790-e17c-430a-8bb8-ae65456281b3"
      },
      "outputs": [],
      "source": [
        "loss = criterion(sigma, y)\n",
        "loss"
      ],
      "execution_count": null
    },
    {
      "cell_type": "markdown",
      "metadata": {
        "id": "e7765cfb-9e17-4baa-b0bd-eaa6e922f2c2"
      },
      "source": [
        "## Setting the Batch Size using a Data Loader\n"
      ]
    },
    {
      "cell_type": "markdown",
      "metadata": {
        "id": "0ecaf9b7-8c64-42d9-a475-02df2ceed28e"
      },
      "source": [
        "You have to use data loader in PyTorch that will output a  batch of data, the input is the <code>dataset</code> and  <code>batch_size</code>\n"
      ]
    },
    {
      "cell_type": "code",
      "metadata": {
        "id": "312944b3-ed5a-4df4-a414-a362d1900c62"
      },
      "outputs": [],
      "source": [
        "batch_size=10"
      ],
      "execution_count": null
    },
    {
      "cell_type": "code",
      "metadata": {
        "id": "32bc1486-e787-4312-8c7b-1edee1017e9b"
      },
      "outputs": [],
      "source": [
        "trainloader = DataLoader(dataset = data_set, batch_size = 10)"
      ],
      "execution_count": null
    },
    {
      "cell_type": "code",
      "metadata": {
        "id": "3d28552e-c3e6-4da0-acf0-fbc03bda68d6"
      },
      "outputs": [],
      "source": [
        "dataset_iter = iter(trainloader)"
      ],
      "execution_count": null
    },
    {
      "cell_type": "code",
      "metadata": {
        "id": "b2581c8e-36f7-4e88-bcb8-8438424ab7cd"
      },
      "outputs": [],
      "source": [
        "X,y=next(dataset_iter )"
      ],
      "execution_count": null
    },
    {
      "cell_type": "markdown",
      "metadata": {
        "id": "4703068b-ad53-4ede-9b0d-cf130eaaba22"
      },
      "source": [
        "We can see here that 10 values the same as our batch size\n"
      ]
    },
    {
      "cell_type": "code",
      "metadata": {
        "id": "3a88f76c-cfac-494e-bb93-a556cb42e577"
      },
      "outputs": [],
      "source": [
        "X"
      ],
      "execution_count": null
    },
    {
      "cell_type": "markdown",
      "metadata": {
        "id": "fb0f1591-b38e-4e0d-99bf-ccfb7110d432"
      },
      "source": [
        "## Setting the Learning Rate\n"
      ]
    },
    {
      "cell_type": "markdown",
      "metadata": {
        "id": "eace11ac-0a09-477e-a73b-38df815bcb85"
      },
      "source": [
        "We can set the learning rate by setting it as a parameter in the optimizer along with the parameters of the logistic regression model we are training. The job of the optimizer, torch.optim.SGD, is to use the loss generated by the criterion to update the model parameters according to the learning rate. SGD stands for Stochastic Gradient Descent which typically means that the batch size is set to 1, but the data loader we set up above has turned this into Mini-Batch Gradient Descent.\n"
      ]
    },
    {
      "cell_type": "code",
      "metadata": {
        "id": "04d6d90f-ea8a-4003-895f-a272be836b68"
      },
      "outputs": [],
      "source": [
        "learning_rate = 0.1"
      ],
      "execution_count": null
    },
    {
      "cell_type": "code",
      "metadata": {
        "id": "7ebe130e-10d2-412a-8daf-721dd39b227e"
      },
      "outputs": [],
      "source": [
        "optimizer = torch.optim.SGD(model.parameters(), lr = learning_rate)"
      ],
      "execution_count": null
    },
    {
      "cell_type": "markdown",
      "metadata": {
        "id": "feee3930-d81d-4b0b-8e8e-6e61fbe5fd55"
      },
      "source": [
        "<!--Empty Space for separating topics-->\n"
      ]
    },
    {
      "cell_type": "markdown",
      "metadata": {
        "id": "f2b656bb-feee-4247-995d-5e50f629456b"
      },
      "source": [
        "<h2 id=\"BGD\">Train the Model via Mini-Batch Gradient Descent</h2>\n"
      ]
    },
    {
      "cell_type": "markdown",
      "metadata": {
        "id": "0c0bf957-9fdb-4a39-bca3-f9f60e2dcac8"
      },
      "source": [
        "We are going to train the model using various Batch Sizes and Learning Rates.\n"
      ]
    },
    {
      "cell_type": "markdown",
      "metadata": {
        "id": "fed0acaa-6bfc-4065-bd57-9a4d8080d1c4"
      },
      "source": [
        "### Mini-Batch Gradient Descent\n"
      ]
    },
    {
      "cell_type": "markdown",
      "metadata": {
        "id": "97313801-1ae4-4714-b7af-3c2eab16ffae"
      },
      "source": [
        "In this case, we will set the batch size of the data loader to 5 and the number of epochs to 250.\n"
      ]
    },
    {
      "cell_type": "markdown",
      "metadata": {
        "id": "af875dd0-7a42-4cdc-a464-71021258b412"
      },
      "source": [
        "First, we must recreate the get_surface object again so that for each example we get a Loss Surface for that model only.\n"
      ]
    },
    {
      "cell_type": "code",
      "metadata": {
        "id": "8a90e75a-2f76-47e5-9140-077481ac4750"
      },
      "outputs": [],
      "source": [
        "get_surface = plot_error_surfaces(15, 13, data_set[:][0], data_set[:][1], 30)"
      ],
      "execution_count": null
    },
    {
      "cell_type": "markdown",
      "metadata": {
        "id": "047306e8-ccc6-46a2-856f-526e5fcc7169"
      },
      "source": [
        "#### Train the Model\n"
      ]
    },
    {
      "cell_type": "code",
      "metadata": {
        "id": "acecb4c2-6c4e-4663-a0f1-081087fd18f9"
      },
      "outputs": [],
      "source": [
        "# First we create an instance of the model we want to train\n",
        "model = logistic_regression(1)\n",
        "# We create a criterion which will measure loss\n",
        "criterion = nn.BCELoss()\n",
        "# We create a data loader with the dataset and specified batch size of 5\n",
        "trainloader = DataLoader(dataset = data_set, batch_size = 5)\n",
        "# We create an optimizer with the model parameters and learning rate\n",
        "optimizer = torch.optim.SGD(model.parameters(), lr = .01)\n",
        "# Then we set the number of epochs which is the total number of times we will train on the entire training dataset\n",
        "epochs=500\n",
        "# This will store the loss over iterations so we can plot it at the end\n",
        "loss_values = []\n",
        "\n",
        "# Loop will execute for number of epochs\n",
        "for epoch in range(epochs):\n",
        "    # For each batch in the training data\n",
        "    for x, y in trainloader:\n",
        "        # Make our predictions from the X values\n",
        "        yhat = model(x)\n",
        "        # Measure the loss between our prediction and actual Y values\n",
        "        loss = criterion(yhat, y)\n",
        "        # Resets the calculated gradient value, this must be done each time as it accumulates if we do not reset\n",
        "        optimizer.zero_grad()\n",
        "        # Calculates the gradient value with respect to each weight and bias\n",
        "        loss.backward()\n",
        "        # Updates the weight and bias according to calculated gradient value\n",
        "        optimizer.step()\n",
        "        # Set the parameters for the loss surface contour graphs\n",
        "        get_surface.set_para_loss(model, loss.tolist())\n",
        "        # Saves the loss of the iteration\n",
        "        loss_values.append(loss)\n",
        "    # Want to print the Data Space for the current iteration every 20 epochs\n",
        "    if epoch % 20 == 0:\n",
        "        get_surface.plot_ps()"
      ],
      "execution_count": null
    },
    {
      "cell_type": "markdown",
      "metadata": {
        "id": "c0ef6580-09df-4568-bfd8-eabe030d7242"
      },
      "source": [
        "We can see the final values of the weight and bias. This weight and bias correspond to the orange line in the Data Space graph and the final spot of the X in the Loss Surface Contour graph.\n"
      ]
    },
    {
      "cell_type": "code",
      "metadata": {
        "id": "343f8d58-2f67-435c-bc0e-ce887b0e2c39"
      },
      "outputs": [],
      "source": [
        "w = model.state_dict()['linear.weight'].data[0]\n",
        "b = model.state_dict()['linear.bias'].data[0]\n",
        "print(\"w = \", w, \"b = \", b)"
      ],
      "execution_count": null
    },
    {
      "cell_type": "markdown",
      "metadata": {
        "id": "165a85b3-cb05-4cbd-b01a-7983230f9abd"
      },
      "source": [
        "Now we can get the accuracy of the training data\n"
      ]
    },
    {
      "cell_type": "code",
      "metadata": {
        "id": "8794285e-18ef-4ad1-be59-6e33f2988409"
      },
      "outputs": [],
      "source": [
        "# Getting the predictions\n",
        "yhat = model(data_set.x)\n",
        "# Rounding the prediction to the nearedt integer 0 or 1 representing the classes\n",
        "yhat = torch.round(yhat)\n",
        "# Counter to keep track of correct predictions\n",
        "correct = 0\n",
        "# Goes through each prediction and actual y value\n",
        "for prediction, actual in zip(yhat, data_set.y):\n",
        "    # Compares if the prediction and actualy y value are the same\n",
        "    if (prediction == actual):\n",
        "        # Adds to counter if prediction is correct\n",
        "        correct+=1\n",
        "# Outputs the accuracy by dividing the correct predictions by the length of the dataset\n",
        "print(\"Accuracy: \", correct/len(data_set)*100, \"%\")"
      ],
      "execution_count": null
    },
    {
      "cell_type": "markdown",
      "metadata": {
        "id": "62f6c9b2-041c-4ab4-a4e2-97d0f813b705"
      },
      "source": [
        "Finally, we plot the Cost vs Iteration graph, although it is erratic it is downward sloping.\n"
      ]
    },
    {
      "cell_type": "code",
      "metadata": {
        "id": "8330580e-0475-4112-b31a-d62c694e072a"
      },
      "outputs": [],
      "source": [
        "plt.plot(loss_values)\n",
        "plt.xlabel(\"Iteration\")\n",
        "plt.ylabel(\"Cost\")"
      ],
      "execution_count": null
    },
    {
      "cell_type": "markdown",
      "metadata": {
        "id": "abe7182e-9e59-44f0-b0ae-d918c4f87ae2"
      },
      "source": [
        "### Stochastic Gradient Descent\n"
      ]
    },
    {
      "cell_type": "markdown",
      "metadata": {
        "id": "b771fcd9-ffff-449b-b741-8cdba6dbfeeb"
      },
      "source": [
        "In this case, we will set the batch size of the data loder to 1 so that the gradient descent will be performed for each example this is referred to as Stochastic Gradient Descent. The number of epochs is set to 100.\n",
        "\n",
        "Notice that in this example the batch size is decreased from 5 to 1 so there would be more iterations. Due to this, we can reduce the number of iterations by decreasing the number of epochs. Due to the reduced batch size, we are optimizing more frequently so we don't need as many epochs.\n",
        "\n",
        "First, we must recreate the `get_surface` object again so that for each example we get a Loss Surface for that model only.\n"
      ]
    },
    {
      "cell_type": "code",
      "metadata": {
        "id": "8e0b6552-1999-4714-b717-88e6aa6e4e87"
      },
      "outputs": [],
      "source": [
        "get_surface = plot_error_surfaces(15, 13, data_set[:][0], data_set[:][1], 30)"
      ],
      "execution_count": null
    },
    {
      "cell_type": "markdown",
      "metadata": {
        "id": "a6493c2e-069e-433d-b24d-2127c1a1b670"
      },
      "source": [
        "#### Train the Model\n"
      ]
    },
    {
      "cell_type": "code",
      "metadata": {
        "id": "81072cad-5c03-440b-9b73-8dcf9b44def6"
      },
      "outputs": [],
      "source": [
        "# First we create an instance of the model we want to train\n",
        "model = logistic_regression(1)\n",
        "# We create a criterion which will measure loss\n",
        "criterion = nn.BCELoss()\n",
        "# We create a data loader with the dataset and specified batch size of 1\n",
        "trainloader = DataLoader(dataset = data_set, batch_size = 1)\n",
        "# We create an optimizer with the model parameters and learning rate\n",
        "optimizer = torch.optim.SGD(model.parameters(), lr = .01)\n",
        "# Then we set the number of epochs which is the total number of times we will train on the entire training dataset\n",
        "epochs=100\n",
        "# This will store the loss over iterations so we can plot it at the end\n",
        "loss_values = []\n",
        "\n",
        "# Loop will execute for number of epochs\n",
        "for epoch in range(epochs):\n",
        "    # For each batch in the training data\n",
        "    for x, y in trainloader:\n",
        "        # Make our predictions from the X values\n",
        "        yhat = model(x)\n",
        "        # Measure the loss between our prediction and actual Y values\n",
        "        loss = criterion(yhat, y)\n",
        "        # Resets the calculated gradient value, this must be done each time as it accumulates if we do not reset\n",
        "        optimizer.zero_grad()\n",
        "        # Calculates the gradient value with respect to each weight and bias\n",
        "        loss.backward()\n",
        "        # Updates the weight and bias according to calculated gradient value\n",
        "        optimizer.step()\n",
        "        # Set the parameters for the loss surface contour graphs\n",
        "        get_surface.set_para_loss(model, loss.tolist())\n",
        "        # Saves the loss of the iteration\n",
        "        loss_values.append(loss)\n",
        "    # Want to print the Data Space for the current iteration every 20 epochs\n",
        "    if epoch % 20 == 0:\n",
        "        get_surface.plot_ps()"
      ],
      "execution_count": null
    },
    {
      "cell_type": "markdown",
      "metadata": {
        "id": "9aaeac6a-d0f3-4551-a20f-b6beaf2faae9"
      },
      "source": [
        "We can see the final values of the weight and bias. This weight and bias correspond to the orange line in the Data Space graph and the final spot of the X in the Loss Surface Contour graph.\n"
      ]
    },
    {
      "cell_type": "code",
      "metadata": {
        "id": "c0a5e50c-2398-4f6c-81f0-56e9d7060553"
      },
      "outputs": [],
      "source": [
        "w = model.state_dict()['linear.weight'].data[0]\n",
        "b = model.state_dict()['linear.bias'].data[0]\n",
        "print(\"w = \", w, \"b = \", b)"
      ],
      "execution_count": null
    },
    {
      "cell_type": "markdown",
      "metadata": {
        "id": "9e8826d5-64e0-4cf4-bdd1-749e703c366e"
      },
      "source": [
        "Now we can get the accuracy of the training data\n"
      ]
    },
    {
      "cell_type": "code",
      "metadata": {
        "id": "12af51b1-7ed0-4927-b56d-8ab331083b43"
      },
      "outputs": [],
      "source": [
        "# Getting the predictions\n",
        "yhat = model(data_set.x)\n",
        "# Rounding the prediction to the nearedt integer 0 or 1 representing the classes\n",
        "yhat = torch.round(yhat)\n",
        "# Counter to keep track of correct predictions\n",
        "correct = 0\n",
        "# Goes through each prediction and actual y value\n",
        "for prediction, actual in zip(yhat, data_set.y):\n",
        "    # Compares if the prediction and actualy y value are the same\n",
        "    if (prediction == actual):\n",
        "        # Adds to counter if prediction is correct\n",
        "        correct+=1\n",
        "# Outputs the accuracy by dividing the correct predictions by the length of the dataset\n",
        "print(\"Accuracy: \", correct/len(data_set)*100, \"%\")"
      ],
      "execution_count": null
    },
    {
      "cell_type": "markdown",
      "metadata": {
        "id": "4e6f3765-7e26-43db-82f4-8f6294161044"
      },
      "source": [
        "Finally, we plot the Cost vs Iteration graph, although it is erratic it is downward sloping.\n"
      ]
    },
    {
      "cell_type": "code",
      "metadata": {
        "id": "a61330c6-d52a-450b-9fc8-89aa78c68bb9"
      },
      "outputs": [],
      "source": [
        "plt.plot(loss_values)\n",
        "plt.xlabel(\"Iteration\")\n",
        "plt.ylabel(\"Cost\")"
      ],
      "execution_count": null
    },
    {
      "cell_type": "markdown",
      "metadata": {
        "id": "6e45f6c8-15fa-4289-90aa-6a0dc33be66d"
      },
      "source": [
        "### High Learning Rate\n"
      ]
    },
    {
      "cell_type": "markdown",
      "metadata": {
        "id": "4b11a984-0b64-49c3-9321-44f03de10d08"
      },
      "source": [
        "In this case, we will set the batch size of the data loder to 1 so that the gradient descent will be performed for each example this is referred to as Stochastic Gradient Descent. This time the learning rate will be set to .1 to represent a high learning rate and we will observe what will happen when we try to train.\n",
        "\n",
        "First, we must recreate the `get_surface` object again so that for each example we get a Loss Surface for that model only.\n"
      ]
    },
    {
      "cell_type": "code",
      "metadata": {
        "id": "c2d29fa1-5fc0-4ea9-b094-8d26e6a2357f"
      },
      "outputs": [],
      "source": [
        "get_surface = plot_error_surfaces(15, 13, data_set[:][0], data_set[:][1], 30)"
      ],
      "execution_count": null
    },
    {
      "cell_type": "markdown",
      "metadata": {
        "id": "f2554fd0-6ed2-46e5-b4f9-f6ddacd58b87"
      },
      "source": [
        "#### Train the Model\n"
      ]
    },
    {
      "cell_type": "code",
      "metadata": {
        "id": "a9333aac-9301-4759-ac86-33298ef52844"
      },
      "outputs": [],
      "source": [
        "# First we create an instance of the model we want to train\n",
        "model = logistic_regression(1)\n",
        "# We create a criterion that will measure loss\n",
        "criterion = nn.BCELoss()\n",
        "# We create a data loader with the dataset and specified batch size of 1\n",
        "trainloader = DataLoader(dataset = data_set, batch_size = 1)\n",
        "# We create an optimizer with the model parameters and learning rate\n",
        "optimizer = torch.optim.SGD(model.parameters(), lr = 1)\n",
        "# Then we set the number of epochs which is the total number of times we will train on the entire training dataset\n",
        "epochs=100\n",
        "# This will store the loss over iterations so we can plot it at the end\n",
        "loss_values = []\n",
        "\n",
        "# Loop will execute for number of epochs\n",
        "for epoch in range(epochs):\n",
        "    # For each batch in the training data\n",
        "    for x, y in trainloader:\n",
        "        # Make our predictions from the X values\n",
        "        yhat = model(x)\n",
        "        # Measure the loss between our prediction and actual Y values\n",
        "        loss = criterion(yhat, y)\n",
        "        # Resets the calculated gradient value, this must be done each time as it accumulates if we do not reset\n",
        "        optimizer.zero_grad()\n",
        "        # Calculates the gradient value with respect to each weight and bias\n",
        "        loss.backward()\n",
        "        # Updates the weight and bias according to calculated gradient value\n",
        "        optimizer.step()\n",
        "        # Set the parameters for the loss surface contour graphs\n",
        "        get_surface.set_para_loss(model, loss.tolist())\n",
        "        # Saves the loss of the iteration\n",
        "        loss_values.append(loss)\n",
        "    # Want to print the Data Space for the current iteration every 20 epochs\n",
        "    if epoch % 20 == 0:\n",
        "        get_surface.plot_ps()"
      ],
      "execution_count": null
    },
    {
      "cell_type": "markdown",
      "metadata": {
        "id": "4e96acd8-93a4-4259-8ba6-8a905a4f87c1"
      },
      "source": [
        "Notice in this example the due to the high learning rate the Loss Surface Contour graph has increased movement over the previous example and also moves in multiple directions due to the minimum being overshot.\n"
      ]
    },
    {
      "cell_type": "markdown",
      "metadata": {
        "id": "8290f3d6-5760-4f62-97e6-e78f7852872c"
      },
      "source": [
        "We can see the final values of the weight and bias. This weight and bias correspond to the orange line in the Data Space graph and the final spot of the X in the Loss Surface Contour graph.\n"
      ]
    },
    {
      "cell_type": "code",
      "metadata": {
        "id": "e1ae2c60-d2ca-4ffc-aea6-ccc1ea5215c8"
      },
      "outputs": [],
      "source": [
        "w = model.state_dict()['linear.weight'].data[0]\n",
        "b = model.state_dict()['linear.bias'].data[0]\n",
        "print(\"w = \", w, \"b = \", b)"
      ],
      "execution_count": null
    },
    {
      "cell_type": "markdown",
      "metadata": {
        "id": "97a08fbb-1cb2-4539-b3e5-c5b67d455f21"
      },
      "source": [
        "Now we can get the accuracy of the training data\n"
      ]
    },
    {
      "cell_type": "code",
      "metadata": {
        "id": "da3d5ded-d719-4779-8396-47565e3035b1"
      },
      "outputs": [],
      "source": [
        "# Getting the predictions\n",
        "yhat = model(data_set.x)\n",
        "# Rounding the prediction to the nearedt integer 0 or 1 representing the classes\n",
        "yhat = torch.round(yhat)\n",
        "# Counter to keep track of correct predictions\n",
        "correct = 0\n",
        "# Goes through each prediction and actual y value\n",
        "for prediction, actual in zip(yhat, data_set.y):\n",
        "    # Compares if the prediction and actualy y value are the same\n",
        "    if (prediction == actual):\n",
        "        # Adds to counter if prediction is correct\n",
        "        correct+=1\n",
        "# Outputs the accuracy by dividing the correct predictions by the length of the dataset\n",
        "print(\"Accuracy: \", correct/len(data_set)*100, \"%\")"
      ],
      "execution_count": null
    },
    {
      "cell_type": "markdown",
      "metadata": {
        "id": "1c2ee3d2-4576-47c8-95a3-bdee2cd7d9ac"
      },
      "source": [
        "Finally, we plot the Cost vs Iteration graph, although it is erratic it is downward sloping.\n"
      ]
    },
    {
      "cell_type": "code",
      "metadata": {
        "id": "f1600257-4933-404e-9b50-50a4e79cbe68"
      },
      "outputs": [],
      "source": [
        "plt.plot(loss_values)\n",
        "plt.xlabel(\"Iteration\")\n",
        "plt.ylabel(\"Cost\")"
      ],
      "execution_count": null
    }
  ],
  "metadata": {
    "kernelspec": {
      "display_name": "Python",
      "language": "python",
      "name": "conda-env-python-py"
    },
    "language_info": {
      "name": ""
    },
    "colab": {
      "provenance": []
    }
  },
  "nbformat": 4,
  "nbformat_minor": 0
}