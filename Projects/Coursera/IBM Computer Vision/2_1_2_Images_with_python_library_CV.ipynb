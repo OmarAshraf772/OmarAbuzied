{
  "cells": [
    {
      "cell_type": "markdown",
      "metadata": {
        "id": "bfML6D9w_9Lp"
      },
      "source": [
        "<p style=\"text-align:center\">\n",
        "    <a href=\"https://skills.network/?utm_medium=Exinfluencer&utm_source=Exinfluencer&utm_content=000026UJ&utm_term=10006555&utm_id=NA-SkillsNetwork-Channel-SkillsNetworkCoursesIBMDeveloperSkillsNetworkCV0101ENCoursera872-2022-01-01\" target=\"_blank\">\n",
        "    <img src=\"https://cf-courses-data.s3.us.cloud-object-storage.appdomain.cloud/assets/logos/SN_web_lightmode.png\" width=\"200\" alt=\"Skills Network Logo\"  />\n",
        "    </a>\n",
        "</p>\n"
      ]
    },
    {
      "source": [
        "# OpenCV Library\n"
      ],
      "cell_type": "markdown",
      "metadata": {
        "id": "c2F_Hckx_9Lu"
      }
    },
    {
      "cell_type": "markdown",
      "metadata": {
        "id": "dA69VDfL_9Lu"
      },
      "source": [
        "Estimated time needed: **60** minutes\n"
      ]
    },
    {
      "cell_type": "markdown",
      "metadata": {
        "id": "B7-U7Mh7_9Lu"
      },
      "source": [
        "<h2>Objectives</h2>\n"
      ]
    },
    {
      "cell_type": "markdown",
      "metadata": {
        "id": "spa3bBOl_9Lu"
      },
      "source": [
        "Image processing and computer vision tasks include displaying, cropping, flipping, rotating,  image segmentation, classification, image restoration,  image recognition, image generation.  Also, working with images via the cloud requires storing and transmitting, and gathering images through the internet.\n",
        "Python is an excellent choice as it has many image processing tools, computer vision, and artificial intelligence libraries. Finally, it has many libraries for working with files in the cloud and the internet.\n",
        "A digital image is simply a file on your computer. In this lab, you will gain an understanding  of these files and learn to work with these files with some popular libraries\n"
      ]
    },
    {
      "cell_type": "markdown",
      "metadata": {
        "id": "ZV0YDH3J_9Lv"
      },
      "source": [
        "<ul>\n",
        "    <li><a href='#PIL'>Open CV </a>\n",
        "        <ul>\n",
        "            <li>Image Files and Paths  </li>\n",
        "            <li>Load in Image in Python</li>\n",
        "            <li>Plotting an Image </li>\n",
        "            <li>Gray Scale Images, Quantization and Color Channels  </li>\n",
        "            <li>Gray Scale Images, Quantization and Color Channels  </li>\n",
        "        </ul>\n",
        "    </li>\n",
        "    \n",
        "</ul>\n"
      ]
    },
    {
      "cell_type": "markdown",
      "metadata": {
        "id": "5dLtCAWE_9Lv"
      },
      "source": [
        "----\n"
      ]
    },
    {
      "cell_type": "markdown",
      "metadata": {
        "id": "imjQiz8R_9Lv"
      },
      "source": [
        "Download the image for the lab:\n"
      ]
    },
    {
      "cell_type": "code",
      "execution_count": null,
      "metadata": {
        "id": "z0GvOLSm_9Lv"
      },
      "outputs": [],
      "source": [
        "!wget https://cf-courses-data.s3.us.cloud-object-storage.appdomain.cloud/IBMDeveloperSkillsNetwork-CV0101EN-SkillsNetwork/images%20/images_part_1/lenna.png -O lenna.png\n",
        "!wget https://cf-courses-data.s3.us.cloud-object-storage.appdomain.cloud/IBMDeveloperSkillsNetwork-CV0101EN-SkillsNetwork/images%20/images_part_1/baboon.png -O baboon.png\n",
        "!wget https://cf-courses-data.s3.us.cloud-object-storage.appdomain.cloud/IBMDeveloperSkillsNetwork-CV0101EN-SkillsNetwork/images%20/images_part_1/barbara.png -O barbara.png"
      ]
    },
    {
      "cell_type": "markdown",
      "metadata": {
        "id": "KxabzZZf_9Lw"
      },
      "source": [
        "First, let's define a helper function to concatenate two images side-by-side. You will need to understand this code this moment, but this function will be used repeatedly in this tutorial to showcase the results.\n"
      ]
    },
    {
      "cell_type": "code",
      "execution_count": null,
      "metadata": {
        "id": "YvpcbXPN_9Lw"
      },
      "outputs": [],
      "source": [
        "def get_concat_h(im1, im2):\n",
        "    #https://note.nkmk.me/en/python-pillow-concat-images/\n",
        "    dst = Image.new('RGB', (im1.width + im2.width, im1.height))\n",
        "    dst.paste(im1, (0, 0))\n",
        "    dst.paste(im2, (im1.width, 0))\n",
        "    return dst"
      ]
    },
    {
      "cell_type": "markdown",
      "metadata": {
        "id": "l2HgEozv_9Lx"
      },
      "source": [
        "## Image Files and Paths  \n"
      ]
    },
    {
      "cell_type": "markdown",
      "metadata": {
        "id": "m25Bw34d_9Lx"
      },
      "source": [
        "An image is stored as a file on your computer. Below, we define `my_image` as the filename of a file in this directory.\n"
      ]
    },
    {
      "cell_type": "code",
      "execution_count": null,
      "metadata": {
        "id": "wEbHCRsz_9Lx"
      },
      "outputs": [],
      "source": [
        "my_image = \"lenna.png\""
      ]
    },
    {
      "cell_type": "markdown",
      "metadata": {
        "id": "Reiiv2Qo_9Ly"
      },
      "source": [
        "Filename consists of two parts, the name of the file and the extension, separated by a full stop (`.`). The extension specifies the format of the image. There are two popular image formats -- Joint Photographic Expert Group image (or `.jpg`, `.jpeg`) and Portable Network Graphics (or `.png`). These file types make it simpler to work with images. For example, it compresses the image using sine/cosine approximations, taking less spaces on your drive to store the image.\n"
      ]
    },
    {
      "cell_type": "markdown",
      "metadata": {
        "id": "kinGCg9A_9Ly"
      },
      "source": [
        "Image files are stored in the file system of your computer. The location of it is specified using a \"path\", which is often unique. You can find the path of your current working directory with Python's `os` module. The `os` module provides functions to interact with the file system, e.g. creating or removing a directory (folder), listing its contents, changing and identifying the current working directory.\n"
      ]
    },
    {
      "cell_type": "code",
      "execution_count": null,
      "metadata": {
        "id": "5gUpmVHk_9Ly"
      },
      "outputs": [],
      "source": [
        "import os\n",
        "cwd = os.getcwd()\n",
        "cwd"
      ]
    },
    {
      "cell_type": "markdown",
      "metadata": {
        "id": "4yS0_L07_9Ly"
      },
      "source": [
        "The \"path\" to an image can be found using the following line of code.\n"
      ]
    },
    {
      "cell_type": "code",
      "execution_count": null,
      "metadata": {
        "id": "jkEO2CwV_9Ly"
      },
      "outputs": [],
      "source": [
        "image_path = os.path.join(cwd, my_image)\n",
        "image_path"
      ]
    },
    {
      "cell_type": "markdown",
      "metadata": {
        "id": "xA_1w2_3_9Ly"
      },
      "source": [
        "## Load in Image in Python\n"
      ]
    },
    {
      "cell_type": "markdown",
      "metadata": {
        "id": "bESfDXag_9Lz"
      },
      "source": [
        "OpenCV is a library used for computer vision. It has more functionality than the `PIL` library but is more difficult to use. We can import `OpenCV` as follows:\n"
      ]
    },
    {
      "cell_type": "code",
      "execution_count": null,
      "metadata": {
        "id": "dviCHhf6_9Lz"
      },
      "outputs": [],
      "source": [
        "import cv2"
      ]
    },
    {
      "cell_type": "markdown",
      "metadata": {
        "id": "nrR9M613_9Lz"
      },
      "source": [
        "The <code>imread()</code> method loads an image from the specified file, the input is the <code>path</code> of the image to be read (just like PIL), the <code>flag</code> paramter specifies how the image should be read, and the default value is <code>cv2.IMREAD_COLOR</code>.\n"
      ]
    },
    {
      "cell_type": "code",
      "execution_count": null,
      "metadata": {
        "id": "R97Wou81_9Lz"
      },
      "outputs": [],
      "source": [
        "image = cv2.imread(my_image)"
      ]
    },
    {
      "cell_type": "markdown",
      "metadata": {
        "id": "IURX8N6i_9Lz"
      },
      "source": [
        "The result is a numpy array with intensity values as 8-bit unsigned integers.\n"
      ]
    },
    {
      "cell_type": "code",
      "execution_count": null,
      "metadata": {
        "id": "pRzo_5P1_9L0"
      },
      "outputs": [],
      "source": [
        "type(image)"
      ]
    },
    {
      "cell_type": "markdown",
      "metadata": {
        "id": "g-05M2bt_9L0"
      },
      "source": [
        "We can get the shape of the array from the `shape` attribute.\n"
      ]
    },
    {
      "cell_type": "code",
      "execution_count": null,
      "metadata": {
        "id": "scYjZZIJ_9L0"
      },
      "outputs": [],
      "source": [
        "image.shape"
      ]
    },
    {
      "cell_type": "markdown",
      "metadata": {
        "id": "Ufpe4ckX_9L0"
      },
      "source": [
        "The shape is the same as the PIL array, but there are several differences; for example, PIL returns in (R, G, B) format whereas OpenCV returns in (B, G, R) format.\n"
      ]
    },
    {
      "cell_type": "markdown",
      "metadata": {
        "id": "frA9CAT3_9L0"
      },
      "source": [
        "Each pixel could take on 256 possible values as intensity, ranging from 0 to 255, with 0 being the lowest intensity and 255 being the highest. The maximum and minimum intensity values of an image can be obtained, respectively, by calling:\n"
      ]
    },
    {
      "cell_type": "code",
      "execution_count": null,
      "metadata": {
        "id": "EufvpBVn_9L1"
      },
      "outputs": [],
      "source": [
        "image.max()"
      ]
    },
    {
      "source": [
        "and\n"
      ],
      "cell_type": "markdown",
      "metadata": {
        "id": "gkoE1onz_9L1"
      }
    },
    {
      "cell_type": "code",
      "execution_count": null,
      "metadata": {
        "id": "tcHGQ3bS_9L1"
      },
      "outputs": [],
      "source": [
        "image.min()"
      ]
    },
    {
      "cell_type": "markdown",
      "metadata": {
        "id": "sZoBZ7bi_9L1"
      },
      "source": [
        "##  Plotting an Image\n"
      ]
    },
    {
      "cell_type": "markdown",
      "metadata": {
        "id": "YgwY9mJu_9L6"
      },
      "source": [
        "You can use OpenCV's `imshow` function to open the image in a new window, but this may give you some issues in Jupyter:\n"
      ]
    },
    {
      "cell_type": "code",
      "execution_count": null,
      "metadata": {
        "id": "bALYK4QE_9L7"
      },
      "outputs": [],
      "source": [
        "#cv2.imshow('image', imgage)\n",
        "#cv2.waitKey(0)\n",
        "#cv2.destroyAllWindows()"
      ]
    },
    {
      "cell_type": "markdown",
      "metadata": {
        "id": "QP2t08Ul_9L7"
      },
      "source": [
        "You can also use the `imshow` function from the `matplotlib` library:\n"
      ]
    },
    {
      "cell_type": "code",
      "execution_count": null,
      "metadata": {
        "id": "sByowttw_9L7"
      },
      "outputs": [],
      "source": [
        "import matplotlib.pyplot as plt"
      ]
    },
    {
      "cell_type": "code",
      "execution_count": null,
      "metadata": {
        "id": "9PFtLVtl_9L7"
      },
      "outputs": [],
      "source": [
        "plt.figure(figsize=(10,10))\n",
        "plt.imshow(image)\n",
        "plt.show()"
      ]
    },
    {
      "cell_type": "markdown",
      "metadata": {
        "id": "tsvk9nL2_9L7"
      },
      "source": [
        "The image output doesn't look natural. This is because the order of RGB Channels are different. We can change the color space with conversion code and the function `cvtColor` from the `cv2` library:\n"
      ]
    },
    {
      "cell_type": "code",
      "execution_count": null,
      "metadata": {
        "id": "_7pg1pgg_9L7"
      },
      "outputs": [],
      "source": [
        "new_image=cv2.cvtColor(image, cv2.COLOR_BGR2RGB)"
      ]
    },
    {
      "cell_type": "code",
      "execution_count": null,
      "metadata": {
        "id": "ibCV3yWC_9L7"
      },
      "outputs": [],
      "source": [
        "plt.figure(figsize=(10,10))\n",
        "plt.imshow(new_image)\n",
        "plt.show()"
      ]
    },
    {
      "cell_type": "markdown",
      "metadata": {
        "id": "B56MX5Ad_9L7"
      },
      "source": [
        "You can also load the image using its path, this comes in handy if the image is not in your working directory:\n"
      ]
    },
    {
      "cell_type": "code",
      "execution_count": null,
      "metadata": {
        "id": "WBCddKDc_9L7"
      },
      "outputs": [],
      "source": [
        "image = cv2.imread(image_path)\n",
        "image.shape"
      ]
    },
    {
      "cell_type": "markdown",
      "metadata": {
        "id": "NmkMzBD__9L8"
      },
      "source": [
        "You can save the image as in `jpg` format.\n"
      ]
    },
    {
      "cell_type": "code",
      "execution_count": null,
      "metadata": {
        "id": "WPRl0-hl_9L8"
      },
      "outputs": [],
      "source": [
        "cv2.imwrite(\"lenna.jpg\", image)"
      ]
    },
    {
      "cell_type": "markdown",
      "metadata": {
        "id": "fk3TEs1q_9L8"
      },
      "source": [
        "### Grayscale Images\n"
      ]
    },
    {
      "cell_type": "markdown",
      "metadata": {
        "id": "0q9HQLw7_9L8"
      },
      "source": [
        "Grayscale images have pixel values representing the amount of light or intensity. Light shades of gray have a high-intensity darker shades have a lower intensity. White has the highest intensity, and black the lowest. We can convert an image to Gray Scale using a color conversion code and the function <code>cvtColor</code>.\n"
      ]
    },
    {
      "cell_type": "markdown",
      "metadata": {
        "id": "VtxIZVum_9L8"
      },
      "source": [
        "The code for RGB to gray is <code>cv2.COLOR_BGR2GRAY</code>, we apply the function:\n"
      ]
    },
    {
      "cell_type": "code",
      "execution_count": null,
      "metadata": {
        "id": "J308Iuwf_9L9"
      },
      "outputs": [],
      "source": [
        "image_gray = cv2.cvtColor(image, cv2.COLOR_BGR2GRAY)"
      ]
    },
    {
      "cell_type": "markdown",
      "metadata": {
        "id": "8o3JbtgT_9L9"
      },
      "source": [
        "The image array has only two dimensions, i.e. only one color channel:\n"
      ]
    },
    {
      "cell_type": "code",
      "execution_count": null,
      "metadata": {
        "id": "8DKmANtY_9L9"
      },
      "outputs": [],
      "source": [
        "image_gray.shape"
      ]
    },
    {
      "cell_type": "markdown",
      "metadata": {
        "id": "pbVJyJJ7_9L9"
      },
      "source": [
        "We can plot the image using `imshow` but we have to specify the color map is gray:\n"
      ]
    },
    {
      "cell_type": "code",
      "execution_count": null,
      "metadata": {
        "id": "s6C95jlF_9L9"
      },
      "outputs": [],
      "source": [
        "plt.figure(figsize=(10, 10))\n",
        "plt.imshow(image_gray, cmap='gray')\n",
        "plt.show()"
      ]
    },
    {
      "cell_type": "markdown",
      "metadata": {
        "id": "_Ae5M4p4_9L9"
      },
      "source": [
        "We can save the image as a grayscale image, let's save it as a `jpg` as well, in the working directory.\n"
      ]
    },
    {
      "cell_type": "code",
      "execution_count": null,
      "metadata": {
        "id": "eObhH-6k_9L-"
      },
      "outputs": [],
      "source": [
        "cv2.imwrite('lena_gray_cv.jpg', image_gray)"
      ]
    },
    {
      "cell_type": "markdown",
      "metadata": {
        "id": "ZN3QeNnW_9L-"
      },
      "source": [
        "You can also load in a grayscale image we have to set <code>flag</code> parameter to gray color conversation code: <code>cv2.COLOR_BGR2GRAY</code>:\n"
      ]
    },
    {
      "cell_type": "code",
      "execution_count": null,
      "metadata": {
        "id": "73yakQn8_9L-"
      },
      "outputs": [],
      "source": [
        "im_gray = cv2.imread('barbara.png', cv2.IMREAD_GRAYSCALE)"
      ]
    },
    {
      "cell_type": "markdown",
      "metadata": {
        "id": "V1DImvzB_9L-"
      },
      "source": [
        "We can plot the image:\n"
      ]
    },
    {
      "cell_type": "code",
      "execution_count": null,
      "metadata": {
        "id": "UZMPJfHT_9L-"
      },
      "outputs": [],
      "source": [
        "plt.figure(figsize=(10,10))\n",
        "plt.imshow(im_gray,cmap='gray')\n",
        "plt.show()"
      ]
    },
    {
      "cell_type": "markdown",
      "metadata": {
        "id": "YGa24ZKh_9L-"
      },
      "source": [
        "### Color Channels  \n"
      ]
    },
    {
      "cell_type": "markdown",
      "metadata": {
        "id": "VWwP5seH_9L_"
      },
      "source": [
        "We can also work with the different color channels. Consider the following image:\n"
      ]
    },
    {
      "cell_type": "code",
      "execution_count": null,
      "metadata": {
        "id": "l1wi4AAZ_9L_"
      },
      "outputs": [],
      "source": [
        "baboon=cv2.imread('baboon.png')\n",
        "plt.figure(figsize=(10,10))\n",
        "plt.imshow(cv2.cvtColor(baboon, cv2.COLOR_BGR2RGB))\n",
        "plt.show()"
      ]
    },
    {
      "cell_type": "markdown",
      "metadata": {
        "id": "hVX6pOz8_9L_"
      },
      "source": [
        "We can obtain the different RGB colors and assign them to the variables <code>blue</code>, <code>green</code>, and <code>red</code>, in (B, G, R) format.\n"
      ]
    },
    {
      "cell_type": "code",
      "execution_count": null,
      "metadata": {
        "id": "3nXQ8J9N_9L_"
      },
      "outputs": [],
      "source": [
        "blue, green, red = baboon[:, :, 0], baboon[:, :, 1], baboon[:, :, 2]"
      ]
    },
    {
      "cell_type": "markdown",
      "metadata": {
        "id": "XP9TT3TL_9MA"
      },
      "source": [
        "We can concatenate each image channel the images using the function <code>vconcat</code>.\n"
      ]
    },
    {
      "cell_type": "code",
      "execution_count": null,
      "metadata": {
        "id": "R1BXyZot_9MA"
      },
      "outputs": [],
      "source": [
        "im_bgr = cv2.vconcat([blue, green, red])"
      ]
    },
    {
      "cell_type": "markdown",
      "metadata": {
        "id": "k8piep2y_9MA"
      },
      "source": [
        "Plotting the color image next to the red channel in grayscale, we see that regions with red have higher intensity values.\n"
      ]
    },
    {
      "cell_type": "code",
      "execution_count": null,
      "metadata": {
        "id": "t64nkaNv_9MA"
      },
      "outputs": [],
      "source": [
        "plt.figure(figsize=(10,10))\n",
        "plt.subplot(121)\n",
        "plt.imshow(cv2.cvtColor(baboon, cv2.COLOR_BGR2RGB))\n",
        "plt.title(\"RGB image\")\n",
        "plt.subplot(122)\n",
        "plt.imshow(im_bgr,cmap='gray')\n",
        "plt.title(\"Different color channels  blue (top), green (middle), red (bottom)  \")\n",
        "plt.show()"
      ]
    },
    {
      "cell_type": "markdown",
      "metadata": {
        "id": "-nm10qKb_9MA"
      },
      "source": [
        "### Indexing  \n"
      ]
    },
    {
      "cell_type": "markdown",
      "metadata": {
        "id": "Mxbc6IGf_9MA"
      },
      "source": [
        "We can use numpy slicing. For example, we can return the first 256 rows corresponding to the top half of the image:\n"
      ]
    },
    {
      "cell_type": "code",
      "execution_count": null,
      "metadata": {
        "id": "VpoYTVfF_9MB"
      },
      "outputs": [],
      "source": [
        "rows = 256"
      ]
    },
    {
      "cell_type": "code",
      "execution_count": null,
      "metadata": {
        "id": "fPjslVf3_9MC"
      },
      "outputs": [],
      "source": [
        "plt.figure(figsize=(10,10))\n",
        "plt.imshow(new_image[0:rows,:,:])\n",
        "plt.show()"
      ]
    },
    {
      "cell_type": "markdown",
      "metadata": {
        "id": "TBzbzHoX_9MC"
      },
      "source": [
        "We can also return the first 256 columns corresponding to the first half of the image:\n"
      ]
    },
    {
      "cell_type": "code",
      "execution_count": null,
      "metadata": {
        "id": "RUDcySNW_9MC"
      },
      "outputs": [],
      "source": [
        "columns = 256"
      ]
    },
    {
      "cell_type": "code",
      "execution_count": null,
      "metadata": {
        "id": "Ec83nRnY_9MC"
      },
      "outputs": [],
      "source": [
        "plt.figure(figsize=(10,10))\n",
        "plt.imshow(new_image[:,0:columns,:])\n",
        "plt.show()"
      ]
    },
    {
      "cell_type": "markdown",
      "metadata": {
        "id": "2X7AezDZ_9MC"
      },
      "source": [
        "If you want to reassign an array to another variable, you should use the `copy` method (we will cover this in the next section).\n"
      ]
    },
    {
      "cell_type": "code",
      "execution_count": null,
      "metadata": {
        "id": "pp0uUZI7_9MD"
      },
      "outputs": [],
      "source": [
        "A = new_image.copy()\n",
        "plt.imshow(A)\n",
        "plt.show()"
      ]
    },
    {
      "cell_type": "markdown",
      "metadata": {
        "id": "7GynN9Hr_9MD"
      },
      "source": [
        "If we do not apply the method `copy()`, the variable will point to the same location in memory. Consider the variable `B` below, if we set all values of array `A` to zero, since `A` and `B` points to the same object in the memory, `B` will also have all-zero elements:\n"
      ]
    },
    {
      "cell_type": "code",
      "execution_count": null,
      "metadata": {
        "id": "pYw1lF8f_9MD"
      },
      "outputs": [],
      "source": [
        "B = A\n",
        "A[:,:,:] = 0\n",
        "plt.imshow(B)\n",
        "plt.show()"
      ]
    },
    {
      "cell_type": "markdown",
      "metadata": {
        "id": "-Q85m27d_9MD"
      },
      "source": [
        "We can also manipulate elements using indexing. In the following piece of code, we create a new array `baboon_red` and set all but the red color channels to zero. Therefore, when we display the image, it appears red:\n"
      ]
    },
    {
      "cell_type": "code",
      "execution_count": null,
      "metadata": {
        "id": "bLlYdvX2_9ME"
      },
      "outputs": [],
      "source": [
        "baboon_red = baboon.copy()\n",
        "baboon_red[:, :, 0] = 0\n",
        "baboon_red[:, :, 1] = 0\n",
        "plt.figure(figsize=(10, 10))\n",
        "plt.imshow(cv2.cvtColor(baboon_red, cv2.COLOR_BGR2RGB))\n",
        "plt.show()"
      ]
    },
    {
      "cell_type": "markdown",
      "metadata": {
        "id": "Qfh2YglB_9ME"
      },
      "source": [
        "We can do the same for blue:  \n"
      ]
    },
    {
      "cell_type": "code",
      "execution_count": null,
      "metadata": {
        "id": "prUdVx7L_9ME"
      },
      "outputs": [],
      "source": [
        "baboon_blue = baboon.copy()\n",
        "baboon_blue[:, :, 1] = 0\n",
        "baboon_blue[:, :, 2] = 0\n",
        "plt.figure(figsize=(10, 10))\n",
        "plt.imshow(cv2.cvtColor(baboon_blue, cv2.COLOR_BGR2RGB))\n",
        "plt.show()"
      ]
    },
    {
      "cell_type": "markdown",
      "metadata": {
        "id": "VBG43H0b_9ME"
      },
      "source": [
        "We can do the same for green:\n"
      ]
    },
    {
      "cell_type": "code",
      "execution_count": null,
      "metadata": {
        "id": "4Qiazq6q_9ME"
      },
      "outputs": [],
      "source": [
        "baboon_green = baboon.copy()\n",
        "baboon_green[:, :, 0] = 0\n",
        "baboon_green[:, :, 2] = 0\n",
        "plt.figure(figsize=(10,10))\n",
        "plt.imshow(cv2.cvtColor(baboon_green, cv2.COLOR_BGR2RGB))\n",
        "plt.show()"
      ]
    },
    {
      "cell_type": "code",
      "execution_count": null,
      "metadata": {
        "id": "dGiZr5SI_9MF"
      },
      "outputs": [],
      "source": [
        "image=cv2.imread('baboon.png')"
      ]
    },
    {
      "cell_type": "code",
      "execution_count": null,
      "metadata": {
        "id": "JZnJWUGD_9MF"
      },
      "outputs": [],
      "source": [
        "plt.figure(figsize=(10,10))\n",
        "plt.imshow(cv2.cvtColor(image, cv2.COLOR_BGR2RGB))\n",
        "plt.show()"
      ]
    },
    {
      "cell_type": "code",
      "execution_count": null,
      "metadata": {
        "id": "0kFlsPMt_9MF"
      },
      "outputs": [],
      "source": [
        "image=cv2.imread('baboon.png') # replace and add you image here name\n",
        "baboon_blue=image.copy()\n",
        "baboon_blue[:,:,1] = 0\n",
        "baboon_blue[:,:,2] = 0\n",
        "plt.figure(figsize=(10,10))\n",
        "plt.imshow(cv2.cvtColor(baboon_blue, cv2.COLOR_BGR2RGB))\n",
        "plt.show()"
      ]
    }
  ],
  "metadata": {
    "kernelspec": {
      "display_name": "Python",
      "language": "python",
      "name": "conda-env-python-py"
    },
    "language_info": {
      "name": ""
    },
    "colab": {
      "provenance": []
    }
  },
  "nbformat": 4,
  "nbformat_minor": 0
}