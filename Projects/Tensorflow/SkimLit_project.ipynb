{
  "nbformat": 4,
  "nbformat_minor": 0,
  "metadata": {
    "colab": {
      "provenance": [],
      "gpuType": "T4"
    },
    "kernelspec": {
      "name": "python3",
      "display_name": "Python 3"
    },
    "language_info": {
      "name": "python"
    },
    "accelerator": "GPU"
  },
  "cells": [
    {
      "cell_type": "markdown",
      "source": [
        "# SkimLit NLP\n",
        "\n",
        "The purpose of this notebook is to build an NLP model to make reading medical abstracts easier.\n",
        "\n",
        "The paper we're replicating (the source of the dataset that we'll be using) is available here: https://arxiv.org/abs/1710.06071\n",
        "\n",
        "And reading through the paper above, we see that the model architecture that they use to achieve their best results is available here: https://arxiv.org/abs/1612.05251"
      ],
      "metadata": {
        "id": "eR7fR90vtidC"
      }
    },
    {
      "cell_type": "code",
      "execution_count": null,
      "metadata": {
        "id": "COz8rt1IZzOW"
      },
      "outputs": [],
      "source": [
        "import tensorflow as tf\n",
        "import numpy as np\n",
        "import matplotlib.pyplot as plt\n",
        "import pandas as pd"
      ]
    },
    {
      "cell_type": "code",
      "source": [
        "!wget https://raw.githubusercontent.com/mrdbourke/tensorflow-deep-learning/main/extras/helper_functions.py #download helper functions"
      ],
      "metadata": {
        "colab": {
          "base_uri": "https://localhost:8080/"
        },
        "id": "CculuFGLuWvJ",
        "outputId": "213d9997-898b-4ba5-e517-92985ba56aa8"
      },
      "execution_count": null,
      "outputs": [
        {
          "output_type": "stream",
          "name": "stdout",
          "text": [
            "--2024-01-04 15:50:42--  https://raw.githubusercontent.com/mrdbourke/tensorflow-deep-learning/main/extras/helper_functions.py\n",
            "Resolving raw.githubusercontent.com (raw.githubusercontent.com)... 185.199.108.133, 185.199.109.133, 185.199.110.133, ...\n",
            "Connecting to raw.githubusercontent.com (raw.githubusercontent.com)|185.199.108.133|:443... connected.\n",
            "HTTP request sent, awaiting response... 200 OK\n",
            "Length: 10246 (10K) [text/plain]\n",
            "Saving to: ‘helper_functions.py’\n",
            "\n",
            "\rhelper_functions.py   0%[                    ]       0  --.-KB/s               \rhelper_functions.py 100%[===================>]  10.01K  --.-KB/s    in 0s      \n",
            "\n",
            "2024-01-04 15:50:43 (113 MB/s) - ‘helper_functions.py’ saved [10246/10246]\n",
            "\n"
          ]
        }
      ]
    },
    {
      "cell_type": "code",
      "source": [
        "from helper_functions import *"
      ],
      "metadata": {
        "id": "iFe9yr0XufO_"
      },
      "execution_count": null,
      "outputs": []
    },
    {
      "cell_type": "code",
      "source": [
        "!git clone https://github.com/Franck-Dernoncourt/pubmed-rct.git #clone into dataset git"
      ],
      "metadata": {
        "colab": {
          "base_uri": "https://localhost:8080/"
        },
        "id": "OAKKM8MAqnKP",
        "outputId": "a18b7b19-9f7a-4a21-f57b-1b25a10e0d3b"
      },
      "execution_count": null,
      "outputs": [
        {
          "output_type": "stream",
          "name": "stdout",
          "text": [
            "Cloning into 'pubmed-rct'...\n",
            "remote: Enumerating objects: 39, done.\u001b[K\n",
            "remote: Counting objects: 100% (14/14), done.\u001b[K\n",
            "remote: Compressing objects: 100% (9/9), done.\u001b[K\n",
            "remote: Total 39 (delta 8), reused 5 (delta 5), pack-reused 25\u001b[K\n",
            "Receiving objects: 100% (39/39), 177.08 MiB | 43.42 MiB/s, done.\n",
            "Resolving deltas: 100% (15/15), done.\n"
          ]
        }
      ]
    },
    {
      "cell_type": "code",
      "source": [
        "# Check what files are in the PubMed_20K dataset\n",
        "!ls /content/pubmed-rct/PubMed_20k_RCT_numbers_replaced_with_at_sign/"
      ],
      "metadata": {
        "colab": {
          "base_uri": "https://localhost:8080/"
        },
        "id": "zt_cjGrdqqBa",
        "outputId": "13c8dbda-177b-4ed5-dd66-7b585f50d0ee"
      },
      "execution_count": null,
      "outputs": [
        {
          "output_type": "stream",
          "name": "stdout",
          "text": [
            "dev.txt  test.txt  train.txt\n"
          ]
        }
      ]
    },
    {
      "cell_type": "code",
      "source": [
        "# Start using the 20k dataset with numbers replaced by \"@\" sign\n",
        "data_dir=\"/content/pubmed-rct/PubMed_20k_RCT_numbers_replaced_with_at_sign/\""
      ],
      "metadata": {
        "id": "H84dX0z4uqwK"
      },
      "execution_count": null,
      "outputs": []
    },
    {
      "cell_type": "code",
      "source": [
        "# Check all of the filenames in the target directory\n",
        "import os\n",
        "filenames=[data_dir + filename for filename in os.listdir(data_dir)]\n",
        "filenames"
      ],
      "metadata": {
        "colab": {
          "base_uri": "https://localhost:8080/"
        },
        "id": "xb1L9_tBxG1K",
        "outputId": "9eb0eae3-c92c-4c55-90be-544c8d884e6a"
      },
      "execution_count": null,
      "outputs": [
        {
          "output_type": "execute_result",
          "data": {
            "text/plain": [
              "['/content/pubmed-rct/PubMed_20k_RCT_numbers_replaced_with_at_sign/test.txt',\n",
              " '/content/pubmed-rct/PubMed_20k_RCT_numbers_replaced_with_at_sign/dev.txt',\n",
              " '/content/pubmed-rct/PubMed_20k_RCT_numbers_replaced_with_at_sign/train.txt']"
            ]
          },
          "metadata": {},
          "execution_count": 8
        }
      ]
    },
    {
      "cell_type": "code",
      "source": [
        "# Create function to read the lines of a document\n",
        "def get_lines(filename):\n",
        "  with open(filename, \"r\") as f:\n",
        "    return f.readlines()"
      ],
      "metadata": {
        "id": "cDA6-O52xRBS"
      },
      "execution_count": null,
      "outputs": []
    },
    {
      "cell_type": "code",
      "source": [
        "# read in the training lines\n",
        "train_lines=get_lines(filenames[1])"
      ],
      "metadata": {
        "id": "iScU750Fyaej"
      },
      "execution_count": null,
      "outputs": []
    },
    {
      "cell_type": "code",
      "source": [
        "train_lines[:20]"
      ],
      "metadata": {
        "id": "KHpp-0JGyncC",
        "colab": {
          "base_uri": "https://localhost:8080/"
        },
        "outputId": "cf4e19e5-b690-4131-9f9e-32094f399e62"
      },
      "execution_count": null,
      "outputs": [
        {
          "output_type": "execute_result",
          "data": {
            "text/plain": [
              "['###24290286\\n',\n",
              " 'BACKGROUND\\tIgE sensitization to Aspergillus fumigatus and a positive sputum fungal culture result are common in patients with refractory asthma .\\n',\n",
              " 'BACKGROUND\\tIt is not clear whether these patients would benefit from antifungal treatment .\\n',\n",
              " 'OBJECTIVE\\tWe sought to determine whether a @-month course of voriconazole improved asthma-related outcomes in patients with asthma who are IgE sensitized to A fumigatus .\\n',\n",
              " 'METHODS\\tAsthmatic patients who were IgE sensitized to A fumigatus with a history of at least @ severe exacerbations in the previous @ months were treated for @ months with @ mg of voriconazole twice daily , followed by observation for @ months , in a double-blind , placebo-controlled , randomized design .\\n',\n",
              " 'METHODS\\tPrimary outcomes were improvement in quality of life at the end of the treatment period and a reduction in the number of severe exacerbations over the @ months of the study .\\n',\n",
              " 'RESULTS\\tSixty-five patients were randomized .\\n',\n",
              " 'RESULTS\\tFifty-nine patients started treatment ( @ receiving voriconazole and @ receiving placebo ) and were included in an intention-to-treat analysis .\\n',\n",
              " 'RESULTS\\tFifty-six patients took the full @ months of medication .\\n',\n",
              " 'RESULTS\\tBetween the voriconazole and placebo groups , there were no significant differences in the number of severe exacerbations ( @ vs @ per patient per year , respectively ; mean difference , @ ; @ % CI , @-@ @ ) , quality of life ( change in Asthma Quality of Life Questionnaire score , @ vs @ ; mean difference between groups , @ ; @ % CI , -@ to -@ ) , or any of our secondary outcome measures .\\n',\n",
              " 'CONCLUSIONS\\tWe were unable to show a beneficial effect of @ months of treatment with voriconazole in patients with moderate-to-severe asthma who were IgE sensitized to A fumigatus on either the rate of severe exacerbations , quality of life , or other markers of asthma control .\\n',\n",
              " '\\n',\n",
              " '###24464531\\n',\n",
              " 'BACKGROUND\\tOpioid antagonists ( e.g. , naltrexone ) and positive modulators of - aminobutyric-acidA ( GABAA ) receptors ( e.g. , alprazolam ) modestly attenuate the abuse-related effects of stimulants like amphetamine .\\n',\n",
              " 'BACKGROUND\\tThe use of higher doses to achieve greater efficacy is precluded by side effects .\\n',\n",
              " 'BACKGROUND\\tCombining naltrexone and alprazolam might safely maximize efficacy while avoiding the untoward effects of the constituent compounds .\\n',\n",
              " 'OBJECTIVE\\tThe present pilot study tested the hypothesis that acute pretreatment with the combination of naltrexone and alprazolam would not produce clinically problematic physiological effects or negative subjective effects and would reduce the positive subjective effects of d-amphetamine to a greater extent than the constituent drugs alone .\\n',\n",
              " 'METHODS\\tEight nontreatment-seeking , stimulant-using individuals completed an outpatient experiment in which oral d-amphetamine ( @ , @ , and @ mg ) was administered following acute pretreatment with naltrexone ( @ and @ mg ) and alprazolam ( @ and @ mg ) .\\n',\n",
              " 'METHODS\\tSubjective effects , psychomotor task performance , and physiological measures were collected .\\n',\n",
              " 'RESULTS\\tOral d-amphetamine produced prototypical physiological and stimulant-like positive subjective effects ( e.g. , VAS ratings of Active/Alert/Energetic , Good Effect , and High ) .\\n']"
            ]
          },
          "metadata": {},
          "execution_count": 11
        }
      ]
    },
    {
      "cell_type": "markdown",
      "source": [
        "\n",
        "\n",
        "how we want our data to look...\n",
        "\n",
        "```\n",
        "[{'line_number': 0,\n",
        "   'target': 'BACKGROUND',\n",
        "   'text': \"Emotional eating is associated with overeating and the development of obesity .\\n\"\n",
        "   'total_lines': 11},\n",
        "   ...]\n",
        "```\n",
        "\n",
        "\n",
        "\n",
        "write a function which turns each of our datasets into the above format to continue preparing the data for modelling.\n"
      ],
      "metadata": {
        "id": "k3UeIniEJTor"
      }
    },
    {
      "cell_type": "code",
      "source": [
        "def preprocess_text_with_line_numbers(filename):\n",
        "\n",
        "  input_lines = get_lines(filename) # get all lines from filename\n",
        "  abstract_lines = \"\"  # create an empty abstract\n",
        "  abstract_samples = [] # create an empty list of abstracts\n",
        "\n",
        "# Loop through each line in the target file\n",
        "  for line in input_lines:\n",
        "    if line.startswith(\"###\"): # check to see if the is an ID line\n",
        "      abstract_id = line\n",
        "      abstract_lines = \"\" # reset the abstract string if the line is an ID line\n",
        "    elif line.isspace(): # check to see if line is a new line\n",
        "      abstract_line_split = abstract_lines.splitlines() # split abstract into separate lines\n",
        "\n",
        "      # Iterate through each line in a single abstract and count them at the same time\n",
        "      for abstract_line_number, abstract_line in enumerate(abstract_line_split):\n",
        "        line_data = {} # create an empty dictionary for each line\n",
        "        target_text_split = abstract_line.split(\"\\t\")\n",
        "        line_data[\"target\"] = target_text_split[0]\n",
        "        line_data[\"text\"] = target_text_split[1].lower()\n",
        "        line_data[\"line_number\"] = abstract_line_number\n",
        "        line_data[\"total_lines\"] = len(abstract_line_split) - 1\n",
        "        abstract_samples.append(line_data)\n",
        "\n",
        "    else: # if the above conditions aren't fulfilled, the line contains a labelled sentence\n",
        "      abstract_lines += line\n",
        "\n",
        "  return abstract_samples"
      ],
      "metadata": {
        "id": "XAF1yDtYyo7a"
      },
      "execution_count": null,
      "outputs": []
    },
    {
      "cell_type": "code",
      "source": [
        "# Get data from file and preprocess it\n",
        "train_samples = preprocess_text_with_line_numbers(data_dir + \"train.txt\")\n",
        "val_samples = preprocess_text_with_line_numbers(data_dir + \"dev.txt\")\n",
        "test_samples = preprocess_text_with_line_numbers(data_dir + \"test.txt\")\n",
        "len(train_samples), len(val_samples), len(test_samples)"
      ],
      "metadata": {
        "colab": {
          "base_uri": "https://localhost:8080/"
        },
        "id": "pBF4y87G3ob8",
        "outputId": "352d1db9-0955-4cd3-c427-05721688da65"
      },
      "execution_count": null,
      "outputs": [
        {
          "output_type": "execute_result",
          "data": {
            "text/plain": [
              "(180040, 30212, 30135)"
            ]
          },
          "metadata": {},
          "execution_count": 13
        }
      ]
    },
    {
      "cell_type": "code",
      "source": [
        "# Check the first abstract of our training data\n",
        "train_samples[:20]"
      ],
      "metadata": {
        "id": "DY25c1K66nVf",
        "colab": {
          "base_uri": "https://localhost:8080/"
        },
        "outputId": "640b657e-d869-4843-d01f-6db2589d9c3a"
      },
      "execution_count": null,
      "outputs": [
        {
          "output_type": "execute_result",
          "data": {
            "text/plain": [
              "[{'target': 'OBJECTIVE',\n",
              "  'text': 'to investigate the efficacy of @ weeks of daily low-dose oral prednisolone in improving pain , mobility , and systemic low-grade inflammation in the short term and whether the effect would be sustained at @ weeks in older adults with moderate to severe knee osteoarthritis ( oa ) .',\n",
              "  'line_number': 0,\n",
              "  'total_lines': 11},\n",
              " {'target': 'METHODS',\n",
              "  'text': 'a total of @ patients with primary knee oa were randomized @:@ ; @ received @ mg/day of prednisolone and @ received placebo for @ weeks .',\n",
              "  'line_number': 1,\n",
              "  'total_lines': 11},\n",
              " {'target': 'METHODS',\n",
              "  'text': 'outcome measures included pain reduction and improvement in function scores and systemic inflammation markers .',\n",
              "  'line_number': 2,\n",
              "  'total_lines': 11},\n",
              " {'target': 'METHODS',\n",
              "  'text': 'pain was assessed using the visual analog pain scale ( @-@ mm ) .',\n",
              "  'line_number': 3,\n",
              "  'total_lines': 11},\n",
              " {'target': 'METHODS',\n",
              "  'text': 'secondary outcome measures included the western ontario and mcmaster universities osteoarthritis index scores , patient global assessment ( pga ) of the severity of knee oa , and @-min walk distance ( @mwd ) .',\n",
              "  'line_number': 4,\n",
              "  'total_lines': 11},\n",
              " {'target': 'METHODS',\n",
              "  'text': 'serum levels of interleukin @ ( il-@ ) , il-@ , tumor necrosis factor ( tnf ) - , and high-sensitivity c-reactive protein ( hscrp ) were measured .',\n",
              "  'line_number': 5,\n",
              "  'total_lines': 11},\n",
              " {'target': 'RESULTS',\n",
              "  'text': 'there was a clinically relevant reduction in the intervention group compared to the placebo group for knee pain , physical function , pga , and @mwd at @ weeks .',\n",
              "  'line_number': 6,\n",
              "  'total_lines': 11},\n",
              " {'target': 'RESULTS',\n",
              "  'text': 'the mean difference between treatment arms ( @ % ci ) was @ ( @-@ @ ) , p < @ ; @ ( @-@ @ ) , p < @ ; @ ( @-@ @ ) , p < @ ; and @ ( @-@ @ ) , p < @ , respectively .',\n",
              "  'line_number': 7,\n",
              "  'total_lines': 11},\n",
              " {'target': 'RESULTS',\n",
              "  'text': 'further , there was a clinically relevant reduction in the serum levels of il-@ , il-@ , tnf - , and hscrp at @ weeks in the intervention group when compared to the placebo group .',\n",
              "  'line_number': 8,\n",
              "  'total_lines': 11},\n",
              " {'target': 'RESULTS',\n",
              "  'text': 'these differences remained significant at @ weeks .',\n",
              "  'line_number': 9,\n",
              "  'total_lines': 11},\n",
              " {'target': 'RESULTS',\n",
              "  'text': 'the outcome measures in rheumatology clinical trials-osteoarthritis research society international responder rate was @ % in the intervention group and @ % in the placebo group ( p < @ ) .',\n",
              "  'line_number': 10,\n",
              "  'total_lines': 11},\n",
              " {'target': 'CONCLUSIONS',\n",
              "  'text': 'low-dose oral prednisolone had both a short-term and a longer sustained effect resulting in less knee pain , better physical function , and attenuation of systemic inflammation in older patients with knee oa ( clinicaltrials.gov identifier nct@ ) .',\n",
              "  'line_number': 11,\n",
              "  'total_lines': 11},\n",
              " {'target': 'BACKGROUND',\n",
              "  'text': 'emotional eating is associated with overeating and the development of obesity .',\n",
              "  'line_number': 0,\n",
              "  'total_lines': 10},\n",
              " {'target': 'BACKGROUND',\n",
              "  'text': 'yet , empirical evidence for individual ( trait ) differences in emotional eating and cognitive mechanisms that contribute to eating during sad mood remain equivocal .',\n",
              "  'line_number': 1,\n",
              "  'total_lines': 10},\n",
              " {'target': 'OBJECTIVE',\n",
              "  'text': 'the aim of this study was to test if attention bias for food moderates the effect of self-reported emotional eating during sad mood ( vs neutral mood ) on actual food intake .',\n",
              "  'line_number': 2,\n",
              "  'total_lines': 10},\n",
              " {'target': 'OBJECTIVE',\n",
              "  'text': 'it was expected that emotional eating is predictive of elevated attention for food and higher food intake after an experimentally induced sad mood and that attentional maintenance on food predicts food intake during a sad versus a neutral mood .',\n",
              "  'line_number': 3,\n",
              "  'total_lines': 10},\n",
              " {'target': 'METHODS',\n",
              "  'text': 'participants ( n = @ ) were randomly assigned to one of the two experimental mood induction conditions ( sad/neutral ) .',\n",
              "  'line_number': 4,\n",
              "  'total_lines': 10},\n",
              " {'target': 'METHODS',\n",
              "  'text': 'attentional biases for high caloric foods were measured by eye tracking during a visual probe task with pictorial food and neutral stimuli .',\n",
              "  'line_number': 5,\n",
              "  'total_lines': 10},\n",
              " {'target': 'METHODS',\n",
              "  'text': 'self-reported emotional eating was assessed with the dutch eating behavior questionnaire ( debq ) and ad libitum food intake was tested by a disguised food offer .',\n",
              "  'line_number': 6,\n",
              "  'total_lines': 10},\n",
              " {'target': 'RESULTS',\n",
              "  'text': 'hierarchical multivariate regression modeling showed that self-reported emotional eating did not account for changes in attention allocation for food or food intake in either condition .',\n",
              "  'line_number': 7,\n",
              "  'total_lines': 10}]"
            ]
          },
          "metadata": {},
          "execution_count": 14
        }
      ]
    },
    {
      "cell_type": "code",
      "source": [
        "train_df=pd.DataFrame(train_samples)\n",
        "val_df=pd.DataFrame(val_samples)\n",
        "test_df=pd.DataFrame(test_samples)"
      ],
      "metadata": {
        "id": "pAz1tPMw6pHr"
      },
      "execution_count": null,
      "outputs": []
    },
    {
      "cell_type": "code",
      "source": [
        "train_df.head()"
      ],
      "metadata": {
        "colab": {
          "base_uri": "https://localhost:8080/",
          "height": 206
        },
        "id": "hTtmsRzd8Q3r",
        "outputId": "d9012544-322d-4c98-eb1f-02407bab2b71"
      },
      "execution_count": null,
      "outputs": [
        {
          "output_type": "execute_result",
          "data": {
            "text/plain": [
              "      target                                               text  line_number  \\\n",
              "0  OBJECTIVE  to investigate the efficacy of @ weeks of dail...            0   \n",
              "1    METHODS  a total of @ patients with primary knee oa wer...            1   \n",
              "2    METHODS  outcome measures included pain reduction and i...            2   \n",
              "3    METHODS  pain was assessed using the visual analog pain...            3   \n",
              "4    METHODS  secondary outcome measures included the wester...            4   \n",
              "\n",
              "   total_lines  \n",
              "0           11  \n",
              "1           11  \n",
              "2           11  \n",
              "3           11  \n",
              "4           11  "
            ],
            "text/html": [
              "\n",
              "  <div id=\"df-0d574b41-ebac-431f-832a-eaad0174e209\" class=\"colab-df-container\">\n",
              "    <div>\n",
              "<style scoped>\n",
              "    .dataframe tbody tr th:only-of-type {\n",
              "        vertical-align: middle;\n",
              "    }\n",
              "\n",
              "    .dataframe tbody tr th {\n",
              "        vertical-align: top;\n",
              "    }\n",
              "\n",
              "    .dataframe thead th {\n",
              "        text-align: right;\n",
              "    }\n",
              "</style>\n",
              "<table border=\"1\" class=\"dataframe\">\n",
              "  <thead>\n",
              "    <tr style=\"text-align: right;\">\n",
              "      <th></th>\n",
              "      <th>target</th>\n",
              "      <th>text</th>\n",
              "      <th>line_number</th>\n",
              "      <th>total_lines</th>\n",
              "    </tr>\n",
              "  </thead>\n",
              "  <tbody>\n",
              "    <tr>\n",
              "      <th>0</th>\n",
              "      <td>OBJECTIVE</td>\n",
              "      <td>to investigate the efficacy of @ weeks of dail...</td>\n",
              "      <td>0</td>\n",
              "      <td>11</td>\n",
              "    </tr>\n",
              "    <tr>\n",
              "      <th>1</th>\n",
              "      <td>METHODS</td>\n",
              "      <td>a total of @ patients with primary knee oa wer...</td>\n",
              "      <td>1</td>\n",
              "      <td>11</td>\n",
              "    </tr>\n",
              "    <tr>\n",
              "      <th>2</th>\n",
              "      <td>METHODS</td>\n",
              "      <td>outcome measures included pain reduction and i...</td>\n",
              "      <td>2</td>\n",
              "      <td>11</td>\n",
              "    </tr>\n",
              "    <tr>\n",
              "      <th>3</th>\n",
              "      <td>METHODS</td>\n",
              "      <td>pain was assessed using the visual analog pain...</td>\n",
              "      <td>3</td>\n",
              "      <td>11</td>\n",
              "    </tr>\n",
              "    <tr>\n",
              "      <th>4</th>\n",
              "      <td>METHODS</td>\n",
              "      <td>secondary outcome measures included the wester...</td>\n",
              "      <td>4</td>\n",
              "      <td>11</td>\n",
              "    </tr>\n",
              "  </tbody>\n",
              "</table>\n",
              "</div>\n",
              "    <div class=\"colab-df-buttons\">\n",
              "\n",
              "  <div class=\"colab-df-container\">\n",
              "    <button class=\"colab-df-convert\" onclick=\"convertToInteractive('df-0d574b41-ebac-431f-832a-eaad0174e209')\"\n",
              "            title=\"Convert this dataframe to an interactive table.\"\n",
              "            style=\"display:none;\">\n",
              "\n",
              "  <svg xmlns=\"http://www.w3.org/2000/svg\" height=\"24px\" viewBox=\"0 -960 960 960\">\n",
              "    <path d=\"M120-120v-720h720v720H120Zm60-500h600v-160H180v160Zm220 220h160v-160H400v160Zm0 220h160v-160H400v160ZM180-400h160v-160H180v160Zm440 0h160v-160H620v160ZM180-180h160v-160H180v160Zm440 0h160v-160H620v160Z\"/>\n",
              "  </svg>\n",
              "    </button>\n",
              "\n",
              "  <style>\n",
              "    .colab-df-container {\n",
              "      display:flex;\n",
              "      gap: 12px;\n",
              "    }\n",
              "\n",
              "    .colab-df-convert {\n",
              "      background-color: #E8F0FE;\n",
              "      border: none;\n",
              "      border-radius: 50%;\n",
              "      cursor: pointer;\n",
              "      display: none;\n",
              "      fill: #1967D2;\n",
              "      height: 32px;\n",
              "      padding: 0 0 0 0;\n",
              "      width: 32px;\n",
              "    }\n",
              "\n",
              "    .colab-df-convert:hover {\n",
              "      background-color: #E2EBFA;\n",
              "      box-shadow: 0px 1px 2px rgba(60, 64, 67, 0.3), 0px 1px 3px 1px rgba(60, 64, 67, 0.15);\n",
              "      fill: #174EA6;\n",
              "    }\n",
              "\n",
              "    .colab-df-buttons div {\n",
              "      margin-bottom: 4px;\n",
              "    }\n",
              "\n",
              "    [theme=dark] .colab-df-convert {\n",
              "      background-color: #3B4455;\n",
              "      fill: #D2E3FC;\n",
              "    }\n",
              "\n",
              "    [theme=dark] .colab-df-convert:hover {\n",
              "      background-color: #434B5C;\n",
              "      box-shadow: 0px 1px 3px 1px rgba(0, 0, 0, 0.15);\n",
              "      filter: drop-shadow(0px 1px 2px rgba(0, 0, 0, 0.3));\n",
              "      fill: #FFFFFF;\n",
              "    }\n",
              "  </style>\n",
              "\n",
              "    <script>\n",
              "      const buttonEl =\n",
              "        document.querySelector('#df-0d574b41-ebac-431f-832a-eaad0174e209 button.colab-df-convert');\n",
              "      buttonEl.style.display =\n",
              "        google.colab.kernel.accessAllowed ? 'block' : 'none';\n",
              "\n",
              "      async function convertToInteractive(key) {\n",
              "        const element = document.querySelector('#df-0d574b41-ebac-431f-832a-eaad0174e209');\n",
              "        const dataTable =\n",
              "          await google.colab.kernel.invokeFunction('convertToInteractive',\n",
              "                                                    [key], {});\n",
              "        if (!dataTable) return;\n",
              "\n",
              "        const docLinkHtml = 'Like what you see? Visit the ' +\n",
              "          '<a target=\"_blank\" href=https://colab.research.google.com/notebooks/data_table.ipynb>data table notebook</a>'\n",
              "          + ' to learn more about interactive tables.';\n",
              "        element.innerHTML = '';\n",
              "        dataTable['output_type'] = 'display_data';\n",
              "        await google.colab.output.renderOutput(dataTable, element);\n",
              "        const docLink = document.createElement('div');\n",
              "        docLink.innerHTML = docLinkHtml;\n",
              "        element.appendChild(docLink);\n",
              "      }\n",
              "    </script>\n",
              "  </div>\n",
              "\n",
              "\n",
              "<div id=\"df-88db7433-e1ce-468a-9d28-01055486b16f\">\n",
              "  <button class=\"colab-df-quickchart\" onclick=\"quickchart('df-88db7433-e1ce-468a-9d28-01055486b16f')\"\n",
              "            title=\"Suggest charts\"\n",
              "            style=\"display:none;\">\n",
              "\n",
              "<svg xmlns=\"http://www.w3.org/2000/svg\" height=\"24px\"viewBox=\"0 0 24 24\"\n",
              "     width=\"24px\">\n",
              "    <g>\n",
              "        <path d=\"M19 3H5c-1.1 0-2 .9-2 2v14c0 1.1.9 2 2 2h14c1.1 0 2-.9 2-2V5c0-1.1-.9-2-2-2zM9 17H7v-7h2v7zm4 0h-2V7h2v10zm4 0h-2v-4h2v4z\"/>\n",
              "    </g>\n",
              "</svg>\n",
              "  </button>\n",
              "\n",
              "<style>\n",
              "  .colab-df-quickchart {\n",
              "      --bg-color: #E8F0FE;\n",
              "      --fill-color: #1967D2;\n",
              "      --hover-bg-color: #E2EBFA;\n",
              "      --hover-fill-color: #174EA6;\n",
              "      --disabled-fill-color: #AAA;\n",
              "      --disabled-bg-color: #DDD;\n",
              "  }\n",
              "\n",
              "  [theme=dark] .colab-df-quickchart {\n",
              "      --bg-color: #3B4455;\n",
              "      --fill-color: #D2E3FC;\n",
              "      --hover-bg-color: #434B5C;\n",
              "      --hover-fill-color: #FFFFFF;\n",
              "      --disabled-bg-color: #3B4455;\n",
              "      --disabled-fill-color: #666;\n",
              "  }\n",
              "\n",
              "  .colab-df-quickchart {\n",
              "    background-color: var(--bg-color);\n",
              "    border: none;\n",
              "    border-radius: 50%;\n",
              "    cursor: pointer;\n",
              "    display: none;\n",
              "    fill: var(--fill-color);\n",
              "    height: 32px;\n",
              "    padding: 0;\n",
              "    width: 32px;\n",
              "  }\n",
              "\n",
              "  .colab-df-quickchart:hover {\n",
              "    background-color: var(--hover-bg-color);\n",
              "    box-shadow: 0 1px 2px rgba(60, 64, 67, 0.3), 0 1px 3px 1px rgba(60, 64, 67, 0.15);\n",
              "    fill: var(--button-hover-fill-color);\n",
              "  }\n",
              "\n",
              "  .colab-df-quickchart-complete:disabled,\n",
              "  .colab-df-quickchart-complete:disabled:hover {\n",
              "    background-color: var(--disabled-bg-color);\n",
              "    fill: var(--disabled-fill-color);\n",
              "    box-shadow: none;\n",
              "  }\n",
              "\n",
              "  .colab-df-spinner {\n",
              "    border: 2px solid var(--fill-color);\n",
              "    border-color: transparent;\n",
              "    border-bottom-color: var(--fill-color);\n",
              "    animation:\n",
              "      spin 1s steps(1) infinite;\n",
              "  }\n",
              "\n",
              "  @keyframes spin {\n",
              "    0% {\n",
              "      border-color: transparent;\n",
              "      border-bottom-color: var(--fill-color);\n",
              "      border-left-color: var(--fill-color);\n",
              "    }\n",
              "    20% {\n",
              "      border-color: transparent;\n",
              "      border-left-color: var(--fill-color);\n",
              "      border-top-color: var(--fill-color);\n",
              "    }\n",
              "    30% {\n",
              "      border-color: transparent;\n",
              "      border-left-color: var(--fill-color);\n",
              "      border-top-color: var(--fill-color);\n",
              "      border-right-color: var(--fill-color);\n",
              "    }\n",
              "    40% {\n",
              "      border-color: transparent;\n",
              "      border-right-color: var(--fill-color);\n",
              "      border-top-color: var(--fill-color);\n",
              "    }\n",
              "    60% {\n",
              "      border-color: transparent;\n",
              "      border-right-color: var(--fill-color);\n",
              "    }\n",
              "    80% {\n",
              "      border-color: transparent;\n",
              "      border-right-color: var(--fill-color);\n",
              "      border-bottom-color: var(--fill-color);\n",
              "    }\n",
              "    90% {\n",
              "      border-color: transparent;\n",
              "      border-bottom-color: var(--fill-color);\n",
              "    }\n",
              "  }\n",
              "</style>\n",
              "\n",
              "  <script>\n",
              "    async function quickchart(key) {\n",
              "      const quickchartButtonEl =\n",
              "        document.querySelector('#' + key + ' button');\n",
              "      quickchartButtonEl.disabled = true;  // To prevent multiple clicks.\n",
              "      quickchartButtonEl.classList.add('colab-df-spinner');\n",
              "      try {\n",
              "        const charts = await google.colab.kernel.invokeFunction(\n",
              "            'suggestCharts', [key], {});\n",
              "      } catch (error) {\n",
              "        console.error('Error during call to suggestCharts:', error);\n",
              "      }\n",
              "      quickchartButtonEl.classList.remove('colab-df-spinner');\n",
              "      quickchartButtonEl.classList.add('colab-df-quickchart-complete');\n",
              "    }\n",
              "    (() => {\n",
              "      let quickchartButtonEl =\n",
              "        document.querySelector('#df-88db7433-e1ce-468a-9d28-01055486b16f button');\n",
              "      quickchartButtonEl.style.display =\n",
              "        google.colab.kernel.accessAllowed ? 'block' : 'none';\n",
              "    })();\n",
              "  </script>\n",
              "</div>\n",
              "\n",
              "    </div>\n",
              "  </div>\n"
            ]
          },
          "metadata": {},
          "execution_count": 16
        }
      ]
    },
    {
      "cell_type": "code",
      "source": [
        "train_df.target.value_counts() # Distribution of labels in training data"
      ],
      "metadata": {
        "colab": {
          "base_uri": "https://localhost:8080/"
        },
        "id": "AqNXYhNR8S26",
        "outputId": "7601cb1f-000f-4d7e-f851-484a2a94d556"
      },
      "execution_count": null,
      "outputs": [
        {
          "output_type": "execute_result",
          "data": {
            "text/plain": [
              "METHODS        59353\n",
              "RESULTS        57953\n",
              "CONCLUSIONS    27168\n",
              "BACKGROUND     21727\n",
              "OBJECTIVE      13839\n",
              "Name: target, dtype: int64"
            ]
          },
          "metadata": {},
          "execution_count": 17
        }
      ]
    },
    {
      "cell_type": "code",
      "source": [
        "# Convert abstract text lines into lists\n",
        "train_sentences=train_df[\"text\"].to_list()\n",
        "val_sentences=val_df[\"text\"].to_list()\n",
        "test_sentences=test_df[\"text\"].to_list()\n",
        "len(train_sentences), len(val_sentences), len(test_sentences)"
      ],
      "metadata": {
        "colab": {
          "base_uri": "https://localhost:8080/"
        },
        "id": "Z6cCtuez8c2M",
        "outputId": "24cdaf43-582b-4a49-ca56-2d00f4f086bc"
      },
      "execution_count": null,
      "outputs": [
        {
          "output_type": "execute_result",
          "data": {
            "text/plain": [
              "(180040, 30212, 30135)"
            ]
          },
          "metadata": {},
          "execution_count": 18
        }
      ]
    },
    {
      "cell_type": "code",
      "source": [
        "# One hot encode labels\n",
        "from sklearn.preprocessing import OneHotEncoder\n",
        "one_hot_encoder=OneHotEncoder(sparse_output=False)\n",
        "train_labels_one_hot=one_hot_encoder.fit_transform(train_df[\"target\"].to_numpy().reshape(-1, 1))\n",
        "val_labels_one_hot=one_hot_encoder.transform(val_df[\"target\"].to_numpy().reshape(-1, 1))\n",
        "test_labels_one_hot=one_hot_encoder.transform(test_df[\"target\"].to_numpy().reshape(-1, 1))"
      ],
      "metadata": {
        "id": "U1HFjL1y86jK"
      },
      "execution_count": null,
      "outputs": []
    },
    {
      "cell_type": "code",
      "source": [
        "train_labels_one_hot # check what one hot encoded labels look like"
      ],
      "metadata": {
        "colab": {
          "base_uri": "https://localhost:8080/"
        },
        "id": "PlHRDB5ZFv_g",
        "outputId": "7e56acfc-dc85-4161-a544-41baf56c4328"
      },
      "execution_count": null,
      "outputs": [
        {
          "output_type": "execute_result",
          "data": {
            "text/plain": [
              "array([[0., 0., 0., 1., 0.],\n",
              "       [0., 0., 1., 0., 0.],\n",
              "       [0., 0., 1., 0., 0.],\n",
              "       ...,\n",
              "       [0., 0., 0., 0., 1.],\n",
              "       [0., 1., 0., 0., 0.],\n",
              "       [0., 1., 0., 0., 0.]])"
            ]
          },
          "metadata": {},
          "execution_count": 20
        }
      ]
    },
    {
      "cell_type": "code",
      "source": [
        "# Extract labels (\"target\" columns) and encode them into integers\n",
        "from sklearn.preprocessing import LabelEncoder\n",
        "\n",
        "label_encoder=LabelEncoder()\n",
        "\n",
        "train_labels_encoded=label_encoder.fit_transform(train_df[\"target\"].to_numpy())\n",
        "val_labels_encoded=label_encoder.transform(val_df[\"target\"].to_numpy())\n",
        "test_labels_encoded=label_encoder.transform(test_df[\"target\"].to_numpy())"
      ],
      "metadata": {
        "id": "6jgh2MQHIwzm"
      },
      "execution_count": null,
      "outputs": []
    },
    {
      "cell_type": "code",
      "source": [
        "train_labels_encoded # check what training labels look like"
      ],
      "metadata": {
        "colab": {
          "base_uri": "https://localhost:8080/"
        },
        "id": "a7BXX62PL5aV",
        "outputId": "7d9a73ed-beb3-44ae-ff59-bbd3b8e61133"
      },
      "execution_count": null,
      "outputs": [
        {
          "output_type": "execute_result",
          "data": {
            "text/plain": [
              "array([3, 2, 2, ..., 4, 1, 1])"
            ]
          },
          "metadata": {},
          "execution_count": 22
        }
      ]
    },
    {
      "cell_type": "code",
      "source": [
        "# Get class names and number of classes from LabelEncoder instance\n",
        "num_classes=len(label_encoder.classes_)\n",
        "class_names=label_encoder.classes_\n",
        "num_classes, class_names"
      ],
      "metadata": {
        "colab": {
          "base_uri": "https://localhost:8080/"
        },
        "id": "yZT2hgY_MIVl",
        "outputId": "e04038f6-192d-4d38-fe82-005e64b2a2a7"
      },
      "execution_count": null,
      "outputs": [
        {
          "output_type": "execute_result",
          "data": {
            "text/plain": [
              "(5,\n",
              " array(['BACKGROUND', 'CONCLUSIONS', 'METHODS', 'OBJECTIVE', 'RESULTS'],\n",
              "       dtype=object))"
            ]
          },
          "metadata": {},
          "execution_count": 23
        }
      ]
    },
    {
      "cell_type": "markdown",
      "source": [
        "## Model 0: Baseline Model"
      ],
      "metadata": {
        "id": "5iZ-_8fwNTUc"
      }
    },
    {
      "cell_type": "code",
      "source": [
        "from sklearn.naive_bayes import MultinomialNB\n",
        "from sklearn.feature_extraction.text import TfidfVectorizer\n",
        "from sklearn.pipeline import Pipeline"
      ],
      "metadata": {
        "id": "115vhxSOQG-7"
      },
      "execution_count": null,
      "outputs": []
    },
    {
      "cell_type": "code",
      "source": [
        "# Create a pipeline, a baseline (TF-IDF Multinomial Naive Bayes classifier).\n",
        "model_0=Pipeline([\n",
        "  (\"tfidf\", TfidfVectorizer()),\n",
        "  (\"clf\", MultinomialNB())\n",
        "])"
      ],
      "metadata": {
        "id": "evzgye7MQMEi"
      },
      "execution_count": null,
      "outputs": []
    },
    {
      "cell_type": "code",
      "source": [
        "model_0.fit(train_sentences, train_labels_encoded) # Fit the pipeline to the training data"
      ],
      "metadata": {
        "colab": {
          "base_uri": "https://localhost:8080/",
          "height": 125
        },
        "id": "jHsOOS73QkRK",
        "outputId": "72851ce7-6e06-46a1-d323-f17c742acb6a"
      },
      "execution_count": null,
      "outputs": [
        {
          "output_type": "execute_result",
          "data": {
            "text/plain": [
              "Pipeline(steps=[('tfidf', TfidfVectorizer()), ('clf', MultinomialNB())])"
            ],
            "text/html": [
              "<style>#sk-container-id-1 {color: black;background-color: white;}#sk-container-id-1 pre{padding: 0;}#sk-container-id-1 div.sk-toggleable {background-color: white;}#sk-container-id-1 label.sk-toggleable__label {cursor: pointer;display: block;width: 100%;margin-bottom: 0;padding: 0.3em;box-sizing: border-box;text-align: center;}#sk-container-id-1 label.sk-toggleable__label-arrow:before {content: \"▸\";float: left;margin-right: 0.25em;color: #696969;}#sk-container-id-1 label.sk-toggleable__label-arrow:hover:before {color: black;}#sk-container-id-1 div.sk-estimator:hover label.sk-toggleable__label-arrow:before {color: black;}#sk-container-id-1 div.sk-toggleable__content {max-height: 0;max-width: 0;overflow: hidden;text-align: left;background-color: #f0f8ff;}#sk-container-id-1 div.sk-toggleable__content pre {margin: 0.2em;color: black;border-radius: 0.25em;background-color: #f0f8ff;}#sk-container-id-1 input.sk-toggleable__control:checked~div.sk-toggleable__content {max-height: 200px;max-width: 100%;overflow: auto;}#sk-container-id-1 input.sk-toggleable__control:checked~label.sk-toggleable__label-arrow:before {content: \"▾\";}#sk-container-id-1 div.sk-estimator input.sk-toggleable__control:checked~label.sk-toggleable__label {background-color: #d4ebff;}#sk-container-id-1 div.sk-label input.sk-toggleable__control:checked~label.sk-toggleable__label {background-color: #d4ebff;}#sk-container-id-1 input.sk-hidden--visually {border: 0;clip: rect(1px 1px 1px 1px);clip: rect(1px, 1px, 1px, 1px);height: 1px;margin: -1px;overflow: hidden;padding: 0;position: absolute;width: 1px;}#sk-container-id-1 div.sk-estimator {font-family: monospace;background-color: #f0f8ff;border: 1px dotted black;border-radius: 0.25em;box-sizing: border-box;margin-bottom: 0.5em;}#sk-container-id-1 div.sk-estimator:hover {background-color: #d4ebff;}#sk-container-id-1 div.sk-parallel-item::after {content: \"\";width: 100%;border-bottom: 1px solid gray;flex-grow: 1;}#sk-container-id-1 div.sk-label:hover label.sk-toggleable__label {background-color: #d4ebff;}#sk-container-id-1 div.sk-serial::before {content: \"\";position: absolute;border-left: 1px solid gray;box-sizing: border-box;top: 0;bottom: 0;left: 50%;z-index: 0;}#sk-container-id-1 div.sk-serial {display: flex;flex-direction: column;align-items: center;background-color: white;padding-right: 0.2em;padding-left: 0.2em;position: relative;}#sk-container-id-1 div.sk-item {position: relative;z-index: 1;}#sk-container-id-1 div.sk-parallel {display: flex;align-items: stretch;justify-content: center;background-color: white;position: relative;}#sk-container-id-1 div.sk-item::before, #sk-container-id-1 div.sk-parallel-item::before {content: \"\";position: absolute;border-left: 1px solid gray;box-sizing: border-box;top: 0;bottom: 0;left: 50%;z-index: -1;}#sk-container-id-1 div.sk-parallel-item {display: flex;flex-direction: column;z-index: 1;position: relative;background-color: white;}#sk-container-id-1 div.sk-parallel-item:first-child::after {align-self: flex-end;width: 50%;}#sk-container-id-1 div.sk-parallel-item:last-child::after {align-self: flex-start;width: 50%;}#sk-container-id-1 div.sk-parallel-item:only-child::after {width: 0;}#sk-container-id-1 div.sk-dashed-wrapped {border: 1px dashed gray;margin: 0 0.4em 0.5em 0.4em;box-sizing: border-box;padding-bottom: 0.4em;background-color: white;}#sk-container-id-1 div.sk-label label {font-family: monospace;font-weight: bold;display: inline-block;line-height: 1.2em;}#sk-container-id-1 div.sk-label-container {text-align: center;}#sk-container-id-1 div.sk-container {/* jupyter's `normalize.less` sets `[hidden] { display: none; }` but bootstrap.min.css set `[hidden] { display: none !important; }` so we also need the `!important` here to be able to override the default hidden behavior on the sphinx rendered scikit-learn.org. See: https://github.com/scikit-learn/scikit-learn/issues/21755 */display: inline-block !important;position: relative;}#sk-container-id-1 div.sk-text-repr-fallback {display: none;}</style><div id=\"sk-container-id-1\" class=\"sk-top-container\"><div class=\"sk-text-repr-fallback\"><pre>Pipeline(steps=[(&#x27;tfidf&#x27;, TfidfVectorizer()), (&#x27;clf&#x27;, MultinomialNB())])</pre><b>In a Jupyter environment, please rerun this cell to show the HTML representation or trust the notebook. <br />On GitHub, the HTML representation is unable to render, please try loading this page with nbviewer.org.</b></div><div class=\"sk-container\" hidden><div class=\"sk-item sk-dashed-wrapped\"><div class=\"sk-label-container\"><div class=\"sk-label sk-toggleable\"><input class=\"sk-toggleable__control sk-hidden--visually\" id=\"sk-estimator-id-1\" type=\"checkbox\" ><label for=\"sk-estimator-id-1\" class=\"sk-toggleable__label sk-toggleable__label-arrow\">Pipeline</label><div class=\"sk-toggleable__content\"><pre>Pipeline(steps=[(&#x27;tfidf&#x27;, TfidfVectorizer()), (&#x27;clf&#x27;, MultinomialNB())])</pre></div></div></div><div class=\"sk-serial\"><div class=\"sk-item\"><div class=\"sk-estimator sk-toggleable\"><input class=\"sk-toggleable__control sk-hidden--visually\" id=\"sk-estimator-id-2\" type=\"checkbox\" ><label for=\"sk-estimator-id-2\" class=\"sk-toggleable__label sk-toggleable__label-arrow\">TfidfVectorizer</label><div class=\"sk-toggleable__content\"><pre>TfidfVectorizer()</pre></div></div></div><div class=\"sk-item\"><div class=\"sk-estimator sk-toggleable\"><input class=\"sk-toggleable__control sk-hidden--visually\" id=\"sk-estimator-id-3\" type=\"checkbox\" ><label for=\"sk-estimator-id-3\" class=\"sk-toggleable__label sk-toggleable__label-arrow\">MultinomialNB</label><div class=\"sk-toggleable__content\"><pre>MultinomialNB()</pre></div></div></div></div></div></div></div>"
            ]
          },
          "metadata": {},
          "execution_count": 26
        }
      ]
    },
    {
      "cell_type": "code",
      "source": [
        "baseline_score=model_0.score(val_sentences, val_labels_encoded) # Evaluate baseline model on validation dataset"
      ],
      "metadata": {
        "id": "EuWt3HsGQwRD"
      },
      "execution_count": null,
      "outputs": []
    },
    {
      "cell_type": "code",
      "source": [
        "baseline_score"
      ],
      "metadata": {
        "colab": {
          "base_uri": "https://localhost:8080/"
        },
        "id": "SzeHUM1TQ6Jq",
        "outputId": "a257949f-09c1-4618-a92f-e310e455eaaa"
      },
      "execution_count": null,
      "outputs": [
        {
          "output_type": "execute_result",
          "data": {
            "text/plain": [
              "0.7218323844829869"
            ]
          },
          "metadata": {},
          "execution_count": 28
        }
      ]
    },
    {
      "cell_type": "code",
      "source": [
        "# Make predictions using our baseline model\n",
        "baseline_preds=model_0.predict(val_sentences)\n",
        "baseline_preds"
      ],
      "metadata": {
        "colab": {
          "base_uri": "https://localhost:8080/"
        },
        "id": "86f5fW5DSnvC",
        "outputId": "6895296d-450d-4d5e-f540-3525e4148288"
      },
      "execution_count": null,
      "outputs": [
        {
          "output_type": "execute_result",
          "data": {
            "text/plain": [
              "array([4, 1, 3, ..., 4, 4, 1])"
            ]
          },
          "metadata": {},
          "execution_count": 29
        }
      ]
    },
    {
      "cell_type": "code",
      "source": [
        "from sklearn.metrics import precision_recall_fscore_support, accuracy_score\n",
        "# Calculate baseline results\n",
        "baseline_results=calculate_results(val_labels_encoded, baseline_preds)\n",
        "baseline_results"
      ],
      "metadata": {
        "colab": {
          "base_uri": "https://localhost:8080/"
        },
        "id": "mrzZAps4Q7-8",
        "outputId": "ba7402b3-75ea-4ed9-c308-4ed2906596d6"
      },
      "execution_count": null,
      "outputs": [
        {
          "output_type": "execute_result",
          "data": {
            "text/plain": [
              "{'accuracy': 72.1832384482987,\n",
              " 'precision': 0.7186466952323352,\n",
              " 'recall': 0.7218323844829869,\n",
              " 'f1': 0.6989250353450294}"
            ]
          },
          "metadata": {},
          "execution_count": 30
        }
      ]
    },
    {
      "cell_type": "code",
      "source": [
        "# How long is each sentence on average?\n",
        "sent_lens=[len(sentence.split()) for sentence in train_sentences]\n",
        "avg_sent_len=np.mean(sent_lens)\n",
        "avg_sent_len"
      ],
      "metadata": {
        "colab": {
          "base_uri": "https://localhost:8080/"
        },
        "id": "cO-LLX6NdH20",
        "outputId": "3cbf500d-18f9-44e6-e724-9431b47cb251"
      },
      "execution_count": null,
      "outputs": [
        {
          "output_type": "execute_result",
          "data": {
            "text/plain": [
              "26.338269273494777"
            ]
          },
          "metadata": {},
          "execution_count": 31
        }
      ]
    },
    {
      "cell_type": "code",
      "source": [
        "# How long of a setnence lenght covers 95% of examples?\n",
        "output_seq_len=int(np.percentile(sent_lens, 95))\n",
        "output_seq_len"
      ],
      "metadata": {
        "colab": {
          "base_uri": "https://localhost:8080/"
        },
        "id": "xKgPkjS5deJ_",
        "outputId": "f603b49b-2cb3-4cf5-9649-268d9492e84f"
      },
      "execution_count": null,
      "outputs": [
        {
          "output_type": "execute_result",
          "data": {
            "text/plain": [
              "55"
            ]
          },
          "metadata": {},
          "execution_count": 32
        }
      ]
    },
    {
      "cell_type": "code",
      "source": [
        "from tensorflow.keras.layers import TextVectorization\n",
        "\n",
        "# How many words are in our vocab? (taken from table 2 in: https://arxiv.org/pdf/1710.06071.pdf)\n",
        "max_vocab_length =68000\n",
        "max_length=output_seq_len\n",
        "\n",
        "# Create text vectorizer\n",
        "text_vectorizer=TextVectorization(max_tokens=max_vocab_length,\n",
        "                                  output_mode=\"int\",\n",
        "                                  output_sequence_length=max_length)\n",
        "\n",
        "# Adapt text vectorizer to training sentences\n",
        "text_vectorizer.adapt(train_sentences)"
      ],
      "metadata": {
        "id": "z8bYFlXvS92Z"
      },
      "execution_count": null,
      "outputs": []
    },
    {
      "cell_type": "code",
      "source": [
        "# Test out text vectorizer on random sentences\n",
        "import random\n",
        "target_sentence = random.choice(train_sentences)\n",
        "print(f\"Text:\\n{target_sentence}\")\n",
        "print(f\"\\nLength of text: {len(target_sentence.split())}\")\n",
        "print(f\"\\nVectorized text:\\n{text_vectorizer([target_sentence])}\")"
      ],
      "metadata": {
        "colab": {
          "base_uri": "https://localhost:8080/"
        },
        "id": "U-aovBcHnWnW",
        "outputId": "d91f9038-7767-4dcc-faf8-b2e3c80ab788"
      },
      "execution_count": null,
      "outputs": [
        {
          "output_type": "stream",
          "name": "stdout",
          "text": [
            "Text:\n",
            "complete blood count , coagulation function , hepatic function , serum pro-inflammatory cytokines and alpha-fetoprotein ( afp ) levels were determined before and after operation .\n",
            "\n",
            "Length of text: 26\n",
            "\n",
            "Vectorized text:\n",
            "[[  488   107   994  3247   149  1668   149   225  4693  2417     3 27511\n",
            "  17575    93     9   505   129     3    21   701     0     0     0     0\n",
            "      0     0     0     0     0     0     0     0     0     0     0     0\n",
            "      0     0     0     0     0     0     0     0     0     0     0     0\n",
            "      0     0     0     0     0     0     0]]\n"
          ]
        }
      ]
    },
    {
      "cell_type": "code",
      "source": [
        "from tensorflow.keras.layers import Embedding\n",
        "# How many words in our training vocabulary\n",
        "rct_20k_text_vocab=text_vectorizer.get_vocabulary()\n",
        "\n",
        "# Create token embedding layer\n",
        "embedding=Embedding(input_dim=len(rct_20k_text_vocab),\n",
        "                                     output_dim=128,\n",
        "                                     mask_zero=True,\n",
        "                                     input_length=max_length)"
      ],
      "metadata": {
        "id": "MDOZW8bXXWuX"
      },
      "execution_count": null,
      "outputs": []
    },
    {
      "cell_type": "code",
      "source": [
        "# Show example embedding\n",
        "random_sentence=random.choice(train_sentences)\n",
        "print(random_sentence)\n",
        "sample_embed=embedding(text_vectorizer([random_sentence]))\n",
        "sample_embed"
      ],
      "metadata": {
        "colab": {
          "base_uri": "https://localhost:8080/"
        },
        "id": "LWZK72K1YTCn",
        "outputId": "16a91d97-f724-436f-e37f-b76bf831484f"
      },
      "execution_count": null,
      "outputs": [
        {
          "output_type": "stream",
          "name": "stdout",
          "text": [
            "negative emotional states and abnormal stress reactivity are central components in drug addiction .\n"
          ]
        },
        {
          "output_type": "execute_result",
          "data": {
            "text/plain": [
              "<tf.Tensor: shape=(1, 55, 128), dtype=float32, numpy=\n",
              "array([[[ 0.0204031 ,  0.01648195, -0.02029058, ..., -0.02249708,\n",
              "         -0.04830716,  0.0392088 ],\n",
              "        [-0.0457898 ,  0.02338808,  0.01009868, ...,  0.01236866,\n",
              "          0.03923229, -0.04275553],\n",
              "        [ 0.04348684, -0.0160568 ,  0.03846586, ..., -0.02959408,\n",
              "          0.01758924, -0.04564722],\n",
              "        ...,\n",
              "        [-0.0336297 , -0.04719452, -0.00104183, ..., -0.01310676,\n",
              "          0.01594451,  0.03719595],\n",
              "        [-0.0336297 , -0.04719452, -0.00104183, ..., -0.01310676,\n",
              "          0.01594451,  0.03719595],\n",
              "        [-0.0336297 , -0.04719452, -0.00104183, ..., -0.01310676,\n",
              "          0.01594451,  0.03719595]]], dtype=float32)>"
            ]
          },
          "metadata": {},
          "execution_count": 36
        }
      ]
    },
    {
      "cell_type": "markdown",
      "source": [
        "## Creating datasets"
      ],
      "metadata": {
        "id": "qAeejr2VL4Jy"
      }
    },
    {
      "cell_type": "code",
      "source": [
        "# Turn our data into TensorFlow Datasets\n",
        "train_dataset=tf.data.Dataset.from_tensor_slices((train_sentences, train_labels_one_hot))\n",
        "valid_dataset=tf.data.Dataset.from_tensor_slices((val_sentences, val_labels_one_hot))\n",
        "test_dataset=tf.data.Dataset.from_tensor_slices((test_sentences, test_labels_one_hot))\n",
        "\n",
        "train_dataset"
      ],
      "metadata": {
        "colab": {
          "base_uri": "https://localhost:8080/"
        },
        "id": "ZetpQEVyY22u",
        "outputId": "6c16b463-3b32-4970-8403-cc1c696ddf33"
      },
      "execution_count": null,
      "outputs": [
        {
          "output_type": "execute_result",
          "data": {
            "text/plain": [
              "<_TensorSliceDataset element_spec=(TensorSpec(shape=(), dtype=tf.string, name=None), TensorSpec(shape=(5,), dtype=tf.float64, name=None))>"
            ]
          },
          "metadata": {},
          "execution_count": 37
        }
      ]
    },
    {
      "cell_type": "code",
      "source": [
        "# Take the TensorSliceDataset's and turn them into prefected datasets\n",
        "train_dataset=train_dataset.batch(32).prefetch(tf.data.AUTOTUNE)\n",
        "valid_dataset=valid_dataset.batch(32).prefetch(tf.data.AUTOTUNE)\n",
        "test_dataset=test_dataset.batch(32).prefetch(tf.data.AUTOTUNE)"
      ],
      "metadata": {
        "id": "tGJEn-2F7NWf"
      },
      "execution_count": null,
      "outputs": []
    },
    {
      "cell_type": "code",
      "source": [
        "train_dataset"
      ],
      "metadata": {
        "colab": {
          "base_uri": "https://localhost:8080/"
        },
        "id": "QMcEJYeR7-Su",
        "outputId": "c41ab751-f069-44c3-8266-2d0d25fb0042"
      },
      "execution_count": null,
      "outputs": [
        {
          "output_type": "execute_result",
          "data": {
            "text/plain": [
              "<_PrefetchDataset element_spec=(TensorSpec(shape=(None,), dtype=tf.string, name=None), TensorSpec(shape=(None, 5), dtype=tf.float64, name=None))>"
            ]
          },
          "metadata": {},
          "execution_count": 39
        }
      ]
    },
    {
      "cell_type": "markdown",
      "source": [
        "## Model 1: Conv1D"
      ],
      "metadata": {
        "id": "x8-H2Pgd8AjX"
      }
    },
    {
      "cell_type": "code",
      "source": [
        "# Create 1D conv model to process sequences\n",
        "inputs=tf.keras.layers.Input(shape=(1,), dtype=tf.string)\n",
        "\n",
        "x=text_vectorizer(inputs) # vectorize text inputs\n",
        "x=embedding(x) # create embedding\n",
        "x=tf.keras.layers.Conv1D(filters=64, kernel_size=5, strides=1, padding=\"same\", activation=\"relu\")(x)\n",
        "x=tf.keras.layers.GlobalAveragePooling1D()(x) # condense the output of our feature vector from conv layer\n",
        "outputs=tf.keras.layers.Dense(num_classes, activation=\"softmax\")(x)\n",
        "\n",
        "model_1=tf.keras.Model(inputs, outputs)"
      ],
      "metadata": {
        "id": "uVmAPYLm8Uq-"
      },
      "execution_count": null,
      "outputs": []
    },
    {
      "cell_type": "code",
      "source": [
        "# Compile\n",
        "model_1.compile(loss=\"categorical_crossentropy\", optimizer=\"adam\", metrics=\"accuracy\")\n",
        "model_1.summary()"
      ],
      "metadata": {
        "colab": {
          "base_uri": "https://localhost:8080/"
        },
        "id": "gs9N5MLE9jfW",
        "outputId": "84876b13-0c78-4705-be55-cef0b9ea9601"
      },
      "execution_count": null,
      "outputs": [
        {
          "output_type": "stream",
          "name": "stdout",
          "text": [
            "Model: \"model\"\n",
            "_________________________________________________________________\n",
            " Layer (type)                Output Shape              Param #   \n",
            "=================================================================\n",
            " input_1 (InputLayer)        [(None, 1)]               0         \n",
            "                                                                 \n",
            " text_vectorization (TextVe  (None, 55)                0         \n",
            " ctorization)                                                    \n",
            "                                                                 \n",
            " embedding (Embedding)       (None, 55, 128)           8299648   \n",
            "                                                                 \n",
            " conv1d (Conv1D)             (None, 55, 64)            41024     \n",
            "                                                                 \n",
            " global_average_pooling1d (  (None, 64)                0         \n",
            " GlobalAveragePooling1D)                                         \n",
            "                                                                 \n",
            " dense (Dense)               (None, 5)                 325       \n",
            "                                                                 \n",
            "=================================================================\n",
            "Total params: 8340997 (31.82 MB)\n",
            "Trainable params: 8340997 (31.82 MB)\n",
            "Non-trainable params: 0 (0.00 Byte)\n",
            "_________________________________________________________________\n"
          ]
        }
      ]
    },
    {
      "cell_type": "code",
      "source": [
        "# Fit the model\n",
        "History_model_1=model_1.fit(train_dataset, steps_per_epoch=int(0.1*len(train_dataset)),\n",
        "                            epochs=3, validation_data= valid_dataset, validation_steps=int(0.1*len(valid_dataset)),\n",
        "                            callbacks=[create_tensorboard_callback(\"Model_logs_Skimlit\", \"Model_1_Conv1D\")])"
      ],
      "metadata": {
        "colab": {
          "base_uri": "https://localhost:8080/"
        },
        "id": "WnRF8pRv9wie",
        "outputId": "8ebdbc5f-062b-4054-c80b-580af267cc30"
      },
      "execution_count": null,
      "outputs": [
        {
          "output_type": "stream",
          "name": "stdout",
          "text": [
            "Saving TensorBoard log files to: Model_logs_Skimlit/Model_1_Conv1D/20240104-155116\n",
            "Epoch 1/3\n",
            "562/562 [==============================] - 22s 33ms/step - loss: 0.9231 - accuracy: 0.6338 - val_loss: 0.6890 - val_accuracy: 0.7360\n",
            "Epoch 2/3\n",
            "562/562 [==============================] - 6s 10ms/step - loss: 0.6564 - accuracy: 0.7586 - val_loss: 0.6373 - val_accuracy: 0.7723\n",
            "Epoch 3/3\n",
            "562/562 [==============================] - 4s 7ms/step - loss: 0.6140 - accuracy: 0.7782 - val_loss: 0.5932 - val_accuracy: 0.7856\n"
          ]
        }
      ]
    },
    {
      "cell_type": "code",
      "source": [
        "# Make predictions (our model predicts prediction probabilities for each class)\n",
        "model_1_pred_probs=model_1.predict(valid_dataset)\n",
        "model_1_preds=tf.argmax(model_1_pred_probs, axis=1)\n",
        "model_1_preds"
      ],
      "metadata": {
        "colab": {
          "base_uri": "https://localhost:8080/"
        },
        "id": "bbjooynC_d_n",
        "outputId": "c32ed800-a413-4f35-ec46-1ab071afb685"
      },
      "execution_count": null,
      "outputs": [
        {
          "output_type": "stream",
          "name": "stdout",
          "text": [
            "945/945 [==============================] - 2s 2ms/step\n"
          ]
        },
        {
          "output_type": "execute_result",
          "data": {
            "text/plain": [
              "<tf.Tensor: shape=(30212,), dtype=int64, numpy=array([0, 0, 3, ..., 4, 1, 1])>"
            ]
          },
          "metadata": {},
          "execution_count": 43
        }
      ]
    },
    {
      "cell_type": "code",
      "source": [
        "# Calculate model_1 results\n",
        "Model_1_res=calculate_results(val_labels_encoded, model_1_preds)"
      ],
      "metadata": {
        "id": "c7U4cXvNA6HM"
      },
      "execution_count": null,
      "outputs": []
    },
    {
      "cell_type": "code",
      "source": [
        "Model_1_res"
      ],
      "metadata": {
        "colab": {
          "base_uri": "https://localhost:8080/"
        },
        "id": "o0WSaCZ5BW_U",
        "outputId": "88fd2226-c579-4cb8-fab6-df871196f030"
      },
      "execution_count": null,
      "outputs": [
        {
          "output_type": "execute_result",
          "data": {
            "text/plain": [
              "{'accuracy': 78.79319475705017,\n",
              " 'precision': 0.7849242855296937,\n",
              " 'recall': 0.7879319475705018,\n",
              " 'f1': 0.7859124368913013}"
            ]
          },
          "metadata": {},
          "execution_count": 45
        }
      ]
    },
    {
      "cell_type": "markdown",
      "source": [
        "##Model 2: Feature Extraction with pretrained token embeddings"
      ],
      "metadata": {
        "id": "n2dv3LEnBbQU"
      }
    },
    {
      "cell_type": "code",
      "source": [
        "import tensorflow_hub as hub\n",
        "# Download pretrained TensorFlow Hub USE\n",
        "sentence_encoder=hub.KerasLayer(\"https://www.kaggle.com/models/google/universal-sentence-encoder/frameworks/TensorFlow2/variations/universal-sentence-encoder/versions/2\",\n",
        "                                input_shape=[],\n",
        "                                dtype=tf.string,\n",
        "                                trainable=False,\n",
        "                                name=\"USE\")"
      ],
      "metadata": {
        "id": "hYp4v8vwDqxS"
      },
      "execution_count": null,
      "outputs": []
    },
    {
      "cell_type": "code",
      "source": [
        "# Test out the pretrained embedding on a random sentence\n",
        "random_sentence=random.choice(train_sentences)\n",
        "print(random_sentence)\n",
        "sample_USE_embed=sentence_encoder([random_sentence])\n",
        "sample_USE_embed"
      ],
      "metadata": {
        "id": "fyZlUWQgE4lK",
        "colab": {
          "base_uri": "https://localhost:8080/"
        },
        "outputId": "b01d39d1-113a-4b2e-f3d5-7523594f0913"
      },
      "execution_count": null,
      "outputs": [
        {
          "output_type": "stream",
          "name": "stdout",
          "text": [
            "there were fewer grade @/@ adverse effects with mct , which was not significant .\n"
          ]
        },
        {
          "output_type": "execute_result",
          "data": {
            "text/plain": [
              "<tf.Tensor: shape=(1, 512), dtype=float32, numpy=\n",
              "array([[-5.51750623e-02,  9.80561413e-03, -4.95791510e-02,\n",
              "        -9.28528532e-02, -2.37167031e-02, -2.07046475e-02,\n",
              "         2.44880728e-02, -1.44808227e-02,  2.85831429e-02,\n",
              "         3.71522643e-02,  5.39264753e-02, -1.54689550e-02,\n",
              "         2.33670659e-02,  7.46866390e-02, -1.30134290e-02,\n",
              "         5.96145429e-02, -7.88687319e-02, -1.23007037e-02,\n",
              "        -2.01907102e-02, -8.79234672e-02,  1.87660903e-02,\n",
              "         6.60542697e-02, -7.65813217e-02,  2.16853116e-02,\n",
              "        -2.24373490e-03, -1.35946618e-02,  4.76062372e-02,\n",
              "        -2.56486610e-02,  2.63758693e-02,  8.82662758e-02,\n",
              "        -8.02917853e-02,  1.48493669e-03,  8.02295003e-03,\n",
              "         4.13960852e-02, -3.43307927e-02,  4.27158773e-02,\n",
              "        -2.93638110e-02,  1.62594523e-02,  8.67959764e-03,\n",
              "         2.27285327e-05, -8.17883201e-03,  7.92706236e-02,\n",
              "        -1.20811574e-02,  7.57967010e-02,  1.64574478e-03,\n",
              "         5.48161492e-02, -3.24648470e-02,  3.05694882e-02,\n",
              "        -2.97208652e-02,  1.77330021e-02, -6.03009909e-02,\n",
              "        -8.45177695e-02, -4.82920147e-02, -3.24514546e-02,\n",
              "         7.70780817e-02, -2.30796449e-02, -3.74490954e-02,\n",
              "         4.40720236e-03,  5.58945611e-02, -8.42384845e-02,\n",
              "        -1.34235537e-02, -1.70428250e-02,  4.05609757e-02,\n",
              "        -8.26904457e-03, -4.23728526e-02,  1.54049657e-02,\n",
              "        -7.32257068e-02,  3.11271735e-02,  6.65861592e-02,\n",
              "         3.50638255e-02, -2.08298918e-02,  3.20954025e-02,\n",
              "        -4.98501956e-02,  7.77181610e-02,  5.26529104e-02,\n",
              "         4.20636199e-02, -1.51492620e-03,  1.77146904e-02,\n",
              "         8.21656082e-04, -3.81788909e-02, -4.71811630e-02,\n",
              "         4.23636176e-02,  3.86552438e-02, -2.98527293e-02,\n",
              "         5.29515631e-02,  9.93648544e-02,  8.78953487e-02,\n",
              "         4.94844513e-03,  3.70980501e-02,  4.00391594e-03,\n",
              "         9.21329930e-02,  2.41334047e-02, -2.32580933e-03,\n",
              "         4.97811548e-02, -6.54603317e-02,  7.81529173e-02,\n",
              "        -3.95466834e-02, -7.16033056e-02, -2.86942795e-02,\n",
              "        -2.67247409e-02, -6.35214895e-02, -1.74705163e-02,\n",
              "        -3.94754484e-02, -6.13008253e-02,  9.96126700e-03,\n",
              "        -7.56054074e-02, -1.80928875e-02, -1.34272687e-02,\n",
              "        -1.92951001e-02,  2.34030858e-02, -2.40857545e-02,\n",
              "        -8.79417732e-02, -4.92916480e-02, -2.75250655e-02,\n",
              "         2.89056860e-02,  2.62180753e-02, -2.62533966e-02,\n",
              "        -2.32848972e-02, -3.93891744e-02, -1.50257628e-02,\n",
              "        -5.24414144e-02,  1.83682085e-03, -3.85535322e-02,\n",
              "        -2.75125448e-02,  6.35410398e-02, -1.50481323e-02,\n",
              "        -1.40012922e-02,  4.90207821e-02,  8.88283737e-03,\n",
              "        -2.23874138e-03,  1.37523785e-02,  8.36763084e-02,\n",
              "        -5.12964930e-03, -3.51839922e-02, -6.19632229e-02,\n",
              "         4.96156747e-03,  9.29686278e-02,  7.23739713e-02,\n",
              "         3.79690751e-02,  1.75984614e-02,  2.13831961e-02,\n",
              "        -3.32150273e-02, -7.54812360e-02,  6.48872927e-02,\n",
              "         4.68243882e-02, -4.87369858e-02,  4.97230999e-02,\n",
              "        -2.85406634e-02,  4.99002561e-02,  1.95604712e-02,\n",
              "        -4.42649387e-02,  4.53634784e-02, -8.84984732e-02,\n",
              "        -5.14767468e-02,  1.51746524e-02,  3.36943194e-02,\n",
              "         9.97794210e-04, -6.27468750e-02, -5.19177206e-02,\n",
              "         2.08057351e-02,  1.14742517e-02,  1.89558286e-02,\n",
              "        -5.28512336e-02, -1.61684602e-02,  5.16110100e-02,\n",
              "         7.70972222e-02, -5.40820770e-02, -2.05884632e-02,\n",
              "        -3.15539986e-02, -3.06991674e-02, -4.14304323e-02,\n",
              "        -1.04365379e-01, -5.85019924e-02, -4.58388329e-02,\n",
              "        -1.84198166e-03, -3.72677855e-03, -3.25093344e-02,\n",
              "         1.94609072e-02,  2.81531010e-02, -1.91842839e-02,\n",
              "         8.50608200e-03,  1.36645157e-02, -2.99678817e-02,\n",
              "         4.10295464e-02,  6.77363724e-02,  6.16982058e-02,\n",
              "         4.28108461e-02, -1.34656122e-02, -1.24515025e-02,\n",
              "         3.36198928e-03,  1.10762147e-02, -6.90032542e-02,\n",
              "        -5.84212728e-02,  4.33398038e-02,  1.88572872e-02,\n",
              "         7.69104213e-02,  2.61480231e-02, -1.84662757e-03,\n",
              "        -3.47227529e-02, -7.02514052e-02,  7.12208673e-02,\n",
              "        -4.43439372e-03, -5.27848303e-02, -3.37874144e-02,\n",
              "        -6.51374012e-02, -7.73003651e-03, -5.75299300e-02,\n",
              "        -1.07689099e-02, -2.72148531e-02, -4.60650660e-02,\n",
              "         1.60560217e-02, -5.91555350e-02, -2.53775553e-03,\n",
              "         1.05114309e-02, -5.46464175e-02,  1.30487494e-02,\n",
              "         7.53984367e-03,  1.12502882e-02, -3.14680338e-02,\n",
              "        -9.12038237e-02,  5.51069565e-02, -2.95468345e-02,\n",
              "         2.04335176e-03,  1.25578977e-02, -5.68096638e-02,\n",
              "         6.32892475e-02,  3.40531161e-03,  3.64804566e-02,\n",
              "         4.76771360e-03,  2.08747648e-02,  5.53331822e-02,\n",
              "         9.64393467e-02,  3.52383442e-02, -2.46491693e-02,\n",
              "        -3.45212296e-02, -4.69003245e-03,  7.79932216e-02,\n",
              "         1.15451235e-02, -3.10618319e-02, -3.30298319e-02,\n",
              "         1.27202207e-02,  1.91624966e-02, -7.99026117e-02,\n",
              "        -4.65612933e-02, -6.69886470e-02, -8.52882266e-02,\n",
              "         4.43454944e-02,  5.83685702e-03, -1.35547705e-02,\n",
              "        -1.26426835e-02,  5.86355617e-03,  7.97103792e-02,\n",
              "         5.72246686e-02,  4.96855117e-02,  6.05937187e-03,\n",
              "         2.07662322e-02, -6.97293356e-02,  3.79080959e-02,\n",
              "         3.54976803e-02,  8.11354518e-02, -1.31921312e-02,\n",
              "         2.12421920e-02,  3.44565250e-02,  2.30784039e-03,\n",
              "         3.41929458e-02, -7.55099431e-02, -4.63754907e-02,\n",
              "         5.93931042e-02,  5.44193760e-03,  4.51584905e-02,\n",
              "         2.19276058e-03, -2.61274492e-03,  2.89008860e-02,\n",
              "         2.57116873e-02,  6.52532354e-02,  2.71676034e-02,\n",
              "         3.85118648e-02, -1.65524334e-02, -7.31728375e-02,\n",
              "        -7.37019107e-02,  2.70868801e-02,  6.20380715e-02,\n",
              "        -8.49103928e-02,  1.18134799e-03, -1.56315174e-02,\n",
              "         5.35437325e-03, -2.75190193e-02,  1.94330979e-02,\n",
              "         6.13673627e-02, -2.12379126e-03,  6.40106248e-03,\n",
              "         2.09306441e-02,  1.46270767e-02,  1.36276064e-02,\n",
              "        -7.00190440e-02, -8.02354515e-03, -2.74458751e-02,\n",
              "        -8.76421458e-04,  1.50918113e-02, -2.25716317e-03,\n",
              "         1.14471102e-02, -8.27078596e-02, -6.62129819e-02,\n",
              "        -3.38702835e-03, -2.68016756e-02,  2.30160374e-02,\n",
              "         9.68736690e-03,  5.43048084e-02,  1.71007421e-02,\n",
              "        -4.88269962e-02,  7.51450658e-02, -2.28735153e-02,\n",
              "        -7.30493888e-02,  3.51911560e-02,  4.14487347e-02,\n",
              "        -1.76559277e-02, -7.44256675e-02, -6.70447499e-02,\n",
              "        -2.90123019e-02, -3.33058052e-02, -6.91464618e-02,\n",
              "        -3.57769802e-02, -1.55966878e-02,  5.18423319e-02,\n",
              "        -2.08700337e-02,  3.20706442e-02, -1.04844235e-02,\n",
              "        -2.76463721e-02, -8.84791538e-02, -6.01949692e-02,\n",
              "        -7.95620009e-02, -6.28230646e-02, -4.25490662e-02,\n",
              "        -5.40392473e-02,  2.80003250e-02, -3.96658815e-02,\n",
              "         6.29723519e-02,  5.37835844e-02, -4.26341705e-02,\n",
              "         3.05817858e-03, -2.47381777e-02, -6.65871352e-02,\n",
              "        -3.00439866e-03, -3.10960761e-03, -5.38282795e-03,\n",
              "        -2.64324844e-02, -5.13474308e-02, -1.36585217e-02,\n",
              "        -2.31284071e-02,  1.35501530e-02,  2.80982908e-02,\n",
              "        -4.32089157e-02, -3.96553939e-03, -2.06867252e-02,\n",
              "         9.07535776e-02, -3.74922305e-02, -5.27004339e-02,\n",
              "        -6.88110339e-03, -2.49208398e-02,  2.69917659e-02,\n",
              "        -6.56059338e-03, -3.85780632e-02,  5.51268877e-03,\n",
              "         4.68236171e-02, -3.14258561e-02, -4.97719347e-02,\n",
              "        -4.95996289e-02,  8.49638134e-02, -2.15132590e-02,\n",
              "         1.33230872e-02, -3.38197127e-02,  8.72143432e-02,\n",
              "         6.03488600e-03, -8.45119208e-02,  4.73186597e-02,\n",
              "         3.51978466e-03, -8.49138480e-03,  2.62912270e-02,\n",
              "         4.67048846e-02, -1.08194165e-02, -3.27946246e-02,\n",
              "        -5.59973158e-02, -1.52968941e-02, -4.03857715e-02,\n",
              "         1.03499405e-01,  5.93641289e-02,  9.79890451e-02,\n",
              "        -4.93334346e-02,  1.76196992e-02,  9.04194787e-02,\n",
              "         8.78766105e-02,  4.66227159e-02, -3.39260697e-02,\n",
              "        -5.70287295e-02, -3.08646150e-02,  2.27356590e-02,\n",
              "         2.48782597e-02,  2.31220666e-02, -3.52069223e-03,\n",
              "        -1.05391532e-01,  5.57503290e-03, -1.05145723e-02,\n",
              "         3.35753821e-02, -5.98338619e-03, -8.46372172e-03,\n",
              "        -6.39515519e-02,  3.99731584e-02,  2.41676979e-02,\n",
              "        -3.34953889e-02, -9.28905606e-03,  3.10466234e-02,\n",
              "         6.79868162e-02,  8.75663012e-03,  5.23508564e-02,\n",
              "         3.81155647e-02,  5.78793809e-02, -2.25877594e-02,\n",
              "         2.50284299e-02,  3.19392793e-02,  7.16883689e-04,\n",
              "        -2.67709345e-02, -4.65982892e-02, -3.55709568e-02,\n",
              "         2.43556201e-02, -3.57771739e-02,  2.54258178e-02,\n",
              "         4.26701047e-02,  2.37185024e-02, -3.05600073e-02,\n",
              "         1.86218880e-02, -1.21097974e-02, -5.77022284e-02,\n",
              "         2.77473778e-02, -3.55065148e-03, -6.44982085e-02,\n",
              "        -4.50170748e-02, -6.41916320e-02,  3.15564349e-02,\n",
              "         4.46376614e-02,  2.22805273e-02,  3.24264839e-02,\n",
              "         4.45881225e-02, -2.34101247e-02,  8.59088749e-02,\n",
              "        -1.99726056e-02, -5.99960797e-02, -3.03948764e-02,\n",
              "        -4.68447693e-02,  2.94758510e-02, -1.27004683e-02,\n",
              "        -1.99701507e-02, -3.05991489e-02,  3.70046012e-02,\n",
              "         3.65866385e-02, -7.17483461e-02,  4.78306673e-02,\n",
              "         3.38698439e-02,  1.27990786e-02, -3.73588055e-02,\n",
              "        -4.78787236e-02,  1.06544504e-02,  3.21562192e-03,\n",
              "        -4.97643016e-02,  2.01815628e-02, -3.59934638e-03,\n",
              "         1.39418151e-03, -8.81346613e-02, -6.16801381e-02,\n",
              "        -2.11732974e-03, -5.50978293e-05,  2.94103064e-02,\n",
              "         1.45033821e-02,  3.78155150e-02, -4.17238362e-02,\n",
              "        -2.40693279e-02,  3.62919527e-03,  1.19380336e-02,\n",
              "        -1.35922935e-02,  9.22088474e-02,  4.81259860e-02,\n",
              "         2.18476467e-02,  4.68963459e-02, -4.77387235e-02,\n",
              "         6.16289722e-03,  1.18464744e-02, -5.99981584e-02,\n",
              "        -5.17941788e-02,  7.01353699e-02,  2.20545623e-02,\n",
              "        -1.93334781e-02,  6.25956431e-03,  4.27933484e-02,\n",
              "         3.57551537e-02, -5.32017946e-02, -1.65240299e-02,\n",
              "         1.49214426e-02,  7.19363168e-02, -3.43215093e-02,\n",
              "        -1.37286130e-02, -7.99256638e-02, -1.82986837e-02,\n",
              "         1.53326364e-02,  9.44242906e-03,  5.85755259e-02,\n",
              "         3.39708179e-02,  2.18401030e-02,  1.59349255e-02,\n",
              "        -3.05598211e-02,  3.63810062e-02, -5.69791831e-02,\n",
              "        -8.43026862e-02,  2.78116707e-02]], dtype=float32)>"
            ]
          },
          "metadata": {},
          "execution_count": 47
        }
      ]
    },
    {
      "cell_type": "code",
      "source": [
        "# Define feature extraction model using TF Hub layer\n",
        "inputs=tf.keras.layers.Input(shape=[], dtype=tf.string)\n",
        "x=sentence_encoder(inputs) # tokenize text and create embedding of each sequence\n",
        "x=tf.keras.layers.Dense(128, activation=\"relu\")(x)\n",
        "outputs=tf.keras.layers.Dense(num_classes, activation=\"softmax\")(x)\n",
        "Model_2=tf.keras.Model(inputs, outputs)\n",
        "\n",
        "# Compile the model\n",
        "Model_2.compile(loss=\"categorical_crossentropy\", optimizer=\"adam\", metrics=\"accuracy\")\n"
      ],
      "metadata": {
        "id": "B8VrVJswFVC0"
      },
      "execution_count": null,
      "outputs": []
    },
    {
      "cell_type": "code",
      "source": [
        "Model_2.summary()"
      ],
      "metadata": {
        "colab": {
          "base_uri": "https://localhost:8080/"
        },
        "id": "mhQpil6fHCoh",
        "outputId": "bbf7b4a2-a083-4a48-825b-876b38f7dd31"
      },
      "execution_count": null,
      "outputs": [
        {
          "output_type": "stream",
          "name": "stdout",
          "text": [
            "Model: \"model_1\"\n",
            "_________________________________________________________________\n",
            " Layer (type)                Output Shape              Param #   \n",
            "=================================================================\n",
            " input_2 (InputLayer)        [(None,)]                 0         \n",
            "                                                                 \n",
            " USE (KerasLayer)            (None, 512)               256797824 \n",
            "                                                                 \n",
            " dense_1 (Dense)             (None, 128)               65664     \n",
            "                                                                 \n",
            " dense_2 (Dense)             (None, 5)                 645       \n",
            "                                                                 \n",
            "=================================================================\n",
            "Total params: 256864133 (979.86 MB)\n",
            "Trainable params: 66309 (259.02 KB)\n",
            "Non-trainable params: 256797824 (979.61 MB)\n",
            "_________________________________________________________________\n"
          ]
        }
      ]
    },
    {
      "cell_type": "code",
      "source": [
        "# Fit model_2 to the data\n",
        "History_model_2=Model_2.fit(train_dataset, steps_per_epoch=int(0.1*len(train_dataset)),\n",
        "                            epochs=3, validation_data= valid_dataset, validation_steps=int(0.1*len(valid_dataset)),\n",
        "                            callbacks=[create_tensorboard_callback(\"Model_logs_Skimlit\", \"Model_2_USE\")])"
      ],
      "metadata": {
        "colab": {
          "base_uri": "https://localhost:8080/"
        },
        "id": "eAWHbPkNHT5h",
        "outputId": "4d395164-e0cc-4996-ca70-bfe5ad83620d"
      },
      "execution_count": null,
      "outputs": [
        {
          "output_type": "stream",
          "name": "stdout",
          "text": [
            "Saving TensorBoard log files to: Model_logs_Skimlit/Model_2_USE/20240104-155227\n",
            "Epoch 1/3\n",
            "562/562 [==============================] - 13s 18ms/step - loss: 0.9179 - accuracy: 0.6516 - val_loss: 0.7941 - val_accuracy: 0.6895\n",
            "Epoch 2/3\n",
            "562/562 [==============================] - 7s 12ms/step - loss: 0.7670 - accuracy: 0.7011 - val_loss: 0.7522 - val_accuracy: 0.7098\n",
            "Epoch 3/3\n",
            "562/562 [==============================] - 9s 16ms/step - loss: 0.7493 - accuracy: 0.7137 - val_loss: 0.7362 - val_accuracy: 0.7158\n"
          ]
        }
      ]
    },
    {
      "cell_type": "code",
      "source": [
        "# Make predictions with feature extraction model\n",
        "model_2_pred_probs=Model_2.predict(valid_dataset)\n",
        "model_2_preds=tf.argmax(model_2_pred_probs, axis=1)\n",
        "# Calculate results from TF Hub pretrained embeddings results on val set\n",
        "Model_2_res=calculate_results(val_labels_encoded, model_2_preds)\n",
        "Model_2_res"
      ],
      "metadata": {
        "colab": {
          "base_uri": "https://localhost:8080/"
        },
        "id": "g4RcYBFFHyLx",
        "outputId": "15610432-f929-4e4f-81ec-b9b2a5cad492"
      },
      "execution_count": null,
      "outputs": [
        {
          "output_type": "stream",
          "name": "stdout",
          "text": [
            "945/945 [==============================] - 10s 10ms/step\n"
          ]
        },
        {
          "output_type": "execute_result",
          "data": {
            "text/plain": [
              "{'accuracy': 71.51462994836488,\n",
              " 'precision': 0.7151712941665757,\n",
              " 'recall': 0.7151462994836488,\n",
              " 'f1': 0.7121333122851772}"
            ]
          },
          "metadata": {},
          "execution_count": 51
        }
      ]
    },
    {
      "cell_type": "markdown",
      "source": [
        "## Character level tokenizer"
      ],
      "metadata": {
        "id": "WE0xB89OIMaR"
      }
    },
    {
      "cell_type": "code",
      "source": [
        "# Make function to split sentences into characters\n",
        "def split_chars(text):\n",
        "  return \" \".join(list(text))"
      ],
      "metadata": {
        "id": "Q6z2L3uexzk9"
      },
      "execution_count": null,
      "outputs": []
    },
    {
      "cell_type": "code",
      "source": [
        "# Split sequence-level data splits into character-level data splits\n",
        "train_chars= [split_chars(sentence) for sentence in train_sentences]\n",
        "val_chars= [split_chars(sentence) for sentence in val_sentences]\n",
        "test_chars=[split_chars(sentence) for sentence in test_sentences]"
      ],
      "metadata": {
        "id": "cus8f44rxUPj"
      },
      "execution_count": null,
      "outputs": []
    },
    {
      "cell_type": "code",
      "source": [
        "# What's the average character length?\n",
        "char_lens=[len(sentence) for sentence in train_sentences]\n",
        "mean_char_len=np.mean(char_lens)\n",
        "mean_char_len"
      ],
      "metadata": {
        "colab": {
          "base_uri": "https://localhost:8080/"
        },
        "id": "HsC3iwHMyc3V",
        "outputId": "046ecdb7-7134-4d95-bf08-e9e5f78b6115"
      },
      "execution_count": null,
      "outputs": [
        {
          "output_type": "execute_result",
          "data": {
            "text/plain": [
              "149.3662574983337"
            ]
          },
          "metadata": {},
          "execution_count": 54
        }
      ]
    },
    {
      "cell_type": "code",
      "source": [
        "# Find what character length covers 95% of sequences\n",
        "output_seq_char_len = int(np.percentile(char_lens, 95))\n",
        "output_seq_char_len"
      ],
      "metadata": {
        "colab": {
          "base_uri": "https://localhost:8080/"
        },
        "id": "dqBMQRjTzoqD",
        "outputId": "6b2c4d23-b812-4350-f827-b09e4f0c5773"
      },
      "execution_count": null,
      "outputs": [
        {
          "output_type": "execute_result",
          "data": {
            "text/plain": [
              "290"
            ]
          },
          "metadata": {},
          "execution_count": 55
        }
      ]
    },
    {
      "cell_type": "code",
      "source": [
        "# Get all keyboard characters\n",
        "import string\n",
        "keys = string.ascii_lowercase + string.digits + string.punctuation\n",
        "keys"
      ],
      "metadata": {
        "colab": {
          "base_uri": "https://localhost:8080/",
          "height": 35
        },
        "id": "VmL9uwD90Gk6",
        "outputId": "cecaa4f4-790b-45a5-8ffd-71d6b81bccba"
      },
      "execution_count": null,
      "outputs": [
        {
          "output_type": "execute_result",
          "data": {
            "text/plain": [
              "'abcdefghijklmnopqrstuvwxyz0123456789!\"#$%&\\'()*+,-./:;<=>?@[\\\\]^_`{|}~'"
            ],
            "application/vnd.google.colaboratory.intrinsic+json": {
              "type": "string"
            }
          },
          "metadata": {},
          "execution_count": 56
        }
      ]
    },
    {
      "cell_type": "code",
      "source": [
        "# Create char-level token vectorizer instance\n",
        "NUM_CHAR_TOKENS=len(keys)+2\n",
        "char_vectorizer=TextVectorization(max_tokens=NUM_CHAR_TOKENS,\n",
        "                                  output_mode=\"int\",\n",
        "                                  output_sequence_length=output_seq_char_len,\n",
        "                                  standardize=\"lower_and_strip_punctuation\",\n",
        "                                  name=\"char_vectorizer\")"
      ],
      "metadata": {
        "id": "ed7DTtb0zwVD"
      },
      "execution_count": null,
      "outputs": []
    },
    {
      "cell_type": "code",
      "source": [
        "# Adapt character vectorizer to training characters\n",
        "char_vectorizer.adapt(train_chars)"
      ],
      "metadata": {
        "id": "ab4JHNyP1aqf"
      },
      "execution_count": null,
      "outputs": []
    },
    {
      "cell_type": "code",
      "source": [
        "# Check character vocab\n",
        "char_vocab=char_vectorizer.get_vocabulary()\n",
        "len(char_vocab)"
      ],
      "metadata": {
        "colab": {
          "base_uri": "https://localhost:8080/"
        },
        "id": "fsct47v50vkf",
        "outputId": "57eee794-8c37-4a79-a729-71764b0049ac"
      },
      "execution_count": null,
      "outputs": [
        {
          "output_type": "execute_result",
          "data": {
            "text/plain": [
              "28"
            ]
          },
          "metadata": {},
          "execution_count": 59
        }
      ]
    },
    {
      "cell_type": "code",
      "source": [
        "# Test out character vectorizer\n",
        "random_train_chars = random.choice(train_chars)\n",
        "print(f\"Charified text:\\n{random_train_chars}\")\n",
        "print(f\"\\nLength of chars: {len(random_train_chars.split())}\")\n",
        "vectorized_chars = char_vectorizer([random_train_chars])\n",
        "print(f\"\\nVectorized chars:\\n{vectorized_chars}\")\n",
        "print(f\"\\nLength of vectorized chars: {len(vectorized_chars[0])}\")"
      ],
      "metadata": {
        "colab": {
          "base_uri": "https://localhost:8080/"
        },
        "id": "PXnQBdeu1UL0",
        "outputId": "081636fa-b7f7-4484-d9b6-a9ae07739791"
      },
      "execution_count": null,
      "outputs": [
        {
          "output_type": "stream",
          "name": "stdout",
          "text": [
            "Charified text:\n",
            "t h e   p a t i e n t s   '   w o u n d s   w e r e   d r e s s e d   w e e k l y   a n d   a s s e s s e d   f o r t n i g h t l y   o v e r   t h e   f o l l o w i n g   @   w e e k s   .\n",
            "\n",
            "Length of chars: 80\n",
            "\n",
            "Vectorized chars:\n",
            "[[ 3 13  2 14  5  3  4  2  6  3  9 20  7 16  6 10  9 20  2  8  2 10  8  2\n",
            "   9  9  2 10 20  2  2 23 12 19  5  6 10  5  9  9  2  9  9  2 10 17  7  8\n",
            "   3  6  4 18 13  3 12 19  7 21  2  8  3 13  2 17  7 12 12  7 20  4  6 18\n",
            "  20  2  2 23  9  0  0  0  0  0  0  0  0  0  0  0  0  0  0  0  0  0  0  0\n",
            "   0  0  0  0  0  0  0  0  0  0  0  0  0  0  0  0  0  0  0  0  0  0  0  0\n",
            "   0  0  0  0  0  0  0  0  0  0  0  0  0  0  0  0  0  0  0  0  0  0  0  0\n",
            "   0  0  0  0  0  0  0  0  0  0  0  0  0  0  0  0  0  0  0  0  0  0  0  0\n",
            "   0  0  0  0  0  0  0  0  0  0  0  0  0  0  0  0  0  0  0  0  0  0  0  0\n",
            "   0  0  0  0  0  0  0  0  0  0  0  0  0  0  0  0  0  0  0  0  0  0  0  0\n",
            "   0  0  0  0  0  0  0  0  0  0  0  0  0  0  0  0  0  0  0  0  0  0  0  0\n",
            "   0  0  0  0  0  0  0  0  0  0  0  0  0  0  0  0  0  0  0  0  0  0  0  0\n",
            "   0  0  0  0  0  0  0  0  0  0  0  0  0  0  0  0  0  0  0  0  0  0  0  0\n",
            "   0  0]]\n",
            "\n",
            "Length of vectorized chars: 290\n"
          ]
        }
      ]
    },
    {
      "cell_type": "code",
      "source": [
        "# Create char embedding layer\n",
        "char_embedding=Embedding(input_dim=NUM_CHAR_TOKENS,\n",
        "                         output_dim=25,\n",
        "                         mask_zero=False,\n",
        "                         name=\"character_embedding\")\n",
        "\n",
        "# Test out character embedding layer\n",
        "char_embed_example = char_embedding(char_vectorizer([random_train_chars]))\n",
        "char_embed_example"
      ],
      "metadata": {
        "colab": {
          "base_uri": "https://localhost:8080/"
        },
        "id": "67Q8_6Qh2SM5",
        "outputId": "5e3c9124-498c-427d-84b6-fc5e7eccbf17"
      },
      "execution_count": null,
      "outputs": [
        {
          "output_type": "execute_result",
          "data": {
            "text/plain": [
              "<tf.Tensor: shape=(1, 290, 25), dtype=float32, numpy=\n",
              "array([[[ 0.025183  ,  0.03656615, -0.00290718, ..., -0.04639018,\n",
              "         -0.0188848 , -0.01809689],\n",
              "        [ 0.03584644,  0.03773529, -0.04488187, ...,  0.00986586,\n",
              "         -0.02070012, -0.04729642],\n",
              "        [-0.00323697,  0.04570838, -0.00115764, ...,  0.02614598,\n",
              "         -0.03553207,  0.04427384],\n",
              "        ...,\n",
              "        [ 0.04462424,  0.00098195,  0.00428892, ..., -0.00181318,\n",
              "          0.01995068, -0.0241654 ],\n",
              "        [ 0.04462424,  0.00098195,  0.00428892, ..., -0.00181318,\n",
              "          0.01995068, -0.0241654 ],\n",
              "        [ 0.04462424,  0.00098195,  0.00428892, ..., -0.00181318,\n",
              "          0.01995068, -0.0241654 ]]], dtype=float32)>"
            ]
          },
          "metadata": {},
          "execution_count": 61
        }
      ]
    },
    {
      "cell_type": "markdown",
      "source": [
        "## Model 3: Conv1D with char tokenization"
      ],
      "metadata": {
        "id": "VQda50Eq29eB"
      }
    },
    {
      "cell_type": "code",
      "source": [
        "# Make Conv1D on chars only\n",
        "inputs=tf.keras.layers.Input(shape=(1,), dtype=tf.string)\n",
        "x=char_vectorizer(inputs)\n",
        "x=char_embedding(x)\n",
        "x=tf.keras.layers.Conv1D(filters=64, kernel_size=5, padding=\"same\", activation=\"relu\")(x)\n",
        "x=tf.keras.layers.GlobalMaxPool1D()(x)\n",
        "outputs=tf.keras.layers.Dense(num_classes, activation=\"softmax\")(x)\n",
        "\n",
        "model_3=tf.keras.Model(inputs, outputs)"
      ],
      "metadata": {
        "id": "67PCU5mD3fHp"
      },
      "execution_count": null,
      "outputs": []
    },
    {
      "cell_type": "code",
      "source": [
        "# Compile\n",
        "model_3.compile(loss=\"categorical_crossentropy\", optimizer=\"adam\", metrics=\"accuracy\")"
      ],
      "metadata": {
        "id": "V1gCydXJ41uB"
      },
      "execution_count": null,
      "outputs": []
    },
    {
      "cell_type": "code",
      "source": [
        "model_3.summary()"
      ],
      "metadata": {
        "colab": {
          "base_uri": "https://localhost:8080/"
        },
        "id": "6oKZ-GZ04-hR",
        "outputId": "d3a018fb-214f-4a10-dfe7-35ecd3bc9758"
      },
      "execution_count": null,
      "outputs": [
        {
          "output_type": "stream",
          "name": "stdout",
          "text": [
            "Model: \"model_2\"\n",
            "_________________________________________________________________\n",
            " Layer (type)                Output Shape              Param #   \n",
            "=================================================================\n",
            " input_3 (InputLayer)        [(None, 1)]               0         \n",
            "                                                                 \n",
            " char_vectorizer (TextVecto  (None, 290)               0         \n",
            " rization)                                                       \n",
            "                                                                 \n",
            " character_embedding (Embed  (None, 290, 25)           1750      \n",
            " ding)                                                           \n",
            "                                                                 \n",
            " conv1d_1 (Conv1D)           (None, 290, 64)           8064      \n",
            "                                                                 \n",
            " global_max_pooling1d (Glob  (None, 64)                0         \n",
            " alMaxPooling1D)                                                 \n",
            "                                                                 \n",
            " dense_3 (Dense)             (None, 5)                 325       \n",
            "                                                                 \n",
            "=================================================================\n",
            "Total params: 10139 (39.61 KB)\n",
            "Trainable params: 10139 (39.61 KB)\n",
            "Non-trainable params: 0 (0.00 Byte)\n",
            "_________________________________________________________________\n"
          ]
        }
      ]
    },
    {
      "cell_type": "code",
      "source": [
        "# Create char level datasets\n",
        "train_char_dataset = tf.data.Dataset.from_tensor_slices((train_chars, train_labels_one_hot)).batch(32).prefetch(tf.data.AUTOTUNE)\n",
        "val_char_dataset = tf.data.Dataset.from_tensor_slices((val_chars, val_labels_one_hot)).batch(32).prefetch(tf.data.AUTOTUNE)\n",
        "test_char_dataset = tf.data.Dataset.from_tensor_slices((test_chars, test_labels_one_hot)).batch(32).prefetch(tf.data.AUTOTUNE)\n",
        "\n",
        "train_char_dataset"
      ],
      "metadata": {
        "colab": {
          "base_uri": "https://localhost:8080/"
        },
        "id": "rCb9kJRj5AkI",
        "outputId": "5fbd6877-5690-472b-cbd1-3f7c17d3d9a3"
      },
      "execution_count": null,
      "outputs": [
        {
          "output_type": "execute_result",
          "data": {
            "text/plain": [
              "<_PrefetchDataset element_spec=(TensorSpec(shape=(None,), dtype=tf.string, name=None), TensorSpec(shape=(None, 5), dtype=tf.float64, name=None))>"
            ]
          },
          "metadata": {},
          "execution_count": 65
        }
      ]
    },
    {
      "cell_type": "code",
      "source": [
        "# Fit the model on chars only\n",
        "model_3_history=model_3.fit(train_char_dataset, epochs=3, steps_per_epoch=int(0.1*len(train_char_dataset)),\n",
        "                            validation_data=val_char_dataset, validation_steps=int(0.1*len(val_char_dataset)),\n",
        "                            callbacks=([create_tensorboard_callback(\"Model_logs_Skimlit\", \"model_3\")]))"
      ],
      "metadata": {
        "colab": {
          "base_uri": "https://localhost:8080/"
        },
        "id": "BoD_AXsM5riH",
        "outputId": "ff980eff-f6af-4a5f-8b06-14584002b6e1"
      },
      "execution_count": null,
      "outputs": [
        {
          "output_type": "stream",
          "name": "stdout",
          "text": [
            "Saving TensorBoard log files to: Model_logs_Skimlit/model_3/20240104-155333\n",
            "Epoch 1/3\n",
            "562/562 [==============================] - 5s 7ms/step - loss: 1.2735 - accuracy: 0.4928 - val_loss: 1.0409 - val_accuracy: 0.5921\n",
            "Epoch 2/3\n",
            "562/562 [==============================] - 3s 5ms/step - loss: 0.9848 - accuracy: 0.6145 - val_loss: 0.9200 - val_accuracy: 0.6439\n",
            "Epoch 3/3\n",
            "562/562 [==============================] - 3s 5ms/step - loss: 0.9026 - accuracy: 0.6543 - val_loss: 0.8506 - val_accuracy: 0.6799\n"
          ]
        }
      ]
    },
    {
      "cell_type": "code",
      "source": [
        "# Make predictions with character model only\n",
        "model_3_pred_probs=model_3.predict(val_char_dataset)\n",
        "model_3_preds=tf.argmax(model_3_pred_probs, axis=1)\n",
        "\n",
        "# Calculate results for Conv1D model chars only\n",
        "Model_3_res=calculate_results(val_labels_encoded, model_3_preds)\n",
        "Model_3_res"
      ],
      "metadata": {
        "colab": {
          "base_uri": "https://localhost:8080/"
        },
        "id": "M8d04bSJ6VQ3",
        "outputId": "ccf3f259-b577-447f-c56f-5070ca3f6915"
      },
      "execution_count": null,
      "outputs": [
        {
          "output_type": "stream",
          "name": "stdout",
          "text": [
            "945/945 [==============================] - 2s 2ms/step\n"
          ]
        },
        {
          "output_type": "execute_result",
          "data": {
            "text/plain": [
              "{'accuracy': 66.63908380775851,\n",
              " 'precision': 0.6608125409906379,\n",
              " 'recall': 0.666390838077585,\n",
              " 'f1': 0.6571328043646032}"
            ]
          },
          "metadata": {},
          "execution_count": 67
        }
      ]
    },
    {
      "cell_type": "markdown",
      "source": [
        "## Model 4: Combining pretrained token embeddings + characters embeddings (hybrid embedding layer)\n",
        "\n",
        "\n",
        "  1. Create a token-level embedding model (similar model_1)\n",
        "  2. Create a character-level model (similar to model_3 with a slight modification)\n",
        "  3. Combine 1 & 2 with a concatenate (layers.Concatenate)\n",
        "  4. Build a series of output layers on top of 3 similar to Figure 1 and section 4.2 of https://arxiv.org/pdf/1612.05251.pdf\n",
        "  5. Construct a model which takes token and character-level sequences as input and produces sequence label probabilities as output\n"
      ],
      "metadata": {
        "id": "p09Y6X7gNsu3"
      }
    },
    {
      "cell_type": "code",
      "source": [
        "# Token model\n",
        "token_inputs=tf.keras.layers.Input(shape=[], dtype=tf.string)\n",
        "x=sentence_encoder(token_inputs)\n",
        "token_outputs=tf.keras.layers.Dense(128, activation=\"relu\")(x)\n",
        "token_model=tf.keras.Model(token_inputs, token_outputs)\n",
        "\n",
        "#Char model\n",
        "char_inputs=tf.keras.layers.Input(shape=(1,), dtype=tf.string)\n",
        "y=char_vectorizer(char_inputs)\n",
        "y=char_embedding(y)\n",
        "char_bi_lstm=tf.keras.layers.Bidirectional(tf.keras.layers.LSTM(24))(y)\n",
        "char_model = tf.keras.Model(inputs=char_inputs,\n",
        "                            outputs=char_bi_lstm)\n",
        "\n",
        "#Concatenate the two models\n",
        "token_char_concat=tf.keras.layers.Concatenate(name=\"token_char_hybrid\")([token_model.output, char_model.output])\n",
        "\n",
        "#Output layers\n",
        "combined_dropout=tf.keras.layers.Dropout(0.5)(token_char_concat)\n",
        "combined_dense=tf.keras.layers.Dense(128, activation=\"relu\")(combined_dropout)\n",
        "final_dropout = tf.keras.layers.Dropout(0.5)(combined_dense)\n",
        "output_layer = tf.keras.layers.Dense(num_classes, activation=\"softmax\")(final_dropout)\n",
        "\n",
        "model_4 = tf.keras.Model(inputs=[token_model.input, char_model.input],\n",
        "                         outputs=output_layer,\n",
        "                         name=\"model_4_token_and_char_embeddings\")\n"
      ],
      "metadata": {
        "id": "36AQWTm37Rro"
      },
      "execution_count": null,
      "outputs": []
    },
    {
      "cell_type": "code",
      "source": [
        "model_4.summary()"
      ],
      "metadata": {
        "colab": {
          "base_uri": "https://localhost:8080/"
        },
        "id": "kIIqRa4AH8nx",
        "outputId": "69c36d44-f175-40ee-af9e-0a5538e69301"
      },
      "execution_count": null,
      "outputs": [
        {
          "output_type": "stream",
          "name": "stdout",
          "text": [
            "Model: \"model_4_token_and_char_embeddings\"\n",
            "__________________________________________________________________________________________________\n",
            " Layer (type)                Output Shape                 Param #   Connected to                  \n",
            "==================================================================================================\n",
            " input_5 (InputLayer)        [(None, 1)]                  0         []                            \n",
            "                                                                                                  \n",
            " input_4 (InputLayer)        [(None,)]                    0         []                            \n",
            "                                                                                                  \n",
            " char_vectorizer (TextVecto  (None, 290)                  0         ['input_5[0][0]']             \n",
            " rization)                                                                                        \n",
            "                                                                                                  \n",
            " USE (KerasLayer)            (None, 512)                  2567978   ['input_4[0][0]']             \n",
            "                                                          24                                      \n",
            "                                                                                                  \n",
            " character_embedding (Embed  (None, 290, 25)              1750      ['char_vectorizer[1][0]']     \n",
            " ding)                                                                                            \n",
            "                                                                                                  \n",
            " dense_4 (Dense)             (None, 128)                  65664     ['USE[1][0]']                 \n",
            "                                                                                                  \n",
            " bidirectional (Bidirection  (None, 48)                   9600      ['character_embedding[1][0]'] \n",
            " al)                                                                                              \n",
            "                                                                                                  \n",
            " token_char_hybrid (Concate  (None, 176)                  0         ['dense_4[0][0]',             \n",
            " nate)                                                               'bidirectional[0][0]']       \n",
            "                                                                                                  \n",
            " dropout (Dropout)           (None, 176)                  0         ['token_char_hybrid[0][0]']   \n",
            "                                                                                                  \n",
            " dense_5 (Dense)             (None, 128)                  22656     ['dropout[0][0]']             \n",
            "                                                                                                  \n",
            " dropout_1 (Dropout)         (None, 128)                  0         ['dense_5[0][0]']             \n",
            "                                                                                                  \n",
            " dense_6 (Dense)             (None, 5)                    645       ['dropout_1[0][0]']           \n",
            "                                                                                                  \n",
            "==================================================================================================\n",
            "Total params: 256898139 (979.99 MB)\n",
            "Trainable params: 100315 (391.86 KB)\n",
            "Non-trainable params: 256797824 (979.61 MB)\n",
            "__________________________________________________________________________________________________\n"
          ]
        }
      ]
    },
    {
      "cell_type": "code",
      "source": [
        "from keras.utils import plot_model\n",
        "# Plot hybrid token and character model\n",
        "plot_model(model_4)"
      ],
      "metadata": {
        "colab": {
          "base_uri": "https://localhost:8080/",
          "height": 856
        },
        "id": "Q6RdAl0tIV5Z",
        "outputId": "cc4ae662-c81a-4a4d-8b72-eb730609af0c"
      },
      "execution_count": null,
      "outputs": [
        {
          "output_type": "execute_result",
          "data": {
            "image/png": "[encoded data removed]",
            "text/plain": [
              "<IPython.core.display.Image object>"
            ]
          },
          "metadata": {},
          "execution_count": 70
        }
      ]
    },
    {
      "cell_type": "code",
      "source": [
        "model_4.compile(loss=\"categorical_crossentropy\", optimizer=\"adam\", metrics=\"accuracy\") # Compile token char model"
      ],
      "metadata": {
        "id": "XegcAoioJCmy"
      },
      "execution_count": null,
      "outputs": []
    },
    {
      "cell_type": "code",
      "source": [
        "# Combine chars and tokens into a dataset, Prefetch and batch train and test data\n",
        "train_char_token_data = tf.data.Dataset.from_tensor_slices((train_sentences, train_chars))\n",
        "train_char_token_labels = tf.data.Dataset.from_tensor_slices(train_labels_one_hot)\n",
        "train_char_token_dataset = tf.data.Dataset.zip((train_char_token_data, train_char_token_labels))\n",
        "train_char_token_dataset = train_char_token_dataset.batch(32).prefetch(tf.data.AUTOTUNE)\n",
        "\n",
        "val_char_token_data = tf.data.Dataset.from_tensor_slices((val_sentences, val_chars))\n",
        "val_char_token_labels = tf.data.Dataset.from_tensor_slices(val_labels_one_hot)\n",
        "val_char_token_dataset = tf.data.Dataset.zip((val_char_token_data, val_char_token_labels))\n",
        "val_char_token_dataset = val_char_token_dataset.batch(32).prefetch(tf.data.AUTOTUNE)"
      ],
      "metadata": {
        "id": "KWSFPtDTJYlA"
      },
      "execution_count": null,
      "outputs": []
    },
    {
      "cell_type": "code",
      "source": [
        "train_char_token_dataset, val_char_token_dataset"
      ],
      "metadata": {
        "colab": {
          "base_uri": "https://localhost:8080/"
        },
        "id": "uUpuntyiKmn3",
        "outputId": "05c662ce-2061-40a0-e73b-7b751f9c1607"
      },
      "execution_count": null,
      "outputs": [
        {
          "output_type": "execute_result",
          "data": {
            "text/plain": [
              "(<_PrefetchDataset element_spec=((TensorSpec(shape=(None,), dtype=tf.string, name=None), TensorSpec(shape=(None,), dtype=tf.string, name=None)), TensorSpec(shape=(None, 5), dtype=tf.float64, name=None))>,\n",
              " <_PrefetchDataset element_spec=((TensorSpec(shape=(None,), dtype=tf.string, name=None), TensorSpec(shape=(None,), dtype=tf.string, name=None)), TensorSpec(shape=(None, 5), dtype=tf.float64, name=None))>)"
            ]
          },
          "metadata": {},
          "execution_count": 73
        }
      ]
    },
    {
      "cell_type": "code",
      "source": [
        "# Fit the model on tokens and chars\n",
        "model_4_history = model_4.fit(train_char_token_dataset,\n",
        "                              steps_per_epoch=int(0.1 * len(train_char_token_dataset)),\n",
        "                              epochs=3,\n",
        "                              validation_data=val_char_token_dataset,\n",
        "                              validation_steps=int(0.1 * len(val_char_token_dataset)))"
      ],
      "metadata": {
        "colab": {
          "base_uri": "https://localhost:8080/"
        },
        "id": "mx3AwHNMKozf",
        "outputId": "0b0e51f0-336c-4601-deb4-1c0a2151b64d"
      },
      "execution_count": null,
      "outputs": [
        {
          "output_type": "stream",
          "name": "stdout",
          "text": [
            "Epoch 1/3\n",
            "562/562 [==============================] - 26s 34ms/step - loss: 0.9847 - accuracy: 0.6079 - val_loss: 0.7755 - val_accuracy: 0.7005\n",
            "Epoch 2/3\n",
            "562/562 [==============================] - 20s 35ms/step - loss: 0.8013 - accuracy: 0.6891 - val_loss: 0.7290 - val_accuracy: 0.7227\n",
            "Epoch 3/3\n",
            "562/562 [==============================] - 18s 32ms/step - loss: 0.7764 - accuracy: 0.7055 - val_loss: 0.6859 - val_accuracy: 0.7447\n"
          ]
        }
      ]
    },
    {
      "cell_type": "code",
      "source": [
        "# Make predictions using the token-character model hybrid\n",
        "model_4_pred_probs=model_4.predict(val_char_token_dataset)\n",
        "model_4_preds=tf.argmax(model_4_pred_probs, axis=1)\n",
        "\n",
        "# Get results of token-char-hybrid model\n",
        "model_4_res=calculate_results(val_labels_encoded, model_4_preds)\n",
        "model_4_res"
      ],
      "metadata": {
        "id": "RtpIjaRiKxwo",
        "colab": {
          "base_uri": "https://localhost:8080/"
        },
        "outputId": "3f879998-2727-4464-b89c-b7cf80989d42"
      },
      "execution_count": null,
      "outputs": [
        {
          "output_type": "stream",
          "name": "stdout",
          "text": [
            "945/945 [==============================] - 18s 18ms/step\n"
          ]
        },
        {
          "output_type": "execute_result",
          "data": {
            "text/plain": [
              "{'accuracy': 73.41784721302793,\n",
              " 'precision': 0.7330950871005683,\n",
              " 'recall': 0.7341784721302793,\n",
              " 'f1': 0.7318152269535374}"
            ]
          },
          "metadata": {},
          "execution_count": 75
        }
      ]
    },
    {
      "cell_type": "markdown",
      "source": [
        "## Model 5: Transfer learning + token and character embeddings + positional embeddings"
      ],
      "metadata": {
        "id": "s0bCUIluiI9R"
      }
    },
    {
      "cell_type": "code",
      "source": [
        "train_df[\"line_number\"].value_counts() # How many different line numbers are there?"
      ],
      "metadata": {
        "colab": {
          "base_uri": "https://localhost:8080/"
        },
        "id": "N8ikjIHToVQ2",
        "outputId": "862ac51c-f3c5-472c-ad61-6c935f28039d"
      },
      "execution_count": null,
      "outputs": [
        {
          "output_type": "execute_result",
          "data": {
            "text/plain": [
              "0     15000\n",
              "1     15000\n",
              "2     15000\n",
              "3     15000\n",
              "4     14992\n",
              "5     14949\n",
              "6     14758\n",
              "7     14279\n",
              "8     13346\n",
              "9     11981\n",
              "10    10041\n",
              "11     7892\n",
              "12     5853\n",
              "13     4152\n",
              "14     2835\n",
              "15     1861\n",
              "16     1188\n",
              "17      751\n",
              "18      462\n",
              "19      286\n",
              "20      162\n",
              "21      101\n",
              "22       66\n",
              "23       33\n",
              "24       22\n",
              "25       14\n",
              "26        7\n",
              "27        4\n",
              "28        3\n",
              "29        1\n",
              "30        1\n",
              "Name: line_number, dtype: int64"
            ]
          },
          "metadata": {},
          "execution_count": 76
        }
      ]
    },
    {
      "cell_type": "code",
      "source": [
        "# Use TensorFlow to create one-hot-encoded tensors of our \"line_number\" column\n",
        "train_line_numbers_one_hot=tf.one_hot(train_df[\"line_number\"].to_numpy(), depth=15)\n",
        "val_line_numbers_one_hot=tf.one_hot(val_df[\"line_number\"].to_numpy(), depth=15)\n",
        "test_line_numbers_one_hot=tf.one_hot(test_df[\"line_number\"].to_numpy(), depth=15)\n",
        "train_line_numbers_one_hot.shape"
      ],
      "metadata": {
        "colab": {
          "base_uri": "https://localhost:8080/"
        },
        "id": "RKG60SRBq0em",
        "outputId": "8839fff0-a961-4491-9f87-983beae96bac"
      },
      "execution_count": null,
      "outputs": [
        {
          "output_type": "execute_result",
          "data": {
            "text/plain": [
              "TensorShape([180040, 15])"
            ]
          },
          "metadata": {},
          "execution_count": 77
        }
      ]
    },
    {
      "cell_type": "code",
      "source": [
        "train_df[\"total_lines\"].value_counts() # How many different numbers of lines are there?"
      ],
      "metadata": {
        "colab": {
          "base_uri": "https://localhost:8080/"
        },
        "id": "VN8AjKQPvT11",
        "outputId": "e55dd5f1-bd57-4792-af37-4eba9c721d8a"
      },
      "execution_count": null,
      "outputs": [
        {
          "output_type": "execute_result",
          "data": {
            "text/plain": [
              "11    24468\n",
              "10    23639\n",
              "12    22113\n",
              "9     19400\n",
              "13    18438\n",
              "14    14610\n",
              "8     12285\n",
              "15    10768\n",
              "7      7464\n",
              "16     7429\n",
              "17     5202\n",
              "6      3353\n",
              "18     3344\n",
              "19     2480\n",
              "20     1281\n",
              "5      1146\n",
              "21      770\n",
              "22      759\n",
              "23      264\n",
              "4       215\n",
              "24      200\n",
              "25      182\n",
              "26       81\n",
              "28       58\n",
              "3        32\n",
              "30       31\n",
              "27       28\n",
              "Name: total_lines, dtype: int64"
            ]
          },
          "metadata": {},
          "execution_count": 78
        }
      ]
    },
    {
      "cell_type": "code",
      "source": [
        "train_df[\"total_lines\"].plot(kind=\"hist\")"
      ],
      "metadata": {
        "colab": {
          "base_uri": "https://localhost:8080/",
          "height": 448
        },
        "id": "6-S3HwR0vdxa",
        "outputId": "7dbf4b70-9cea-45b8-e39f-593465e1210e"
      },
      "execution_count": null,
      "outputs": [
        {
          "output_type": "execute_result",
          "data": {
            "text/plain": [
              "<Axes: ylabel='Frequency'>"
            ]
          },
          "metadata": {},
          "execution_count": 79
        },
        {
          "output_type": "display_data",
          "data": {
            "text/plain": [
              "<Figure size 640x480 with 1 Axes>"
            ],
            "image/png": "[encoded data removed]"
          },
          "metadata": {}
        }
      ]
    },
    {
      "cell_type": "code",
      "source": [
        "# Use TensorFlow to create one-hot-encoded tensors of our \"total_lines\" feature\n",
        "train_total_lines_one_hot=tf.one_hot(train_df[\"total_lines\"].to_numpy(), depth=20)\n",
        "val_total_lines_one_hot=tf.one_hot(val_df[\"total_lines\"].to_numpy(), depth=20)\n",
        "test_total_lines_one_hot=tf.one_hot(test_df[\"total_lines\"].to_numpy(), depth=20)\n",
        "train_total_lines_one_hot[:10]"
      ],
      "metadata": {
        "colab": {
          "base_uri": "https://localhost:8080/"
        },
        "id": "xibkkaHTr1X8",
        "outputId": "17409c9c-2e2f-4f64-a96f-7dc5b8433409"
      },
      "execution_count": null,
      "outputs": [
        {
          "output_type": "execute_result",
          "data": {
            "text/plain": [
              "<tf.Tensor: shape=(10, 20), dtype=float32, numpy=\n",
              "array([[0., 0., 0., 0., 0., 0., 0., 0., 0., 0., 0., 1., 0., 0., 0., 0.,\n",
              "        0., 0., 0., 0.],\n",
              "       [0., 0., 0., 0., 0., 0., 0., 0., 0., 0., 0., 1., 0., 0., 0., 0.,\n",
              "        0., 0., 0., 0.],\n",
              "       [0., 0., 0., 0., 0., 0., 0., 0., 0., 0., 0., 1., 0., 0., 0., 0.,\n",
              "        0., 0., 0., 0.],\n",
              "       [0., 0., 0., 0., 0., 0., 0., 0., 0., 0., 0., 1., 0., 0., 0., 0.,\n",
              "        0., 0., 0., 0.],\n",
              "       [0., 0., 0., 0., 0., 0., 0., 0., 0., 0., 0., 1., 0., 0., 0., 0.,\n",
              "        0., 0., 0., 0.],\n",
              "       [0., 0., 0., 0., 0., 0., 0., 0., 0., 0., 0., 1., 0., 0., 0., 0.,\n",
              "        0., 0., 0., 0.],\n",
              "       [0., 0., 0., 0., 0., 0., 0., 0., 0., 0., 0., 1., 0., 0., 0., 0.,\n",
              "        0., 0., 0., 0.],\n",
              "       [0., 0., 0., 0., 0., 0., 0., 0., 0., 0., 0., 1., 0., 0., 0., 0.,\n",
              "        0., 0., 0., 0.],\n",
              "       [0., 0., 0., 0., 0., 0., 0., 0., 0., 0., 0., 1., 0., 0., 0., 0.,\n",
              "        0., 0., 0., 0.],\n",
              "       [0., 0., 0., 0., 0., 0., 0., 0., 0., 0., 0., 1., 0., 0., 0., 0.,\n",
              "        0., 0., 0., 0.]], dtype=float32)>"
            ]
          },
          "metadata": {},
          "execution_count": 80
        }
      ]
    },
    {
      "cell_type": "markdown",
      "source": [
        "\n",
        "Building a tribrid embedding model\n",
        "\n",
        "  1. Create a token-level model\n",
        "  2. Create a character-level model\n",
        "  3. Create a model for the \"line_number\" feature\n",
        "  4. Create a model for the \"total_lines\" feature\n",
        "  5. Combine the outputs of 1 & 2 using tf.keras.layers.Concatenate\n",
        "  6. Combine the outputs of 3, 4, 5 using tf.keras.layers.Concatenate\n",
        "  7. Create an output layer to accept the tribrid embedding and output label probabilities\n",
        "  8. Combine the inputs of 1, 2, 3, 4 and outputs of into a tf.keras.Model\n",
        "\n"
      ],
      "metadata": {
        "id": "7_Ex54M0OuZk"
      }
    },
    {
      "cell_type": "code",
      "source": [
        "# Token model\n",
        "token_inputs=tf.keras.layers.Input(shape=[], dtype=tf.string)\n",
        "x=sentence_encoder(token_inputs)\n",
        "token_outputs=tf.keras.layers.Dense(128, activation=\"relu\")(x)\n",
        "token_model=tf.keras.Model(token_inputs, token_outputs)\n",
        "\n",
        "#Char model\n",
        "char_inputs=tf.keras.layers.Input(shape=(1,), dtype=tf.string)\n",
        "y=char_vectorizer(char_inputs)\n",
        "y=char_embedding(y)\n",
        "char_bi_lstm=tf.keras.layers.Bidirectional(tf.keras.layers.LSTM(24))(y)\n",
        "char_model = tf.keras.Model(inputs=char_inputs,\n",
        "                            outputs=char_bi_lstm)\n",
        "\n",
        "#Line numbers model\n",
        "line_number_inputs=tf.keras.layers.Input(shape=(15,), dtype=tf.float32)\n",
        "line_num_dense=tf.keras.layers.Dense(32, activation=\"relu\")(line_number_inputs)\n",
        "line_number_model=tf.keras.Model(line_number_inputs, line_num_dense)\n",
        "\n",
        "#total lines model\n",
        "total_lines_inputs=tf.keras.layers.Input(shape=(20,), dtype=tf.float32)\n",
        "total_lines_dense=tf.keras.layers.Dense(32, activation=\"relu\")(total_lines_inputs)\n",
        "total_lines_model=tf.keras.Model(total_lines_inputs, total_lines_dense)\n",
        "\n",
        "#Concatenate the first two models\n",
        "token_char_concat=tf.keras.layers.Concatenate(name=\"token_char_hybrid\")([token_model.output, char_model.output])\n",
        "\n",
        "z=tf.keras.layers.Dense(256, activation=\"relu\")(token_char_concat)\n",
        "z=tf.keras.layers.Dropout(0.5)(z)\n",
        "\n",
        "#combine positional embeddings with token and char model\n",
        "tribrid_embeddings=tf.keras.layers.Concatenate(name=\"tribrid_embedding\")([line_number_model.output, total_lines_model.output, z])\n",
        "\n",
        "#Output layer\n",
        "\n",
        "output_layer=tf.keras.layers.Dense(5, activation=\"softmax\", name=\"output_layer\")(tribrid_embeddings)\n",
        "\n",
        "#create the full model\n",
        "model_5 = tf.keras.Model(inputs=[token_model.input, char_model.input, line_number_model.input, total_lines_model.input],\n",
        "                         outputs=output_layer,\n",
        "                         name=\"model_5_token_char_positional_embeddings\")"
      ],
      "metadata": {
        "id": "AYg4MhzNvvbD"
      },
      "execution_count": null,
      "outputs": []
    },
    {
      "cell_type": "code",
      "source": [
        "model_5.summary()"
      ],
      "metadata": {
        "colab": {
          "base_uri": "https://localhost:8080/"
        },
        "id": "m4xi627R5BE4",
        "outputId": "49d936d8-f6db-469e-c7d3-7170a43d8dd4"
      },
      "execution_count": null,
      "outputs": [
        {
          "output_type": "stream",
          "name": "stdout",
          "text": [
            "Model: \"model_5_token_char_positional_embeddings\"\n",
            "__________________________________________________________________________________________________\n",
            " Layer (type)                Output Shape                 Param #   Connected to                  \n",
            "==================================================================================================\n",
            " input_7 (InputLayer)        [(None, 1)]                  0         []                            \n",
            "                                                                                                  \n",
            " input_6 (InputLayer)        [(None,)]                    0         []                            \n",
            "                                                                                                  \n",
            " char_vectorizer (TextVecto  (None, 290)                  0         ['input_7[0][0]']             \n",
            " rization)                                                                                        \n",
            "                                                                                                  \n",
            " USE (KerasLayer)            (None, 512)                  2567978   ['input_6[0][0]']             \n",
            "                                                          24                                      \n",
            "                                                                                                  \n",
            " character_embedding (Embed  (None, 290, 25)              1750      ['char_vectorizer[2][0]']     \n",
            " ding)                                                                                            \n",
            "                                                                                                  \n",
            " dense_7 (Dense)             (None, 128)                  65664     ['USE[2][0]']                 \n",
            "                                                                                                  \n",
            " bidirectional_1 (Bidirecti  (None, 48)                   9600      ['character_embedding[2][0]'] \n",
            " onal)                                                                                            \n",
            "                                                                                                  \n",
            " token_char_hybrid (Concate  (None, 176)                  0         ['dense_7[0][0]',             \n",
            " nate)                                                               'bidirectional_1[0][0]']     \n",
            "                                                                                                  \n",
            " input_8 (InputLayer)        [(None, 15)]                 0         []                            \n",
            "                                                                                                  \n",
            " input_9 (InputLayer)        [(None, 20)]                 0         []                            \n",
            "                                                                                                  \n",
            " dense_10 (Dense)            (None, 256)                  45312     ['token_char_hybrid[0][0]']   \n",
            "                                                                                                  \n",
            " dense_8 (Dense)             (None, 32)                   512       ['input_8[0][0]']             \n",
            "                                                                                                  \n",
            " dense_9 (Dense)             (None, 32)                   672       ['input_9[0][0]']             \n",
            "                                                                                                  \n",
            " dropout_2 (Dropout)         (None, 256)                  0         ['dense_10[0][0]']            \n",
            "                                                                                                  \n",
            " tribrid_embedding (Concate  (None, 320)                  0         ['dense_8[0][0]',             \n",
            " nate)                                                               'dense_9[0][0]',             \n",
            "                                                                     'dropout_2[0][0]']           \n",
            "                                                                                                  \n",
            " output_layer (Dense)        (None, 5)                    1605      ['tribrid_embedding[0][0]']   \n",
            "                                                                                                  \n",
            "==================================================================================================\n",
            "Total params: 256922939 (980.08 MB)\n",
            "Trainable params: 125115 (488.73 KB)\n",
            "Non-trainable params: 256797824 (979.61 MB)\n",
            "__________________________________________________________________________________________________\n"
          ]
        }
      ]
    },
    {
      "cell_type": "code",
      "source": [
        "# Compile token, char, and positional embedding model\n",
        "model_5.compile(loss=tf.keras.losses.CategoricalCrossentropy(label_smoothing=0.2), optimizer=\"adam\", metrics=\"accuracy\")"
      ],
      "metadata": {
        "id": "CO8kcY-15ChG"
      },
      "execution_count": null,
      "outputs": []
    },
    {
      "cell_type": "code",
      "source": [
        "plot_model(model_5) # Plot model_5 to explore it visually"
      ],
      "metadata": {
        "colab": {
          "base_uri": "https://localhost:8080/",
          "height": 856
        },
        "id": "RyH1Q35b5J7i",
        "outputId": "757a07c1-b02e-47eb-a25d-b29e7d26f1b8"
      },
      "execution_count": null,
      "outputs": [
        {
          "output_type": "execute_result",
          "data": {
            "image/png": "[encoded data removed]",
            "text/plain": [
              "<IPython.core.display.Image object>"
            ]
          },
          "metadata": {},
          "execution_count": 84
        }
      ]
    },
    {
      "cell_type": "markdown",
      "source": [
        "## Create tribrid embedding datasets using tf.data\n"
      ],
      "metadata": {
        "id": "oYkC8AUEPMmx"
      }
    },
    {
      "cell_type": "code",
      "source": [
        "# Create training and valiadation datasets (with all four kinds of input data)\n",
        "train_char_token_positional_data = tf.data.Dataset.from_tensor_slices((train_sentences, train_chars, train_line_numbers_one_hot, train_total_lines_one_hot))\n",
        "train_char_token_positional_labels = tf.data.Dataset.from_tensor_slices(train_labels_one_hot)\n",
        "train_char_token_positional_dataset = tf.data.Dataset.zip((train_char_token_positional_data, train_char_token_positional_labels))\n",
        "train_char_token_positional_dataset = train_char_token_positional_dataset.batch(32).prefetch(tf.data.AUTOTUNE)\n",
        "\n",
        "val_char_token_positional_data = tf.data.Dataset.from_tensor_slices((val_sentences, val_chars, val_line_numbers_one_hot, val_total_lines_one_hot))\n",
        "val_char_token_positional_labels = tf.data.Dataset.from_tensor_slices(val_labels_one_hot)\n",
        "val_char_token_positional_dataset = tf.data.Dataset.zip((val_char_token_positional_data, val_char_token_positional_labels))\n",
        "val_char_token_positional_dataset = val_char_token_positional_dataset.batch(32).prefetch(tf.data.AUTOTUNE)"
      ],
      "metadata": {
        "id": "xL9H_0M_5wDn"
      },
      "execution_count": null,
      "outputs": []
    },
    {
      "cell_type": "code",
      "source": [
        "train_char_token_positional_dataset, val_char_token_positional_dataset"
      ],
      "metadata": {
        "colab": {
          "base_uri": "https://localhost:8080/"
        },
        "id": "Wcl2n41C8KL2",
        "outputId": "2a26916d-fb85-4df7-f1c2-791c2aca15e1"
      },
      "execution_count": null,
      "outputs": [
        {
          "output_type": "execute_result",
          "data": {
            "text/plain": [
              "(<_PrefetchDataset element_spec=((TensorSpec(shape=(None,), dtype=tf.string, name=None), TensorSpec(shape=(None,), dtype=tf.string, name=None), TensorSpec(shape=(None, 15), dtype=tf.float32, name=None), TensorSpec(shape=(None, 20), dtype=tf.float32, name=None)), TensorSpec(shape=(None, 5), dtype=tf.float64, name=None))>,\n",
              " <_PrefetchDataset element_spec=((TensorSpec(shape=(None,), dtype=tf.string, name=None), TensorSpec(shape=(None,), dtype=tf.string, name=None), TensorSpec(shape=(None, 15), dtype=tf.float32, name=None), TensorSpec(shape=(None, 20), dtype=tf.float32, name=None)), TensorSpec(shape=(None, 5), dtype=tf.float64, name=None))>)"
            ]
          },
          "metadata": {},
          "execution_count": 86
        }
      ]
    },
    {
      "cell_type": "code",
      "source": [
        "# Fit our tribrid embedding model\n",
        "model_5_history = model_5.fit(train_char_token_positional_dataset,\n",
        "                              steps_per_epoch=int(0.1 * len(train_char_token_positional_dataset)),\n",
        "                              epochs=3,\n",
        "                              validation_data=val_char_token_positional_dataset,\n",
        "                              validation_steps=int(0.1 * len(val_char_token_positional_dataset)))"
      ],
      "metadata": {
        "colab": {
          "base_uri": "https://localhost:8080/"
        },
        "id": "jeCWvhY88brW",
        "outputId": "2ac076d5-5051-475a-be62-79f2fdbc4ceb"
      },
      "execution_count": null,
      "outputs": [
        {
          "output_type": "stream",
          "name": "stdout",
          "text": [
            "Epoch 1/3\n",
            "562/562 [==============================] - 28s 38ms/step - loss: 1.0972 - accuracy: 0.7214 - val_loss: 0.9914 - val_accuracy: 0.7969\n",
            "Epoch 2/3\n",
            "562/562 [==============================] - 18s 33ms/step - loss: 0.9730 - accuracy: 0.8139 - val_loss: 0.9542 - val_accuracy: 0.8215\n",
            "Epoch 3/3\n",
            "562/562 [==============================] - 20s 36ms/step - loss: 0.9529 - accuracy: 0.8191 - val_loss: 0.9412 - val_accuracy: 0.8241\n"
          ]
        }
      ]
    },
    {
      "cell_type": "code",
      "source": [
        "# Make predictions with the char token pos model\n",
        "model_5_pred_probs=model_5.predict(val_char_token_positional_dataset)\n",
        "model_5_preds=tf.argmax(model_5_pred_probs, axis=1)\n",
        "\n",
        "# Calculate results of char token pos model\n",
        "model_5_res=calculate_results(val_labels_encoded, model_5_preds)\n",
        "model_5_res"
      ],
      "metadata": {
        "colab": {
          "base_uri": "https://localhost:8080/"
        },
        "id": "tM598K9p9kBT",
        "outputId": "8c663daa-b01b-4dc6-d615-542675091ea0"
      },
      "execution_count": null,
      "outputs": [
        {
          "output_type": "stream",
          "name": "stdout",
          "text": [
            "945/945 [==============================] - 18s 18ms/step\n"
          ]
        },
        {
          "output_type": "execute_result",
          "data": {
            "text/plain": [
              "{'accuracy': 82.91738382099828,\n",
              " 'precision': 0.8280980058962251,\n",
              " 'recall': 0.8291738382099828,\n",
              " 'f1': 0.8282499838501034}"
            ]
          },
          "metadata": {},
          "execution_count": 88
        }
      ]
    },
    {
      "cell_type": "markdown",
      "source": [
        "## Compare model results\n"
      ],
      "metadata": {
        "id": "4Mq2LbdHPZfZ"
      }
    },
    {
      "cell_type": "code",
      "source": [
        "# Combine model results into a dataframe\n",
        "all_model_results = pd.DataFrame({\"baseline\": baseline_results,\n",
        "                                  \"custom_token_embed_conv1d\": Model_1_res,\n",
        "                                  \"pretrained_token_embed\": Model_2_res,\n",
        "                                  \"custom_char_embed_conv1d\": Model_3_res,\n",
        "                                  \"hybrid_char_token_embed\": model_4_res,\n",
        "                                  \"tribrid_pos_char_token_embed\": model_5_res})\n",
        "all_model_results = all_model_results.transpose()\n",
        "all_model_results"
      ],
      "metadata": {
        "colab": {
          "base_uri": "https://localhost:8080/",
          "height": 237
        },
        "id": "l_olomNs9u7j",
        "outputId": "cc6c6365-f38b-443e-afcc-6df6bf68b8ab"
      },
      "execution_count": null,
      "outputs": [
        {
          "output_type": "execute_result",
          "data": {
            "text/plain": [
              "                               accuracy  precision    recall        f1\n",
              "baseline                      72.183238   0.718647  0.721832  0.698925\n",
              "custom_token_embed_conv1d     78.793195   0.784924  0.787932  0.785912\n",
              "pretrained_token_embed        71.514630   0.715171  0.715146  0.712133\n",
              "custom_char_embed_conv1d      66.639084   0.660813  0.666391  0.657133\n",
              "hybrid_char_token_embed       73.417847   0.733095  0.734178  0.731815\n",
              "tribrid_pos_char_token_embed  82.917384   0.828098  0.829174  0.828250"
            ],
            "text/html": [
              "\n",
              "  <div id=\"df-a9dedbfb-d1e0-4bcd-8528-e3cbd8161a5f\" class=\"colab-df-container\">\n",
              "    <div>\n",
              "<style scoped>\n",
              "    .dataframe tbody tr th:only-of-type {\n",
              "        vertical-align: middle;\n",
              "    }\n",
              "\n",
              "    .dataframe tbody tr th {\n",
              "        vertical-align: top;\n",
              "    }\n",
              "\n",
              "    .dataframe thead th {\n",
              "        text-align: right;\n",
              "    }\n",
              "</style>\n",
              "<table border=\"1\" class=\"dataframe\">\n",
              "  <thead>\n",
              "    <tr style=\"text-align: right;\">\n",
              "      <th></th>\n",
              "      <th>accuracy</th>\n",
              "      <th>precision</th>\n",
              "      <th>recall</th>\n",
              "      <th>f1</th>\n",
              "    </tr>\n",
              "  </thead>\n",
              "  <tbody>\n",
              "    <tr>\n",
              "      <th>baseline</th>\n",
              "      <td>72.183238</td>\n",
              "      <td>0.718647</td>\n",
              "      <td>0.721832</td>\n",
              "      <td>0.698925</td>\n",
              "    </tr>\n",
              "    <tr>\n",
              "      <th>custom_token_embed_conv1d</th>\n",
              "      <td>78.793195</td>\n",
              "      <td>0.784924</td>\n",
              "      <td>0.787932</td>\n",
              "      <td>0.785912</td>\n",
              "    </tr>\n",
              "    <tr>\n",
              "      <th>pretrained_token_embed</th>\n",
              "      <td>71.514630</td>\n",
              "      <td>0.715171</td>\n",
              "      <td>0.715146</td>\n",
              "      <td>0.712133</td>\n",
              "    </tr>\n",
              "    <tr>\n",
              "      <th>custom_char_embed_conv1d</th>\n",
              "      <td>66.639084</td>\n",
              "      <td>0.660813</td>\n",
              "      <td>0.666391</td>\n",
              "      <td>0.657133</td>\n",
              "    </tr>\n",
              "    <tr>\n",
              "      <th>hybrid_char_token_embed</th>\n",
              "      <td>73.417847</td>\n",
              "      <td>0.733095</td>\n",
              "      <td>0.734178</td>\n",
              "      <td>0.731815</td>\n",
              "    </tr>\n",
              "    <tr>\n",
              "      <th>tribrid_pos_char_token_embed</th>\n",
              "      <td>82.917384</td>\n",
              "      <td>0.828098</td>\n",
              "      <td>0.829174</td>\n",
              "      <td>0.828250</td>\n",
              "    </tr>\n",
              "  </tbody>\n",
              "</table>\n",
              "</div>\n",
              "    <div class=\"colab-df-buttons\">\n",
              "\n",
              "  <div class=\"colab-df-container\">\n",
              "    <button class=\"colab-df-convert\" onclick=\"convertToInteractive('df-a9dedbfb-d1e0-4bcd-8528-e3cbd8161a5f')\"\n",
              "            title=\"Convert this dataframe to an interactive table.\"\n",
              "            style=\"display:none;\">\n",
              "\n",
              "  <svg xmlns=\"http://www.w3.org/2000/svg\" height=\"24px\" viewBox=\"0 -960 960 960\">\n",
              "    <path d=\"M120-120v-720h720v720H120Zm60-500h600v-160H180v160Zm220 220h160v-160H400v160Zm0 220h160v-160H400v160ZM180-400h160v-160H180v160Zm440 0h160v-160H620v160ZM180-180h160v-160H180v160Zm440 0h160v-160H620v160Z\"/>\n",
              "  </svg>\n",
              "    </button>\n",
              "\n",
              "  <style>\n",
              "    .colab-df-container {\n",
              "      display:flex;\n",
              "      gap: 12px;\n",
              "    }\n",
              "\n",
              "    .colab-df-convert {\n",
              "      background-color: #E8F0FE;\n",
              "      border: none;\n",
              "      border-radius: 50%;\n",
              "      cursor: pointer;\n",
              "      display: none;\n",
              "      fill: #1967D2;\n",
              "      height: 32px;\n",
              "      padding: 0 0 0 0;\n",
              "      width: 32px;\n",
              "    }\n",
              "\n",
              "    .colab-df-convert:hover {\n",
              "      background-color: #E2EBFA;\n",
              "      box-shadow: 0px 1px 2px rgba(60, 64, 67, 0.3), 0px 1px 3px 1px rgba(60, 64, 67, 0.15);\n",
              "      fill: #174EA6;\n",
              "    }\n",
              "\n",
              "    .colab-df-buttons div {\n",
              "      margin-bottom: 4px;\n",
              "    }\n",
              "\n",
              "    [theme=dark] .colab-df-convert {\n",
              "      background-color: #3B4455;\n",
              "      fill: #D2E3FC;\n",
              "    }\n",
              "\n",
              "    [theme=dark] .colab-df-convert:hover {\n",
              "      background-color: #434B5C;\n",
              "      box-shadow: 0px 1px 3px 1px rgba(0, 0, 0, 0.15);\n",
              "      filter: drop-shadow(0px 1px 2px rgba(0, 0, 0, 0.3));\n",
              "      fill: #FFFFFF;\n",
              "    }\n",
              "  </style>\n",
              "\n",
              "    <script>\n",
              "      const buttonEl =\n",
              "        document.querySelector('#df-a9dedbfb-d1e0-4bcd-8528-e3cbd8161a5f button.colab-df-convert');\n",
              "      buttonEl.style.display =\n",
              "        google.colab.kernel.accessAllowed ? 'block' : 'none';\n",
              "\n",
              "      async function convertToInteractive(key) {\n",
              "        const element = document.querySelector('#df-a9dedbfb-d1e0-4bcd-8528-e3cbd8161a5f');\n",
              "        const dataTable =\n",
              "          await google.colab.kernel.invokeFunction('convertToInteractive',\n",
              "                                                    [key], {});\n",
              "        if (!dataTable) return;\n",
              "\n",
              "        const docLinkHtml = 'Like what you see? Visit the ' +\n",
              "          '<a target=\"_blank\" href=https://colab.research.google.com/notebooks/data_table.ipynb>data table notebook</a>'\n",
              "          + ' to learn more about interactive tables.';\n",
              "        element.innerHTML = '';\n",
              "        dataTable['output_type'] = 'display_data';\n",
              "        await google.colab.output.renderOutput(dataTable, element);\n",
              "        const docLink = document.createElement('div');\n",
              "        docLink.innerHTML = docLinkHtml;\n",
              "        element.appendChild(docLink);\n",
              "      }\n",
              "    </script>\n",
              "  </div>\n",
              "\n",
              "\n",
              "<div id=\"df-03c80f1c-7bee-442b-baab-237172be44dc\">\n",
              "  <button class=\"colab-df-quickchart\" onclick=\"quickchart('df-03c80f1c-7bee-442b-baab-237172be44dc')\"\n",
              "            title=\"Suggest charts\"\n",
              "            style=\"display:none;\">\n",
              "\n",
              "<svg xmlns=\"http://www.w3.org/2000/svg\" height=\"24px\"viewBox=\"0 0 24 24\"\n",
              "     width=\"24px\">\n",
              "    <g>\n",
              "        <path d=\"M19 3H5c-1.1 0-2 .9-2 2v14c0 1.1.9 2 2 2h14c1.1 0 2-.9 2-2V5c0-1.1-.9-2-2-2zM9 17H7v-7h2v7zm4 0h-2V7h2v10zm4 0h-2v-4h2v4z\"/>\n",
              "    </g>\n",
              "</svg>\n",
              "  </button>\n",
              "\n",
              "<style>\n",
              "  .colab-df-quickchart {\n",
              "      --bg-color: #E8F0FE;\n",
              "      --fill-color: #1967D2;\n",
              "      --hover-bg-color: #E2EBFA;\n",
              "      --hover-fill-color: #174EA6;\n",
              "      --disabled-fill-color: #AAA;\n",
              "      --disabled-bg-color: #DDD;\n",
              "  }\n",
              "\n",
              "  [theme=dark] .colab-df-quickchart {\n",
              "      --bg-color: #3B4455;\n",
              "      --fill-color: #D2E3FC;\n",
              "      --hover-bg-color: #434B5C;\n",
              "      --hover-fill-color: #FFFFFF;\n",
              "      --disabled-bg-color: #3B4455;\n",
              "      --disabled-fill-color: #666;\n",
              "  }\n",
              "\n",
              "  .colab-df-quickchart {\n",
              "    background-color: var(--bg-color);\n",
              "    border: none;\n",
              "    border-radius: 50%;\n",
              "    cursor: pointer;\n",
              "    display: none;\n",
              "    fill: var(--fill-color);\n",
              "    height: 32px;\n",
              "    padding: 0;\n",
              "    width: 32px;\n",
              "  }\n",
              "\n",
              "  .colab-df-quickchart:hover {\n",
              "    background-color: var(--hover-bg-color);\n",
              "    box-shadow: 0 1px 2px rgba(60, 64, 67, 0.3), 0 1px 3px 1px rgba(60, 64, 67, 0.15);\n",
              "    fill: var(--button-hover-fill-color);\n",
              "  }\n",
              "\n",
              "  .colab-df-quickchart-complete:disabled,\n",
              "  .colab-df-quickchart-complete:disabled:hover {\n",
              "    background-color: var(--disabled-bg-color);\n",
              "    fill: var(--disabled-fill-color);\n",
              "    box-shadow: none;\n",
              "  }\n",
              "\n",
              "  .colab-df-spinner {\n",
              "    border: 2px solid var(--fill-color);\n",
              "    border-color: transparent;\n",
              "    border-bottom-color: var(--fill-color);\n",
              "    animation:\n",
              "      spin 1s steps(1) infinite;\n",
              "  }\n",
              "\n",
              "  @keyframes spin {\n",
              "    0% {\n",
              "      border-color: transparent;\n",
              "      border-bottom-color: var(--fill-color);\n",
              "      border-left-color: var(--fill-color);\n",
              "    }\n",
              "    20% {\n",
              "      border-color: transparent;\n",
              "      border-left-color: var(--fill-color);\n",
              "      border-top-color: var(--fill-color);\n",
              "    }\n",
              "    30% {\n",
              "      border-color: transparent;\n",
              "      border-left-color: var(--fill-color);\n",
              "      border-top-color: var(--fill-color);\n",
              "      border-right-color: var(--fill-color);\n",
              "    }\n",
              "    40% {\n",
              "      border-color: transparent;\n",
              "      border-right-color: var(--fill-color);\n",
              "      border-top-color: var(--fill-color);\n",
              "    }\n",
              "    60% {\n",
              "      border-color: transparent;\n",
              "      border-right-color: var(--fill-color);\n",
              "    }\n",
              "    80% {\n",
              "      border-color: transparent;\n",
              "      border-right-color: var(--fill-color);\n",
              "      border-bottom-color: var(--fill-color);\n",
              "    }\n",
              "    90% {\n",
              "      border-color: transparent;\n",
              "      border-bottom-color: var(--fill-color);\n",
              "    }\n",
              "  }\n",
              "</style>\n",
              "\n",
              "  <script>\n",
              "    async function quickchart(key) {\n",
              "      const quickchartButtonEl =\n",
              "        document.querySelector('#' + key + ' button');\n",
              "      quickchartButtonEl.disabled = true;  // To prevent multiple clicks.\n",
              "      quickchartButtonEl.classList.add('colab-df-spinner');\n",
              "      try {\n",
              "        const charts = await google.colab.kernel.invokeFunction(\n",
              "            'suggestCharts', [key], {});\n",
              "      } catch (error) {\n",
              "        console.error('Error during call to suggestCharts:', error);\n",
              "      }\n",
              "      quickchartButtonEl.classList.remove('colab-df-spinner');\n",
              "      quickchartButtonEl.classList.add('colab-df-quickchart-complete');\n",
              "    }\n",
              "    (() => {\n",
              "      let quickchartButtonEl =\n",
              "        document.querySelector('#df-03c80f1c-7bee-442b-baab-237172be44dc button');\n",
              "      quickchartButtonEl.style.display =\n",
              "        google.colab.kernel.accessAllowed ? 'block' : 'none';\n",
              "    })();\n",
              "  </script>\n",
              "</div>\n",
              "\n",
              "  <div id=\"id_5f1b03bc-e85e-47c2-85e3-405cf353d2b1\">\n",
              "    <style>\n",
              "      .colab-df-generate {\n",
              "        background-color: #E8F0FE;\n",
              "        border: none;\n",
              "        border-radius: 50%;\n",
              "        cursor: pointer;\n",
              "        display: none;\n",
              "        fill: #1967D2;\n",
              "        height: 32px;\n",
              "        padding: 0 0 0 0;\n",
              "        width: 32px;\n",
              "      }\n",
              "\n",
              "      .colab-df-generate:hover {\n",
              "        background-color: #E2EBFA;\n",
              "        box-shadow: 0px 1px 2px rgba(60, 64, 67, 0.3), 0px 1px 3px 1px rgba(60, 64, 67, 0.15);\n",
              "        fill: #174EA6;\n",
              "      }\n",
              "\n",
              "      [theme=dark] .colab-df-generate {\n",
              "        background-color: #3B4455;\n",
              "        fill: #D2E3FC;\n",
              "      }\n",
              "\n",
              "      [theme=dark] .colab-df-generate:hover {\n",
              "        background-color: #434B5C;\n",
              "        box-shadow: 0px 1px 3px 1px rgba(0, 0, 0, 0.15);\n",
              "        filter: drop-shadow(0px 1px 2px rgba(0, 0, 0, 0.3));\n",
              "        fill: #FFFFFF;\n",
              "      }\n",
              "    </style>\n",
              "    <button class=\"colab-df-generate\" onclick=\"generateWithVariable('all_model_results')\"\n",
              "            title=\"Generate code using this dataframe.\"\n",
              "            style=\"display:none;\">\n",
              "\n",
              "  <svg xmlns=\"http://www.w3.org/2000/svg\" height=\"24px\"viewBox=\"0 0 24 24\"\n",
              "       width=\"24px\">\n",
              "    <path d=\"M7,19H8.4L18.45,9,17,7.55,7,17.6ZM5,21V16.75L18.45,3.32a2,2,0,0,1,2.83,0l1.4,1.43a1.91,1.91,0,0,1,.58,1.4,1.91,1.91,0,0,1-.58,1.4L9.25,21ZM18.45,9,17,7.55Zm-12,3A5.31,5.31,0,0,0,4.9,8.1,5.31,5.31,0,0,0,1,6.5,5.31,5.31,0,0,0,4.9,4.9,5.31,5.31,0,0,0,6.5,1,5.31,5.31,0,0,0,8.1,4.9,5.31,5.31,0,0,0,12,6.5,5.46,5.46,0,0,0,6.5,12Z\"/>\n",
              "  </svg>\n",
              "    </button>\n",
              "    <script>\n",
              "      (() => {\n",
              "      const buttonEl =\n",
              "        document.querySelector('#id_5f1b03bc-e85e-47c2-85e3-405cf353d2b1 button.colab-df-generate');\n",
              "      buttonEl.style.display =\n",
              "        google.colab.kernel.accessAllowed ? 'block' : 'none';\n",
              "\n",
              "      buttonEl.onclick = () => {\n",
              "        google.colab.notebook.generateWithVariable('all_model_results');\n",
              "      }\n",
              "      })();\n",
              "    </script>\n",
              "  </div>\n",
              "\n",
              "    </div>\n",
              "  </div>\n"
            ]
          },
          "metadata": {},
          "execution_count": 89
        }
      ]
    },
    {
      "cell_type": "code",
      "source": [
        "# Reduce the accuracy to same scale as other metrics\n",
        "all_model_results[\"accuracy\"] = all_model_results[\"accuracy\"]/100"
      ],
      "metadata": {
        "id": "-jfwUA4dH0ih"
      },
      "execution_count": null,
      "outputs": []
    },
    {
      "cell_type": "code",
      "source": [
        "# Plot and compare all model results\n",
        "all_model_results.plot(kind=\"bar\", figsize=(10, 7)).legend(bbox_to_anchor=(1.0, 1.0));"
      ],
      "metadata": {
        "colab": {
          "base_uri": "https://localhost:8080/",
          "height": 798
        },
        "id": "9TDVX89xH2Tx",
        "outputId": "5902a7b2-12eb-4cbd-9150-20ca994953dc"
      },
      "execution_count": null,
      "outputs": [
        {
          "output_type": "display_data",
          "data": {
            "text/plain": [
              "<Figure size 1000x700 with 1 Axes>"
            ],
            "image/png": "[encoded data removed]"
          },
          "metadata": {}
        }
      ]
    },
    {
      "cell_type": "code",
      "source": [
        "# Sort models results by f1-score\n",
        "all_model_results.sort_values(\"f1\", ascending=False)[\"f1\"].plot(kind=\"bar\", figsize=(10, 7));"
      ],
      "metadata": {
        "colab": {
          "base_uri": "https://localhost:8080/",
          "height": 798
        },
        "id": "W34ke5MMH4j9",
        "outputId": "81f0464b-e647-42c2-df28-717379360d5b"
      },
      "execution_count": null,
      "outputs": [
        {
          "output_type": "display_data",
          "data": {
            "text/plain": [
              "<Figure size 1000x700 with 1 Axes>"
            ],
            "image/png": "[encoded data removed]"
          },
          "metadata": {}
        }
      ]
    },
    {
      "cell_type": "markdown",
      "source": [
        "## Save and load model\n"
      ],
      "metadata": {
        "id": "aYWWL5KJPlRI"
      }
    },
    {
      "cell_type": "code",
      "source": [
        "model_5.save(\"skimlit_tribrid_model\")"
      ],
      "metadata": {
        "id": "KJB53XbZPxVy"
      },
      "execution_count": null,
      "outputs": []
    },
    {
      "cell_type": "code",
      "source": [
        "# Load in best performing model\n",
        "loaded_model=tf.keras.models.load_model(\"/content/skimlit_tribrid_model\")"
      ],
      "metadata": {
        "id": "KmeKntCCJgJJ"
      },
      "execution_count": null,
      "outputs": []
    },
    {
      "cell_type": "code",
      "source": [
        "loaded_model.evaluate(val_char_token_positional_dataset)"
      ],
      "metadata": {
        "colab": {
          "base_uri": "https://localhost:8080/"
        },
        "id": "Tg1SX_cJJsLc",
        "outputId": "c0231871-32c9-497f-ca53-bf2144b1a298"
      },
      "execution_count": null,
      "outputs": [
        {
          "output_type": "stream",
          "name": "stdout",
          "text": [
            "945/945 [==============================] - 19s 19ms/step - loss: 0.9369 - accuracy: 0.8328\n"
          ]
        },
        {
          "output_type": "execute_result",
          "data": {
            "text/plain": [
              "[0.9369078874588013, 0.8328147530555725]"
            ]
          },
          "metadata": {},
          "execution_count": 94
        }
      ]
    },
    {
      "cell_type": "code",
      "source": [
        "!wget https://storage.googleapis.com/ztm_tf_course/skimlit/skimlit_tribrid_model.zip\n",
        "!mkdir skimlit_gs_model\n",
        "!unzip skimlit_tribrid_model.zip -d skimlit_gs_model"
      ],
      "metadata": {
        "colab": {
          "base_uri": "https://localhost:8080/"
        },
        "id": "dSdA23QEJ8Su",
        "outputId": "f729de8f-308a-42de-f9d0-fe2fd685db4b"
      },
      "execution_count": null,
      "outputs": [
        {
          "output_type": "stream",
          "name": "stdout",
          "text": [
            "--2024-01-04 15:58:27--  https://storage.googleapis.com/ztm_tf_course/skimlit/skimlit_tribrid_model.zip\n",
            "Resolving storage.googleapis.com (storage.googleapis.com)... 172.253.119.207, 108.177.111.207, 142.250.1.207, ...\n",
            "Connecting to storage.googleapis.com (storage.googleapis.com)|172.253.119.207|:443... connected.\n",
            "HTTP request sent, awaiting response... 200 OK\n",
            "Length: 962182847 (918M) [application/zip]\n",
            "Saving to: ‘skimlit_tribrid_model.zip’\n",
            "\n",
            "skimlit_tribrid_mod 100%[===================>] 917.61M  67.3MB/s    in 11s     \n",
            "\n",
            "2024-01-04 15:58:38 (83.3 MB/s) - ‘skimlit_tribrid_model.zip’ saved [962182847/962182847]\n",
            "\n",
            "Archive:  skimlit_tribrid_model.zip\n",
            "   creating: skimlit_gs_model/skimlit_tribrid_model/\n",
            "  inflating: skimlit_gs_model/skimlit_tribrid_model/keras_metadata.pb  \n",
            "   creating: skimlit_gs_model/skimlit_tribrid_model/assets/\n",
            " extracting: skimlit_gs_model/skimlit_tribrid_model/fingerprint.pb  \n",
            "   creating: skimlit_gs_model/skimlit_tribrid_model/variables/\n",
            "  inflating: skimlit_gs_model/skimlit_tribrid_model/variables/variables.index  \n",
            "  inflating: skimlit_gs_model/skimlit_tribrid_model/variables/variables.data-00000-of-00001  \n",
            "  inflating: skimlit_gs_model/skimlit_tribrid_model/saved_model.pb  \n"
          ]
        }
      ]
    }
  ]
}