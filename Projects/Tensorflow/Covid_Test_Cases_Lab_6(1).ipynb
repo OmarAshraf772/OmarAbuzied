{
  "cells": [
    {
      "cell_type": "markdown",
      "source": [
        "## **Covid Test Cases Classification**\n",
        "\n",
        "---\n",
        "\n",
        "\n",
        "\n"
      ],
      "metadata": {
        "id": "h3wNMqGrpgjy"
      },
      "id": "h3wNMqGrpgjy"
    },
    {
      "cell_type": "code",
      "execution_count": null,
      "id": "c7c386f1",
      "metadata": {
        "execution": {
          "iopub.execute_input": "2021-08-17T09:59:34.161128Z",
          "iopub.status.busy": "2021-08-17T09:59:34.160569Z",
          "iopub.status.idle": "2021-08-17T09:59:34.162989Z",
          "shell.execute_reply": "2021-08-17T09:59:34.163330Z",
          "shell.execute_reply.started": "2021-08-17T09:58:07.302084Z"
        },
        "id": "c7c386f1",
        "papermill": {
          "duration": 0.014089,
          "end_time": "2021-08-17T09:59:34.163467",
          "exception": false,
          "start_time": "2021-08-17T09:59:34.149378",
          "status": "completed"
        },
        "tags": [],
        "colab": {
          "base_uri": "https://localhost:8080/"
        },
        "outputId": "18e2bcd9-cc62-453d-d16a-2192fb7a6f88"
      },
      "outputs": [
        {
          "output_type": "stream",
          "name": "stdout",
          "text": [
            "Mounted at /content/drive\n"
          ]
        }
      ],
      "source": [
        "#Connecting Google Drive to Google Colab to Access the Dataset\n",
        "from google.colab import drive\n",
        "drive.mount('/content/drive')"
      ]
    },
    {
      "cell_type": "markdown",
      "source": [
        "## **Importing Libraries & Modules**"
      ],
      "metadata": {
        "id": "MaETLVffqVyv"
      },
      "id": "MaETLVffqVyv"
    },
    {
      "cell_type": "code",
      "execution_count": null,
      "id": "2035e14a",
      "metadata": {
        "execution": {
          "iopub.execute_input": "2021-08-17T09:59:28.941245Z",
          "iopub.status.busy": "2021-08-17T09:59:28.940209Z",
          "iopub.status.idle": "2021-08-17T09:59:34.121759Z",
          "shell.execute_reply": "2021-08-17T09:59:34.122278Z",
          "shell.execute_reply.started": "2021-08-17T09:58:01.482870Z"
        },
        "id": "2035e14a",
        "papermill": {
          "duration": 5.194936,
          "end_time": "2021-08-17T09:59:34.122561",
          "exception": false,
          "start_time": "2021-08-17T09:59:28.927625",
          "status": "completed"
        },
        "tags": []
      },
      "outputs": [],
      "source": [
        "#Importing Libraries & Modules\n",
        "import numpy as np\n",
        "#numpy is a library used to deal with complex mathematical operations on arrays/matrices\n",
        "from matplotlib import pyplot as plt\n",
        "#matplotlib is a library used for plotting in python\n",
        "import os #used to deal with operating systems\n",
        "import keras\n",
        "#A deep Learning library\n",
        "from keras.preprocessing import image\n",
        "#A module from keras that helps in data preprocessing and image in particular helps in data augmentation\n",
        "from keras.preprocessing.image import ImageDataGenerator\n",
        "#A Module from image in keras that generates the data augmentation\n",
        "from keras.models import *\n",
        "#Importing All keras models to help in model selection\n",
        "from keras.layers import *\n",
        "#Importing All keras layers to help in model building"
      ]
    },
    {
      "cell_type": "markdown",
      "source": [
        "## **Dataset**"
      ],
      "metadata": {
        "id": "Er8vEkRc5XGi"
      },
      "id": "Er8vEkRc5XGi"
    },
    {
      "cell_type": "code",
      "execution_count": null,
      "id": "5e2956e0",
      "metadata": {
        "execution": {
          "iopub.execute_input": "2021-08-17T09:59:34.463367Z",
          "iopub.status.busy": "2021-08-17T09:59:34.462823Z",
          "iopub.status.idle": "2021-08-17T09:59:34.464465Z",
          "shell.execute_reply": "2021-08-17T09:59:34.464892Z",
          "shell.execute_reply.started": "2021-08-17T09:58:07.556614Z"
        },
        "id": "5e2956e0",
        "papermill": {
          "duration": 0.017003,
          "end_time": "2021-08-17T09:59:34.465073",
          "exception": false,
          "start_time": "2021-08-17T09:59:34.448070",
          "status": "completed"
        },
        "tags": []
      },
      "outputs": [],
      "source": [
        "#Rescaling Both Training and Test Data\n",
        "train = ImageDataGenerator(rescale=1/255)\n",
        "test = ImageDataGenerator(rescale=1/255)"
      ]
    },
    {
      "cell_type": "markdown",
      "source": [
        "**Change the paths to the paths of your dataset**"
      ],
      "metadata": {
        "id": "Qf9Eo5EV1c6z"
      },
      "id": "Qf9Eo5EV1c6z"
    },
    {
      "cell_type": "code",
      "execution_count": null,
      "id": "d435e42c",
      "metadata": {
        "execution": {
          "iopub.execute_input": "2021-08-17T09:59:34.490228Z",
          "iopub.status.busy": "2021-08-17T09:59:34.489676Z",
          "iopub.status.idle": "2021-08-17T09:59:34.707759Z",
          "shell.execute_reply": "2021-08-17T09:59:34.707170Z",
          "shell.execute_reply.started": "2021-08-17T09:58:07.562184Z"
        },
        "id": "d435e42c",
        "papermill": {
          "duration": 0.231655,
          "end_time": "2021-08-17T09:59:34.707911",
          "exception": false,
          "start_time": "2021-08-17T09:59:34.476256",
          "status": "completed"
        },
        "tags": [],
        "outputId": "f5fc6a52-500b-47e5-baf1-e5ebb59799c1",
        "colab": {
          "base_uri": "https://localhost:8080/"
        }
      },
      "outputs": [
        {
          "output_type": "stream",
          "name": "stdout",
          "text": [
            "Found 67 images belonging to 2 classes.\n",
            "Found 27 images belonging to 2 classes.\n"
          ]
        }
      ],
      "source": [
        "#Sizing and Grouping Training and Test Data\n",
        "train_dataset = train.flow_from_directory('/content/drive/MyDrive/dataset/train',\n",
        "                                          target_size = (224, 224),\n",
        "                                          batch_size = 10)\n",
        "\n",
        "test_dataset = test.flow_from_directory('/content/drive/MyDrive/dataset/test',\n",
        "                                          target_size= (224, 224),\n",
        "                                          batch_size = 10 )"
      ]
    },
    {
      "cell_type": "code",
      "execution_count": null,
      "id": "1a792687",
      "metadata": {
        "execution": {
          "iopub.execute_input": "2021-08-17T09:59:34.734749Z",
          "iopub.status.busy": "2021-08-17T09:59:34.734189Z",
          "iopub.status.idle": "2021-08-17T09:59:34.736430Z",
          "shell.execute_reply": "2021-08-17T09:59:34.736849Z",
          "shell.execute_reply.started": "2021-08-17T09:58:07.786206Z"
        },
        "id": "1a792687",
        "outputId": "2a22d0c0-a2e0-4d8d-e3df-0e5bcd40c31b",
        "papermill": {
          "duration": 0.017427,
          "end_time": "2021-08-17T09:59:34.736988",
          "exception": false,
          "start_time": "2021-08-17T09:59:34.719561",
          "status": "completed"
        },
        "tags": [],
        "colab": {
          "base_uri": "https://localhost:8080/"
        }
      },
      "outputs": [
        {
          "output_type": "execute_result",
          "data": {
            "text/plain": [
              "{'covid': 0, 'normal': 1}"
            ]
          },
          "metadata": {},
          "execution_count": 5
        }
      ],
      "source": [
        "#Getting Available Class Labels in Training Data\n",
        "train_dataset.class_indices"
      ]
    },
    {
      "cell_type": "markdown",
      "id": "5a064faa",
      "metadata": {
        "id": "5a064faa",
        "papermill": {
          "duration": 0.011131,
          "end_time": "2021-08-17T09:59:34.789439",
          "exception": false,
          "start_time": "2021-08-17T09:59:34.778308",
          "status": "completed"
        },
        "tags": []
      },
      "source": [
        "## **Model Building Using VGG16 Network Architecture**"
      ]
    },
    {
      "cell_type": "markdown",
      "source": [
        "**Build the model using VGG16 Network:**\n",
        "\n",
        "It has 4 blocks, each block has 1 Covolution layer and 1 MaxPooling layer.\n",
        "- Number of filters in each Conv layer is **32, 64, 128, and 256** respectively. Each filter is **3x3** and the activation function is **ReLu**.\n",
        "- MaxPooling layers has a **pool size of 2x2**.\n",
        "\n",
        "\n",
        "The 4 blocks are followed by a Flattening layer and then a classifier block that consists of:\n",
        "- Dense layer with **128 units** and **ReLu** activation function\n",
        "- Dense layer with **64 units** and **ReLu** activation function\n",
        "- Output layer with **the number of classes** and activation function **softmax**."
      ],
      "metadata": {
        "id": "gco49fgOzbRf"
      },
      "id": "gco49fgOzbRf"
    },
    {
      "cell_type": "code",
      "execution_count": null,
      "id": "ad02a7fb",
      "metadata": {
        "execution": {
          "iopub.execute_input": "2021-08-17T09:59:34.819115Z",
          "iopub.status.busy": "2021-08-17T09:59:34.818502Z",
          "iopub.status.idle": "2021-08-17T09:59:35.006987Z",
          "shell.execute_reply": "2021-08-17T09:59:35.006381Z",
          "shell.execute_reply.started": "2021-08-17T09:58:07.807418Z"
        },
        "id": "ad02a7fb",
        "papermill": {
          "duration": 0.206429,
          "end_time": "2021-08-17T09:59:35.007112",
          "exception": false,
          "start_time": "2021-08-17T09:59:34.800683",
          "status": "completed"
        },
        "tags": []
      },
      "outputs": [],
      "source": [
        "'''There are two ways to build a convolutional neural network in python, either by creating the network as a stack using a list\n",
        "or by defining the model type and adding layers afterwards, both ways are shown below'''\n",
        "\n",
        "#First Way: Stacking Layers in a List\n",
        "model=Sequential()\n",
        "model.add(Conv2D(filters=32,kernel_size=(3,3),strides=(1,1), activation = 'relu', padding = 'same', input_shape = (224, 224, 3)))\n",
        "model.add(MaxPooling2D(pool_size = (2, 2)))\n",
        "\n",
        "model.add(Conv2D(filters = 64, kernel_size = (3, 3), strides = (1, 1), padding = 'same', activation = 'relu'))\n",
        "model.add(MaxPooling2D(pool_size = (2, 2)))\n",
        "\n",
        "model.add(Conv2D(filters = 128, kernel_size = (3, 3), strides = (1, 1), padding = 'same', activation = 'relu'))\n",
        "model.add(MaxPooling2D(pool_size = (2, 2)))\n",
        "\n",
        "model.add(Conv2D(filters = 256, kernel_size = (3, 3), strides = (1, 1), padding = 'same', activation = 'relu'))\n",
        "model.add(MaxPooling2D(pool_size = (2, 2)))\n",
        "\n",
        "model.add(Flatten())\n",
        "\n",
        "model.add(Dense(128, activation='relu'))\n",
        "model.add(Dense(64, activation='relu'))\n",
        "model.add(Dense(2, activation='softmax'))\n"
      ]
    },
    {
      "cell_type": "code",
      "source": [
        "#Second Way: Defining the Model and Adding Layers\n",
        "#Note that you only need one of the two ways to build a model so either run this cell or the previous cell\n",
        "\n",
        "#Selecting Model Type\n",
        "\n"
      ],
      "metadata": {
        "id": "CFh37a3jtaim"
      },
      "id": "CFh37a3jtaim",
      "execution_count": null,
      "outputs": []
    },
    {
      "cell_type": "markdown",
      "source": [
        "## **Model Training**"
      ],
      "metadata": {
        "id": "O1lF-huPvb3p"
      },
      "id": "O1lF-huPvb3p"
    },
    {
      "cell_type": "markdown",
      "source": [
        "**For the Model Training:**\n",
        "\n",
        "- Set the optimizer to **adam**\n",
        "- Set the loss function to the **binary crossentropy**\n",
        "- Select **Accuracy** from metrics."
      ],
      "metadata": {
        "id": "LqtUxuoe0IsW"
      },
      "id": "LqtUxuoe0IsW"
    },
    {
      "cell_type": "code",
      "execution_count": null,
      "id": "157fdfe0",
      "metadata": {
        "execution": {
          "iopub.execute_input": "2021-08-17T09:59:35.039654Z",
          "iopub.status.busy": "2021-08-17T09:59:35.039109Z",
          "iopub.status.idle": "2021-08-17T09:59:35.044960Z",
          "shell.execute_reply": "2021-08-17T09:59:35.044531Z",
          "shell.execute_reply.started": "2021-08-17T09:58:08.026465Z"
        },
        "id": "157fdfe0",
        "papermill": {
          "duration": 0.026503,
          "end_time": "2021-08-17T09:59:35.045076",
          "exception": false,
          "start_time": "2021-08-17T09:59:35.018573",
          "status": "completed"
        },
        "tags": []
      },
      "outputs": [],
      "source": [
        "#Model Training\n",
        "\n",
        "#Compiling the model\n",
        "model.compile(optimizer='adam', loss='categorical_crossentropy', metrics=['accuracy'])"
      ]
    },
    {
      "cell_type": "markdown",
      "id": "a310d33c",
      "metadata": {
        "id": "a310d33c",
        "papermill": {
          "duration": 0.010874,
          "end_time": "2021-08-17T09:59:35.067209",
          "exception": false,
          "start_time": "2021-08-17T09:59:35.056335",
          "status": "completed"
        },
        "tags": []
      },
      "source": [
        "## **Fitting the Model to The Data**"
      ]
    },
    {
      "cell_type": "markdown",
      "source": [
        "**To fit the model:**\n",
        "- Set number of epochs to** 10 or 15**\n",
        "- Set the steps per epoch to **8**.\n"
      ],
      "metadata": {
        "id": "21XIfgH50kk3"
      },
      "id": "21XIfgH50kk3"
    },
    {
      "cell_type": "code",
      "execution_count": null,
      "id": "40b25bc7",
      "metadata": {
        "execution": {
          "iopub.execute_input": "2021-08-17T09:59:35.093454Z",
          "iopub.status.busy": "2021-08-17T09:59:35.092953Z",
          "iopub.status.idle": "2021-08-17T10:00:30.076966Z",
          "shell.execute_reply": "2021-08-17T10:00:30.076477Z",
          "shell.execute_reply.started": "2021-08-17T09:58:08.043491Z"
        },
        "id": "40b25bc7",
        "papermill": {
          "duration": 54.998671,
          "end_time": "2021-08-17T10:00:30.077101",
          "exception": false,
          "start_time": "2021-08-17T09:59:35.078430",
          "status": "completed"
        },
        "tags": [],
        "outputId": "4e7d32cc-7776-4500-c3ac-6efda694cfd7",
        "colab": {
          "base_uri": "https://localhost:8080/"
        }
      },
      "outputs": [
        {
          "output_type": "stream",
          "name": "stdout",
          "text": [
            "Epoch 1/10\n",
            "4/4 [==============================] - 15s 4s/step - loss: 0.8767 - accuracy: 0.7500 - val_loss: 0.6037 - val_accuracy: 0.7407\n",
            "Epoch 2/10\n",
            "4/4 [==============================] - 5s 1s/step - loss: 0.6058 - accuracy: 0.7250 - val_loss: 0.5444 - val_accuracy: 0.7407\n",
            "Epoch 3/10\n",
            "4/4 [==============================] - 5s 1s/step - loss: 0.5380 - accuracy: 0.7297 - val_loss: 0.4452 - val_accuracy: 0.7407\n",
            "Epoch 4/10\n",
            "4/4 [==============================] - 5s 1s/step - loss: 0.4201 - accuracy: 0.7568 - val_loss: 0.2373 - val_accuracy: 1.0000\n",
            "Epoch 5/10\n",
            "4/4 [==============================] - 5s 1s/step - loss: 0.2575 - accuracy: 0.8919 - val_loss: 0.0515 - val_accuracy: 1.0000\n",
            "Epoch 6/10\n",
            "4/4 [==============================] - 5s 1s/step - loss: 0.2429 - accuracy: 0.9189 - val_loss: 0.0740 - val_accuracy: 0.9630\n",
            "Epoch 7/10\n",
            "4/4 [==============================] - 5s 1s/step - loss: 0.2186 - accuracy: 0.8919 - val_loss: 0.3501 - val_accuracy: 0.8148\n",
            "Epoch 8/10\n",
            "4/4 [==============================] - 5s 1s/step - loss: 0.2862 - accuracy: 0.8378 - val_loss: 0.1959 - val_accuracy: 0.9259\n",
            "Epoch 9/10\n",
            "4/4 [==============================] - 5s 1s/step - loss: 0.2034 - accuracy: 0.9000 - val_loss: 0.0792 - val_accuracy: 1.0000\n",
            "Epoch 10/10\n",
            "4/4 [==============================] - 5s 1s/step - loss: 0.1771 - accuracy: 0.9189 - val_loss: 0.0456 - val_accuracy: 1.0000\n"
          ]
        }
      ],
      "source": [
        "#Fitting Model to Data and defining the Hyperparameters\n",
        "model_fit = model.fit(train_dataset,\n",
        "            steps_per_epoch = 4,\n",
        "            epochs = 10,\n",
        "            validation_data = test_dataset)"
      ]
    },
    {
      "cell_type": "markdown",
      "source": [
        "## **Results & Plots**"
      ],
      "metadata": {
        "id": "MxINh4h_5dFs"
      },
      "id": "MxINh4h_5dFs"
    },
    {
      "cell_type": "code",
      "source": [
        "#Training Accuracy Plot using Matplotlib\n",
        "\n",
        "plt.plot(model_fit.history['accuracy']) #Defing the plot\n",
        "\n",
        "#Adding Plot Title\n",
        "plt.title('Model Training Accuracy')\n",
        "\n",
        "#Adding Axes Labels\n",
        "plt.xlabel('Epoch')\n",
        "plt.ylabel('Training Accuracy')\n",
        "\n",
        "#Defining & Locating Legend\n",
        "plt.legend(['Training'], loc='lower right')"
      ],
      "metadata": {
        "id": "AyhiBMrroowN",
        "colab": {
          "base_uri": "https://localhost:8080/",
          "height": 312
        },
        "outputId": "980d870d-17e1-4590-ed52-7d0d9f47b3f2"
      },
      "id": "AyhiBMrroowN",
      "execution_count": null,
      "outputs": [
        {
          "output_type": "execute_result",
          "data": {
            "text/plain": [
              "<matplotlib.legend.Legend at 0x7f196a804550>"
            ]
          },
          "metadata": {},
          "execution_count": 9
        },
        {
          "output_type": "display_data",
          "data": {
            "text/plain": [
              "<Figure size 432x288 with 1 Axes>"
            ],
            "image/png": "[encoded data removed]"
          },
          "metadata": {
            "needs_background": "light"
          }
        }
      ]
    },
    {
      "cell_type": "code",
      "source": [
        "#Validation Accuracy Plot using Matplotlib\n",
        "\n",
        "plt.plot(model_fit.history['val_accuracy']) #Defing the plot\n",
        "\n",
        "#Adding Plot Title\n",
        "plt.title('Model Test Accuracy')\n",
        "\n",
        "#Adding Axes Labels\n",
        "plt.xlabel('Epoch')\n",
        "plt.ylabel('Test Accuracy')\n",
        "\n",
        "#Defining & Locating Legend\n",
        "plt.legend(['Testing'], loc = 'lower right')"
      ],
      "metadata": {
        "id": "aCJJ7PlR1XbM",
        "colab": {
          "base_uri": "https://localhost:8080/",
          "height": 312
        },
        "outputId": "394437b5-1303-4e7d-951c-f3c75d6a6d65"
      },
      "id": "aCJJ7PlR1XbM",
      "execution_count": null,
      "outputs": [
        {
          "output_type": "execute_result",
          "data": {
            "text/plain": [
              "<matplotlib.legend.Legend at 0x7f1968f39290>"
            ]
          },
          "metadata": {},
          "execution_count": 10
        },
        {
          "output_type": "display_data",
          "data": {
            "text/plain": [
              "<Figure size 432x288 with 1 Axes>"
            ],
            "image/png": "[encoded data removed]"
          },
          "metadata": {
            "needs_background": "light"
          }
        }
      ]
    },
    {
      "cell_type": "markdown",
      "source": [
        "## **Evaluating Results**"
      ],
      "metadata": {
        "id": "Y-u2ZgC65ouQ"
      },
      "id": "Y-u2ZgC65ouQ"
    },
    {
      "cell_type": "code",
      "source": [
        "#Comparing Results with Actual Cases\n",
        "#Defining two empty list to store the predicted cases and the actual cases\n",
        "actual_cases = []\n",
        "predicted_cases = []\n",
        "\n",
        "#Looping over each case to compare between prediction and actual case\n",
        "\n",
        "for i in os.listdir(\"/content/drive/MyDrive/Covid19-dataset/test/Normal/\"):\n",
        "  case = image.load_img(\"/content/drive/MyDrive/Covid19-dataset/test/Normal/\" + i,target_size=(224,224))\n",
        "  case = image.img_to_array(case)\n",
        "  case = np.expand_dims(case,axis=0)\n",
        "  prediction = (model.predict(case) > 0.5).astype(\"int32\")\n",
        "  predicted_cases.append(p[0,0])\n",
        "  actual_cases.append(1)\n",
        "\n",
        "for i in os.listdir(\"/content/drive/MyDrive/Covid19-dataset/test/Covid/\"):\n",
        "  case = image.load_img(\"/content/drive/MyDrive/Covid19-dataset/test/Covid/\"+i,target_size=(224,224))\n",
        "  case = image.img_to_array(case)\n",
        "  case = np.expand_dims(case,axis=0)\n",
        "  prediction = (model.predict(case)>0.5).astype(\"int32\")\n",
        "  predicted_cases.append(p[0,0])\n",
        "  actual_cases.append(0)\n",
        "\n",
        "for i in os.listdir(\"/content/drive/MyDrive/Covid19-dataset/test/Viral_Pneumonia/\"):\n",
        "  case = image.load_img(\"/content/drive/MyDrive/Covid19-dataset/test/Viral_Pneumonia/\"+i,target_size=(224,224))\n",
        "  case = image.img_to_array(case)\n",
        "  case = np.expand_dims(case,axis=0)\n",
        "  prediction = (model.predict(case)>0.5).astype(\"int32\")\n",
        "  predicted_cases.append(p[0,0])\n",
        "  actual_cases.append(2)"
      ],
      "metadata": {
        "id": "qlhectkozmdd"
      },
      "id": "qlhectkozmdd",
      "execution_count": null,
      "outputs": []
    },
    {
      "cell_type": "code",
      "source": [
        "#Getting Numerical Results and Report\n",
        "from sklearn.metrics import classification_report\n",
        "\n",
        "print(classification_report(actual_cases, predicted_cases))\n"
      ],
      "metadata": {
        "id": "FaN66QaV46QY"
      },
      "id": "FaN66QaV46QY",
      "execution_count": null,
      "outputs": []
    },
    {
      "cell_type": "code",
      "source": [
        "#Converting The results into arrays\n",
        "actual_cases = np.array(actual_cases)\n",
        "predicted_cases = np.array(predicted_cases)\n",
        "\n",
        "#Plotting Confusion Matrix\n",
        "from sklearn.metrics import confusion_matrix\n",
        "import seaborn as sns\n",
        "\n",
        "cm = confusion_matrix(actual_cases, predicted_cases)\n",
        "sns.heatmap(cm,cmap=\"plasma\",annot=True)"
      ],
      "metadata": {
        "id": "jcJX0ZFh2z0I"
      },
      "id": "jcJX0ZFh2z0I",
      "execution_count": null,
      "outputs": []
    }
  ],
  "metadata": {
    "kernelspec": {
      "display_name": "Python 3",
      "language": "python",
      "name": "python3"
    },
    "language_info": {
      "codemirror_mode": {
        "name": "ipython",
        "version": 3
      },
      "file_extension": ".py",
      "mimetype": "text/x-python",
      "name": "python",
      "nbconvert_exporter": "python",
      "pygments_lexer": "ipython3",
      "version": "3.7.10"
    },
    "papermill": {
      "default_parameters": {},
      "duration": 69.707499,
      "end_time": "2021-08-17T10:00:32.146810",
      "environment_variables": {},
      "exception": null,
      "input_path": "__notebook__.ipynb",
      "output_path": "__notebook__.ipynb",
      "parameters": {},
      "start_time": "2021-08-17T09:59:22.439311",
      "version": "2.3.3"
    },
    "colab": {
      "provenance": []
    }
  },
  "nbformat": 4,
  "nbformat_minor": 5
}