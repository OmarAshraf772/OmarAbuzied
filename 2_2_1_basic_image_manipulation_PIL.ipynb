{
  "cells": [
    {
      "cell_type": "markdown",
      "metadata": {
        "id": "view-in-github",
        "colab_type": "text"
      },
      "source": [
        "<a href=\"https://colab.research.google.com/github/OmarAshraf772/OmarAbuzied/blob/main/2_2_1_basic_image_manipulation_PIL.ipynb\" target=\"_parent\"><img src=\"https://colab.research.google.com/assets/colab-badge.svg\" alt=\"Open In Colab\"/></a>"
      ]
    },
    {
      "cell_type": "markdown",
      "metadata": {
        "id": "7qR5OUfwpOf3"
      },
      "source": [
        "**<h1> Manipulating Images </h1>**\n"
      ]
    },
    {
      "cell_type": "markdown",
      "metadata": {
        "id": "j8OmiwhXpOf6"
      },
      "source": [
        "<ul>\n",
        "    <li><a href='#MI'>Manipulating Images </a>\n",
        "        <ul>\n",
        "            <li>Copying Images  </li>\n",
        "            <li>Fliping Images </li>\n",
        "            <li>Cropping an Image </li>\n",
        "            <li>Changing Specific Image Pixels </li>\n",
        "     \n",
        "  \n",
        "    \n",
        "</ul>\n"
      ]
    },
    {
      "cell_type": "markdown",
      "metadata": {
        "id": "Ld5rQJ23pOf7"
      },
      "source": [
        "----\n"
      ]
    },
    {
      "cell_type": "markdown",
      "metadata": {
        "id": "sgmgdA55pOf7"
      },
      "source": [
        "Download the images for the lab:\n"
      ]
    },
    {
      "cell_type": "code",
      "execution_count": null,
      "metadata": {
        "id": "UJ6xZ2xXpOf7"
      },
      "outputs": [],
      "source": [
        "!wget https://cf-courses-data.s3.us.cloud-object-storage.appdomain.cloud/IBMDeveloperSkillsNetwork-CV0101EN-SkillsNetwork/images%20/images_part_1/cat.png -O cat.png\n",
        "!wget https://cf-courses-data.s3.us.cloud-object-storage.appdomain.cloud/IBMDeveloperSkillsNetwork-CV0101EN-SkillsNetwork/images%20/images_part_1/lenna.png -O lenna.png\n",
        "!wget https://cf-courses-data.s3.us.cloud-object-storage.appdomain.cloud/IBMDeveloperSkillsNetwork-CV0101EN-SkillsNetwork/images%20/images_part_1/baboon.png -O baboon.png"
      ]
    },
    {
      "cell_type": "markdown",
      "metadata": {
        "id": "jV0wPqsTpOf8"
      },
      "source": [
        "We will be using these imported functions in the lab:\n"
      ]
    },
    {
      "cell_type": "code",
      "execution_count": null,
      "metadata": {
        "id": "mdKi8HqUpOf-"
      },
      "outputs": [],
      "source": [
        "import matplotlib.pyplot as plt\n",
        "from PIL import Image\n",
        "import numpy as np"
      ]
    },
    {
      "cell_type": "markdown",
      "metadata": {
        "id": "ctpFC8ogpOf-"
      },
      "source": [
        "## Copying Images\n"
      ]
    },
    {
      "cell_type": "markdown",
      "metadata": {
        "id": "b0B3EThVpOf-"
      },
      "source": [
        "If you want to reassign an array to another variable, you should use the `copy` method.\n"
      ]
    },
    {
      "cell_type": "code",
      "execution_count": null,
      "metadata": {
        "id": "xtLbP8pppOf_"
      },
      "outputs": [],
      "source": [
        "baboon = np.array(Image.open('baboon.png'))\n",
        "plt.figure(figsize=(5,5))\n",
        "plt.imshow(baboon )\n",
        "plt.show()"
      ]
    },
    {
      "cell_type": "markdown",
      "metadata": {
        "id": "-cpCciGcpOf_"
      },
      "source": [
        "If we do not apply the method `copy()`, the two variables would point to the same location in memory:\n"
      ]
    },
    {
      "cell_type": "code",
      "execution_count": null,
      "metadata": {
        "id": "ahsUR-_SpOf_"
      },
      "outputs": [],
      "source": [
        "A = baboon"
      ]
    },
    {
      "cell_type": "markdown",
      "metadata": {
        "id": "qPQcrv_rpOf_"
      },
      "source": [
        "We use the  `id`  function to find a variable's memory address; we see the objects in the memory space which the variables `A` and `baboon` point to are the same.\n"
      ]
    },
    {
      "cell_type": "code",
      "execution_count": null,
      "metadata": {
        "id": "00apV6k3pOf_"
      },
      "outputs": [],
      "source": [
        "id(A) == id(baboon)"
      ]
    },
    {
      "cell_type": "markdown",
      "metadata": {
        "id": "Qv-lHLf3pOgA"
      },
      "source": [
        "However, if we apply method `copy()`, their memory addresses are different.\n"
      ]
    },
    {
      "cell_type": "code",
      "execution_count": null,
      "metadata": {
        "id": "KpopKYjwpOgA"
      },
      "outputs": [],
      "source": [
        "B = baboon.copy()\n",
        "id(B)==id(baboon)"
      ]
    },
    {
      "cell_type": "markdown",
      "metadata": {
        "id": "biMQPkKxpOgA"
      },
      "source": [
        "There may be unexpected behaviours when two variables point to the same object in memory. Consider the array `baboon`. If we set all its entries to zero, all entires in `A` will become zero as well. However, as `baboon` and `B` points to different objects, the values in `B` will not be affected.\n"
      ]
    },
    {
      "cell_type": "code",
      "execution_count": null,
      "metadata": {
        "id": "Zm1pDKvLpOgA"
      },
      "outputs": [],
      "source": [
        "baboon[:,:,] = 0"
      ]
    },
    {
      "cell_type": "markdown",
      "metadata": {
        "id": "kJ0gmb5ppOgA"
      },
      "source": [
        "We can compare the variables <code>baboon</code> and array <code>A</code>:\n"
      ]
    },
    {
      "cell_type": "code",
      "execution_count": null,
      "metadata": {
        "id": "OMSePpIrpOgA"
      },
      "outputs": [],
      "source": [
        "plt.figure(figsize=(10,10))\n",
        "plt.subplot(121)\n",
        "plt.imshow(baboon)\n",
        "plt.title(\"baboon\")\n",
        "plt.subplot(122)\n",
        "plt.imshow(A)\n",
        "plt.title(\"array A\")\n",
        "plt.show()"
      ]
    },
    {
      "cell_type": "markdown",
      "metadata": {
        "id": "9jV4P7w-pOgA"
      },
      "source": [
        "We see they are the same. This behaviour is called aliasing. Aliasing happens whenever one variable's value is assigned to another variable. Variables are references to values on the memory.\n",
        "\n",
        "We can also compare <code>baboon</code> and array <code>B</code>:\n"
      ]
    },
    {
      "cell_type": "code",
      "execution_count": null,
      "metadata": {
        "id": "5j3IsvRypOgC"
      },
      "outputs": [],
      "source": [
        "plt.figure(figsize=(10,10))\n",
        "plt.subplot(121)\n",
        "plt.imshow(baboon)\n",
        "plt.title(\"baboon\")\n",
        "plt.subplot(122)\n",
        "plt.imshow(B)\n",
        "plt.title(\"array B\")\n",
        "plt.show()"
      ]
    },
    {
      "cell_type": "markdown",
      "metadata": {
        "id": "s0WCx6lppOgC"
      },
      "source": [
        "\n",
        "If a PIL function does not return a new image, the same principle applies. We will go over some examples later on.\n"
      ]
    },
    {
      "cell_type": "markdown",
      "metadata": {
        "id": "UHjdrx18pOgD"
      },
      "source": [
        "## Flipping Images\n"
      ]
    },
    {
      "cell_type": "markdown",
      "metadata": {
        "id": "Np2WwJnApOgD"
      },
      "source": [
        "Flipping images involves reordering the indices of the pixels such that it changes the orientation of the image. Consider the following image:\n"
      ]
    },
    {
      "cell_type": "code",
      "execution_count": null,
      "metadata": {
        "id": "OmkN0oQIpOgD"
      },
      "outputs": [],
      "source": [
        "image = Image.open(\"cat.png\")\n",
        "plt.figure(figsize=(10,10))\n",
        "plt.imshow(image)\n",
        "plt.show()"
      ]
    },
    {
      "cell_type": "markdown",
      "metadata": {
        "id": "treyU6_ipOgE"
      },
      "source": [
        "We can cast it to an array and find its shape:\n"
      ]
    },
    {
      "cell_type": "code",
      "execution_count": null,
      "metadata": {
        "id": "cyhFaCYSpOgE"
      },
      "outputs": [],
      "source": [
        "array = np.array(image)\n",
        "width, height, C = array.shape\n",
        "print('width, height, C', width, height, C)"
      ]
    },
    {
      "cell_type": "markdown",
      "metadata": {
        "id": "5oq47mr2pOgF"
      },
      "source": [
        "Let's flip, i.e rotate vertically, the image. Let's try the traditional approach. First, we create an array of the same size with datatype <code>np.uint8</code>.\n"
      ]
    },
    {
      "cell_type": "code",
      "execution_count": null,
      "metadata": {
        "id": "2rsedRylpOgF"
      },
      "outputs": [],
      "source": [
        "array_flip = np.zeros((width, height, C), dtype=np.uint8)"
      ]
    },
    {
      "cell_type": "markdown",
      "metadata": {
        "id": "Z-llehrlpOgF"
      },
      "source": [
        "We assign the first row of pixels of the original array to the new array’s last row. We repeat the process for every row, incrementing the row number from the original array and decreasing the new array’s row index to assign the pixels accordingly. After excecuting the for loop below, `array_flip` will become the flipped image.\n"
      ]
    },
    {
      "cell_type": "code",
      "execution_count": null,
      "metadata": {
        "id": "rR5nEV9zpOgF"
      },
      "outputs": [],
      "source": [
        "for i,row in enumerate(array):\n",
        "    array_flip[width - 1 - i, :, :] = row"
      ]
    },
    {
      "cell_type": "markdown",
      "metadata": {
        "id": "684xwkfopOgG"
      },
      "source": [
        "<code>PIL</code> has several ways to flip an image, for example, we can use the <code>ImageOps</code> module:\n"
      ]
    },
    {
      "cell_type": "code",
      "execution_count": null,
      "metadata": {
        "id": "cSShtMs9pOgG"
      },
      "outputs": [],
      "source": [
        "from PIL import ImageOps"
      ]
    },
    {
      "cell_type": "markdown",
      "metadata": {
        "id": "LQVYkPXipOgG"
      },
      "source": [
        "The `flip()` method of `ImageOps` module flips the image. The `mirror()` method will mirror  the image:\n"
      ]
    },
    {
      "cell_type": "code",
      "execution_count": null,
      "metadata": {
        "id": "Pl9WzAbQpOgG"
      },
      "outputs": [],
      "source": [
        "im_flip = ImageOps.flip(image)\n",
        "plt.figure(figsize=(5,5))\n",
        "plt.imshow(im_flip)\n",
        "plt.show()"
      ]
    },
    {
      "cell_type": "code",
      "execution_count": null,
      "metadata": {
        "id": "MZvrVrpupOgG"
      },
      "outputs": [],
      "source": [
        "im_mirror = ImageOps.mirror(image)\n",
        "plt.figure(figsize=(5,5))\n",
        "plt.imshow(im_mirror)\n",
        "plt.show()"
      ]
    },
    {
      "cell_type": "markdown",
      "metadata": {
        "id": "n44w_P4QpOgG"
      },
      "source": [
        "We can use  the <code>transpose()</code> method; the parameter is an integer indicating what type of transposition we would like to perform. For example, we can flip the image using a value of `1`.\n"
      ]
    },
    {
      "cell_type": "code",
      "execution_count": null,
      "metadata": {
        "id": "q4nb9OZVpOgI"
      },
      "outputs": [],
      "source": [
        "im_flip = image.transpose(1)\n",
        "plt.imshow(im_flip)\n",
        "plt.show()"
      ]
    },
    {
      "cell_type": "markdown",
      "metadata": {
        "id": "xZibDrGspOgI"
      },
      "source": [
        "The Image module has built-in attributes that describe the type of flip. The values are just integers. Several are shown in the following <code>dict</code>:\n"
      ]
    },
    {
      "cell_type": "code",
      "execution_count": null,
      "metadata": {
        "id": "iC_iN2AFpOgI"
      },
      "outputs": [],
      "source": [
        "flip = {\"FLIP_LEFT_RIGHT\": Image.FLIP_LEFT_RIGHT,\n",
        "        \"FLIP_TOP_BOTTOM\": Image.FLIP_TOP_BOTTOM,\n",
        "        \"ROTATE_90\": Image.ROTATE_90,\n",
        "        \"ROTATE_180\": Image.ROTATE_180,\n",
        "        \"ROTATE_270\": Image.ROTATE_270,\n",
        "        \"TRANSPOSE\": Image.TRANSPOSE,\n",
        "        \"TRANSVERSE\": Image.TRANSVERSE}"
      ]
    },
    {
      "cell_type": "markdown",
      "metadata": {
        "id": "4qIeCIF0pOgJ"
      },
      "source": [
        "We see the values are integers.\n"
      ]
    },
    {
      "cell_type": "code",
      "execution_count": null,
      "metadata": {
        "id": "l4jTQghjpOgJ"
      },
      "outputs": [],
      "source": [
        "flip[\"FLIP_LEFT_RIGHT\"]"
      ]
    },
    {
      "cell_type": "markdown",
      "metadata": {
        "id": "ROUbaHOIpOgJ"
      },
      "source": [
        "We can plot each of the outputs using the different  parameter values:\n"
      ]
    },
    {
      "cell_type": "code",
      "execution_count": null,
      "metadata": {
        "id": "dg0Vq4CypOgJ"
      },
      "outputs": [],
      "source": [
        "for key, values in flip.items():\n",
        "    plt.figure(figsize=(10,10))\n",
        "    plt.subplot(1,2,1)\n",
        "    plt.imshow(image)\n",
        "    plt.title(\"orignal\")\n",
        "    plt.subplot(1,2,2)\n",
        "    plt.imshow(image.transpose(values))\n",
        "    plt.title(key)\n",
        "    plt.show()"
      ]
    },
    {
      "cell_type": "markdown",
      "metadata": {
        "id": "06MdHY3CpOgJ"
      },
      "source": [
        " ## Cropping an Image\n"
      ]
    },
    {
      "cell_type": "markdown",
      "metadata": {
        "id": "UzgWOPMcpOgJ"
      },
      "source": [
        "Cropping is the act of \"cutting out\" a part of an image and throwing out the rest. We can perform cropping using array slicing.\n",
        "\n",
        "Let start with a vertical crop: the variable `upper` is the index of the first row that we would like to include in the image, the variable `lower` is the index of the last row we would like to include. We then perform array slicing to obtain the new image.\n"
      ]
    },
    {
      "cell_type": "code",
      "execution_count": null,
      "metadata": {
        "id": "-15hO6l2pOgJ"
      },
      "outputs": [],
      "source": [
        "upper = 150\n",
        "lower = 400\n",
        "crop_top = array[upper: lower,:,:]\n",
        "plt.figure(figsize=(5,5))\n",
        "plt.imshow(crop_top)\n",
        "plt.show()"
      ]
    },
    {
      "cell_type": "markdown",
      "metadata": {
        "id": "xXd3OcwapOgJ"
      },
      "source": [
        "Consider the array `crop_top`: we can also crop horizontally. The variable `right` is the index of the first column that we would like to include in the image and the variable `left` is the index of the last column we would like to include in the image.\n"
      ]
    },
    {
      "cell_type": "code",
      "execution_count": null,
      "metadata": {
        "id": "5r0U4k9MpOgK"
      },
      "outputs": [],
      "source": [
        "left = 150\n",
        "right = 400\n",
        "crop_horizontal = crop_top[: ,left:right,:]\n",
        "plt.figure(figsize=(5,5))\n",
        "plt.imshow(crop_horizontal)\n",
        "plt.show()"
      ]
    },
    {
      "cell_type": "markdown",
      "metadata": {
        "id": "_XdK4ip7pOgK"
      },
      "source": [
        "You can crop the PIL image using the <code>crop()</code> method, using the parameters from above Set the cropping area with <code>box=(left, upper, right, lower)</code>.\n"
      ]
    },
    {
      "cell_type": "code",
      "execution_count": null,
      "metadata": {
        "id": "GnHlZ1nppOgK"
      },
      "outputs": [],
      "source": [
        "image = Image.open(\"cat.png\")\n",
        "crop_image = image.crop((left, upper, right, lower))\n",
        "plt.figure(figsize=(5,5))\n",
        "plt.imshow(crop_image)\n",
        "plt.show()"
      ]
    },
    {
      "cell_type": "markdown",
      "metadata": {
        "id": "uljzhOoApOgK"
      },
      "source": [
        "We can also flip the new image:\n"
      ]
    },
    {
      "cell_type": "code",
      "execution_count": null,
      "metadata": {
        "id": "WtBOKnLlpOgK"
      },
      "outputs": [],
      "source": [
        "crop_image = crop_image.transpose(Image.FLIP_LEFT_RIGHT)\n",
        "crop_image"
      ]
    },
    {
      "cell_type": "markdown",
      "metadata": {
        "id": "1p-L44XNpOgK"
      },
      "source": [
        "## Changing Specific Image Pixels\n"
      ]
    },
    {
      "cell_type": "markdown",
      "metadata": {
        "id": "2bASWXJdpOgL"
      },
      "source": [
        "We can change specific image pixels using  array indexing; for example, we can set  all the green and blue channels in the original image we cropped to zero:\n"
      ]
    },
    {
      "cell_type": "code",
      "execution_count": null,
      "metadata": {
        "id": "myGV49eqpOgM"
      },
      "outputs": [],
      "source": [
        "array_sq = np.copy(array)\n",
        "array_sq[upper:lower, left:right, 1:2] = 0"
      ]
    },
    {
      "cell_type": "markdown",
      "metadata": {
        "id": "kGFOe3KUpOgM"
      },
      "source": [
        "We can compare the results with the new image.\n"
      ]
    },
    {
      "cell_type": "code",
      "execution_count": null,
      "metadata": {
        "id": "hL0uc7q0pOgM"
      },
      "outputs": [],
      "source": [
        "plt.figure(figsize=(5,5))\n",
        "plt.subplot(1,2,1)\n",
        "plt.imshow(array)\n",
        "plt.title(\"orignal\")\n",
        "plt.subplot(1,2,2)\n",
        "plt.imshow(array_sq)\n",
        "plt.title(\"Altered Image\")\n",
        "plt.show()"
      ]
    },
    {
      "cell_type": "markdown",
      "metadata": {
        "id": "3i9bcZFMpOgM"
      },
      "source": [
        "We can also use the `ImageDraw` module from `PIL` library, which provides simple 2D graphics for Image objects\n"
      ]
    },
    {
      "cell_type": "code",
      "execution_count": null,
      "metadata": {
        "id": "c09zRclqpOgM"
      },
      "outputs": [],
      "source": [
        "from PIL import ImageDraw"
      ]
    },
    {
      "cell_type": "markdown",
      "metadata": {
        "id": "XSQrd4_gpOgN"
      },
      "source": [
        "We will copy the image object:\n"
      ]
    },
    {
      "cell_type": "code",
      "execution_count": null,
      "metadata": {
        "id": "PkXhj00BpOgN"
      },
      "outputs": [],
      "source": [
        "image_draw = image.copy()"
      ]
    },
    {
      "cell_type": "markdown",
      "metadata": {
        "id": "oWQjZLIupOgN"
      },
      "source": [
        "The draw constructor creates an object that can be used to draw in the given image. The input <code>im</code> is the image we would like to draw in.\n",
        "\n"
      ]
    },
    {
      "cell_type": "code",
      "execution_count": null,
      "metadata": {
        "id": "HUAKS0DYpOgN"
      },
      "outputs": [],
      "source": [
        "image_fn = ImageDraw.Draw(im=image_draw)"
      ]
    },
    {
      "cell_type": "markdown",
      "metadata": {
        "id": "lbXTznJNpOgN"
      },
      "source": [
        "Whatever method we apply to the object <code>image_fn</code>, will change the image object <code>image_draw</code>.\n"
      ]
    },
    {
      "cell_type": "markdown",
      "metadata": {
        "id": "RebnCX6wpOgO"
      },
      "source": [
        "We can draw a rectangle using the <code>rectangle</code> function, two important parameters include: <code>xy</code> – the coordinates bounding box  and <code>fill</code> – Color of the rectangle.\n"
      ]
    },
    {
      "cell_type": "code",
      "execution_count": null,
      "metadata": {
        "id": "RQbRC20JpOgO"
      },
      "outputs": [],
      "source": [
        "shape = [left, upper, right, lower]\n",
        "image_fn.rectangle(xy=shape,fill=\"red\")"
      ]
    },
    {
      "cell_type": "markdown",
      "metadata": {
        "id": "6BIzbOi1pOgO"
      },
      "source": [
        "We can plot the image.\n"
      ]
    },
    {
      "cell_type": "code",
      "execution_count": null,
      "metadata": {
        "id": "VFyF3NSnpOgO"
      },
      "outputs": [],
      "source": [
        "plt.figure(figsize=(10,10))\n",
        "plt.imshow(image_draw)\n",
        "plt.show()"
      ]
    },
    {
      "cell_type": "markdown",
      "metadata": {
        "id": "Yde2l10bpOgP"
      },
      "source": [
        "There are other shapes we can use. For example, we can also overlay text on an image: we use the ImageFont module to obtain  bitmap fonts.\n"
      ]
    },
    {
      "cell_type": "code",
      "execution_count": null,
      "metadata": {
        "id": "_KqddLzupOgP"
      },
      "outputs": [],
      "source": [
        "from PIL import ImageFont"
      ]
    },
    {
      "cell_type": "markdown",
      "metadata": {
        "id": "cXOTMoaLpOgP"
      },
      "source": [
        "We use the text method to place the text on the image. The parameters include `xy` (the top-left anchor coordinates of the text), the parameter `text` (the text to be drawn), and `fill` (the color to use for the text).\n"
      ]
    },
    {
      "cell_type": "code",
      "execution_count": null,
      "metadata": {
        "id": "7KdbfWAFpOgQ"
      },
      "outputs": [],
      "source": [
        "image_fn.text(xy=(0,0),text=\"box\",fill=(0,0,0))"
      ]
    },
    {
      "cell_type": "code",
      "execution_count": null,
      "metadata": {
        "id": "vJ2zrb9opOgQ"
      },
      "outputs": [],
      "source": [
        "plt.figure(figsize=(10,10))\n",
        "plt.imshow(image_draw)\n",
        "plt.show()"
      ]
    },
    {
      "cell_type": "markdown",
      "metadata": {
        "id": "9v5-BlgIpOgR"
      },
      "source": [
        "We can overlay or paste one image over another by reassigning the pixel for one array to the next. Consider the following image array:\n"
      ]
    },
    {
      "cell_type": "code",
      "execution_count": null,
      "metadata": {
        "id": "CDqVeLkJpOgR"
      },
      "outputs": [],
      "source": [
        "image_lenna = Image.open(\"lenna.png\")\n",
        "array_lenna = np.array(image_lenna)"
      ]
    },
    {
      "cell_type": "markdown",
      "metadata": {
        "id": "Sp_ThmI5pOgR"
      },
      "source": [
        "We can reassign the pixel values as follows:\n"
      ]
    },
    {
      "cell_type": "code",
      "execution_count": null,
      "metadata": {
        "id": "7ntdKm9LpOgR"
      },
      "outputs": [],
      "source": [
        "array_lenna[upper:lower,left:right,:]=array[upper:lower,left:right,:]\n",
        "plt.imshow(array_lenna)\n",
        "plt.show()"
      ]
    },
    {
      "cell_type": "markdown",
      "metadata": {
        "id": "LEyUAp_SpOgS"
      },
      "source": [
        "In the same manner, the <code>paste()</code> method allows you to overlay one image over another, with the input being the image you would like to overlay. The parameter box is the left and upper coordinate of the image:\n"
      ]
    },
    {
      "cell_type": "code",
      "execution_count": null,
      "metadata": {
        "id": "LU-LBDMVpOgS"
      },
      "outputs": [],
      "source": [
        "image_lenna.paste(crop_image, box=(left,upper))"
      ]
    },
    {
      "cell_type": "code",
      "execution_count": null,
      "metadata": {
        "id": "cXFFYsfwpOgS"
      },
      "outputs": [],
      "source": [
        "plt.imshow(image_lenna)\n",
        "plt.show()"
      ]
    },
    {
      "cell_type": "markdown",
      "metadata": {
        "id": "3rQbfi2RpOgS"
      },
      "source": [
        "We can see the method `copy()` applies to some <code>PIL</code> objects. We create two image objects, we set `new_image` to the `image`, and we use the method `copy()` for the `copy_image` object.\n"
      ]
    },
    {
      "cell_type": "code",
      "execution_count": null,
      "metadata": {
        "id": "5PG484s-pOgS"
      },
      "outputs": [],
      "source": [
        "image = Image.open(\"cat.png\")\n",
        "new_image=image\n",
        "copy_image=image.copy()"
      ]
    },
    {
      "cell_type": "markdown",
      "metadata": {
        "id": "Q7Qy2s9spOgS"
      },
      "source": [
        "Like the array, we see that the same memory address relationship exists. For example, if we don't use the method `copy()`, the image object has the same memory address as the original PIL image object.\n"
      ]
    },
    {
      "cell_type": "code",
      "execution_count": null,
      "metadata": {
        "id": "NBa_KeVxpOgT"
      },
      "outputs": [],
      "source": [
        "id(image)==id(new_image)"
      ]
    },
    {
      "cell_type": "markdown",
      "metadata": {
        "id": "TLH5SQEBpOgT"
      },
      "source": [
        "If we use the method <code>copy()</code>, the address is different:\n"
      ]
    },
    {
      "cell_type": "code",
      "execution_count": null,
      "metadata": {
        "id": "f1v7y8SMpOgT"
      },
      "outputs": [],
      "source": [
        "id(image)==id(copy_image)"
      ]
    },
    {
      "cell_type": "markdown",
      "metadata": {
        "id": "z_EIN3mXpOgT"
      },
      "source": [
        "If we change the object <code>image</code>, <code>new_image</code> will change, but <code>copy_image</code> will remain the same:\n"
      ]
    },
    {
      "cell_type": "code",
      "execution_count": null,
      "metadata": {
        "id": "lI4EYjGlpOgT"
      },
      "outputs": [],
      "source": [
        "image_fn= ImageDraw.Draw(im=image)\n",
        "image_fn.text(xy=(0,0),text=\"box\",fill=(0,0,0))\n",
        "image_fn.rectangle(xy=shape,fill=\"red\")"
      ]
    },
    {
      "cell_type": "code",
      "execution_count": null,
      "metadata": {
        "id": "e6Hbab-RpOgT"
      },
      "outputs": [],
      "source": [
        "plt.figure(figsize=(10,10))\n",
        "plt.subplot(121)\n",
        "plt.imshow(new_image)\n",
        "plt.subplot(122)\n",
        "plt.imshow(copy_image)\n",
        "plt.show()"
      ]
    }
  ],
  "metadata": {
    "kernelspec": {
      "display_name": "Python",
      "language": "python",
      "name": "conda-env-python-py"
    },
    "language_info": {
      "name": ""
    },
    "colab": {
      "provenance": [],
      "include_colab_link": true
    }
  },
  "nbformat": 4,
  "nbformat_minor": 0
}